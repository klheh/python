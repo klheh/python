{
 "cells": [
  {
   "cell_type": "markdown",
   "metadata": {},
   "source": [
    "#스크립트 프로그래밍 2\n",
    "## * 과제"
   ]
  },
  {
   "cell_type": "markdown",
   "metadata": {},
   "source": [
    "### 1번>\n",
    "다음 6 개의 Expression에 대해 Evaluation 결과 값을 출력하고, 해당 결과가 나온 이유에 대해 설명하시오\n",
    "* 1 and 2 and 3 and 4\n",
    "* 1 or 2 or 3 or 4\n",
    "* 1 and 2 or 3 and 4\n",
    "* (1 and 2) or (3 and 4)\n",
    "* 1 or 2 and 3 or 4\n",
    "* (1 or 2) and (3 or 4)"
   ]
  },
  {
   "cell_type": "code",
   "execution_count": 1,
   "metadata": {
    "collapsed": false
   },
   "outputs": [
    {
     "name": "stdout",
     "output_type": "stream",
     "text": [
      "4\n",
      "1\n",
      "2\n",
      "2\n",
      "1\n",
      "3\n"
     ]
    }
   ],
   "source": [
    "print 1 and 2 and 3 and 4\n",
    "print 1 or 2 or 3 or 4\n",
    "print 1 and 2 or 3 and 4\n",
    "print (1 and 2) or (3 and 4)\n",
    "print 1 or 2 and 3 or 4\n",
    "print (1 or 2) and (3 or 4)"
   ]
  },
  {
   "cell_type": "markdown",
   "metadata": {},
   "source": [
    "* 논리연산 자체가 값을 반환하지 않고, 논리연산을 따라 최종적으로 평가되어진 값이 반환됩니다.\n",
    "* 1 and 2 and 3 and 4 에서는 and는 앞과 뒤 모두 평가하므로 마지막으로 평가된 4가 반환되는 것 입니다.\n",
    "* 1 or 2 or 3 or 4 에서 or는 앞이 true이면 뒤쪽은 평가를 하지 않으므로 1이 반환됩니다.\n",
    "* 1 and 2 or 3 and 4 에서 and로 인해 2까지는 평가하지만, 그 뒤가 or이므로 2가 반환됩니다.\n",
    "* (1 and 2) or (3 and 4)는 크게보면 ()or()이므로 앞의 ()이 true라면 뒤의()는 평가하지 않아도 됩니다. 앞의 ()안에는 and이므로 2가 마지막으로 평가되어 2가 반환됩니다.\n",
    "* 1 or 2 and 3 or 4에서는 1이 참인데 그 뒤가 or이므로 나머지는 평가하지 않고 1을 반환합니다.\n",
    "* (1 or 2) and (3 or 4)에서는 ()and()이므로 앞의()를 하고, 뒤의 ()도 true여야 하므로 우선적으로는 앞의 ()가 끝난 후, 뒤의 ()를 평가하는데 그  안은 or이므로 3이 반환됩니다."
   ]
  },
  {
   "cell_type": "markdown",
   "metadata": {},
   "source": [
    "### 2번>\n",
    "키보드로 정수값을 입력 받고 그 값이 양수인지 음수인지를 비트 연산자를 이용하여 판단하는 프로그램을 작성하시오.\n",
    "[참고] 가장 왼쪽에 있는 비트가 0이면 양수이며, 1이면 음수이다.\n",
    "[참고] 수업보충자료 (https://github.com/bluebibi/python-e-learning/blob/master/supplement.ipynb) 를 참고하시오."
   ]
  },
  {
   "cell_type": "code",
   "execution_count": 2,
   "metadata": {
    "collapsed": false
   },
   "outputs": [
    {
     "name": "stdout",
     "output_type": "stream",
     "text": [
      "-2\n",
      "입력한 수는 음수입니다.\n"
     ]
    }
   ],
   "source": [
    "import math\n",
    "num = input()\n",
    "\n",
    "if (0x10000000 == num & 0x10000000):\n",
    "    print '입력한 수는 음수입니다.'\n",
    "elif(num == 0):\n",
    "    print '입력한 수는 0입니다.'\n",
    "elif(0x00000000 == num & 0x10000000):\n",
    "    print '입력한 수는 양수입니다.'"
   ]
  },
  {
   "cell_type": "markdown",
   "metadata": {
    "collapsed": true
   },
   "source": [
    "* 음수일 경우, 가장 왼쪽에 있는 비트가 1 이므로, 1??? ???? 일 것입니다. 그러면 만약 1000 0000과 AND비트연산을 한다면 무조건 1000 0000이 나올 것 입니다. and 둘 다 1이여야 1이 나오기 때문입니다.\n",
    "* 양수일 경우, 음수와 마찬가지로 1000 0000과 AND비트연산을 한다면 무조건 0000 0000이 나올 것입니다."
   ]
  },
  {
   "cell_type": "markdown",
   "metadata": {},
   "source": [
    "### 3번>\n",
    "경로에 해당하는 문자열 1개를 입력 받아 그 안에 디렉토리 경로명과 파일명을 분리하여 리스트로 반환하는 함수 div_path(s)를 작성하시오.\n",
    "인자로 전달하는 문자열은 경로만 들어간다고 가정한다.\n",
    "각 디렉토리와 파일을 구분하는 문자는 '/'로 가정한다.\n",
    "반환하는 리스트의 첫번째 원소는 디렉토리이고 두번째 원소는 파일명이다.\n",
    "다음과 같은 실행 및 출력 결과가 도출되어야 한다.\n",
    "* div_path('/usr/local/bin/python')\n",
    "->  ['/usr/local/bin', 'python']\n",
    "* div_path('/home/chulsoo/test.txt')\n",
    "->  ['/home/chulsoo', 'test.txt']\n",
    "* [참고] 리스트(l) 내에 새로운 정수값 (예를 들어 10)을 넣는 방법은 l.append(10) 이다."
   ]
  },
  {
   "cell_type": "code",
   "execution_count": 8,
   "metadata": {
    "collapsed": false
   },
   "outputs": [
    {
     "name": "stdout",
     "output_type": "stream",
     "text": [
      "/home/chulsoo/test.txt\n",
      "['/home/chulsoo', 'test.txt']\n"
     ]
    }
   ],
   "source": [
    "s = raw_input()\n",
    "\n",
    "def div_path(s):\n",
    "    L = s.split('/')\n",
    "    result = ['/'+'/'.join(L[1:-1:]), L[-1]]\n",
    "    return result\n",
    "    \n",
    "l = div_path(s)\n",
    "print l"
   ]
  },
  {
   "cell_type": "markdown",
   "metadata": {},
   "source": [
    "* 우선 경로에 해당하는 문자열 1개를 입력 받는다.\n",
    "* 그 다음, div_path 함수를 정의하는데, 먼저 입력받은 문자열을 '/'을 기준으로 나눈다. split() 함수를 활용한다. 그러면 결과로 /를 기준으로 분리된 리스트가 나오게 된다. 이때 문자열에서 처음에 /로 시작하기때문에 리스트[0]은 ''이 저장되게 된다.\n",
    "* 그리고 디렉토리와 파일명을 따로 저장해주기위해 다시 한 번 분리된 리스트를 합쳐준다. 이때 디렉토리는 파일명 전까지만 합치기 때문에 리스트[1:-1:]이 된다. 그리고 앞에 '/'를 한번 더 더해준다. 그리고 파일명은 마지막 하나이므로 리스트[-1]이 된다.\n",
    "* 결과 리스트를 반환하고 함수의 정의를 종료한다.\n",
    "* 함수의 결과값을 받고 출력한다."
   ]
  },
  {
   "cell_type": "markdown",
   "metadata": {},
   "source": [
    "### 4번>\n",
    "두 개의 리스트를 인자로 받아서 그 두 개의 리스트에 대한 '합집합'을 반환하는 함수 list_union(lista, listb)를 작성하시오.\n",
    "인자로 전달하는 리스트 2 개에는 정수값만 들어간다고 가정하자.\n",
    "함수 내에서 새로운 리스트를 만들어 그 리스트 내에 인자로 받은 두 리스트의 모든 원소를 넣어 반환한다.\n",
    "반환하는 리스트에는 절대로 중복된 원소가 들어 있으면 안된다 (집합의 조건).\n",
    "반환하는 리스트는 정렬이 되어 있어야 한다.\n",
    "다음과 같은 실행 및 출력 결과가 도출되어야 한다.\n",
    "* list_union([1, 2, 3], [1, 2, 4])\n",
    " ->  [1, 2, 3, 4]\n",
    "* list_union([-10, -5, 0, -1], [100, 9, 0, 9])\n",
    " ->  [-10, -5, -1, 0, 9, 100]\n",
    "* list_union([0, 1, 2], [0, 1, 2])\n",
    " ->  [0, 1, 2]\n",
    "* [참고] 리스트(l) 내에 새로운 정수값 (예를 들어 10)을 넣는 방법은 l.append(10) 이다.\n",
    "* [참고] 임의의 정수값 (x)이 리스트 (l) 내에 존재하는지 판단하는 방법은 x in l 이다."
   ]
  },
  {
   "cell_type": "code",
   "execution_count": 49,
   "metadata": {
    "collapsed": false
   },
   "outputs": [
    {
     "name": "stdout",
     "output_type": "stream",
     "text": [
      "[-10, -5, 0, -1]\n",
      "[-10, -5, -1, 0, 9, 100]\n"
     ]
    }
   ],
   "source": [
    "list1 = [-10, -5, 0, -1]\n",
    "list2 = [100, 9, 0, 9]\n",
    "\n",
    "def list_union(lista, listb):\n",
    "    listc = lista\n",
    "    print listc\n",
    "    \n",
    "    n = -1\n",
    "    for i in listb:\n",
    "        n += 1\n",
    "        if (listb[n] in listc): \n",
    "            continue\n",
    "        else:\n",
    "            listc = listc + [listb[n]]\n",
    "    listc.sort()\n",
    "    return listc\n",
    "    \n",
    "result = list_union(list1, list2)\n",
    "print result"
   ]
  },
  {
   "cell_type": "markdown",
   "metadata": {},
   "source": [
    "* list_union 함수만 설명한다면 우선, 새로운 리스트인 listc에 입력리스트 중 하나인 lista을 넣는다.\n",
    "* 그 다음, 또다른 입력 리스트인 listb를 넣을것인데, 중복되는 값은 제외해야 하므로, 우선 listb의 길이만큼 반복하고, 만약에 현재 인덱스의 값이 listc에 들어있다면 다음으로 넘어가고, 만약 없다면 listc에 더한다. \n",
    "* 반복문이 종료되면 sort()를 이용하여 오름차순으로 정렬한다."
   ]
  },
  {
   "cell_type": "markdown",
   "metadata": {},
   "source": [
    "##* 프로젝트 오일러"
   ]
  },
  {
   "cell_type": "markdown",
   "metadata": {},
   "source": [
    "###프로젝트오일러 4번> \n",
    "앞에서부터 읽을 때나 뒤에서부터 읽을 때나 모양이 같은 수를 대칭수(palindrome)라고 부릅니다.\n",
    "\n",
    "두 자리 수를 곱해 만들 수 있는 대칭수 중 가장 큰 수는 9009 (= 91 × 99) 입니다.\n",
    "\n",
    "세 자리 수를 곱해 만들 수 있는 가장 큰 대칭수는 얼마입니까?"
   ]
  },
  {
   "cell_type": "code",
   "execution_count": 1,
   "metadata": {
    "collapsed": false
   },
   "outputs": [
    {
     "data": {
      "text/plain": [
       "906609"
      ]
     },
     "execution_count": 1,
     "metadata": {},
     "output_type": "execute_result"
    }
   ],
   "source": [
    "\n",
    "def pal():\n",
    "    res = 0\n",
    "    for i in range(100, 999):\n",
    "        for j in range(100, 999):\n",
    "            num = i * j\n",
    "            \n",
    "            s = str(num)\n",
    "            check = 0\n",
    "            for k in range(0,len(s)/2):\n",
    "                if(s[k] == s[-1-k]):\n",
    "                    continue\n",
    "                else:\n",
    "                    check = 1\n",
    "                    break\n",
    "                    \n",
    "            if(check == 0):\n",
    "                if (res < num):\n",
    "                    res = num\n",
    "    \n",
    "    return res\n",
    "\n",
    "pal()"
   ]
  },
  {
   "cell_type": "markdown",
   "metadata": {},
   "source": [
    "* i와 j를 100부터 999까지 세자리수를 반복합니다.\n",
    "* i와 j를 곱한 수를 우선 문자열로 바꾼 후, 문자열 길이의 반만큼 반복합니다. 반복문에서 문자열의 가장자리부터 같은 문자인지 확인합니다. 만약 중간에 다르다는 것이 밝혀지면 check 변수를 통해 현재 정수는 대칭수가 아님을 확인하고 반복문을 종료합니다.\n",
    "* 대칭수가 맞다면 현재까지 진행된 수들 중 가장 큰 대칭수인지 확인하고, 크다면 res에 저장하고, 아니라면 다음 곱의 수로 넘어갑니다.\n",
    "* 반복문이 모두 종료되면 res 값을 반환합니다. 이 값은 가장 큰 대칭수 입니다."
   ]
  },
  {
   "cell_type": "markdown",
   "metadata": {},
   "source": [
    "### 프로젝트오일러 5번>\n",
    "1 ~ 10 사이의 어떤 수로도 나누어 떨어지는 가장 작은 수는 2520입니다.\n",
    "\n",
    "그러면 1 ~ 20 사이의 어떤 수로도 나누어 떨어지는 가장 작은 수는 얼마입니까?"
   ]
  },
  {
   "cell_type": "code",
   "execution_count": 10,
   "metadata": {
    "collapsed": false
   },
   "outputs": [
    {
     "data": {
      "text/plain": [
       "232792560"
      ]
     },
     "execution_count": 10,
     "metadata": {},
     "output_type": "execute_result"
    }
   ],
   "source": [
    "#방법 1\n",
    "def div_1to20():\n",
    "    check = 1\n",
    "    num = 100000000\n",
    "    \n",
    "    while (check < 20):\n",
    "        check = 1\n",
    "        for k in range(1,21):\n",
    "            if (num % k == 0):\n",
    "                check = k\n",
    "                continue\n",
    "            else:\n",
    "                break\n",
    "        if(check == 20):\n",
    "            break\n",
    "        num += 1\n",
    "    return num\n",
    "\n",
    "div_1to20()"
   ]
  },
  {
   "cell_type": "code",
   "execution_count": 42,
   "metadata": {
    "collapsed": false
   },
   "outputs": [
    {
     "name": "stdout",
     "output_type": "stream",
     "text": [
      "232792560\n"
     ]
    }
   ],
   "source": [
    "#방법 2 \n",
    "def gcd(a, b):\n",
    "    n = 2\n",
    "    gcd_n = 1\n",
    "    while (1):\n",
    "        if(a % n == 0 and b % n == 0):\n",
    "            gcd_n *= n\n",
    "            a = a / n\n",
    "            b = b / n\n",
    "        else:\n",
    "            n += 1\n",
    "        if(n > a or n > b):\n",
    "            break\n",
    "            \n",
    "    return gcd_n\n",
    "\n",
    "def lcm(a, b):\n",
    "    gcd_value = gcd(a, b)\n",
    "    return gcd_value * (a/gcd_value) * (b / gcd_value)\n",
    "\n",
    "res = 1\n",
    "for i in range(2, 21):\n",
    "    res = lcm(res, i)\n",
    "print res"
   ]
  },
  {
   "cell_type": "markdown",
   "metadata": {},
   "source": [
    "* 방법 1은 k가 1부터 20까지 반복하면서, num이 k로 나누어지는지 안나누어지는지 확인합니다. 반복되는 중간에 나누어떨어지지 않는다면 반복문을 종료하고 num을 1 증가시킨 후 다시 k가 1부터 20까지 반복하면서 확인합니다. check는 가장 마지막에 나누어지는 수를 저장합니다. 따라서 만약 check가 20이 되었다면 현재의 num은 1부터 20까지 어떤 수로도 나누어떨어지는 수 이므로, 전체 반복문을 종료하고 반환합니다.\n",
    "* 방법 1의 방식은 반복문이 많이 되고, 수를 일일히 확인해서 프로그램 시간이 오래걸립니다. 따라서 최소공배수를 이용한 방법2의 방식을 사용하였습니다\n",
    "* 방법 2는 최소공배수를 이용한 방식입니다. 1부터20 사이의 어떤 수로도 나누어 떨어지는 수는 즉, 1~20의 최소공배수를 의미합니다. lcm함수는 입력된 2개의 수의 최소공배수를 출력하는 함수이고, gcd는 최소 공약수를 출력하는 함수입니다.\n",
    "* 우선, 두 수의 최소 공약수는 2부터 시작하여 나누어 떨어지는 수를 곱한 수 입니다. 나누는 수인 n은 2부터 시작하고, 결과를 저장할 gcd_n은 1부터 시작합니다. 만약 나누어 떨어진다면 gcd_n에 곱하고, 나누어떨어지지 않는다면 n을 1 증가시킵니다. 만약 n이 입력된 두 수보다 커진다면 반복문을 종료하고 현재의 gcd_n이 최소공약수가 됩니다.\n",
    "* 최대 공약수를 구했으면 이것을 이용하여 최소 공배수를 구할 수 있습니다. 최소 공배수는 최대 공약수에다 두 수를 최대 공약수로 나눈 몫을 곱하면 됩니다.\n",
    "* 1 ~ 20 사이의 어떤 수로도 나누어 떨어지는 가장 작은 수를 구할 수 있습니다."
   ]
  },
  {
   "cell_type": "markdown",
   "metadata": {},
   "source": [
    "### 프로젝트오일러 6번>\n",
    "1부터 10까지 자연수를 각각 제곱해 더하면 다음과 같습니다 (제곱의 합).\n",
    "\n",
    "1^2 + 2^2 + ... + 10^2 = 385\n",
    "1부터 10을 먼저 더한 다음에 그 결과를 제곱하면 다음과 같습니다 (합의 제곱).\n",
    "\n",
    "(1 + 2 + ... + 10)^2 = 55^2 = 3025\n",
    "따라서 1부터 10까지 자연수에 대해 \"합의 제곱\"과 \"제곱의 합\" 의 차이는 3025 - 385 = 2640 이 됩니다.\n",
    "\n",
    "그러면 1부터 100까지 자연수에 대해 \"합의 제곱\"과 \"제곱의 합\"의 차이는 얼마입니까?"
   ]
  },
  {
   "cell_type": "code",
   "execution_count": 48,
   "metadata": {
    "collapsed": false
   },
   "outputs": [
    {
     "name": "stdout",
     "output_type": "stream",
     "text": [
      "25164150\n"
     ]
    }
   ],
   "source": [
    "def square_sum(a, b):\n",
    "    n = 0\n",
    "    for i in range(a, b+1):\n",
    "        n += i * i\n",
    "    return n\n",
    "    \n",
    "def sum_square(a, b):\n",
    "    s = 0\n",
    "    for i in range(a, b+1):\n",
    "        s += i\n",
    "    s *= s\n",
    "    return s\n",
    "    \n",
    "print sum_square(1, 100) - square_sum(1, 100)"
   ]
  },
  {
   "cell_type": "markdown",
   "metadata": {},
   "source": [
    "* square_sum은 입력받은 범위만큼 반복하여 제곱을 한 값을 n에 누적하여 합하고, 반복문이 끝나면 그 값을 반환합니다.\n",
    "* sum_square는 입력받은 범위만큼 반복하여 누적합한 후, 그 값을 제곱하여 반환합니다.\n",
    "* 그 둘의 차이를 출력합니다."
   ]
  },
  {
   "cell_type": "markdown",
   "metadata": {},
   "source": [
    "##[Incremental Project] \n",
    "\n",
    "웹 URL로 지정된 웹페이지를 문자열로 가져와 \n",
    "1) 모든 HTML 태그를 제외한 순수 텍스트 문자열만을 걸러내고, \n",
    "2) 그 순수 텍스트 문자열 안에 존재하는 단어가 총 몇개인지 출력하는 프로그램을 작성하시오.\n",
    "\n",
    "HTML 태그는 다음 조건을 가지는 것이다.\n",
    "\n",
    "* < 로 시작하여 >로 끝난다.\n",
    "* 예를 들어, 아래와 같은 HTML 내용 내에 한 줄이 있다고 가정하자.\n",
    " * <\\label for=\"keep_signed\">로그인 유지<\\/label>\n",
    "* 위 소스에서 HTML 태그를 제외한 순수 텍스트 문자열은 아래와 같다.\n",
    " * 로그인 유지\n",
    "* 한편, 아래와 같은 HTML 한 줄이 있다고 가정하자.\n",
    " * <\\link rel=\"stylesheet\" href=\"/common/css/xe.min.css?20150910092654\" />\n",
    "* 위 소스는 HTML 태그로만 구성된 것이며 걸러낼 수 있는 순수 텍스 문자열은 존재하지 않는다.\n",
    "\n",
    "단어를 나누는 기준은 오로지 공백문자 (whitespace)이다.\n",
    "* 즉, 위 순수 텍스트 문자열인 \"로그인 유지\"에서 분리한 단어는 \"로그인\"과 \"유지\"이다.\n",
    "\n",
    "다음은 URL로 지정된 웹페이지를 특정 문자열로 가져오는 코드이다.\n",
    "* 즉, 숙제 코드는 아래 코드로 부터 시작해야 한다."
   ]
  },
  {
   "cell_type": "code",
   "execution_count": 71,
   "metadata": {
    "collapsed": false
   },
   "outputs": [
    {
     "name": "stdout",
     "output_type": "stream",
     "text": [
      "문자열 : [ 컴퓨터공학부 // Schoolfun - Study and Fun -- 로그인 로그인 아이디 비밀번호 로그인 유지 브라우저를 닫더라도 로그인이 계속 유지될 수 있습니다. 로그인 유지 기능을 사용할 경우 다음 접속부터는 로그인할 필요가 없습니다. 단, 게임방, 학교 등 공공장소에서 이용 시 개인정보가 유출될 수 있으니 꼭 로그아웃을 해주세요. 회원가입 ID/PW 찾기 IT 교육의 글로벌 메카!한국기술교육대학교 컴퓨터공학부 Close 소개 구성원소개 학사안내 입학 학부 대학원 학부광장 자료실 대학원 공학교육인증 Registration 컴퓨터공학부 School of Computer Science and Engineering IT 융합소프트웨어 인력양성사업 CK (Creative Korea)-I 교육역량강화사업 온라인 컨텐츠 Online Contents for Education Capability Empowerment IT 교육의 글로벌 메카 한국기술교육대학교 컴퓨터공학부 홈페이지에 오신 것을환영합니다! IT 융합소프트웨어 인력양성사업 글로벌 수준의 IT전문인력 양성 IT융합분야에 대한 국제적인 경쟁력 고취 바로가기 교육역량강화사업 컨텐츠 교육역량강화사업 온라인 컨텐츠를 소개합니다. 바로가기 공지사항 졸업생 멘토 연계 졸업작품 운영팀 모집 공고(3학년팀... 2015-10-02 13:37 13:37 [특강안내] 영화를 활용한 IoT 교육 2015-10-01 15:38 15:38 졸업작품 포스터 출력 파일 작성 안내 2015-10-01 15:00 15:00 Spark + Python 을 활용한 빅데이터 분석 특강 공지 2015-10-01 10:55 10:55 2015 졸업연구작품 최종심사 결과 공지!! 2015-09-30 20:33 20:33 자유게시판 [채용연계]취업지원 NCS교육 무료교육생 모집 안내(웹... 2015-10-04 13:21 13:21 (주) 엔에스이 에서 개발자를 모집합니다. 2015-09-30 13:30 13:30 졸업작품 전시회 컴퓨터공학부 인기상 투표 이벤트 2015-09-25 01:21 01:21 삼성 대학생 프로그래밍 경진대회 2015-09-15 11:17 11:17 2015년 4차 모의토익 지원 2015-09-09 23:34 23:34 취업게시판 ㈜인젠트 기술연구소 전문연구요원 모집 2015-09-14 11:54 11:54 펜타인 2015년도 신입사원 채용공고 2015-09-03 16:16 16:16 LIG인베니아 (코스닥상장 LIG그룹사 디스플레이장비전... 2015-09-03 14:01 14:01 ㈜ 한울 소프트웨어 개발자 2015-06-18 10:28 10:28 부국산업(본사 : 울산소재) 전산직 신입사원 모집 2015-06-09 14:04 14:04 VENTURESQUARE [지킬과하이드] 지킬편:: 왜 현대 기업에서 여성 관리... 2015-10-02 19:43 19:43 [찾아가는 인터뷰 44] “집안일은 ‘홈클’에 맡기고, 소... 2015-10-02 18:14 18:14 [펀다 매거진] 핀테크, 금융과 기술의 만남 #4 2015-10-02 17:30 17:30 판도라티비 플럽 아시아 4개국으로 글로벌 서비스 확대 2015-10-02 16:32 16:32 1천억원 창업기업 지원 특례보증 시행! 2015-10-02 14:14 14:14 전자신문 [2016 ICT산업 전망 콘퍼런스] 기조연설·주요 발표 2015-10-05 00:00 00:00 [2016 ICT산업 전망 콘퍼런스]ICT 혁신과 도전을 통한 ... 2015-10-05 00:00 00:00 통신품질측정 놓고 통신업계 신경전 가열···평균 속도... 2015-10-04 18:00 18:00 [월요논단]지역 문화 전파자, 케이블TV 방송 2015-10-04 18:00 18:00 모바일 트래픽 폭증...TDD, 이동통신 대안으로 급부상 2015-10-04 18:00 18:00 RE/CODE Steve Wozniak: ‘Steve Jobs and I Were Robbed a... 2015-10-04 23:56 23:56 Why Is Everybody Talking About Mars? 2015-10-04 03:30 03:30 LinkedIn Settles Lawsuit, Will Pay $13 Million... 2015-10-04 01:13 01:13 ‘The Martian’ Movie’s Nerd Appeal Could Bring ... 2015-10-04 00:30 00:30 Wishbone App Hopes the ‘Hot or Not’ Business M... 2015-10-03 22:41 22:41 Back to Top Leading Together for Brighter Future -- Quick Navigation 한국기술교육대학교 홈페이지 한국기술교육대학교 WEBMAIL 한국기술교육대학교 온라인 평생교육원 교육역량강화사업 온라인 컨텐츠 컴퓨터공학부 포트폴리오-- IT 융합소프트웨어 인력양성사업 Campus Location Contact CSE 충청남도 천안시 동남구 병천면 충절로 1600한국기술교육대학교 컴퓨터공학부 학과사무실 TEL (041) 560 1460~1461 FAX (041) 560 1462 Facebook Twitter Google Plus Linkedin Youtube Flickr-- (31253) 충청남도 천안시 동남구 병천면 충절로 1600 (가전리, 한국기술교육대학교) 컴퓨터공학부 Copyright © 2015. All rights reserved ]\n",
      "단어 수 :  462\n"
     ]
    }
   ],
   "source": [
    "#-*- coding: utf-8 -*-\n",
    "\n",
    "import urllib2\n",
    "\n",
    "source = urllib2.urlopen(\"http://cse.kut.ac.kr/\").read()\n",
    "\n",
    "i = 0\n",
    "check = 0\n",
    "s = ''\n",
    "while (i != len(source)-1):    \n",
    "    if(source[i] == '<'):\n",
    "        check = 1        \n",
    "    if(source [i] == '>'):\n",
    "        check = 0    \n",
    "    if(check == 0 and source[i] != '>'):\n",
    "        s += source[i]    \n",
    "    i += 1\n",
    "    \n",
    "L = s.split()\n",
    "ss = ' '.join(L)\n",
    "\n",
    "print '문자열 : [', ss, ']' \n",
    "print '단어 수 : ', len(L)"
   ]
  },
  {
   "cell_type": "markdown",
   "metadata": {
    "collapsed": true
   },
   "source": [
    "* urllib2.urlopen().read()를 이용하여 페이지의 소스를 가져온 후, 소스의 처음부터 끝까지 반복합니다.\n",
    "* check는 문자를 읽을지 읽지 않을지의 상태를 지정하는 변수이며, s는 태그를 제외한 문자열을 저장할 변수입니다.\n",
    "* 만약 <를 만난다면 check를 1로 바꿈으로써, 소스의 문자를 읽지 않고 넘기도록 합니다.\n",
    "* <를 만난다면 check를 0으로 바꿈으로써, 앞으로 나오는 소스의 문자를 읽을 수 있도록 합니다.\n",
    "* check가 0이고 문자가 >가 아니라면, s의 뒤에 추가합니다.\n",
    "* 반복문이 종료되면 s에는 공백이 포함된 태그를 제외한 문자열이 저장되어있습니다.\n",
    "* 이 문자열을 각 단어가 공백을 기준으로 분리되어 리스트로 반환하는  split() 함수를 활용하여 리스트를 만들고, 그 수는 단어의 수 입니다.\n",
    "* ss는 태그를 제외한 순수 텍스트 문자열입니다. s 문자열은 공백이 중복되여 여러개 포함되어 보기에 지저분하므로, 위 리스트를 join()함수를 활용하여 합친 것이 ss입니다."
   ]
  },
  {
   "cell_type": "code",
   "execution_count": null,
   "metadata": {
    "collapsed": true
   },
   "outputs": [],
   "source": []
  }
 ],
 "metadata": {
  "kernelspec": {
   "display_name": "Python 2",
   "language": "python",
   "name": "python2"
  },
  "language_info": {
   "codemirror_mode": {
    "name": "ipython",
    "version": 2
   },
   "file_extension": ".py",
   "mimetype": "text/x-python",
   "name": "python",
   "nbconvert_exporter": "python",
   "pygments_lexer": "ipython2",
   "version": "2.7.9"
  }
 },
 "nbformat": 4,
 "nbformat_minor": 0
}
