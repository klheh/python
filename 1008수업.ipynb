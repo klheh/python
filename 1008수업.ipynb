{
 "cells": [
  {
   "cell_type": "code",
   "execution_count": 1,
   "metadata": {
    "collapsed": false
   },
   "outputs": [
    {
     "ename": "TypeError",
     "evalue": "can only assign an iterable",
     "output_type": "error",
     "traceback": [
      "\u001b[1;31m---------------------------------------------------------------------------\u001b[0m",
      "\u001b[1;31mTypeError\u001b[0m                                 Traceback (most recent call last)",
      "\u001b[1;32m<ipython-input-1-a25f67d12caa>\u001b[0m in \u001b[0;36m<module>\u001b[1;34m()\u001b[0m\n\u001b[0;32m      1\u001b[0m \u001b[0ma\u001b[0m \u001b[1;33m=\u001b[0m \u001b[1;33m[\u001b[0m\u001b[1;36m1\u001b[0m\u001b[1;33m,\u001b[0m \u001b[1;36m2\u001b[0m\u001b[1;33m,\u001b[0m \u001b[1;36m3\u001b[0m\u001b[1;33m]\u001b[0m\u001b[1;33m\u001b[0m\u001b[0m\n\u001b[1;32m----> 2\u001b[1;33m \u001b[0ma\u001b[0m \u001b[1;33m[\u001b[0m\u001b[1;33m:\u001b[0m\u001b[1;36m0\u001b[0m\u001b[1;33m]\u001b[0m \u001b[1;33m=\u001b[0m \u001b[1;36m10\u001b[0m\u001b[1;33m\u001b[0m\u001b[0m\n\u001b[0m",
      "\u001b[1;31mTypeError\u001b[0m: can only assign an iterable"
     ]
    }
   ],
   "source": [
    "a = [1, 2, 3]\n",
    "a [:0] = 10"
   ]
  },
  {
   "cell_type": "code",
   "execution_count": 2,
   "metadata": {
    "collapsed": true
   },
   "outputs": [],
   "source": [
    "a[:0] = [10]"
   ]
  },
  {
   "cell_type": "code",
   "execution_count": 3,
   "metadata": {
    "collapsed": false
   },
   "outputs": [
    {
     "name": "stdout",
     "output_type": "stream",
     "text": [
      "[10, 1, 2, 3]\n"
     ]
    }
   ],
   "source": [
    "print a"
   ]
  },
  {
   "cell_type": "code",
   "execution_count": 4,
   "metadata": {
    "collapsed": false
   },
   "outputs": [
    {
     "data": {
      "text/plain": [
       "[]"
      ]
     },
     "execution_count": 4,
     "metadata": {},
     "output_type": "execute_result"
    }
   ],
   "source": [
    "a[:0]"
   ]
  },
  {
   "cell_type": "code",
   "execution_count": 5,
   "metadata": {
    "collapsed": false
   },
   "outputs": [
    {
     "data": {
      "text/plain": [
       "10"
      ]
     },
     "execution_count": 5,
     "metadata": {},
     "output_type": "execute_result"
    }
   ],
   "source": [
    "a[0]"
   ]
  },
  {
   "cell_type": "code",
   "execution_count": 6,
   "metadata": {
    "collapsed": false
   },
   "outputs": [
    {
     "name": "stdout",
     "output_type": "stream",
     "text": [
      "1\n",
      "['a', ['x', 'y'], 'b']\n",
      "['x', 'y']\n",
      "y\n"
     ]
    }
   ],
   "source": [
    "L = [1, ['a', ['x', 'y'], 'b'], 3]\n",
    "print L[0]\n",
    "print L[1]\n",
    "print L[1][1]\n",
    "print L[1][1][1]\n",
    "# 시험문제내기 되게 좋은것!"
   ]
  },
  {
   "cell_type": "code",
   "execution_count": 15,
   "metadata": {
    "collapsed": true
   },
   "outputs": [],
   "source": [
    "sun, mon, tue, wed, thu, fri, sat = range(7)\n",
    "#(sun, mon, tue, wed, thu, fri, sat) = range(7) 이거랑 같은말!"
   ]
  },
  {
   "cell_type": "code",
   "execution_count": 10,
   "metadata": {
    "collapsed": false
   },
   "outputs": [
    {
     "data": {
      "text/plain": [
       "0"
      ]
     },
     "execution_count": 10,
     "metadata": {},
     "output_type": "execute_result"
    }
   ],
   "source": [
    "sun"
   ]
  },
  {
   "cell_type": "code",
   "execution_count": 11,
   "metadata": {
    "collapsed": false
   },
   "outputs": [
    {
     "data": {
      "text/plain": [
       "1"
      ]
     },
     "execution_count": 11,
     "metadata": {},
     "output_type": "execute_result"
    }
   ],
   "source": [
    "mon"
   ]
  },
  {
   "cell_type": "code",
   "execution_count": 13,
   "metadata": {
    "collapsed": false
   },
   "outputs": [],
   "source": [
    "a = sun, mon, tue, wed, thu, fri, sat"
   ]
  },
  {
   "cell_type": "code",
   "execution_count": 14,
   "metadata": {
    "collapsed": false
   },
   "outputs": [
    {
     "data": {
      "text/plain": [
       "tuple"
      ]
     },
     "execution_count": 14,
     "metadata": {},
     "output_type": "execute_result"
    }
   ],
   "source": [
    "type(a)"
   ]
  },
  {
   "cell_type": "code",
   "execution_count": 16,
   "metadata": {
    "collapsed": false
   },
   "outputs": [
    {
     "name": "stdout",
     "output_type": "stream",
     "text": [
      "1\n",
      "2\n"
     ]
    }
   ],
   "source": [
    "(a, b) = [1, 2]\n",
    "print a\n",
    "print b"
   ]
  },
  {
   "cell_type": "code",
   "execution_count": 17,
   "metadata": {
    "collapsed": false
   },
   "outputs": [
    {
     "name": "stdout",
     "output_type": "stream",
     "text": [
      "[1, 2, 3, 5]\n",
      "[1, 2, 3, 4, 5]\n"
     ]
    }
   ],
   "source": [
    "s = [1, 2, 3]\n",
    "\n",
    "s.append(5) # 리스트 맨 마지막에 정수 값 5 추가\n",
    "print s\n",
    "\n",
    "s.insert(3, 4) # 3 인덱스 위치에 정수 값 4 추가\n",
    "print s"
   ]
  },
  {
   "cell_type": "code",
   "execution_count": 18,
   "metadata": {
    "collapsed": false
   },
   "outputs": [
    {
     "name": "stdout",
     "output_type": "stream",
     "text": [
      "2\n",
      "1\n",
      "5\n"
     ]
    }
   ],
   "source": [
    "s = [1, 2, 3, 4, 5]\n",
    "\n",
    "print s.index(3)        # 값 3의 인덱스 반환\n",
    "\n",
    "print s.count(2)        # 값 2의 개수 반환\n",
    "\n",
    "s = [1, 2, 2, 2, 2, 2, 3, 4, 5]\n",
    "print s.count(2)"
   ]
  },
  {
   "cell_type": "code",
   "execution_count": 19,
   "metadata": {
    "collapsed": false
   },
   "outputs": [
    {
     "name": "stdout",
     "output_type": "stream",
     "text": [
      "[-10, -7, 1, 2, 100]\n"
     ]
    }
   ],
   "source": [
    "s = [1, 2, -10, -7, 100]\n",
    "s.sort()\n",
    "print s"
   ]
  },
  {
   "cell_type": "code",
   "execution_count": 21,
   "metadata": {
    "collapsed": false
   },
   "outputs": [
    {
     "name": "stdout",
     "output_type": "stream",
     "text": [
      "None\n"
     ]
    }
   ],
   "source": [
    "print s.sort()\n",
    "#sort함수는 반환값이 없다"
   ]
  },
  {
   "cell_type": "code",
   "execution_count": 22,
   "metadata": {
    "collapsed": false
   },
   "outputs": [
    {
     "name": "stdout",
     "output_type": "stream",
     "text": [
      "[-10, -7, 1, 2, 100, 60, 70]\n",
      "[-10, -7, 1, 2, 100, 60, 70, [60, 70]]\n"
     ]
    }
   ],
   "source": [
    "#extend()와 append()의 차이\n",
    "#append는 리스트 자체가 원소로 들어감\n",
    "#extend는 기존 리스트를 확장하는 개념\n",
    "s.extend([60, 70]) # 새로운 리스트([60, 70]를 기존 리스트 s 뒤에 병합\n",
    "print s\n",
    "\n",
    "s.append([60, 70]) # 주의: append로 새로운 리스트를 추가하면 하나의 자료 요소로서 추가\n",
    "print s"
   ]
  },
  {
   "cell_type": "code",
   "execution_count": 26,
   "metadata": {
    "collapsed": false
   },
   "outputs": [
    {
     "name": "stdout",
     "output_type": "stream",
     "text": [
      "[10, 20, 30, 40, 50]\n",
      "[10, 20, 30, 40, 50, 60, 70]\n",
      "[10, 20, 30, 40, 50, 60, 70, 100, 200]\n"
     ]
    }
   ],
   "source": [
    "s = [10, 20, 30, 40, 50]\n",
    "print s\n",
    "\n",
    "s.extend([60, 70])\n",
    "print s\n",
    "\n",
    "s.extend((100, 200))\n",
    "print s"
   ]
  },
  {
   "cell_type": "code",
   "execution_count": 27,
   "metadata": {
    "collapsed": true
   },
   "outputs": [],
   "source": [
    "s.extend?"
   ]
  },
  {
   "cell_type": "code",
   "execution_count": 28,
   "metadata": {
    "collapsed": true
   },
   "outputs": [],
   "source": [
    "def mycmp(a1, a2):\n",
    "    return cmp(a2, a1)"
   ]
  },
  {
   "cell_type": "code",
   "execution_count": 29,
   "metadata": {
    "collapsed": false
   },
   "outputs": [
    {
     "data": {
      "text/plain": [
       "<function __main__.mycmp>"
      ]
     },
     "execution_count": 29,
     "metadata": {},
     "output_type": "execute_result"
    }
   ],
   "source": [
    "mycmp"
   ]
  },
  {
   "cell_type": "code",
   "execution_count": 30,
   "metadata": {
    "collapsed": true
   },
   "outputs": [],
   "source": [
    "L = [1, 5, 3, 2, 4, 6]\n",
    "L.sort(mycmp)"
   ]
  },
  {
   "cell_type": "code",
   "execution_count": 31,
   "metadata": {
    "collapsed": false
   },
   "outputs": [
    {
     "name": "stdout",
     "output_type": "stream",
     "text": [
      "[6, 5, 4, 3, 2, 1]\n"
     ]
    }
   ],
   "source": [
    "print L"
   ]
  },
  {
   "cell_type": "code",
   "execution_count": 32,
   "metadata": {
    "collapsed": false
   },
   "outputs": [
    {
     "name": "stdout",
     "output_type": "stream",
     "text": [
      "sorted by name: [('jung', 10, 36), ('kim', 3, 28), ('lee', 5, 38)]\n",
      "sorted by experience: [('kim', 3, 28), ('lee', 5, 38), ('jung', 10, 36)]\n",
      "sorted by age: [('kim', 3, 28), ('jung', 10, 36), ('lee', 5, 38)]\n"
     ]
    }
   ],
   "source": [
    "def cmp_1(a1, a2):\n",
    "    return cmp(a1[1], a2[1])\n",
    "\n",
    "def cmp_2(a1, a2):\n",
    "    return cmp(a1[2], a2[2])\n",
    "\n",
    "L = [ ('lee', 5, 38), ('kim', 3, 28), ('jung', 10, 36)]\n",
    "L.sort()\n",
    "print 'sorted by name:', L\n",
    "\n",
    "L.sort(cmp_1)\n",
    "print 'sorted by experience:', L\n",
    "\n",
    "L.sort(cmp_2)\n",
    "print 'sorted by age:', L"
   ]
  },
  {
   "cell_type": "code",
   "execution_count": 33,
   "metadata": {
    "collapsed": false
   },
   "outputs": [
    {
     "name": "stdout",
     "output_type": "stream",
     "text": [
      "[9, 8, 6, 6, 3, 2, 1]\n"
     ]
    }
   ],
   "source": [
    "L = [1, 6, 3, 8, 6, 2, 9]\n",
    "L.sort(reverse = True)\n",
    "print L"
   ]
  },
  {
   "cell_type": "code",
   "execution_count": 34,
   "metadata": {
    "collapsed": false
   },
   "outputs": [
    {
     "name": "stdout",
     "output_type": "stream",
     "text": [
      "['123', '2345', '34', '56']\n",
      "['34', '56', '123', '2345']\n"
     ]
    }
   ],
   "source": [
    "L = ['123', '34', '56', '2345'] #문자열로 소팅\n",
    "L.sort()\n",
    "print L\n",
    "\n",
    "L.sort(key=int)\n",
    "print L"
   ]
  },
  {
   "cell_type": "code",
   "execution_count": 35,
   "metadata": {
    "collapsed": true
   },
   "outputs": [],
   "source": [
    "L.sort?"
   ]
  },
  {
   "cell_type": "code",
   "execution_count": 36,
   "metadata": {
    "collapsed": true
   },
   "outputs": [],
   "source": [
    "L.sort(cmp=mycmp) #첫번째 인자는 cmp 생략 가능"
   ]
  },
  {
   "cell_type": "code",
   "execution_count": 38,
   "metadata": {
    "collapsed": true
   },
   "outputs": [],
   "source": [
    "L.sort(key = int) #두번째 인자부터는 key= , reverse = 같은걸 꼭 써줘야됨"
   ]
  },
  {
   "cell_type": "code",
   "execution_count": 39,
   "metadata": {
    "collapsed": true
   },
   "outputs": [],
   "source": [
    "#리스트 내포 리터럴 시험에 나올 예정!!!!!!!!!!!!!!!!!!!!!!!!!!!!!!!!!!!!!!!!!!!!!!!!!!!!!!!!!!!!!!!!!!"
   ]
  },
  {
   "cell_type": "code",
   "execution_count": 41,
   "metadata": {
    "collapsed": false
   },
   "outputs": [
    {
     "data": {
      "text/plain": [
       "[(3, 4, 5),\n",
       " (5, 12, 13),\n",
       " (6, 8, 10),\n",
       " (7, 24, 25),\n",
       " (8, 15, 17),\n",
       " (9, 12, 15),\n",
       " (10, 24, 26),\n",
       " (12, 16, 20),\n",
       " (15, 20, 25),\n",
       " (20, 21, 29)]"
      ]
     },
     "execution_count": 41,
     "metadata": {},
     "output_type": "execute_result"
    }
   ],
   "source": [
    "[(x,y,z) for x in range(1, 30) for y in range(x,30) for z in range(y, 30) if x**2 + y**2 == z**2]"
   ]
  },
  {
   "cell_type": "code",
   "execution_count": 42,
   "metadata": {
    "collapsed": false
   },
   "outputs": [
    {
     "name": "stdout",
     "output_type": "stream",
     "text": [
      "['AC', 'AD', 'BC', 'BD']\n",
      "\n",
      "[['AC', 'BC'], ['AD', 'BD']]\n"
     ]
    }
   ],
   "source": [
    "list_a = ['A', 'B']\n",
    "list_b = ['C', 'D']\n",
    "print [x+y for x in list_a for y in list_b]\n",
    "print\n",
    "print [[x+y for x in list_a] for y in list_b]"
   ]
  },
  {
   "cell_type": "code",
   "execution_count": 43,
   "metadata": {
    "collapsed": false
   },
   "outputs": [
    {
     "name": "stdout",
     "output_type": "stream",
     "text": [
      "[['AC', 'BC'], ['AD', 'BD']]\n"
     ]
    }
   ],
   "source": [
    "l = []\n",
    "for y in list_b:\n",
    "    l2 = []\n",
    "    for x in list_a:\n",
    "        l2.append(x+y)\n",
    "    l.append(l2)\n",
    "print l"
   ]
  },
  {
   "cell_type": "code",
   "execution_count": 44,
   "metadata": {
    "collapsed": false
   },
   "outputs": [
    {
     "name": "stdout",
     "output_type": "stream",
     "text": [
      "[[1 2 3]\n",
      " [4 5 6]\n",
      " [7 8 9]]\n",
      "\n",
      "[[ 0.  0.  0.]\n",
      " [ 0.  0.  0.]\n",
      " [ 0.  0.  0.]]\n",
      "\n",
      "[[ 1.  1.  1.]\n",
      " [ 1.  1.  1.]\n",
      " [ 1.  1.  1.]]\n",
      "\n"
     ]
    }
   ],
   "source": [
    "from numpy import *\n",
    "a = array(((1,2,3), (4,5,6), (7, 8, 9))) # 3*3 행렬 생성\n",
    "print a\n",
    "print\n",
    "\n",
    "b = zeros((3,3))\n",
    "print b\n",
    "print\n",
    "\n",
    "c = ones((3,3))\n",
    "print c\n",
    "print"
   ]
  },
  {
   "cell_type": "code",
   "execution_count": 45,
   "metadata": {
    "collapsed": false
   },
   "outputs": [
    {
     "name": "stdout",
     "output_type": "stream",
     "text": [
      "[[  2.   3.   4.]\n",
      " [  5.   6.   7.]\n",
      " [  8.   9.  10.]]\n",
      "\n",
      "[[ 1  4  9]\n",
      " [16 25 36]\n",
      " [49 64 81]]\n",
      "\n",
      "[[  6.   6.   6.]\n",
      " [ 15.  15.  15.]\n",
      " [ 24.  24.  24.]]\n",
      "\n"
     ]
    }
   ],
   "source": [
    "f = a + c     # 각 원소들끼리의 덧셈\n",
    "print f\n",
    "print\n",
    "\n",
    "d = a * a     # 각 원소들끼리의 곱셈\n",
    "print d\n",
    "print\n",
    "\n",
    "e = dot(a, c) # 일반적인 행렬 곱셈 \n",
    "print e\n",
    "print"
   ]
  },
  {
   "cell_type": "code",
   "execution_count": 46,
   "metadata": {
    "collapsed": false
   },
   "outputs": [
    {
     "name": "stdout",
     "output_type": "stream",
     "text": [
      "[[ -4.50359963e+15   9.00719925e+15  -4.50359963e+15]\n",
      " [  9.00719925e+15  -1.80143985e+16   9.00719925e+15]\n",
      " [ -4.50359963e+15   9.00719925e+15  -4.50359963e+15]]\n",
      "\n",
      "(array([  1.61168440e+01,  -1.11684397e+00,  -1.30367773e-15]), array([[-0.23197069, -0.78583024,  0.40824829],\n",
      "       [-0.52532209, -0.08675134, -0.81649658],\n",
      "       [-0.8186735 ,  0.61232756,  0.40824829]]))\n",
      "\n"
     ]
    }
   ],
   "source": [
    "from numpy.linalg import *\n",
    "g = inv(a)\n",
    "print g\n",
    "print\n",
    "\n",
    "h = eig(a) #고유벡터구하는방식\n",
    "print h\n",
    "print"
   ]
  },
  {
   "cell_type": "code",
   "execution_count": 47,
   "metadata": {
    "collapsed": false
   },
   "outputs": [
    {
     "name": "stdout",
     "output_type": "stream",
     "text": [
      "__main__\n",
      "\n",
      "Automatically created module for IPython interactive environment\n",
      "\n"
     ]
    }
   ],
   "source": [
    "print __name__      # 로컬 이름 \n",
    "print\n",
    "\n",
    "print __doc__       # 로컬에 지정된 문서문자열\n",
    "print"
   ]
  },
  {
   "cell_type": "code",
   "execution_count": 48,
   "metadata": {
    "collapsed": false
   },
   "outputs": [
    {
     "name": "stdout",
     "output_type": "stream",
     "text": [
      "math.__name__:  math\n",
      "\n",
      "['__doc__', '__name__', '__package__', 'acos', 'acosh', 'asin', 'asinh', 'atan', 'atan2', 'atanh', 'ceil', 'copysign', 'cos', 'cosh', 'degrees', 'e', 'erf', 'erfc', 'exp', 'expm1', 'fabs', 'factorial', 'floor', 'fmod', 'frexp', 'fsum', 'gamma', 'hypot', 'isinf', 'isnan', 'ldexp', 'lgamma', 'log', 'log10', 'log1p', 'modf', 'pi', 'pow', 'radians', 'sin', 'sinh', 'sqrt', 'tan', 'tanh', 'trunc']\n",
      "\n",
      "math.__doc__: This module is always available.  It provides access to the\n",
      "mathematical functions defined by the C standard.\n",
      "\n",
      "math.log10.__doc__:  log10(x)\n",
      "\n",
      "Return the base 10 logarithm of x.\n"
     ]
    }
   ],
   "source": [
    "import math\n",
    "\n",
    "print \"math.__name__: \", math.__name__\n",
    "print\n",
    "print dir(math)  # dir() 내장 함수에 모듈을 인자로 전달하면 해당 모듈이 지원하는 멤버 변수 및 함수 목록을 얻는다.\n",
    "print\n",
    "print \"math.__doc__:\", math.__doc__\n",
    "print\n",
    "print \"math.log10.__doc__: \", math.log10.__doc__"
   ]
  },
  {
   "cell_type": "code",
   "execution_count": 49,
   "metadata": {
    "collapsed": true
   },
   "outputs": [],
   "source": [
    "math?"
   ]
  },
  {
   "cell_type": "code",
   "execution_count": 51,
   "metadata": {
    "collapsed": true
   },
   "outputs": [],
   "source": [
    "# 명령행 인수"
   ]
  },
  {
   "cell_type": "code",
   "execution_count": 55,
   "metadata": {
    "collapsed": false
   },
   "outputs": [
    {
     "name": "stdout",
     "output_type": "stream",
     "text": [
      "['C:\\\\Users\\\\Heejeong\\\\AppData\\\\Local\\\\Enthought\\\\Canopy\\\\User\\\\lib\\\\site-packages\\\\IPython\\\\kernel\\\\__main__.py', '-f', 'C:\\\\Users\\\\Heejeong\\\\.ipython\\\\profile_default\\\\security\\\\kernel-8896f9c0-847f-434c-af7c-5ee1152e495a.json', '--profile-dir', 'C:\\\\Users\\\\Heejeong\\\\.ipython\\\\profile_default']\n"
     ]
    }
   ],
   "source": [
    "# file: arg.py\n",
    "import sys\n",
    "#소스내용\n",
    "print sys.argv"
   ]
  },
  {
   "cell_type": "code",
   "execution_count": 53,
   "metadata": {
    "collapsed": true
   },
   "outputs": [],
   "source": [
    "# public static void main(string[] arg) {  }\n",
    "# int main(int argc, char** argv) {  }  \n",
    "# argc는 인자 갯수, argv는 ??"
   ]
  },
  {
   "cell_type": "code",
   "execution_count": 57,
   "metadata": {
    "collapsed": true
   },
   "outputs": [],
   "source": [
    "# python arg.py -l -a -v a b c\n",
    "#sys.argv는 리스트이고, 처음에는 파일명의 풀패스를 같이 보여주고, 원소들을 찍어준다.\n",
    "#명령행 인자중에 첫번쨰 인자를 찍고싶다면? print sys.argv[1]"
   ]
  },
  {
   "cell_type": "code",
   "execution_count": null,
   "metadata": {
    "collapsed": true
   },
   "outputs": [],
   "source": []
  }
 ],
 "metadata": {
  "kernelspec": {
   "display_name": "Python 2",
   "language": "python",
   "name": "python2"
  },
  "language_info": {
   "codemirror_mode": {
    "name": "ipython",
    "version": 2
   },
   "file_extension": ".py",
   "mimetype": "text/x-python",
   "name": "python",
   "nbconvert_exporter": "python",
   "pygments_lexer": "ipython2",
   "version": "2.7.9"
  }
 },
 "nbformat": 4,
 "nbformat_minor": 0
}
