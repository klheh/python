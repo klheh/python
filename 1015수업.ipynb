{
 "cells": [
  {
   "cell_type": "code",
   "execution_count": 1,
   "metadata": {
    "collapsed": false
   },
   "outputs": [
    {
     "name": "stdout",
     "output_type": "stream",
     "text": [
      "<type 'tuple'> <type 'tuple'> <type 'tuple'>\n"
     ]
    }
   ],
   "source": [
    "t1 = ()      # 비어있는 튜플\n",
    "t2 = (1,2,3) # 괄호 사용\n",
    "\n",
    "t3 = 1,2,3   # 괄호가 없어도 튜플이 됨\n",
    "print type(t1), type(t2), type(t3)"
   ]
  },
  {
   "cell_type": "code",
   "execution_count": 6,
   "metadata": {
    "collapsed": false
   },
   "outputs": [
    {
     "name": "stdout",
     "output_type": "stream",
     "text": [
      "<type 'int'>\n",
      "<type 'int'>\n",
      "<type 'str'>\n",
      "<type 'tuple'>\n",
      "<type 'tuple'>\n"
     ]
    }
   ],
   "source": [
    "a = 1 #정수형\n",
    "b = (1) #정수형\n",
    "c = ('aaa') #문자열\n",
    "d = ('aaa',) #튜플\n",
    "e = 'aaa', #튜플\n",
    "\n",
    "print type(a)\n",
    "print type(b)\n",
    "print type(c)\n",
    "print type(d)\n",
    "print type(e)\n",
    "\n",
    "#튜플은 기본적으로 쌍으로 이루어져야함. 하나는 튜플로 인식하지 않음."
   ]
  },
  {
   "cell_type": "code",
   "execution_count": 7,
   "metadata": {
    "collapsed": false
   },
   "outputs": [
    {
     "ename": "TypeError",
     "evalue": "'tuple' object does not support item assignment",
     "output_type": "error",
     "traceback": [
      "\u001b[1;31m---------------------------------------------------------------------------\u001b[0m",
      "\u001b[1;31mTypeError\u001b[0m                                 Traceback (most recent call last)",
      "\u001b[1;32m<ipython-input-7-894ed0a42b61>\u001b[0m in \u001b[0;36m<module>\u001b[1;34m()\u001b[0m\n\u001b[0;32m      1\u001b[0m \u001b[0mt\u001b[0m \u001b[1;33m=\u001b[0m \u001b[1;33m(\u001b[0m\u001b[1;36m1\u001b[0m\u001b[1;33m,\u001b[0m \u001b[1;36m2\u001b[0m\u001b[1;33m,\u001b[0m \u001b[1;36m3\u001b[0m\u001b[1;33m)\u001b[0m\u001b[1;33m\u001b[0m\u001b[0m\n\u001b[1;32m----> 2\u001b[1;33m \u001b[0mt\u001b[0m\u001b[1;33m[\u001b[0m\u001b[1;36m0\u001b[0m\u001b[1;33m]\u001b[0m \u001b[1;33m=\u001b[0m \u001b[1;36m100\u001b[0m \u001b[1;31m# 튜플은 변경 불가능, 에러발생\u001b[0m\u001b[1;33m\u001b[0m\u001b[0m\n\u001b[0m",
      "\u001b[1;31mTypeError\u001b[0m: 'tuple' object does not support item assignment"
     ]
    }
   ],
   "source": [
    "t = (1, 2, 3)\n",
    "t[0] = 100 # 튜플은 변경 불가능, 에러발생"
   ]
  },
  {
   "cell_type": "code",
   "execution_count": 8,
   "metadata": {
    "collapsed": false
   },
   "outputs": [
    {
     "name": "stdout",
     "output_type": "stream",
     "text": [
      "((12345, 54321, 'hello!'), (1, 2, 3, 4, 5))\n",
      "([1, 2, 3], (1, 2, 4))\n",
      "({1: 'abc', 2: 'def'}, (1, 2, 3))\n"
     ]
    }
   ],
   "source": [
    "t = (12345, 54321, 'hello!') \n",
    "u = t, (1, 2, 3, 4, 5) # 튜플 내부 원소로 다른 튜플을 가질 수 있음\n",
    "print u\n",
    "\n",
    "t2 = [1, 2, 3] # 튜플 내부 원소로 리스트 가질 수 있음 \n",
    "u2 = t2, (1, 2, 4)\n",
    "print u2\n",
    "\n",
    "t3 = {1:\"abc\", 2:\"def\"} # 튜플 내부 원소로 사전 가질 수 있음 \n",
    "u3 = t3, (1, 2, 3)\n",
    "print u3"
   ]
  },
  {
   "cell_type": "code",
   "execution_count": 12,
   "metadata": {
    "collapsed": false
   },
   "outputs": [
    {
     "name": "stdout",
     "output_type": "stream",
     "text": [
      "(1, 2, 'hello')\n"
     ]
    }
   ],
   "source": [
    "t = 1, 2, 'hello'\n",
    "#t에 1,2,hello를 패킹한다.\n",
    "\n",
    "print t"
   ]
  },
  {
   "cell_type": "code",
   "execution_count": 15,
   "metadata": {
    "collapsed": false
   },
   "outputs": [
    {
     "name": "stdout",
     "output_type": "stream",
     "text": [
      "1\n",
      "2\n",
      "hello\n",
      "(1, 2, 'hello')\n"
     ]
    }
   ],
   "source": [
    "x, y, z = t\n",
    "#언패킹 한다.\n",
    "\n",
    "print x\n",
    "print y\n",
    "print z\n",
    "print t"
   ]
  },
  {
   "cell_type": "markdown",
   "metadata": {},
   "source": [
    " 튜플과 리스트와의 공통점\n",
    "\n",
    "* 원소로서 임의의 객체를 저장\n",
    "\n",
    "* 시퀀스 자료형\n",
    "\n",
    "* 인덱싱, 슬라이싱, 연결, 반복, 멤버쉽 테스트 연산 지원\n",
    "\n",
    "\n",
    " 리스트와 다른 튜플만의 특징\n",
    "\n",
    "* 변경 불가능 (Immutable)\n",
    "* 메소드를 가지지 않는다. -> 이건 정확한 말이 아니다. t.count, t.index라는 메소드 제공함.\n",
    "\n",
    "* list() 와 tuple() 내장 함수를 사용하여 리스트와 튜플을 상호 변환할 수 있음\n"
   ]
  },
  {
   "cell_type": "code",
   "execution_count": 24,
   "metadata": {
    "collapsed": false
   },
   "outputs": [
    {
     "name": "stdout",
     "output_type": "stream",
     "text": [
      "1\n",
      "2\n"
     ]
    }
   ],
   "source": [
    "print t.count(1)\n",
    "print t.index('hello')\n",
    "\n",
    "#count -> 원소 갯수\n",
    "#index -> 원소 위치\n",
    "#거의 쓰지는 x"
   ]
  },
  {
   "cell_type": "code",
   "execution_count": 26,
   "metadata": {
    "collapsed": false
   },
   "outputs": [
    {
     "name": "stdout",
     "output_type": "stream",
     "text": [
      "[('two', 2), ('one', 1)]\n"
     ]
    }
   ],
   "source": [
    "d = {'one':1, 'two':2}\n",
    "print d.items()\n",
    "\n",
    "#아이템을 쌍으로 묶어 튜플로 표현"
   ]
  },
  {
   "cell_type": "markdown",
   "metadata": {},
   "source": [
    "## 집합자료형\n",
    "* 기본자료형 : 리스트, 튜플, 사전\n",
    "* 집합자료형은 기본 자료형은 아니다. 별도로 취급\n",
    "\n",
    "set 내장 함수를 사용한 집합 자료 생성\n",
    "* 변경 가능(Mutable)한 객체이다.\n",
    "* 각 원소간에 순서는 없다.\n",
    "* 각 원소는 중복될 수 없다.\n",
    "* [note] 시퀀스 자료형이 아니다. "
   ]
  },
  {
   "cell_type": "code",
   "execution_count": 28,
   "metadata": {
    "collapsed": false
   },
   "outputs": [
    {
     "name": "stdout",
     "output_type": "stream",
     "text": [
      "set([1, 2, 3])\n"
     ]
    }
   ],
   "source": [
    "a = set([1, 2, 3, 3])\n",
    "print a\n",
    "\n",
    "#중복 제거됨"
   ]
  },
  {
   "cell_type": "code",
   "execution_count": 30,
   "metadata": {
    "collapsed": false
   },
   "outputs": [
    {
     "ename": "TypeError",
     "evalue": "unhashable type: 'list'",
     "output_type": "error",
     "traceback": [
      "\u001b[1;31m---------------------------------------------------------------------------\u001b[0m",
      "\u001b[1;31mTypeError\u001b[0m                                 Traceback (most recent call last)",
      "\u001b[1;32m<ipython-input-30-20bfee7ef20f>\u001b[0m in \u001b[0;36m<module>\u001b[1;34m()\u001b[0m\n\u001b[0;32m      1\u001b[0m \u001b[0ma\u001b[0m \u001b[1;33m=\u001b[0m \u001b[1;33m[\u001b[0m\u001b[1;36m1\u001b[0m\u001b[1;33m,\u001b[0m \u001b[1;36m2\u001b[0m\u001b[1;33m]\u001b[0m\u001b[1;33m\u001b[0m\u001b[0m\n\u001b[0;32m      2\u001b[0m \u001b[0mb\u001b[0m \u001b[1;33m=\u001b[0m \u001b[1;33m[\u001b[0m\u001b[1;36m1\u001b[0m\u001b[1;33m,\u001b[0m \u001b[1;36m2\u001b[0m\u001b[1;33m]\u001b[0m\u001b[1;33m\u001b[0m\u001b[0m\n\u001b[1;32m----> 3\u001b[1;33m \u001b[0mc\u001b[0m \u001b[1;33m=\u001b[0m \u001b[0mset\u001b[0m\u001b[1;33m(\u001b[0m\u001b[1;33m[\u001b[0m\u001b[0ma\u001b[0m\u001b[1;33m,\u001b[0m \u001b[0mb\u001b[0m\u001b[1;33m]\u001b[0m\u001b[1;33m)\u001b[0m\u001b[1;33m\u001b[0m\u001b[0m\n\u001b[0m\u001b[0;32m      4\u001b[0m \u001b[1;33m\u001b[0m\u001b[0m\n\u001b[0;32m      5\u001b[0m \u001b[1;32mprint\u001b[0m \u001b[0mc\u001b[0m\u001b[1;33m\u001b[0m\u001b[0m\n",
      "\u001b[1;31mTypeError\u001b[0m: unhashable type: 'list'"
     ]
    }
   ],
   "source": [
    "a = [1, 2]\n",
    "b = [1, 2]\n",
    "\n",
    "#c = set(a, b) 처럼 쓰면 안됨 error, set는 하나만을 원함\n",
    "c = set([a, b])\n",
    "#리스트는 원소로 들어오지 못함\n",
    "\n",
    "print c"
   ]
  },
  {
   "cell_type": "code",
   "execution_count": 34,
   "metadata": {
    "collapsed": false
   },
   "outputs": [
    {
     "name": "stdout",
     "output_type": "stream",
     "text": [
      "set([(1, 2)])\n",
      "True\n",
      "False\n"
     ]
    }
   ],
   "source": [
    "a = (1, 2)\n",
    "b = (1, 2)\n",
    "\n",
    "c = set([a, b])\n",
    "print c\n",
    "#set은 원소로 가져올 때 판단의 '같다'의 기준은 a==b로 한다. 객체로 따지는 것이 아니라 내용 비교\n",
    "\n",
    "print a == b\n",
    "#내용은 같다\n",
    "print id(a) == id(b)\n",
    "#객체는 다르다"
   ]
  },
  {
   "cell_type": "code",
   "execution_count": 36,
   "metadata": {
    "collapsed": false
   },
   "outputs": [
    {
     "name": "stdout",
     "output_type": "stream",
     "text": [
      "<type 'set'>\n",
      "set(['a', 'c', 'b'])\n"
     ]
    }
   ],
   "source": [
    "c = set({'a':1, 'b':2, 'c':3})\n",
    "print type(c)\n",
    "print c\n",
    "\n",
    "#사전은 키값만 가져온다"
   ]
  },
  {
   "cell_type": "code",
   "execution_count": 37,
   "metadata": {
    "collapsed": false
   },
   "outputs": [
    {
     "name": "stdout",
     "output_type": "stream",
     "text": [
      "<type 'set'>\n",
      "set([1, 2, 3])\n"
     ]
    }
   ],
   "source": [
    "d = set({'a':1, 'b':2, 'c':3}.values())\n",
    "print type(d)\n",
    "print d\n",
    "\n",
    "#사전에서 values를 가져오고싶다면 위와같이 해야한다"
   ]
  },
  {
   "cell_type": "code",
   "execution_count": 41,
   "metadata": {
    "collapsed": false
   },
   "outputs": [
    {
     "name": "stdout",
     "output_type": "stream",
     "text": [
      "set([])\n",
      "set([1, 2, 3, 4, 5])\n",
      "set([1, 2, 3, 4])\n",
      "set(['a', 'c', 'b'])\n",
      "set([(4, 5, 6), (1, 2, 3)])\n"
     ]
    },
    {
     "ename": "TypeError",
     "evalue": "unhashable type: 'list'",
     "output_type": "error",
     "traceback": [
      "\u001b[1;31m---------------------------------------------------------------------------\u001b[0m",
      "\u001b[1;31mTypeError\u001b[0m                                 Traceback (most recent call last)",
      "\u001b[1;32m<ipython-input-41-c18ff2614d93>\u001b[0m in \u001b[0;36m<module>\u001b[1;34m()\u001b[0m\n\u001b[0;32m      7\u001b[0m \u001b[1;31m#set안에 넣어주는 것은 리스트 1개인데, 그 안의 원소가 튜플2개인것\u001b[0m\u001b[1;33m\u001b[0m\u001b[1;33m\u001b[0m\u001b[0m\n\u001b[0;32m      8\u001b[0m \u001b[1;33m\u001b[0m\u001b[0m\n\u001b[1;32m----> 9\u001b[1;33m \u001b[1;32mprint\u001b[0m \u001b[0mset\u001b[0m\u001b[1;33m(\u001b[0m\u001b[1;33m[\u001b[0m\u001b[1;33m[\u001b[0m\u001b[1;36m1\u001b[0m\u001b[1;33m,\u001b[0m\u001b[1;36m2\u001b[0m\u001b[1;33m,\u001b[0m\u001b[1;36m3\u001b[0m\u001b[1;33m]\u001b[0m\u001b[1;33m,\u001b[0m\u001b[1;33m[\u001b[0m\u001b[1;36m4\u001b[0m\u001b[1;33m,\u001b[0m\u001b[1;36m5\u001b[0m\u001b[1;33m,\u001b[0m\u001b[1;36m6\u001b[0m\u001b[1;33m]\u001b[0m\u001b[1;33m]\u001b[0m\u001b[1;33m)\u001b[0m \u001b[1;31m# 변경 가능 자료인 리스트는 집합의 원소가 될 수 없다.\u001b[0m\u001b[1;33m\u001b[0m\u001b[0m\n\u001b[0m\u001b[0;32m     10\u001b[0m \u001b[1;31m#set안에 넣어주는 것은 리스트 1개인데, 그 안의 원소가 리스트 2개인것\u001b[0m\u001b[1;33m\u001b[0m\u001b[1;33m\u001b[0m\u001b[0m\n\u001b[0;32m     11\u001b[0m \u001b[1;33m\u001b[0m\u001b[0m\n",
      "\u001b[1;31mTypeError\u001b[0m: unhashable type: 'list'"
     ]
    }
   ],
   "source": [
    "print set() # 빈 set 객체 생성\n",
    "print set([1,2,3,4,5]) # 초기 값은 일반적으로 시퀀스 자료형인 리스트를 넣어준다.\n",
    "print set([1,2,3,2,3,4]) # 중복된 원소는 한 번만 표현\n",
    "print set('abc') # 문자열은 각 문자를 집합 원소로 지닌다.  \n",
    "\n",
    "print set([(1,2,3),(4,5,6)]) # 각 튜플은 원소로 가질 수 있음 \n",
    "#set안에 넣어주는 것은 리스트 1개인데, 그 안의 원소가 튜플2개인것\n",
    "\n",
    "print set([[1,2,3],[4,5,6]]) # 변경 가능 자료인 리스트는 집합의 원소가 될 수 없다.\n",
    "#set안에 넣어주는 것은 리스트 1개인데, 그 안의 원소가 리스트 2개인것\n",
    "\n",
    "#사전도 원소로 못넣는다"
   ]
  },
  {
   "cell_type": "code",
   "execution_count": 42,
   "metadata": {
    "collapsed": false
   },
   "outputs": [
    {
     "name": "stdout",
     "output_type": "stream",
     "text": [
      "True\n",
      "True\n",
      "True\n",
      "True\n"
     ]
    }
   ],
   "source": [
    "B = set([4,5,6,10,20,30])\n",
    "C = set([10,20,30])\n",
    "\n",
    "print C.issubset(B)    # C가 B의 부분집합?\n",
    "print C <= B #issubset과 같은것\n",
    "\n",
    "print B.issuperset(C)  # B가 C를 포함하는 집합?\n",
    "print B >= C #issuperset과 같은것"
   ]
  },
  {
   "cell_type": "markdown",
   "metadata": {},
   "source": [
    "####set 연산\t동일 연산자\t내용(시험 공부할 때 암기하도록)\n",
    "* s.issubset(t)\t/ s <= t /\ts가 t의 부분집합인가?\n",
    "* s.issuperset(t) /\ts >= t /\ts가 t의 슈퍼집합인가?\n",
    "* s.union(t) /\ts | t /\t새로운 s와 t의 합집합\n",
    "* s.intersection(t) /\ts & t /\t새로운 s와 t의 교집합\n",
    "* s.difference(t) /\ts - t /\t새로운 s와 t의 차집합\n",
    "* s.symmetric_difference(t) /\ts ^ t /\t새로운 s와 t의 배타집합\n",
    "* s.copy() /\t\t집합 s의 shallow 복사"
   ]
  },
  {
   "cell_type": "code",
   "execution_count": 49,
   "metadata": {
    "collapsed": false
   },
   "outputs": [
    {
     "name": "stdout",
     "output_type": "stream",
     "text": [
      "True\n",
      "True\n",
      "True\n",
      "False\n",
      "False\n"
     ]
    }
   ],
   "source": [
    "A = set([1,2,3,4,5,6,7,8,9])\n",
    "B = A #A와 C가 같은 객체를 가리키고 있게 됨\n",
    "C = A.copy() # A라는 객체와 같은 새로운 객체를 복사하여 C가 가리키게 됨\n",
    "\n",
    "print A == B #동일내용\n",
    "print A == C #동일내용\n",
    "\n",
    "print id(A) == id(B) #동일객체\n",
    "print id(A) == id(C) #다른객체\n",
    "\n",
    "print A is C # 이건 id(A) == id(C)와 같은것\n",
    "\n",
    "#시험문제 내기 좋은것 (알맞은 true false를 쓰세요!)"
   ]
  },
  {
   "cell_type": "code",
   "execution_count": 50,
   "metadata": {
    "collapsed": false
   },
   "outputs": [
    {
     "ename": "TypeError",
     "evalue": "'set' object does not support indexing",
     "output_type": "error",
     "traceback": [
      "\u001b[1;31m---------------------------------------------------------------------------\u001b[0m",
      "\u001b[1;31mTypeError\u001b[0m                                 Traceback (most recent call last)",
      "\u001b[1;32m<ipython-input-50-fb76e1c2a5fb>\u001b[0m in \u001b[0;36m<module>\u001b[1;34m()\u001b[0m\n\u001b[0;32m      1\u001b[0m \u001b[1;31m#인덱싱, 슬라이스, 정렬 모두 에러뜸\u001b[0m\u001b[1;33m\u001b[0m\u001b[1;33m\u001b[0m\u001b[0m\n\u001b[0;32m      2\u001b[0m \u001b[0mA\u001b[0m \u001b[1;33m=\u001b[0m \u001b[0mset\u001b[0m\u001b[1;33m(\u001b[0m\u001b[1;33m[\u001b[0m\u001b[1;36m1\u001b[0m\u001b[1;33m,\u001b[0m\u001b[1;36m2\u001b[0m\u001b[1;33m,\u001b[0m\u001b[1;36m3\u001b[0m\u001b[1;33m,\u001b[0m\u001b[1;36m4\u001b[0m\u001b[1;33m,\u001b[0m\u001b[1;36m5\u001b[0m\u001b[1;33m,\u001b[0m\u001b[1;36m6\u001b[0m\u001b[1;33m,\u001b[0m\u001b[1;36m7\u001b[0m\u001b[1;33m,\u001b[0m\u001b[1;36m8\u001b[0m\u001b[1;33m,\u001b[0m\u001b[1;36m9\u001b[0m\u001b[1;33m]\u001b[0m\u001b[1;33m)\u001b[0m\u001b[1;33m\u001b[0m\u001b[0m\n\u001b[1;32m----> 3\u001b[1;33m \u001b[1;32mprint\u001b[0m \u001b[0mA\u001b[0m\u001b[1;33m[\u001b[0m\u001b[1;36m0\u001b[0m\u001b[1;33m]\u001b[0m\u001b[1;33m\u001b[0m\u001b[0m\n\u001b[0m",
      "\u001b[1;31mTypeError\u001b[0m: 'set' object does not support indexing"
     ]
    }
   ],
   "source": [
    "#인덱싱, 슬라이스, 정렬 모두 에러뜸\n",
    "A = set([1,2,3,4,5,6,7,8,9])\n",
    "print A[0]"
   ]
  },
  {
   "cell_type": "code",
   "execution_count": 51,
   "metadata": {
    "collapsed": false
   },
   "outputs": [
    {
     "ename": "TypeError",
     "evalue": "'set' object has no attribute '__getitem__'",
     "output_type": "error",
     "traceback": [
      "\u001b[1;31m---------------------------------------------------------------------------\u001b[0m",
      "\u001b[1;31mTypeError\u001b[0m                                 Traceback (most recent call last)",
      "\u001b[1;32m<ipython-input-51-795e14598526>\u001b[0m in \u001b[0;36m<module>\u001b[1;34m()\u001b[0m\n\u001b[1;32m----> 1\u001b[1;33m \u001b[1;32mprint\u001b[0m \u001b[0mA\u001b[0m\u001b[1;33m[\u001b[0m\u001b[1;36m1\u001b[0m\u001b[1;33m:\u001b[0m\u001b[1;36m4\u001b[0m\u001b[1;33m]\u001b[0m\u001b[1;33m\u001b[0m\u001b[0m\n\u001b[0m",
      "\u001b[1;31mTypeError\u001b[0m: 'set' object has no attribute '__getitem__'"
     ]
    }
   ],
   "source": [
    "print A[1:4]"
   ]
  },
  {
   "cell_type": "code",
   "execution_count": 52,
   "metadata": {
    "collapsed": false
   },
   "outputs": [
    {
     "ename": "AttributeError",
     "evalue": "'set' object has no attribute 'sort'",
     "output_type": "error",
     "traceback": [
      "\u001b[1;31m---------------------------------------------------------------------------\u001b[0m",
      "\u001b[1;31mAttributeError\u001b[0m                            Traceback (most recent call last)",
      "\u001b[1;32m<ipython-input-52-9fbe6777337f>\u001b[0m in \u001b[0;36m<module>\u001b[1;34m()\u001b[0m\n\u001b[1;32m----> 1\u001b[1;33m \u001b[1;32mprint\u001b[0m \u001b[0mA\u001b[0m\u001b[1;33m.\u001b[0m\u001b[0msort\u001b[0m\u001b[1;33m(\u001b[0m\u001b[1;33m)\u001b[0m\u001b[1;33m\u001b[0m\u001b[0m\n\u001b[0m",
      "\u001b[1;31mAttributeError\u001b[0m: 'set' object has no attribute 'sort'"
     ]
    }
   ],
   "source": [
    "print A.sort()"
   ]
  },
  {
   "cell_type": "markdown",
   "metadata": {},
   "source": [
    "### 보충자료\n",
    "####(2) 집합의성능"
   ]
  },
  {
   "cell_type": "code",
   "execution_count": 63,
   "metadata": {
    "collapsed": false
   },
   "outputs": [
    {
     "name": "stdout",
     "output_type": "stream",
     "text": [
      "\n",
      "1 ms\n",
      "1180 ms\n",
      "3 ms\n",
      "503 ms\n"
     ]
    }
   ],
   "source": [
    "import random\n",
    "import time\n",
    "\n",
    "NUMBER_OF_ELEMENTS = 10000 # 상수를 정의하는 방법(a = 10000 방법과 크게 다를바 없음, 변수를 대문자로쓰면 상수처럼 사용하자는 약속일뿐)\n",
    "\n",
    "lst = list(range(NUMBER_OF_ELEMENTS))\n",
    "#lst2 = [x for x in range(NUMBER_OF_ELEMENTS)] #위랑 같은 것\n",
    "#print lst\n",
    "#print lst2\n",
    "random.shuffle(lst) \n",
    "#random안에 있는 모듈\n",
    "#print lst\n",
    "#처음과 다르게 숫자가 랜덤하게 섞여있음을 볼 수 있다.\n",
    "print\n",
    "\n",
    "s = set(lst) #lst는 리스트고, s는 집합! s에서 위치관계는 중요한것이x, \n",
    "\n",
    "# 해당 원소가 집합/리스트에 포함되어 있는지 검사\n",
    "startTime = time.time() #현재 시각을 가져온다\n",
    "for i in range(NUMBER_OF_ELEMENTS):\n",
    "    i in s #멤버십테스트 -> 집합이 리스트보다 빠르다\n",
    "endTime = time.time() #위의 for문 코드가 얼마나 걸리는지 체크\n",
    "\n",
    "runTime = int((endTime - startTime) * 1000) #초단위.밀리세컨드로 뜨기 때문에 1000곱하는 것이 필요\n",
    "print runTime, \"ms\"\n",
    "\n",
    "\n",
    "startTime = time.time()\n",
    "for i in range(NUMBER_OF_ELEMENTS):\n",
    "    i in lst #리스트 검사\n",
    "endTime = time.time()\n",
    "runTime = int((endTime - startTime) * 1000)\n",
    "print runTime, \"ms\"\n",
    "\n",
    "#인덱스가 중요하지 않다면 집합을 사용합시다!\n",
    "\n",
    "# 해당 원소를 집합/리스트로 부터 제거\n",
    "startTime = time.time()\n",
    "for i in range(NUMBER_OF_ELEMENTS):\n",
    "    s.remove(i)\n",
    "endTime = time.time()\n",
    "runTime = int((endTime - startTime) * 1000)\n",
    "print runTime, \"ms\"\n",
    "\n",
    "startTime = time.time()\n",
    "for i in range(NUMBER_OF_ELEMENTS):\n",
    "    lst.remove(i)\n",
    "endTime = time.time()\n",
    "runTime = int((endTime - startTime) * 1000)\n",
    "print runTime, \"ms\""
   ]
  },
  {
   "cell_type": "markdown",
   "metadata": {},
   "source": [
    "#사전\n",
    "* 파이썬의 장점\n",
    "    - 생산성이 높다 (productivity) -> 시스템 하나를 생성하는 과정이 짧을 수록 생산성이 높다(시간/인력의 투자가 적다)\n",
    "    \n",
    "* 파이썬의 단점\n",
    "    - 느리다\n",
    "\n"
   ]
  },
  {
   "cell_type": "code",
   "execution_count": 65,
   "metadata": {
    "collapsed": false
   },
   "outputs": [
    {
     "name": "stdout",
     "output_type": "stream",
     "text": [
      "{0: 0, 1: 1, 2: 4, 3: 9, 4: 16, 5: 25, 6: 36, 7: 49, 8: 64, 9: 81}\n"
     ]
    }
   ],
   "source": [
    "m = {}\n",
    "for x in range(10):\n",
    "    m[x] = x**2\n",
    "\n",
    "print m\n",
    "#키값은 x, value 값은 x제곱"
   ]
  },
  {
   "cell_type": "code",
   "execution_count": 66,
   "metadata": {
    "collapsed": false
   },
   "outputs": [
    {
     "name": "stdout",
     "output_type": "stream",
     "text": [
      "{'soccer': 11, 'baseball': 9}\n"
     ]
    }
   ],
   "source": [
    "member = {'basketball':5, 'soccer':11, 'baseball':9}\n",
    "del member['basketball'] # 항목 삭제\n",
    "print member"
   ]
  },
  {
   "cell_type": "code",
   "execution_count": 67,
   "metadata": {
    "collapsed": false
   },
   "outputs": [
    {
     "ename": "TypeError",
     "evalue": "unhashable type: 'list'",
     "output_type": "error",
     "traceback": [
      "\u001b[1;31m---------------------------------------------------------------------------\u001b[0m",
      "\u001b[1;31mTypeError\u001b[0m                                 Traceback (most recent call last)",
      "\u001b[1;32m<ipython-input-67-58b282605d34>\u001b[0m in \u001b[0;36m<module>\u001b[1;34m()\u001b[0m\n\u001b[0;32m      3\u001b[0m \u001b[0md\u001b[0m\u001b[1;33m[\u001b[0m\u001b[1;36m1\u001b[0m\u001b[1;33m]\u001b[0m \u001b[1;33m=\u001b[0m \u001b[1;36m4\u001b[0m\u001b[1;33m\u001b[0m\u001b[0m\n\u001b[0;32m      4\u001b[0m \u001b[0md\u001b[0m\u001b[1;33m[\u001b[0m\u001b[1;33m(\u001b[0m\u001b[1;36m1\u001b[0m\u001b[1;33m,\u001b[0m\u001b[1;36m2\u001b[0m\u001b[1;33m,\u001b[0m\u001b[1;36m3\u001b[0m\u001b[1;33m)\u001b[0m\u001b[1;33m]\u001b[0m \u001b[1;33m=\u001b[0m \u001b[1;34m'tuple'\u001b[0m\u001b[1;33m\u001b[0m\u001b[0m\n\u001b[1;32m----> 5\u001b[1;33m \u001b[0md\u001b[0m\u001b[1;33m[\u001b[0m\u001b[1;33m[\u001b[0m\u001b[1;36m1\u001b[0m\u001b[1;33m,\u001b[0m\u001b[1;36m2\u001b[0m\u001b[1;33m,\u001b[0m\u001b[1;36m3\u001b[0m\u001b[1;33m]\u001b[0m\u001b[1;33m]\u001b[0m \u001b[1;33m=\u001b[0m \u001b[1;34m'list'\u001b[0m \u001b[1;31m# 리스트는 키가 될 수 없다.\u001b[0m\u001b[1;33m\u001b[0m\u001b[0m\n\u001b[0m\u001b[0;32m      6\u001b[0m \u001b[1;33m\u001b[0m\u001b[0m\n\u001b[0;32m      7\u001b[0m \u001b[1;31m#리스트와 사전은 변경가능하기때문에 키의 위치에 올 수 없다\u001b[0m\u001b[1;33m\u001b[0m\u001b[1;33m\u001b[0m\u001b[0m\n",
      "\u001b[1;31mTypeError\u001b[0m: unhashable type: 'list'"
     ]
    }
   ],
   "source": [
    "d = {}\n",
    "d['str'] = 'abc'\n",
    "d[1] = 4\n",
    "d[(1,2,3)] = 'tuple'\n",
    "d[[1,2,3]] = 'list' # 리스트는 키가 될 수 없다.\n",
    "\n",
    "#리스트와 사전은 변경가능하기때문에 키의 위치에 올 수 없다"
   ]
  },
  {
   "cell_type": "code",
   "execution_count": 69,
   "metadata": {
    "collapsed": false
   },
   "outputs": [
    {
     "name": "stdout",
     "output_type": "stream",
     "text": [
      "9\n",
      "-1\n",
      "\n",
      "1\n"
     ]
    }
   ],
   "source": [
    "def add(a, b):\n",
    "    return a + b\n",
    "\n",
    "def sub(a, b):\n",
    "    return a - b\n",
    "\n",
    "action = {0: add, 1: sub}   # 함수 이름을 사전의 값으로 사용\n",
    "print action[0](4, 5)\n",
    "print action[1](4, 5)\n",
    "print\n",
    "action2 = {add: 1, sub: 2}  # 함수 이름을 사전의 키로 사용\n",
    "print action2[add]\n",
    "\n",
    "#생소한 코드\n",
    "#함수 이름을 사전값으로 사용!!\n",
    "#함수도 객체다. add라는 놈도 메모리에서 가리키는 포인터가 들어있는것!\n",
    "#[add] ----> [add(a,b) return a+b]\n",
    "# 따라서 add라는 이름도 변수라고 해도 상관x\n",
    "\n",
    "#변수이름(  ) \n",
    "#          <-  function call"
   ]
  },
  {
   "cell_type": "code",
   "execution_count": 71,
   "metadata": {
    "collapsed": false
   },
   "outputs": [
    {
     "data": {
      "text/plain": [
       "False"
      ]
     },
     "execution_count": 71,
     "metadata": {},
     "output_type": "execute_result"
    }
   ],
   "source": [
    "a = 1\n",
    "callable(a) #함수 call이 가능한지 물어보는 것"
   ]
  },
  {
   "cell_type": "code",
   "execution_count": 72,
   "metadata": {
    "collapsed": false
   },
   "outputs": [
    {
     "data": {
      "text/plain": [
       "True"
      ]
     },
     "execution_count": 72,
     "metadata": {},
     "output_type": "execute_result"
    }
   ],
   "source": [
    "def b():\n",
    "    return 10 + 20\n",
    "callable(b)"
   ]
  },
  {
   "cell_type": "code",
   "execution_count": 73,
   "metadata": {
    "collapsed": false
   },
   "outputs": [
    {
     "name": "stdout",
     "output_type": "stream",
     "text": [
      "<type 'dict'>\n",
      "\n",
      "{'two': 2, 'one': 1}\n",
      "{'two': 2, 'one': 1}\n",
      "{'two': 2, 'one': 1}\n"
     ]
    }
   ],
   "source": [
    "d = dict()\n",
    "print type(d)\n",
    "print \n",
    "\n",
    "print dict(one=1, two=2)\n",
    "print dict([('one', 1), ('two', 2)])\n",
    "print dict({'one':1, 'two':2})\n",
    "\n",
    "#사전을 생성하는 다른 방법: 내장함수 dict() 사용"
   ]
  },
  {
   "cell_type": "code",
   "execution_count": 76,
   "metadata": {
    "collapsed": false
   },
   "outputs": [],
   "source": [
    "a = {}\n",
    "b = dict()\n",
    "\n",
    "#두개는 같은방식"
   ]
  },
  {
   "cell_type": "code",
   "execution_count": 82,
   "metadata": {
    "collapsed": false
   },
   "outputs": [
    {
     "name": "stdout",
     "output_type": "stream",
     "text": [
      "[('one', 1), ('two', 2), ('three', 3)]\n",
      "{'three': 3, 'two': 2, 'one': 1}\n"
     ]
    }
   ],
   "source": [
    "keys = ['one', 'two', 'three', 'four']\n",
    "values = (1, 2, 3)\n",
    "print zip(keys, values) # zip(): 두 개의 자료를 순서대로 쌍으로 묶은 튜플들의 리스트 반환\n",
    "#길이가 다른것(넘치는것)은 무시된당!\n",
    "\n",
    "print dict(zip(keys, values))\n",
    "#zip의 결과를 사전으로 만들어준당\n",
    "#사전은 순서가 중요한것이 아니라 랜덤하게 들어간다"
   ]
  },
  {
   "cell_type": "code",
   "execution_count": 83,
   "metadata": {
    "collapsed": false
   },
   "outputs": [
    {
     "name": "stdout",
     "output_type": "stream",
     "text": [
      "{'a': [1, 2, 3], 'b': 4}\n",
      "{'a': [1, 2, 3], 'b': 4}\n",
      "\n",
      "{'a': [1, 2, 3], 'b': 100}\n",
      "{'a': [1, 2, 3], 'b': 4}\n",
      "\n",
      "{'a': [100, 2, 3], 'b': 100}\n",
      "{'a': [100, 2, 3], 'b': 4}\n"
     ]
    }
   ],
   "source": [
    "# [주의] D.copy()는 Shallow Copy를 수행한다.\n",
    "# Shallow Copy : 한단계만 copy한다. 그 이상의 두번째, 세번째 ... 단계들은 카피하지 않는다.\n",
    "# Deep Copy : 끝까지 전부 copy한다.\n",
    "\n",
    "phone = {'a': [1,2,3], 'b': 4}\n",
    "phone2 = phone.copy()\n",
    "print phone\n",
    "print phone2\n",
    "print\n",
    "\n",
    "phone['b'] = 100\n",
    "print phone\n",
    "print phone2\n",
    "print\n",
    "\n",
    "phone['a'][0] = 100\n",
    "print phone\n",
    "print phone2"
   ]
  },
  {
   "cell_type": "code",
   "execution_count": 84,
   "metadata": {
    "collapsed": false
   },
   "outputs": [
    {
     "name": "stdout",
     "output_type": "stream",
     "text": [
      "[('a', 1), ('c', 3), ('b', 2)]\n",
      "\n",
      "[('a', 1), ('b', 2), ('c', 3)]\n",
      "\n",
      "a 1\n",
      "b 2\n",
      "c 3\n"
     ]
    }
   ],
   "source": [
    "D = {'a':1, 'b':2, 'c':3}\n",
    "items = D.items()\n",
    "print items\n",
    "print\n",
    "\n",
    "items.sort()\n",
    "print items\n",
    "print \n",
    "\n",
    "for k,v in items:\n",
    "    print k, v"
   ]
  },
  {
   "cell_type": "code",
   "execution_count": null,
   "metadata": {
    "collapsed": true
   },
   "outputs": [],
   "source": []
  }
 ],
 "metadata": {
  "kernelspec": {
   "display_name": "Python 2",
   "language": "python",
   "name": "python2"
  },
  "language_info": {
   "codemirror_mode": {
    "name": "ipython",
    "version": 2
   },
   "file_extension": ".py",
   "mimetype": "text/x-python",
   "name": "python",
   "nbconvert_exporter": "python",
   "pygments_lexer": "ipython2",
   "version": "2.7.9"
  }
 },
 "nbformat": 4,
 "nbformat_minor": 0
}
