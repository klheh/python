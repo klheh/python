{
 "cells": [
  {
   "cell_type": "code",
   "execution_count": 3,
   "metadata": {
    "collapsed": false
   },
   "outputs": [
    {
     "name": "stdout",
     "output_type": "stream",
     "text": [
      "C:\\Users\\Heejeong\\Documents\\git\\python\n"
     ]
    }
   ],
   "source": [
    "import os\n",
    "print os.getcwd()"
   ]
  },
  {
   "cell_type": "code",
   "execution_count": 3,
   "metadata": {
    "collapsed": true
   },
   "outputs": [],
   "source": [
    "s = \"\"\"Its power: Python developers typically report \n",
    "they are able to develop applications in a half\n",
    "to a tenth the amount of time it takes them to do\n",
    "the same work in such languages as C.\"\"\"\n",
    "f = open('t2.txt', 'a')\n",
    "f.write(s) # 문자열을 파일에 기록\n",
    "f.close()"
   ]
  },
  {
   "cell_type": "code",
   "execution_count": 5,
   "metadata": {
    "collapsed": false
   },
   "outputs": [
    {
     "name": "stdout",
     "output_type": "stream",
     "text": [
      "<open file 't.txt', mode 'r' at 0x00000000038DA5D0>\n",
      "\n",
      "1 : Sample output\n",
      "2 : Good\n",
      "3 : Good\n"
     ]
    }
   ],
   "source": [
    "f = open('t.txt')\n",
    "print f.xreadlines()\n",
    "print\n",
    "\n",
    "f.seek(0)\n",
    "i = 1\n",
    "for line in f.xreadblines():\n",
    "    print i, \":\", line,\n",
    "    i += 1\n",
    "f.close()"
   ]
  },
  {
   "cell_type": "code",
   "execution_count": 8,
   "metadata": {
    "collapsed": false
   },
   "outputs": [
    {
     "name": "stdout",
     "output_type": "stream",
     "text": [
      "first line\n",
      "second line\n",
      "third line\n"
     ]
    }
   ],
   "source": [
    "lines = ['first line', 'second line', 'third line']\n",
    "f = open('t1.txt', 'w')\n",
    "f.writelines('\\n'.join(lines))\n",
    "f.close()\n",
    "f = open('t1.txt')\n",
    "f.seek(0)\n",
    "print f.read()\n",
    "f.close()"
   ]
  },
  {
   "cell_type": "code",
   "execution_count": 13,
   "metadata": {
    "collapsed": false
   },
   "outputs": [
    {
     "name": "stdout",
     "output_type": "stream",
     "text": [
      "<type 'str'>\n",
      "['Its', 'power:', 'Python', 'developers', 'typically', 'report', 'they', 'are', 'able', 'to', 'develop', 'applications', 'in', 'a', 'half', 'to', 'a', 'tenth', 'the', 'amount', 'of', 'time', 'it', 'takes', 'them', 'to', 'do', 'the', 'same', 'work', 'in', 'such', 'languages', 'as', 'C.']\n",
      "<type 'list'>\n",
      "35\n"
     ]
    }
   ],
   "source": [
    "f = open('t.txt')\n",
    "s = f.read()\n",
    "print type(s)\n",
    "print s.split()\n",
    "print type(s.split())\n",
    "n = len(s.split())\n",
    "print n\n",
    "f.close()"
   ]
  },
  {
   "cell_type": "code",
   "execution_count": 14,
   "metadata": {
    "collapsed": true
   },
   "outputs": [],
   "source": [
    "import sys\n",
    "\n",
    "f = open('t.txt', 'w')\n",
    "stdout = sys.stdout   # 표준 출력 저장해 두기\n",
    "sys.stdout = f        # 파일 객체로 표준 출력 변경\n",
    "print 'Sample output'\n",
    "print 'Good'\n",
    "print 'Good'\n",
    "f.close()\n",
    "sys.stdout = stdout   # 필요하면 표준 출력 원상 복구"
   ]
  },
  {
   "cell_type": "code",
   "execution_count": 15,
   "metadata": {
    "collapsed": false
   },
   "outputs": [
    {
     "name": "stdout",
     "output_type": "stream",
     "text": [
      "Sample output\n",
      "Good\n",
      "Good\n",
      "\n"
     ]
    }
   ],
   "source": [
    "f = open('t.txt')\n",
    "print f.read()"
   ]
  },
  {
   "cell_type": "code",
   "execution_count": 16,
   "metadata": {
    "collapsed": false
   },
   "outputs": [
    {
     "name": "stderr",
     "output_type": "stream",
     "text": [
      "Warning, action field not supplied\n"
     ]
    }
   ],
   "source": [
    "print >> sys.stderr, \"Warning, action field not supplied\""
   ]
  },
  {
   "cell_type": "code",
   "execution_count": 17,
   "metadata": {
    "collapsed": true
   },
   "outputs": [],
   "source": [
    "import sys\n",
    "import StringIO\n",
    "\n",
    "stdout = sys.stdout    # 표준 출력 저장해 두기\n",
    "sys.stdout = f = StringIO.StringIO()  \n",
    "\n",
    "print type(f)\n",
    "print 'Sample output'\n",
    "print 'Good'\n",
    "print 'Good'\n",
    "\n",
    "sys.stdout = stdout"
   ]
  },
  {
   "cell_type": "code",
   "execution_count": 18,
   "metadata": {
    "collapsed": false
   },
   "outputs": [
    {
     "name": "stdout",
     "output_type": "stream",
     "text": [
      "Done-------\n",
      "<type 'instance'>\n",
      "Sample output\n",
      "Good\n",
      "Good\n",
      "\n"
     ]
    }
   ],
   "source": [
    "s = f.getvalue()\n",
    "\n",
    "print 'Done-------'\n",
    "print s"
   ]
  },
  {
   "cell_type": "code",
   "execution_count": 22,
   "metadata": {
    "collapsed": false,
    "scrolled": true
   },
   "outputs": [
    {
     "name": "stdout",
     "output_type": "stream",
     "text": [
      "['.git', '.gitignore', '.ipynb_checkpoints', '0910\\xbc\\xf6\\xbe\\xf7.ipynb', '0917\\xbc\\xf6\\xbe\\xf7.ipynb', '0924\\xbc\\xf6\\xbe\\xf7.ipynb', '1001\\xbc\\xf6\\xbe\\xf7.ipynb', '1008\\xbc\\xf6\\xbe\\xf7.ipynb', '1015\\xbc\\xf6\\xbe\\xf7.ipynb', '1029\\xbc\\xf6\\xbe\\xf7.ipynb', 'access.txt', 'Assignment 2.ipynb', 'Assignment 3.ipynb', 'Assignment1.ipynb', 'cal.py', 'en.wikipedia.org.html', 'Final test study.ipynb', 'hamlet.txt', 'homework1.ipynb', 'HW4.ipynb', 'HW5.ipynb', 't.txt', 'test1.ipynb', 'Untitled.ipynb', 'www.amazon.com.html', 'www.amazon.com.words.frequency.txt', 'www.canadapost.ca.html', 'www.canadapost.ca.words.frequency.txt', 'www.nytimes.com.html', 'www.nytimes.com.words.frequency.txt', 'www.yahoo.com.html', 'www.yahoo.com.words.frequency.txt']\n",
      "\n",
      "['python']\n",
      "\n",
      "['F_OK', 'O_APPEND', 'O_BINARY', 'O_CREAT', 'O_EXCL', 'O_NOINHERIT', 'O_RANDOM', 'O_RDONLY', 'O_RDWR', 'O_SEQUENTIAL', 'O_SHORT_LIVED', 'O_TEMPORARY', 'O_TEXT', 'O_TRUNC', 'O_WRONLY', 'P_DETACH', 'P_NOWAIT', 'P_NOWAITO', 'P_OVERLAY', 'P_WAIT', 'R_OK', 'SEEK_CUR', 'SEEK_END', 'SEEK_SET', 'TMP_MAX', 'UserDict', 'W_OK', 'X_OK', '_Environ', '__all__', '__builtins__', '__doc__', '__file__', '__name__', '__package__', '_copy_reg', '_execvpe', '_exists', '_exit', '_get_exports_list', '_make_stat_result', '_make_statvfs_result', '_pickle_stat_result', '_pickle_statvfs_result', 'abort', 'access', 'altsep', 'chdir', 'chmod', 'close', 'closerange', 'curdir', 'defpath', 'devnull', 'dup', 'dup2', 'environ', 'errno', 'error', 'execl', 'execle', 'execlp', 'execlpe', 'execv', 'execve', 'execvp', 'execvpe', 'extsep', 'fdopen', 'fstat', 'fsync', 'getcwd', 'getcwdu', 'getenv', 'getpid', 'isatty', 'kill', 'linesep', 'listdir', 'lseek', 'lstat', 'makedirs', 'mkdir', 'name', 'open', 'pardir', 'path', 'pathsep', 'pipe', 'popen', 'popen2', 'popen3', 'popen4', 'putenv', 'read', 'remove', 'removedirs', 'rename', 'renames', 'rmdir', 'sep', 'spawnl', 'spawnle', 'spawnv', 'spawnve', 'startfile', 'stat', 'stat_float_times', 'stat_result', 'statvfs_result', 'strerror', 'sys', 'system', 'tempnam', 'times', 'tmpfile', 'tmpnam', 'umask', 'unlink', 'unsetenv', 'urandom', 'utime', 'waitpid', 'walk', 'write']\n"
     ]
    }
   ],
   "source": [
    "import os\n",
    "\n",
    "\n",
    "print os.listdir('.')   # 현재 디렉토리의 파일 목록 얻기\n",
    "print \n",
    "\n",
    "print os.listdir('../') # 현재 디렉토리의 부모 디렉토리의 파일 목록 얻기\n",
    "print\n",
    "\n",
    "print dir(os)"
   ]
  },
  {
   "cell_type": "code",
   "execution_count": 23,
   "metadata": {
    "collapsed": false
   },
   "outputs": [
    {
     "name": "stdout",
     "output_type": "stream",
     "text": [
      ".git : Directory\n",
      ".gitignore : Regular file\n",
      ".ipynb_checkpoints : Directory\n",
      "0910����.ipynb : Regular file\n",
      "0917����.ipynb : Regular file\n",
      "0924����.ipynb : Regular file\n",
      "1001����.ipynb : Regular file\n",
      "1008����.ipynb : Regular file\n",
      "1015����.ipynb : Regular file\n",
      "1029����.ipynb : Regular file\n",
      "access.txt : Regular file\n",
      "Assignment 2.ipynb : Regular file\n",
      "Assignment 3.ipynb : Regular file\n",
      "Assignment1.ipynb : Regular file\n",
      "cal.py : Regular file\n",
      "en.wikipedia.org.html : Regular file\n",
      "Final test study.ipynb : Regular file\n",
      "hamlet.txt : Regular file\n",
      "homework1.ipynb : Regular file\n",
      "HW4.ipynb : Regular file\n",
      "HW5.ipynb : Regular file\n",
      "t.txt : Regular file\n",
      "test1.ipynb : Regular file\n",
      "Untitled.ipynb : Regular file\n",
      "www.amazon.com.html : Regular file\n",
      "www.amazon.com.words.frequency.txt : Regular file\n",
      "www.canadapost.ca.html : Regular file\n",
      "www.canadapost.ca.words.frequency.txt : Regular file\n",
      "www.nytimes.com.html : Regular file\n",
      "www.nytimes.com.words.frequency.txt : Regular file\n",
      "www.yahoo.com.html : Regular file\n",
      "www.yahoo.com.words.frequency.txt : Regular file\n"
     ]
    }
   ],
   "source": [
    "import os\n",
    "def filetype(fpath):\n",
    "    print fpath, ':',\n",
    "    if os.path.isfile(fpath):\n",
    "        print 'Regular file'\n",
    "    if os.path.isdir(fpath):\n",
    "        print 'Directory'\n",
    "    if os.path.islink(fpath):\n",
    "        print 'Symbolic link'\n",
    "        \n",
    "flist = os.listdir('.')\n",
    "for fname in flist:\n",
    "    filetype(fname)"
   ]
  },
  {
   "cell_type": "code",
   "execution_count": 9,
   "metadata": {
    "collapsed": false
   },
   "outputs": [
    {
     "name": "stdout",
     "output_type": "stream",
     "text": [
      "{'jim': 6851325, 'Joseph': 6584321, 'jack': 9465215, 'tom': 4358382}\n",
      "['string', 1234, 0.2345]\n"
     ]
    }
   ],
   "source": [
    "import pickle\n",
    "phone = {'tom':4358382, 'jack':9465215, 'jim':6851325, 'Joseph':6584321}\n",
    "List = ['string', 1234, 0.2345]\n",
    "Tuple = (phone, List) # 리스트, 튜플, 사전의 복합 객체\n",
    "f = open('pickle.txt', 'w') # 파일 객체를 얻는다.\n",
    "pickle.dump(Tuple, f) # 파일로 출력(pickling), 복합 객체 출력\n",
    "f.close()\n",
    "f = open('pickle.txt')\n",
    "x,y = pickle.load(f) # 파일에서 읽어오기. 튜플의 내용을 x, y에 받는다.\n",
    "print x # 사전\n",
    "print y # 리스트"
   ]
  },
  {
   "cell_type": "code",
   "execution_count": 11,
   "metadata": {
    "collapsed": false
   },
   "outputs": [
    {
     "name": "stdout",
     "output_type": "stream",
     "text": [
      "10\n"
     ]
    }
   ],
   "source": [
    "import pickle\n",
    "class Simple: # 가장 단순한 클래스를 정의\n",
    "    pass\n",
    "s = Simple() # 인스턴스 객체 생성\n",
    "s.count = 10 # 인스턴스 이름 공간에 변수 생성\n",
    "f = open('pickle2.txt', 'w')\n",
    "pickle.dump(s, f) # 인스턴스 저장\n",
    "f.close()\n",
    "f = open('pickle2.txt')\n",
    "t = pickle.load(f) # 인스턴스 가져오기\n",
    "print t.count"
   ]
  },
  {
   "cell_type": "code",
   "execution_count": 12,
   "metadata": {
    "collapsed": false
   },
   "outputs": [
    {
     "name": "stdout",
     "output_type": "stream",
     "text": [
      "False\n",
      "False\n",
      "False\n"
     ]
    }
   ],
   "source": [
    "import os\n",
    "os.mkdir('temp') # 0755 기본 모드(rwxr-xr-x)로 만들어짐\n",
    "os.mkdir('temp2', 0700) # 0700 모드(rwx------)로 만들어짐\n",
    "os.makedirs('temp/level1/level2') #0755 기본 모드, 중간에 필요한 디렉토리도 모두생성\n",
    "print os.access('/Users/yhhan/Public/temp', os.F_OK)\n",
    "print os.access('/Users/yhhan/Public/temp2', os.F_OK)\n",
    "print os.access('/Users/yhhan/Public/temp/level1/level2', os.F_OK)"
   ]
  },
  {
   "cell_type": "code",
   "execution_count": 15,
   "metadata": {
    "collapsed": false
   },
   "outputs": [],
   "source": [
    "import shutil\n",
    "\n",
    "os.mkdir('temp/temp2', 0700)\n",
    "shutil.copytree('temp', 'myweb_backup')"
   ]
  },
  {
   "cell_type": "code",
   "execution_count": 21,
   "metadata": {
    "collapsed": false
   },
   "outputs": [
    {
     "ename": "UnboundLocalError",
     "evalue": "local variable 'g' referenced before assignment",
     "output_type": "error",
     "traceback": [
      "\u001b[1;31m---------------------------------------------------------------------------\u001b[0m",
      "\u001b[1;31mUnboundLocalError\u001b[0m                         Traceback (most recent call last)",
      "\u001b[1;32m<ipython-input-21-f069f1d392e0>\u001b[0m in \u001b[0;36m<module>\u001b[1;34m()\u001b[0m\n\u001b[0;32m      4\u001b[0m     \u001b[0mg\u001b[0m \u001b[1;33m=\u001b[0m \u001b[1;36m20\u001b[0m \u001b[1;31m# r-value로 정의되는 g는 지역 변수\u001b[0m\u001b[1;33m\u001b[0m\u001b[0m\n\u001b[0;32m      5\u001b[0m     \u001b[1;32mreturn\u001b[0m \u001b[0ma\u001b[0m\u001b[1;33m\u001b[0m\u001b[0m\n\u001b[1;32m----> 6\u001b[1;33m \u001b[1;32mprint\u001b[0m \u001b[0mf\u001b[0m\u001b[1;33m(\u001b[0m\u001b[1;33m)\u001b[0m\u001b[1;33m\u001b[0m\u001b[0m\n\u001b[0m",
      "\u001b[1;32m<ipython-input-21-f069f1d392e0>\u001b[0m in \u001b[0;36mf\u001b[1;34m()\u001b[0m\n\u001b[0;32m      1\u001b[0m \u001b[0mg\u001b[0m \u001b[1;33m=\u001b[0m \u001b[1;36m10\u001b[0m\u001b[1;33m\u001b[0m\u001b[0m\n\u001b[0;32m      2\u001b[0m \u001b[1;32mdef\u001b[0m \u001b[0mf\u001b[0m\u001b[1;33m(\u001b[0m\u001b[1;33m)\u001b[0m\u001b[1;33m:\u001b[0m\u001b[1;33m\u001b[0m\u001b[0m\n\u001b[1;32m----> 3\u001b[1;33m     \u001b[0ma\u001b[0m \u001b[1;33m=\u001b[0m \u001b[0mg\u001b[0m \u001b[1;31m# l-value로 사용되는 g는 전역 변수\u001b[0m\u001b[1;33m\u001b[0m\u001b[0m\n\u001b[0m\u001b[0;32m      4\u001b[0m     \u001b[0mg\u001b[0m \u001b[1;33m=\u001b[0m \u001b[1;36m20\u001b[0m \u001b[1;31m# r-value로 정의되는 g는 지역 변수\u001b[0m\u001b[1;33m\u001b[0m\u001b[0m\n\u001b[0;32m      5\u001b[0m     \u001b[1;32mreturn\u001b[0m \u001b[0ma\u001b[0m\u001b[1;33m\u001b[0m\u001b[0m\n",
      "\u001b[1;31mUnboundLocalError\u001b[0m: local variable 'g' referenced before assignment"
     ]
    }
   ],
   "source": [
    "g = 10\n",
    "def f():\n",
    "    a = g # l-value로 사용되는 g는 전역 변수\n",
    "    g = 20 # r-value로 정의되는 g는 지역 변수\n",
    "    return a\n",
    "print f()"
   ]
  },
  {
   "cell_type": "code",
   "execution_count": null,
   "metadata": {
    "collapsed": true
   },
   "outputs": [],
   "source": []
  }
 ],
 "metadata": {
  "kernelspec": {
   "display_name": "Python 2",
   "language": "python",
   "name": "python2"
  },
  "language_info": {
   "codemirror_mode": {
    "name": "ipython",
    "version": 2
   },
   "file_extension": ".py",
   "mimetype": "text/x-python",
   "name": "python",
   "nbconvert_exporter": "python",
   "pygments_lexer": "ipython2",
   "version": "2.7.9"
  }
 },
 "nbformat": 4,
 "nbformat_minor": 0
}
