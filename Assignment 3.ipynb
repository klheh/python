{
 "cells": [
  {
   "cell_type": "markdown",
   "metadata": {},
   "source": [
    "# 스크립트프로그래밍 과제3\n",
    "## 과제3"
   ]
  },
  {
   "cell_type": "markdown",
   "metadata": {},
   "source": [
    "### 1번>\n",
    "L=[1, 2, 3, 4, 5]일 때 다음 각 문장을 수행한 후의 결과를 보고 납득할 만한 이유를 설명하시오.\n",
    "\n",
    "1)\n",
    "L[1:3] = [100]\n",
    "print L\n",
    "\n",
    "2)\n",
    "L[1:3] = [(100)]\n",
    "print L\n",
    "\n",
    "3)\n",
    "L[1:3] = 100\n",
    "print L\n",
    "\n",
    "4)\n",
    "L[1:3] = (100)\n",
    "print L\n",
    "\n",
    "5)\n",
    "L[1:3] = (100, 101, 102)\n",
    "print L\n",
    "\n",
    "6)\n",
    "L[1:3] = [100, 101, 102]\n",
    "print L\n",
    "\n",
    "7)\n",
    "L[1:3] = [(100, 101, 102)]\n",
    "print L\n",
    "\n",
    "8)\n",
    "L[1:3] = [[100, 101, 102]]\n",
    "print L"
   ]
  },
  {
   "cell_type": "code",
   "execution_count": 12,
   "metadata": {
    "collapsed": false
   },
   "outputs": [
    {
     "name": "stdout",
     "output_type": "stream",
     "text": [
      "[1, 100, 4, 5]\n"
     ]
    }
   ],
   "source": [
    "L=[1, 2, 3, 4, 5]\n",
    "\n",
    "L[1:3] = [100]\n",
    "print L"
   ]
  },
  {
   "cell_type": "markdown",
   "metadata": {},
   "source": [
    "* L[1:3]은 [2, 3]을 가리키고, 리스트는 변경 가능하므로, [2, 3]이 [100]리스트로 서로 다른 크기에 대한 슬라이스 치환이 되기 때문에 [1, 100, 4, 5]가 출력됩니다."
   ]
  },
  {
   "cell_type": "code",
   "execution_count": 46,
   "metadata": {
    "collapsed": false
   },
   "outputs": [
    {
     "name": "stdout",
     "output_type": "stream",
     "text": [
      "[1, 100, 4, 5]\n"
     ]
    }
   ],
   "source": [
    "L=[1, 2, 3, 4, 5]\n",
    "\n",
    "L[1:3] = [(100)]\n",
    "print L"
   ]
  },
  {
   "cell_type": "markdown",
   "metadata": {},
   "source": [
    "* 위와 마찬가지로 L[1:3]은 [2, 3]이고, 리스트는 변경 가능하므로, [2, 3]이 [(100)]리스트로 서로 다른 크기에 대한 슬라이스 치환이 되기 때문에 [1, 100, 4, 5]가 출력됩니다.\n",
    "* 참고로 (100)은 튜플이 아닙니다. 원소가 1개인 튜플이려면 (100,)와 같은 방식이여야 합니다."
   ]
  },
  {
   "cell_type": "code",
   "execution_count": 24,
   "metadata": {
    "collapsed": false
   },
   "outputs": [
    {
     "ename": "TypeError",
     "evalue": "can only assign an iterable",
     "output_type": "error",
     "traceback": [
      "\u001b[1;31m---------------------------------------------------------------------------\u001b[0m",
      "\u001b[1;31mTypeError\u001b[0m                                 Traceback (most recent call last)",
      "\u001b[1;32m<ipython-input-24-c04c9fee22a8>\u001b[0m in \u001b[0;36m<module>\u001b[1;34m()\u001b[0m\n\u001b[0;32m      1\u001b[0m \u001b[0mL\u001b[0m\u001b[1;33m=\u001b[0m\u001b[1;33m[\u001b[0m\u001b[1;36m1\u001b[0m\u001b[1;33m,\u001b[0m \u001b[1;36m2\u001b[0m\u001b[1;33m,\u001b[0m \u001b[1;36m3\u001b[0m\u001b[1;33m,\u001b[0m \u001b[1;36m4\u001b[0m\u001b[1;33m,\u001b[0m \u001b[1;36m5\u001b[0m\u001b[1;33m]\u001b[0m\u001b[1;33m\u001b[0m\u001b[0m\n\u001b[0;32m      2\u001b[0m \u001b[1;33m\u001b[0m\u001b[0m\n\u001b[1;32m----> 3\u001b[1;33m \u001b[0mL\u001b[0m\u001b[1;33m[\u001b[0m\u001b[1;36m1\u001b[0m\u001b[1;33m:\u001b[0m\u001b[1;36m3\u001b[0m\u001b[1;33m]\u001b[0m \u001b[1;33m=\u001b[0m \u001b[1;36m100\u001b[0m\u001b[1;33m\u001b[0m\u001b[0m\n\u001b[0m\u001b[0;32m      4\u001b[0m \u001b[1;32mprint\u001b[0m \u001b[0mL\u001b[0m\u001b[1;33m\u001b[0m\u001b[0m\n",
      "\u001b[1;31mTypeError\u001b[0m: can only assign an iterable"
     ]
    }
   ],
   "source": [
    "L=[1, 2, 3, 4, 5]\n",
    "\n",
    "L[1:3] = 100\n",
    "print L"
   ]
  },
  {
   "cell_type": "markdown",
   "metadata": {},
   "source": [
    "* L[1:3]은 [2, 3]으로 리스트이므로 리스트로 저장하여야 하는데, 100은 정수 이므로 에러가 발생하게 됩니다."
   ]
  },
  {
   "cell_type": "code",
   "execution_count": 26,
   "metadata": {
    "collapsed": false
   },
   "outputs": [
    {
     "ename": "TypeError",
     "evalue": "can only assign an iterable",
     "output_type": "error",
     "traceback": [
      "\u001b[1;31m---------------------------------------------------------------------------\u001b[0m",
      "\u001b[1;31mTypeError\u001b[0m                                 Traceback (most recent call last)",
      "\u001b[1;32m<ipython-input-26-07cc5677ae31>\u001b[0m in \u001b[0;36m<module>\u001b[1;34m()\u001b[0m\n\u001b[0;32m      1\u001b[0m \u001b[0mL\u001b[0m\u001b[1;33m=\u001b[0m\u001b[1;33m[\u001b[0m\u001b[1;36m1\u001b[0m\u001b[1;33m,\u001b[0m \u001b[1;36m2\u001b[0m\u001b[1;33m,\u001b[0m \u001b[1;36m3\u001b[0m\u001b[1;33m,\u001b[0m \u001b[1;36m4\u001b[0m\u001b[1;33m,\u001b[0m \u001b[1;36m5\u001b[0m\u001b[1;33m]\u001b[0m\u001b[1;33m\u001b[0m\u001b[0m\n\u001b[0;32m      2\u001b[0m \u001b[1;33m\u001b[0m\u001b[0m\n\u001b[1;32m----> 3\u001b[1;33m \u001b[0mL\u001b[0m\u001b[1;33m[\u001b[0m\u001b[1;36m1\u001b[0m\u001b[1;33m:\u001b[0m\u001b[1;36m3\u001b[0m\u001b[1;33m]\u001b[0m \u001b[1;33m=\u001b[0m \u001b[1;33m(\u001b[0m\u001b[1;36m100\u001b[0m\u001b[1;33m)\u001b[0m\u001b[1;33m\u001b[0m\u001b[0m\n\u001b[0m\u001b[0;32m      4\u001b[0m \u001b[1;32mprint\u001b[0m \u001b[0mL\u001b[0m\u001b[1;33m\u001b[0m\u001b[0m\n",
      "\u001b[1;31mTypeError\u001b[0m: can only assign an iterable"
     ]
    }
   ],
   "source": [
    "L=[1, 2, 3, 4, 5]\n",
    "\n",
    "L[1:3] = (100)\n",
    "print L"
   ]
  },
  {
   "cell_type": "markdown",
   "metadata": {},
   "source": [
    "* L[1:3]은 [2, 3]으로 리스트이므로 리스트로 저장하여야 하는데, (100) 리스트도, 튜플도 아니기 때문에 에러가 발생하게 됩니다.\n",
    "* 원소를 1개 갖는 튜플일 경우, 한개의 요소와 뒤에 콤마(,)를 넣어줘야 합니다. 하지만 위 문제에서는 (100,)이 아니기 때문에 튜플이 아니며 에러가 발생하게 됩니다."
   ]
  },
  {
   "cell_type": "code",
   "execution_count": 41,
   "metadata": {
    "collapsed": false
   },
   "outputs": [
    {
     "name": "stdout",
     "output_type": "stream",
     "text": [
      "[1, 100, 101, 102, 4, 5]\n"
     ]
    }
   ],
   "source": [
    "L=[1, 2, 3, 4, 5]\n",
    "\n",
    "L[1:3] = (100, 101, 102)\n",
    "print L\n"
   ]
  },
  {
   "cell_type": "markdown",
   "metadata": {},
   "source": [
    "* 위의 (100, 101, 102)는 튜플이므로 에러가 발생하지 않고, L[1:3]의 자리에 100, 101, 102가 치환됩니다."
   ]
  },
  {
   "cell_type": "code",
   "execution_count": 18,
   "metadata": {
    "collapsed": false
   },
   "outputs": [
    {
     "name": "stdout",
     "output_type": "stream",
     "text": [
      "[1, 100, 101, 102, 4, 5]\n"
     ]
    }
   ],
   "source": [
    "L=[1, 2, 3, 4, 5]\n",
    "\n",
    "L[1:3] = [100, 101, 102]\n",
    "print L"
   ]
  },
  {
   "cell_type": "markdown",
   "metadata": {},
   "source": [
    "* 위의 [100, 101, 102]는 리스트 이므로 에러가 발생하지 않고, L[1:3]의 자리에 100, 101, 102가 치환됩니다."
   ]
  },
  {
   "cell_type": "code",
   "execution_count": 33,
   "metadata": {
    "collapsed": false
   },
   "outputs": [
    {
     "name": "stdout",
     "output_type": "stream",
     "text": [
      "[1, (100, 101, 102), 4, 5]\n"
     ]
    }
   ],
   "source": [
    "L=[1, 2, 3, 4, 5]\n",
    "\n",
    "L[1:3] = [(100, 101, 102)]\n",
    "print L\n",
    "\n",
    "\n",
    "#L[1][0] = [22]\n",
    "#print L"
   ]
  },
  {
   "cell_type": "markdown",
   "metadata": {},
   "source": [
    "* 위의 [(100, 101, 102)]는 튜플을 원소로 가지는 리스트이며, 따라서 L[1]의 위치에 (100, 101, 102) 튜플이 들어가게 되는 것 입니다. \n",
    "* 튜플로 들어가게 되기 때문에, 변경 불가능한 튜플의 특성으로 인해 주석 처리된 부분을 실행하게 되면 에러가 발생하게 됩니다."
   ]
  },
  {
   "cell_type": "code",
   "execution_count": 20,
   "metadata": {
    "collapsed": false
   },
   "outputs": [
    {
     "name": "stdout",
     "output_type": "stream",
     "text": [
      "[1, [100, 101, 102], 4, 5]\n"
     ]
    }
   ],
   "source": [
    "L=[1, 2, 3, 4, 5]\n",
    "\n",
    "L[1:3] = [[100, 101, 102]]\n",
    "print L"
   ]
  },
  {
   "cell_type": "markdown",
   "metadata": {},
   "source": [
    "* 위의 [[100, 101, 102]]는 리스트를 원소로 가지는 리스트이며, 따라서 L[1]의 위치에 [100, 101, 102] 리스트 원소가 들어가게 됩니다. 따라서 print L을 하였을 때 [1, [100, 101, 102], 4, 5]와 같이 출력되는 것 입니다."
   ]
  },
  {
   "cell_type": "markdown",
   "metadata": {},
   "source": [
    "### 2번>\n",
    "문자열 S = 'Hello World and Python'에 대해 다음 요구사항에 대한 Python 코드를 제시하시오.\n",
    "\n",
    "1) 단어의 순서가 역순으로 되어진 문자열 ('Python and World Hello')을 만들고\n",
    "\n",
    "2) 1)의 결과 문자열에 대해 메소드 split과 join을 이용하여 공백을 모두 없엔 문자열 'PythonandWorldHello'을 만드시오.\n"
   ]
  },
  {
   "cell_type": "code",
   "execution_count": 80,
   "metadata": {
    "collapsed": false
   },
   "outputs": [
    {
     "name": "stdout",
     "output_type": "stream",
     "text": [
      "Python and World Hello\n",
      "['Python', 'and', 'World', 'Hello']\n",
      "PythonandWorldHello\n"
     ]
    }
   ],
   "source": [
    "s = 'Hello World and Python'\n",
    "rs = s[16::] + s[11:15] + s[5:11] + ' ' + s[:5]\n",
    "print rs\n",
    "\n",
    "L = rs.split()\n",
    "print L\n",
    "\n",
    "str1 = ''.join(L)\n",
    "print str1"
   ]
  },
  {
   "cell_type": "markdown",
   "metadata": {},
   "source": [
    "* s = 'Hello World and Python'를 각 단어로 슬라이스 하여 역순으로 되어진 문자열로 rs를 생성합니다.\n",
    "* 생성된 rs를 rs.split()하면, 공백을 기준으로 나뉘어진 리스트가 생성됩니다.\n",
    "* 생성된 리스트를 join()을 이용하여 합친 문자열을 만드는데, ''.join(L)은 연결을 하는데, 리스트 L 내부의 각 원소들을 ''으로 연결한 문자열을 반환하게 되는데, ''는 아무것도 없으므로 리스트 원소들을 그냥 연결한 문자열이 반환되므로, 문제에서 원하는 결과값을 출력할 수 있습니다."
   ]
  },
  {
   "cell_type": "markdown",
   "metadata": {},
   "source": [
    "### 3번>\n",
    "다음 코드를 보고 물음에 답하시오.\n",
    "\n",
    "a = [1, 2, 3]\n",
    "\n",
    "b = a * 3\n",
    "\n",
    "c = [a] * 3\n",
    "\n",
    "print b\n",
    "\n",
    "print c\n",
    "\n",
    "1) 위 코드를 수행한 이후 다음 코드를 수행한 후 b와 c의 내용을 확인하시오.\n",
    "\n",
    "a[0]=0\n",
    "\n",
    "2) b와 c 객체의 차이는 무엇인가?\n"
   ]
  },
  {
   "cell_type": "code",
   "execution_count": 90,
   "metadata": {
    "collapsed": false
   },
   "outputs": [
    {
     "name": "stdout",
     "output_type": "stream",
     "text": [
      "[1, 2, 3, 1, 2, 3, 1, 2, 3]\n",
      "[[1, 2, 3], [1, 2, 3], [1, 2, 3]]\n"
     ]
    }
   ],
   "source": [
    "a = [1, 2, 3]\n",
    "\n",
    "b = a * 3\n",
    "\n",
    "c = [a] * 3\n",
    "\n",
    "print b\n",
    "print c"
   ]
  },
  {
   "cell_type": "code",
   "execution_count": 83,
   "metadata": {
    "collapsed": false,
    "scrolled": true
   },
   "outputs": [
    {
     "name": "stdout",
     "output_type": "stream",
     "text": [
      "[1, 2, 3, 1, 2, 3, 1, 2, 3]\n",
      "[[0, 2, 3], [0, 2, 3], [0, 2, 3]]\n"
     ]
    }
   ],
   "source": [
    "a[0]=0\n",
    "\n",
    "print b\n",
    "print c"
   ]
  },
  {
   "cell_type": "code",
   "execution_count": 18,
   "metadata": {
    "collapsed": false
   },
   "outputs": [
    {
     "name": "stdout",
     "output_type": "stream",
     "text": [
      "True\n",
      "True\n",
      "False\n",
      "True\n",
      "\n",
      "True\n",
      "False\n",
      "\n",
      "True\n",
      "True\n",
      "True\n",
      "\n",
      "[1, 2, 3] [1, 2, 3]\n"
     ]
    }
   ],
   "source": [
    "t1 = [1, 2, 3]\n",
    "t2 = t1\n",
    "t3 = [t1]\n",
    "t4 = t1 * 2\n",
    "t5 = [t1] * 2\n",
    "\n",
    "print t1 == t2\n",
    "print t1 == t3[0]\n",
    "print t1 == t4\n",
    "print t1 == t5[0]\n",
    "print \n",
    "print id(t1) == id(t2)\n",
    "print id(t1) == id(t4)\n",
    "print\n",
    "print id(t1) == id(t3[0])\n",
    "print id(t1) == id(t5[0])\n",
    "print id(t1) == id(t5[1])\n",
    "print\n",
    "print t5[0], t5[1]"
   ]
  },
  {
   "cell_type": "markdown",
   "metadata": {},
   "source": [
    "* 1) a[0]=0 를 수행한 이후 b와 c의 내용은 [1, 2, 3, 1, 2, 3, 1, 2, 3], [[0, 2, 3], [0, 2, 3], [0, 2, 3]]입니다.\n",
    "* 2)  b와 c 객체의 차이는 위에서 테스트한 t1~t5를 보면 알 수 있습니다.\n",
    "    * 우선, t2 = t1을 하게되면, 같은 객체를 가리키고 있게 됩니다. 하지만, t4 = t1 * 2를 하게 되면, 해당 객체를 가리키는 것이 아니라, 복사를 하게됩니다. 따라서 같은 객체가 아님을 id(t1) == id(t4)를 통해 알 수 있습니다. 내용 또한 t1이 2번 들어가게 되므로 t4 = [1, 2, 3, 1, 2, 3]이 됩니다.\n",
    "    * 하지만, t3 = [t1]을 하거나, t5 = [t1] * 2를 하면 같은 객체를 가리키고 있게 됩니다. 즉, t1이 변하게 되면 t3, t5도 변하게 되는 것 입니다. 이것은 id(t1) == id(t3[0]), id(t1) == id(t5[0])가 True가 출력됨을 통해 알 수 있습니다. 참고로 t1이 리스트의 원소로 들어가기 때문에 t3[0]과 같이 되는 것 입니다. 또한 t5[0] = [[1,2,3],[1,2,3]]인데, [1, 2, 3]이 모두 같은 객체임을 id(t1) == id(t5[1])을 통해 알 수 있습니다.\n",
    "    * 위와 같은 맥락으로, a[0] = 0을 수행하였을 때, b는 변하지 않았지만, a는 변함을 알 수 있습니다. b는 내용은 같지만 다른 객체이기 때문에 a의 변화가 b에 영향을 주지 않는 것이고, c는 같은 객체를 가리키고 이기 떄문에 a의 변화가 c에 영향을 주게되는 것 입니다."
   ]
  },
  {
   "cell_type": "markdown",
   "metadata": {},
   "source": [
    "### 4번>\n",
    "다음 문자열을 ':'을 기준으로 분리하여 리스트로 만들고 각 문자열의 좌우 공백을 제거하시오 (즉, 문자열 S에서 l을 만들어라)\n",
    "\n",
    "s = '  first star   :   second star   :    third star  '\n",
    "\n",
    "l = ['first star', 'second star', 'third star']\n",
    "\n",
    "1) for ~ in 문을 이용한 코드를 작성하시오.\n",
    "\n",
    "2) 리스트 내포(list comprehension)를 이용한 코드를 작성하시오."
   ]
  },
  {
   "cell_type": "code",
   "execution_count": 135,
   "metadata": {
    "collapsed": false
   },
   "outputs": [
    {
     "name": "stdout",
     "output_type": "stream",
     "text": [
      "['first star', 'second star', 'third star']\n"
     ]
    }
   ],
   "source": [
    "s = ' first star : second star : third star '\n",
    "l = []\n",
    "temp =''\n",
    "\n",
    "for i in range(len(s)):\n",
    "    if (s[i] != ':'):\n",
    "        temp += s[i]\n",
    "    if(s[i] == ':' or i == len(s)-1):\n",
    "        temp = temp.strip()\n",
    "        l += [temp]\n",
    "        temp = ''\n",
    "        \n",
    "print l"
   ]
  },
  {
   "cell_type": "code",
   "execution_count": 136,
   "metadata": {
    "collapsed": false
   },
   "outputs": [
    {
     "name": "stdout",
     "output_type": "stream",
     "text": [
      "['first star', 'second star', 'third star']\n"
     ]
    }
   ],
   "source": [
    "s = ' first star : second star : third star '\n",
    "ss = s.split(':')\n",
    "l=[]\n",
    "\n",
    "for i in range(len(ss)):\n",
    "    temp = ss[i].strip()\n",
    "    l += [temp]\n",
    "print l"
   ]
  },
  {
   "cell_type": "markdown",
   "metadata": {},
   "source": [
    "* 첫 번째 방법 : for~ in문을 이용하여 반복하는데, 범위는 문자열 길이로 합니다.\n",
    "* i를 기준으로 현재 위치를 정하는데, 현재 위치의 문자가 만약에 ':'가 아니라면 temp 문자열에 더합니다.\n",
    "* 만약 : 를 만나거나, 혹은 마지막에 도착한다면 temp에 저장된 문자열의 좌우 공백을 제거하고, 리스트 l에 추가합니다. \n",
    "\n",
    "\n",
    "* 두 번째 방법 : for ~ in 문을 이용하여 반복하는데, 반복문 전에 문자열 s를 ':'로 나눈 리스트 ss를 생성합니다.\n",
    "* 반복문은 i를 기준으로, 범위는 리스트 ss의 길이만큼 반복하며, i위치의 원소를 strip()를 이용하여 좌우 공백 제거 후, l리스트에 추가합니다."
   ]
  },
  {
   "cell_type": "code",
   "execution_count": 137,
   "metadata": {
    "collapsed": false
   },
   "outputs": [
    {
     "name": "stdout",
     "output_type": "stream",
     "text": [
      "['first star', 'second star', 'third star']\n"
     ]
    }
   ],
   "source": [
    "s = ' first star : second star : third star '\n",
    "ss = s.split(':')\n",
    "\n",
    "l = [temp.strip() for temp in ss]\n",
    "print l"
   ]
  },
  {
   "cell_type": "markdown",
   "metadata": {},
   "source": [
    "* 리스트 내포를 이용한 방법으로, 우선 문자열을 ':'를 기준으로 나눈 리스트 ss를 생성합니다.\n",
    "* 그 다음 temp.strip()를 원소로 저장하는데 temp는 ss를 범위로 갖습니다.\n",
    "* 즉, ss원소인 단어가 temp에 할당 되고, temp.strip() 식을 진행하여 리스트의 원소로 할당하는 것입니다."
   ]
  },
  {
   "cell_type": "markdown",
   "metadata": {},
   "source": [
    "###5번>\n",
    "다음과 같이 0보다 큰 정수 리스트 변수 list를 인자로 받는 함수 addall(list)와 addallodd(list)를 for ~ in 리터널과 리스트 내포 방식으로 각각 제시하시오.\n",
    "\n",
    "1) addall(list) 함수 (리스트 내의 모든 정수를 더하는 함수로서 해답으로는 for ~ in 리터럴과 리스트 내포 방식으로 각각 제시하시오.)\n",
    "\n",
    "---> addall([1])\n",
    "\n",
    "1\n",
    "\n",
    "---> addall([1, 2, 3, 4, 5, 6, 7, 8, 9])\n",
    "\n",
    "45\n",
    "\n",
    "\n",
    "2) addallodd(list) 함수 (리스트내의 모든 홀수를 더하는 함수로서 해답으로는 for ~ in 리터럴과 리스트 내포 방식으로 각각 제시하시오.)\n",
    "\n",
    "---> addallodd([1])\n",
    "\n",
    "1\n",
    "\n",
    "---> addallodd([1, 2, 3, 4, 5, 6, 7, 8, 9])\n",
    "\n",
    "25\n",
    "\n",
    "[참고]: 리스트 내포 방식으로 addall() 및 addallodd()함수를 만들 때엔 리스트 내포에 의해 생성된 리스트 결과에 대해 내장 함수를 사용하는 방식을 고려해보시오 (주의: 리스트 내포 방식의 addall() 및 addallodd() 함수의 몸체는 단 1줄로 작성되어야 한다.)"
   ]
  },
  {
   "cell_type": "code",
   "execution_count": 157,
   "metadata": {
    "collapsed": false
   },
   "outputs": [
    {
     "name": "stdout",
     "output_type": "stream",
     "text": [
      "1\n",
      "45\n"
     ]
    }
   ],
   "source": [
    "# addall(list)함수 for~in 방식\n",
    "\n",
    "def addall(list):\n",
    "    res = 0\n",
    "    for i in range(len(list)):\n",
    "        res += list[i]\n",
    "    return res\n",
    "\n",
    "print addall([1])\n",
    "print addall([1,2,3,4,5,6,7,8,9])"
   ]
  },
  {
   "cell_type": "markdown",
   "metadata": {},
   "source": [
    "* def를 통해 함수를 정의합니다. for ~ in 반복문을 이용하여 반복하는데, i를 통해 현재 위치를 지정합니다. i는 0부터 len(list)의 범위를 가지며, res 초기값은 0이고, 반복문을 도는동안 list[i]값을 누적하여 더합니다. 그 결과는 리스트 내의 모든 정수를 더한 값 입니다. \n",
    "* 교수님께서 입력값은 정수로 가정하라 하셨기에 문자열이 들어오거나 하는 것에 대한 오류처리는 하지 않았습니다."
   ]
  },
  {
   "cell_type": "code",
   "execution_count": 158,
   "metadata": {
    "collapsed": false
   },
   "outputs": [
    {
     "name": "stdout",
     "output_type": "stream",
     "text": [
      "1\n",
      "45\n"
     ]
    }
   ],
   "source": [
    "# addall(list)함수 리스트 내포 방식\n",
    "\n",
    "def addall2(list):\n",
    "    return sum([list[i] for i in range(len(list))])\n",
    "\n",
    "print addall2([1])\n",
    "print addall2([1,2,3,4,5,6,7,8,9])"
   ]
  },
  {
   "cell_type": "markdown",
   "metadata": {},
   "source": [
    "* addall2()는 리스트 내포 방식을 활용한 함수입니다. sum()내장함수를 이용하여 리스트의 합을 반환하는데, ()안에 들어간 리스트는 list값을 하나씩 가져온 리스트 입니다.\n",
    "* 즉, 매개변수로 들어온 list를 복사하여 새로운 리스트를 만들고, 그 리스트의 원소들의 합을 반환하는 방식입니다."
   ]
  },
  {
   "cell_type": "code",
   "execution_count": 161,
   "metadata": {
    "collapsed": false
   },
   "outputs": [
    {
     "name": "stdout",
     "output_type": "stream",
     "text": [
      "1\n",
      "25\n",
      "25\n",
      "\n",
      "1\n",
      "25\n",
      "25\n"
     ]
    }
   ],
   "source": [
    "# addallodd(list)함수 for~in 방식\n",
    "\n",
    "def addallodd(list):\n",
    "    res = 0\n",
    "    for i in range(len(list)):\n",
    "        if(list[i]%2 == 1):\n",
    "            res += list[i]\n",
    "    return res\n",
    "\n",
    "print addallodd([1])\n",
    "print addallodd([1,2,3,4,5,6,7,8,9])\n",
    "print addallodd([1,3,5,7,9])\n",
    "print \n",
    "\n",
    "\n",
    "# addall(list)함수 리스트 내포 방식\n",
    "\n",
    "def addallodd2(list):\n",
    "    return sum([list[i] for i in range(len(list)) if list[i]%2 == 1])\n",
    "\n",
    "print addallodd2([1])\n",
    "print addallodd2([1,2,3,4,5,6,7,8,9])\n",
    "print addallodd([1,3,5,7,9])"
   ]
  },
  {
   "cell_type": "markdown",
   "metadata": {},
   "source": [
    "* addallodd() 함수는 홀수만 더해야 하므로, 위의 addall()에서 list[i]값이 2로 나누었을때 나머지가 1일 경우만 res += list[i]를 더하는 방식으로 한다.\n",
    "* 마찬가지로, addallodd2() 함수도 addall2() 리스트 내포방식 함수에서 뒷부분에 if조건(list[i]를 2로 나누었을 때 나머지가 1인 경우)을 주면 홀수만 더한다."
   ]
  },
  {
   "cell_type": "markdown",
   "metadata": {},
   "source": [
    "### 6번>\n",
    "다음 코드를 보고 물음에 답하시오.\n",
    "\n",
    "L1 = [1, 2, 3]\n",
    "\n",
    "L2 = [4, 5, 6]\n",
    "\n",
    "d = {'low':L1, 'high':L2}\n",
    "\n",
    "e = d\n",
    "\n",
    "f = d.copy()\n",
    "\n",
    "print d\n",
    "\n",
    "print e\n",
    "\n",
    "print f\n",
    "\n",
    "print\n",
    "\n",
    "d['low'] = [10, 20, 30]\n",
    "\n",
    "d['high'][1] = 500\n",
    "\n",
    "print d\n",
    "\n",
    "print e\n",
    "\n",
    "print f\n",
    "\n",
    "\n",
    "1) 위 코드의 수행 결과 d와 e는 항상 같은 결과를 출력한다. 그 이유는 무엇인가?\n",
    "\n",
    "2) 위 코드의 수행 결과 마지막 f의 내용은 다음과 같다. 이 때 'high' 키의 값 내용 중 500이 출력된 이유와 'low' 키의 값 내용 중 [1, 2, 3]이 출력된 이유를 설명하시오 ([hint]: shallow copy 관점에서 설명하시오.)\n",
    "\n",
    "{'high': [4, 500, 6], 'low': [1, 2, 3]}"
   ]
  },
  {
   "cell_type": "code",
   "execution_count": 167,
   "metadata": {
    "collapsed": false
   },
   "outputs": [
    {
     "name": "stdout",
     "output_type": "stream",
     "text": [
      "{'high': [4, 5, 6], 'low': [1, 2, 3]}\n",
      "{'high': [4, 5, 6], 'low': [1, 2, 3]}\n",
      "{'high': [4, 5, 6], 'low': [1, 2, 3]}\n",
      "\n",
      "{'high': [4, 500, 6], 'low': [10, 20, 30]}\n",
      "{'high': [4, 500, 6], 'low': [10, 20, 30]}\n",
      "{'high': [4, 500, 6], 'low': [1, 2, 3]}\n",
      "True\n",
      "False\n",
      "True\n"
     ]
    }
   ],
   "source": [
    "L1 = [1, 2, 3]\n",
    "L2 = [4, 5, 6]\n",
    "d = {'low':L1, 'high':L2}\n",
    "e = d\n",
    "f = d.copy()\n",
    "print d\n",
    "print e\n",
    "print f\n",
    "print\n",
    "d['low'] = [10, 20, 30]\n",
    "d['high'][1] = 500\n",
    "print d\n",
    "print e\n",
    "print f\n",
    "\n",
    "print id(d) == id(e)\n",
    "print id(d) == id(f)\n",
    "print id(d['high'][1]) == id(f['high'][1])"
   ]
  },
  {
   "cell_type": "markdown",
   "metadata": {},
   "source": [
    "* (1) d와 e가 항상 같은 결과를 출력하는 이유는, e = d이기 때문이다. e = d와같이 하는 경우, 객체를 복사하는 것이 아니라 같은 객체를 가리키는 방식이 된다. 그렇기때문에 마지막에 id(d) == id(e)가 True가 출력되는 것이고, 결국 d가 바뀐다는 것은 d가 가리키는 객체가 바뀐다는 소리인데, e 또한 그 객체를 가리키고 있기 때문에 똑같이 변화한 값이 출력되는 것이다.\n",
    "\n",
    "* (2) f는 d.copy()를 하였는데, 이 copy()함수는 shallow copy를 한다. shallow copy는 한 단계만 복사를 하는 것인데, f의 경우, d를 copy()하였기 때문에 {'low':L1, 'high':L2}는 1단계로, 복사를 하여서 다른 객체이지만, 그 안의 원소인 L1, L2 리스트는 2단계로, 같은 리스트를 가리키고 있게 되는 것이다.\n",
    "    * d가 ['low']를 바꾼것은 1단계에서 바꾼것이기 때문에 f에 반영이 되지 않는 것이다. 하지만 d가 ['high'][1]을 바꾼것은 2단계에서 바꾼것이기 때문에 f에도 영향을 미치는 것이다."
   ]
  },
  {
   "cell_type": "markdown",
   "metadata": {},
   "source": [
    "### 7번>\n",
    "\n",
    "* 사전 d = {'one':1, 'two':2, 'three':3, 'four':4, 'five':5}가 주어졌을 때 다음 요구사항에 맞는 코드를 제시하시오.\n",
    "\n",
    "[참고]: d.keys(), d.values()를 통해 리스트를 얻어낸 후 리스트가 지니고 있는 sort(cmp=None, key=None, reverse=False)함수를 활용하시오.\n",
    "    \n",
    "    1) 키의 알파벳 오름차순 순서대로 튜플 (키, 값)을 차례대로 출력하시오.\n",
    "\n",
    "    2) 키의 알파벳 내림차순 순서대로 튜플 (키, 값)을 차례대로 출력하시오.\n",
    "\n",
    "    3) 값의 오름차순 순서대로 튜플 (키, 값)을 차례대로 출력하시오.\n",
    "\n",
    "    4) 값의 내림차순 순서대로 튜플 (키, 값)을 차례대로 출력하시오."
   ]
  },
  {
   "cell_type": "code",
   "execution_count": 188,
   "metadata": {
    "collapsed": false
   },
   "outputs": [
    {
     "name": "stdout",
     "output_type": "stream",
     "text": [
      "['four', 'three', 'five', 'two', 'one']\n",
      "\n",
      "[('four', 4), ('three', 3), ('five', 5), ('two', 2), ('one', 1)]\n",
      "[('five', 5), ('four', 4), ('one', 1), ('three', 3), ('two', 2)]\n",
      "[('two', 2), ('three', 3), ('one', 1), ('four', 4), ('five', 5)]\n",
      "[('one', 1), ('two', 2), ('three', 3), ('four', 4), ('five', 5)]\n",
      "[('five', 5), ('four', 4), ('three', 3), ('two', 2), ('one', 1)]\n"
     ]
    }
   ],
   "source": [
    "def cmp_1(a1, a2):\n",
    "    return cmp(a1[1], a2[1])\n",
    "\n",
    "def cmp_2(a1, a2):\n",
    "    return cmp(a2[1], a1[1])\n",
    "\n",
    "d = {'one':1, 'two':2, 'three':3, 'four':4, 'five':5}\n",
    "\n",
    "l = d.keys()\n",
    "print l\n",
    "print\n",
    "\n",
    "items = d.items()\n",
    "print items\n",
    "\n",
    "#1) 키의 알파벳 오름차순\n",
    "items.sort()\n",
    "print items\n",
    "\n",
    "#2) 키의 알파벳 내림차순\n",
    "items.sort(reverse=True)\n",
    "print items\n",
    "\n",
    "#3) 값의 오름차순\n",
    "items.sort(cmp_1)\n",
    "print items\n",
    "\n",
    "#4) 값의 내림차순\n",
    "items.sort(cmp_2)\n",
    "print items"
   ]
  },
  {
   "cell_type": "markdown",
   "metadata": {},
   "source": [
    "* ddddddddd"
   ]
  },
  {
   "cell_type": "markdown",
   "metadata": {},
   "source": [
    "#프로젝트 오일러\n",
    "### 7번>\n",
    "소수를 크기 순으로 나열하면 2, 3, 5, 7, 11, 13, ... 과 같이 됩니다.\n",
    "\n",
    "이 때 10,001번째의 소수를 구하세요."
   ]
  },
  {
   "cell_type": "code",
   "execution_count": 14,
   "metadata": {
    "collapsed": false
   },
   "outputs": [
    {
     "name": "stdout",
     "output_type": "stream",
     "text": [
      "104743\n"
     ]
    }
   ],
   "source": [
    "cnt = 0\n",
    "i = 1\n",
    "res = 0\n",
    "\n",
    "while(cnt < 10001):\n",
    "    i += 1\n",
    "    check = 0\n",
    "    \n",
    "    for k in range(2, i):\n",
    "        if(i % k == 0):\n",
    "            check = 1\n",
    "            break\n",
    "    if (check == 0):\n",
    "        cnt += 1\n",
    "        res = i\n",
    "\n",
    "if(cnt == 10001):\n",
    "    print res\n",
    "    \n",
    "else:\n",
    "    print 'Error'\n",
    "    "
   ]
  },
  {
   "cell_type": "markdown",
   "metadata": {},
   "source": [
    "* 우선 cnt는 소수의 수입니다. cnt가 10001을 넘는 경우, 문제에서 원하는 답이 도출된 경우이므로 반복문은 그 전까지만 반복합니다.\n",
    "* check는 현재 수가 소수인지 아닌지를 확인하는 변수입니다. 작은 반복문은 해당 수가 소수인지 아닌지를 확인하는 반복문으로, 2부터 현재의 수-1까지 반복하게 됩니다. 만약 1과 자신의 값을 제외한 다른 수로 나누어떨어지는 경우가 있을 경우, 소수가 아니므로 check는 1로 설정하고, 반복문을 종료합니다. 만약 반복문을 빠져나올때까지 check가 0이라면 소수이므로 cnt를 1증가시켜주고, res에 현재 값을 저장합니다. (res는 현재까지 나온 소수중 가장 큰 소수로 전체 반복문이 종료된 다음의 i를 저장해도 되지만 위에서는 확인을 위해 반복문 안에 넣었습니다.)\n",
    "* 반복문이 모두 종료되면, cnt가 10001일 경우, res는 10,001번째의 소수를 출력하게됩니다."
   ]
  },
  {
   "cell_type": "markdown",
   "metadata": {},
   "source": [
    "### 8번>\n",
    "\n",
    "다음은 연속된 1000자리 숫자입니다 (읽기 좋게 50자리씩 잘라놓음).\n",
    "\n",
    "73167176531330624919225119674426574742355349194934\n",
    "96983520312774506326239578318016984801869478851843\n",
    "85861560789112949495459501737958331952853208805511\n",
    "12540698747158523863050715693290963295227443043557\n",
    "66896648950445244523161731856403098711121722383113\n",
    "62229893423380308135336276614282806444486645238749\n",
    "30358907296290491560440772390713810515859307960866\n",
    "70172427121883998797908792274921901699720888093776\n",
    "65727333001053367881220235421809751254540594752243\n",
    "52584907711670556013604839586446706324415722155397\n",
    "53697817977846174064955149290862569321978468622482\n",
    "83972241375657056057490261407972968652414535100474\n",
    "82166370484403199890008895243450658541227588666881\n",
    "16427171479924442928230863465674813919123162824586\n",
    "17866458359124566529476545682848912883142607690042\n",
    "24219022671055626321111109370544217506941658960408\n",
    "07198403850962455444362981230987879927244284909188\n",
    "84580156166097919133875499200524063689912560717606\n",
    "05886116467109405077541002256983155200055935729725\n",
    "71636269561882670428252483600823257530420752963450\n",
    "\n",
    "여기서 붉게 표시된 71112의 경우 7, 1, 1, 1, 2 각 숫자를 모두 곱하면 14가 됩니다.\n",
    "\n",
    "이런 식으로 맨 처음 (7 × 3 × 1 × 6 × 7 = 882) 부터 맨 끝 (6 × 3 × 4 × 5 × 0 = 0) 까지 5자리 숫자들의 곱을 구할 수 있습니다.\n",
    "이렇게 구할 수 있는 5자리 숫자의 곱 중에서 가장 큰 값은 얼마입니까?"
   ]
  },
  {
   "cell_type": "code",
   "execution_count": 53,
   "metadata": {
    "collapsed": false
   },
   "outputs": [
    {
     "name": "stdout",
     "output_type": "stream",
     "text": [
      "40824\n"
     ]
    }
   ],
   "source": [
    "num = '73167176531330624919225119674426574742355349194934 96983520312774506326239578318016984801869478851843 85861560789112949495459501737958331952853208805511 12540698747158523863050715693290963295227443043557 66896648950445244523161731856403098711121722383113 62229893423380308135336276614282806444486645238749 30358907296290491560440772390713810515859307960866 70172427121883998797908792274921901699720888093776 65727333001053367881220235421809751254540594752243 52584907711670556013604839586446706324415722155397 53697817977846174064955149290862569321978468622482 83972241375657056057490261407972968652414535100474 82166370484403199890008895243450658541227588666881 16427171479924442928230863465674813919123162824586 17866458359124566529476545682848912883142607690042 24219022671055626321111109370544217506941658960408 07198403850962455444362981230987879927244284909188 84580156166097919133875499200524063689912560717606 05886116467109405077541002256983155200055935729725 71636269561882670428252483600823257530420752963450'\n",
    "num = ''.join(num.split())\n",
    "l = list(num)\n",
    "\n",
    "res = 0\n",
    "for k in range(len(l) - 4):\n",
    "    temp = int(l[k]) * int(l[k+1]) * int(l[k+2]) * int(l[k+3]) * int(l[k+4])\n",
    "    if(temp > res):\n",
    "        res = temp\n",
    "print res"
   ]
  },
  {
   "cell_type": "markdown",
   "metadata": {},
   "source": [
    "* 우선 주어진 수가 공백이 존재하므로, 주어진 1000자리 수를 문자열로 저장한 후, split()함수를 이용하여 공백을 기준으로 나눈 리스트로 만든 다음 join을 이용하여 하나의 문자열로 만듭니다.\n",
    "* 해당 문자열을 list()함수를 활용하여 문자열 하나하나가 원소로 들어간 리스트(l)를 생성합니다.\n",
    "* 리스트 처음부터 반복문을 시작하는데, k를 이용하여 현재 위치를 지정하고, 현재 위치 ~ +4까지의 총 5개의 원소를 곱한 수를 temp에 저장합니다. 한번 반복할 때, 현재 위치를 기준으로 +4까지 곱하기때문에 반복문은 len(l)-4까지로 범위를 지정합니다.\n",
    "* temp에 저장된 값이 res보다 클경우 res = temp를 합니다. 따라서 res엔느 현재까지의 곱중 가장 큰 값이 저장되게 됩니다.\n",
    "* 반복문이 모두 종료되었을 때, res 값이 5자리 숫자의 곱 중에서 가장 큰 값입니다."
   ]
  },
  {
   "cell_type": "markdown",
   "metadata": {},
   "source": [
    "### 9번>\n",
    "세 자연수 a, b, c 가 피타고라스 정리 a2 + b2 = c2 를 만족하면 피타고라스 수라고 부릅니다 (여기서 a < b < c ).\n",
    "예를 들면 32 + 42 = 9 + 16 = 25 = 52이므로 3, 4, 5는 피타고라스 수입니다.\n",
    "\n",
    "a + b + c = 1000 인 피타고라스 수 a, b, c는 한 가지 뿐입니다. 이 때, a × b × c 는 얼마입니까?"
   ]
  },
  {
   "cell_type": "code",
   "execution_count": 55,
   "metadata": {
    "collapsed": false
   },
   "outputs": [
    {
     "name": "stdout",
     "output_type": "stream",
     "text": [
      "31875000\n"
     ]
    }
   ],
   "source": [
    "def pita(num):\n",
    "    for a in range(num):\n",
    "        for b in range(num):\n",
    "            for c in range(num):\n",
    "                if(a<b<c and (a+b+c)==num and (a*a + b*b == c*c)):\n",
    "                    return a*b*c\n",
    "    return -1\n",
    "\n",
    "print pita(1000)"
   ]
  },
  {
   "cell_type": "markdown",
   "metadata": {},
   "source": [
    "* a+b+c = 1000일경우, 하나의 숫자가 가장 커지는 경우는 1000+0+0이므로 a,b,c는 1000을 넘어가지 않을 것이기 때문에, 반복문을 1000을 범위로 지정하였습니다. \n",
    "* a,b,c가 각각 0~1000까지 반복하면서 주어진 조건에 만족하는 경우를 찾습니다.\n",
    "* 조건은 우선, a<b<c이고, a+b+c = 1000이며, 피타고라스 수이므로 a^2 + b^2 = c^2입니다. 이 세가지 조건을 모두 만족해야 하므로 and연산자를 사용합니다.\n",
    "* 위 세가지 조건을 모두 만족하는 a,b,c의 곱을 문제에서 원하므로 세가지 조건을 모두 만족할 때, a*b*c를 반환하여줍니다\n",
    "* 결과적으로 함수에 1000을 넘겨주었을 때, 반환되는 값은 문제에서 원하는 답입니다."
   ]
  },
  {
   "cell_type": "markdown",
   "metadata": {},
   "source": [
    "#[Incremental Project] \n",
    "\n",
    "이전 Assignment 2의 마지막 문제는 웹 URL로 지정된 웹페이지를 문자열로 가져와 모든 HTML 태그 및 CSS와 Javascript를 제외한 순수 텍스트를 얻어내고 그 안에 존재하는 단어를 추출하고 단어들의 총 개수를 출력하는 프로그램을 작성하는 것이었다. 이번에는 그 마지막 숙제를 그대로 확장하여 웹 URL로 지정된 웹페이지 내 순수 텍스트 안에 존재하는 각 단어들에 대해 다음 요구사항 대로 출력하는 프로그램을 작성하시오.\n",
    "\n",
    "* 요구사항 1. 순수 텍스트 안에 존재하는 단어들에 대해 string 모듈을 활용하여 모든 punctuation (구두문자)를 완벽히 제거하시오.\n",
    "예: ['world!', ':', '+hello+', '~python$$$', '=', 'world'] ---> ['world', 'hello', 'python', 'world']\n",
    "모든 punctuation을 확인하는 방법은 아래와 같다.\n",
    "\n",
    "import string\n",
    "print string.punctuation\n",
    "\n",
    "* 요구사항 2. 만약 punctuation (구두문자)를 제거한 이후 공백으로 판명되는 단어들은 해당 단어 리스트에서 제거하시오.\n",
    "\n",
    "    예: ['컴퓨터공학부!', '---?', '%지향~', '...'] ---> ['컴퓨터공학부', '지향']\n",
    "    \n",
    "\n",
    "* 요구사항 3. 각 단어들의 출현빈도를 사전형태로 저장하여 출력하시오.\n",
    "\n",
    "    예: ['world', 'hello', 'python', 'world', '컴퓨터공학부', '지향'] ---> {'world': 2, 'hello': 1, 'python': 1, '컴퓨터공학부': 1, '지향': 1}\n",
    "    \n",
    "\n",
    "* 요구사항 4. 다음 3개의 사이트에 대한 결과를 출력하시오.\n",
    "\n",
    "    http://www.naver.com\n",
    "    \n",
    "    http://www.daum.net\n",
    "    \n",
    "    http://www.nytimes.com"
   ]
  },
  {
   "cell_type": "code",
   "execution_count": 171,
   "metadata": {
    "collapsed": false
   },
   "outputs": [
    {
     "name": "stdout",
     "output_type": "stream",
     "text": [
      "컴퓨터공학부 // Schoolfun - Study and Fun 로그인 로그인 아이디 비밀번호 로그인 유지 브라우저를 닫더라도 로그인이 계속 유지될 수 있습니다. 로그인 유지 기능을 사용할 경우 다음 접속부터는 로그인할 필요가 없습니다. 단, 게임방, 학교 등 공공장소에서 이용 시 개인정보가 유출될 수 있으니 꼭 로그아웃을 해주세요. 회원가입 ID/PW 찾기 IT 교육의 글로벌 메카!한국기술교육대학교 컴퓨터공학부 Close 소개 구성원소개 학사안내 입학 학부 대학원 학부광장 자료실 대학원 공학교육인증 Registration 컴퓨터공학부 School of Computer Science and Engineering IT 융합소프트웨어 인력양성사업 CK (Creative Korea)-I 교육역량강화사업 온라인 컨텐츠 Online Contents for Education Capability Empowerment IT 교육의 글로벌 메카 한국기술교육대학교 컴퓨터공학부 홈페이지에 오신 것을환영합니다! IT 융합소프트웨어 인력양성사업 글로벌 수준의 IT전문인력 양성 IT융합분야에 대한 국제적인 경쟁력 고취 바로가기 교육역량강화사업 컨텐츠 교육역량강화사업 온라인 컨텐츠를 소개합니다. 바로가기 공지사항 [특성화] 지식재산권 출원 신청서 접수 공고 2015-10-15 15:53 15:53 [특성화] IT사업단 마일리지 장학금 안내 2015-10-14 13:31 13:31 [특성화] 사물인터넷 국제전시회(IoT Korea Exhibition... 2015-10-13 16:38 16:38 LG Wearable Big Bang Hackathon 참여하세요 2015-10-13 12:03 12:03 [특성화] 제4차 실무프로그래밍 강좌 신청 안내 2015-10-08 15:37 15:37 자유게시판 졸업작품 전시회 투표 결과 2015-10-13 19:32 19:32 【장학지원】보건/복지/심리/재활분야 자격증 무료수강... 2015-10-12 11:42 11:42 (주) 엔에스이 에서 개발자를 모집합니다. 2015-09-30 13:30 13:30 졸업작품 전시회 컴퓨터공학부 인기상 투표 이벤트 2015-09-25 01:21 01:21 삼성 대학생 프로그래밍 경진대회 2015-09-15 11:17 11:17 취업게시판 [특성화] (주)KMW 인턴사원 모집공고 2015-09-23 14:31 14:31 ㈜인젠트 기술연구소 전문연구요원 모집 2015-09-14 11:54 11:54 펜타인 2015년도 신입사원 채용공고 2015-09-03 16:16 16:16 LIG인베니아 (코스닥상장 LIG그룹사 디스플레이장비전... 2015-09-03 14:01 14:01 ㈜ 한울 소프트웨어 개발자 2015-06-18 10:28 10:28 VENTURESQUARE 글로벌 음악유통기술 스타트업 ‘비손콘텐츠’, 실리콘밸... 2015-10-15 17:09 17:09 [Age of Startup] “요즘엔 무슨 옷을 사야 되지?” 쇼핑... 2015-10-15 15:28 15:28 중소기업진흥공단, ‘2015년 빅데이터 교육’ 참가자 모집 2015-10-15 15:09 15:09 ‘타이탄플랫폼’, 다빈치연구소와 MOU 체결 2015-10-15 13:20 13:20 제다이, “MCN 사업에 본격적으로 나서겠다” 2015-10-15 13:06 13:06 전자신문 SK텔레콤?KT, 와이파이 인더스트리 어워즈 2015 수상 2015-10-15 18:25 18:25 IPTV 가입·이전비 인하···이용자 `위약금 부담` ↓ 2015-10-15 18:00 18:00 IPTV-케이블, UHD 손잡았다···SK브로드밴드, ‘유맥스’ ... 2015-10-15 18:00 18:00 아이폰6S 예약판매 시작···삼성전자, 화려한 갤노트5로... 2015-10-15 18:00 18:00 [알림]‘글로벌 시큐리티 서밋 2015’ 선진국 사이버 범... 2015-10-15 17:35 17:35 RE/CODE YouTube Starts Selling Subscriptions — For Its... 2015-10-16 01:00 01:00 NBC Thinks It Can Sell TV on the Web Without C... 2015-10-16 00:52 00:52 Unpacking Calvin Klein’s Wildly Successful #My... 2015-10-16 00:42 00:42 Bret Taylor’s Quip Lands $30 Million to Take O... 2015-10-16 00:00 00:00 Gusto (Née ZenPayroll) Snags Google Ads VP as ... 2015-10-15 22:00 22:00 Quick Navigation 한국기술교육대학교 홈페이지 한국기술교육대학교 WEBMAIL 한국기술교육대학교 온라인 평생교육원 교육역량강화사업 온라인 컨텐츠 IT 융합소프트웨어 인력양성사업 Campus Location Contact CSE 충청남도 천안시 동남구 병천면 충절로 1600한국기술교육대학교 컴퓨터공학부 학과사무실 TEL (041) 560 1460~1461 FAX (041) 560 1462 Facebook Twitter Google Plus Linkedin (31253) 충청남도 천안시 동남구 병천면 충절로 1600 (가전리, 한국기술교육대학교) 컴퓨터공학부 Copyright © 2015. All rights reserved"
     ]
    },
    {
     "data": {
      "text/plain": [
       "437"
      ]
     },
     "execution_count": 171,
     "metadata": {},
     "output_type": "execute_result"
    },
    {
     "name": "stdout",
     "output_type": "stream",
     "text": [
      "\n"
     ]
    }
   ],
   "source": [
    "import urllib2\n",
    "\n",
    "source = urllib2.urlopen(\"http://cse.kut.ac.kr/\").read()\n",
    "for i in range(0, source.count('<!--')):\n",
    "    if source.find(\"<!--\") != -1:\n",
    "        source = source.replace(source[source.find(\"<!--\"):source.find(\"-->\")+3:],\"\")\n",
    "        \n",
    "for i in range(0,source.count(\"<\")):\n",
    "    if source.find(\"<\") != -1:\n",
    "        source = source.replace(source[source.find(\"<\"):source.find(\">\")+1:],\"\")\n",
    "    \n",
    "words = source.split()\n",
    "for word in words:\n",
    "    print word,\n",
    "    \n",
    "len(words)"
   ]
  },
  {
   "cell_type": "code",
   "execution_count": 175,
   "metadata": {
    "collapsed": false
   },
   "outputs": [
    {
     "name": "stdout",
     "output_type": "stream",
     "text": [
      "437\n",
      "컴퓨터공학부 // Schoolfun - Study and Fun 로그인 로그인 아이디 비밀번호 로그인 유지 브라우저를 닫더라도 로그인이 계속 유지될 수 있습니다. 로그인 유지 기능을 사용할 경우 다음 접속부터는 로그인할 필요가 없습니다. 단, 게임방, 학교 등 공공장소에서 이용 시 개인정보가 유출될 수 있으니 꼭 로그아웃을 해주세요. 회원가입 ID/PW 찾기 IT 교육의 글로벌 메카!한국기술교육대학교 컴퓨터공학부 Close 소개 구성원소개 학사안내 입학 학부 대학원 학부광장 자료실 대학원 공학교육인증 Registration 컴퓨터공학부 School of Computer Science and Engineering IT 융합소프트웨어 인력양성사업 CK (Creative Korea)-I 교육역량강화사업 온라인 컨텐츠 Online Contents for Education Capability Empowerment IT 교육의 글로벌 메카 한국기술교육대학교 컴퓨터공학부 홈페이지에 오신 것을환영합니다! IT 융합소프트웨어 인력양성사업 글로벌 수준의 IT전문인력 양성 IT융합분야에 대한 국제적인 경쟁력 고취 바로가기 교육역량강화사업 컨텐츠 교육역량강화사업 온라인 컨텐츠를 소개합니다. 바로가기 공지사항 [특성화] 지식재산권 출원 신청서 접수 공고 2015-10-15 15:53 15:53 [특성화] IT사업단 마일리지 장학금 안내 2015-10-14 13:31 13:31 [특성화] 사물인터넷 국제전시회(IoT Korea Exhibition... 2015-10-13 16:38 16:38 LG Wearable Big Bang Hackathon 참여하세요 2015-10-13 12:03 12:03 [특성화] 제4차 실무프로그래밍 강좌 신청 안내 2015-10-08 15:37 15:37 자유게시판 졸업작품 전시회 투표 결과 2015-10-13 19:32 19:32 【장학지원】보건/복지/심리/재활분야 자격증 무료수강... 2015-10-12 11:42 11:42 (주) 엔에스이 에서 개발자를 모집합니다. 2015-09-30 13:30 13:30 졸업작품 전시회 컴퓨터공학부 인기상 투표 이벤트 2015-09-25 01:21 01:21 삼성 대학생 프로그래밍 경진대회 2015-09-15 11:17 11:17 취업게시판 [특성화] (주)KMW 인턴사원 모집공고 2015-09-23 14:31 14:31 ㈜인젠트 기술연구소 전문연구요원 모집 2015-09-14 11:54 11:54 펜타인 2015년도 신입사원 채용공고 2015-09-03 16:16 16:16 LIG인베니아 (코스닥상장 LIG그룹사 디스플레이장비전... 2015-09-03 14:01 14:01 ㈜ 한울 소프트웨어 개발자 2015-06-18 10:28 10:28 VENTURESQUARE 글로벌 음악유통기술 스타트업 ‘비손콘텐츠’, 실리콘밸... 2015-10-15 17:09 17:09 [Age of Startup] “요즘엔 무슨 옷을 사야 되지?” 쇼핑... 2015-10-15 15:28 15:28 중소기업진흥공단, ‘2015년 빅데이터 교육’ 참가자 모집 2015-10-15 15:09 15:09 ‘타이탄플랫폼’, 다빈치연구소와 MOU 체결 2015-10-15 13:20 13:20 제다이, “MCN 사업에 본격적으로 나서겠다” 2015-10-15 13:06 13:06 전자신문 SK텔레콤?KT, 와이파이 인더스트리 어워즈 2015 수상 2015-10-15 18:25 18:25 IPTV 가입·이전비 인하···이용자 `위약금 부담` ↓ 2015-10-15 18:00 18:00 IPTV-케이블, UHD 손잡았다···SK브로드밴드, ‘유맥스’ ... 2015-10-15 18:00 18:00 아이폰6S 예약판매 시작···삼성전자, 화려한 갤노트5로... 2015-10-15 18:00 18:00 [알림]‘글로벌 시큐리티 서밋 2015’ 선진국 사이버 범... 2015-10-15 17:35 17:35 RE/CODE YouTube Starts Selling Subscriptions — For Its... 2015-10-16 01:00 01:00 NBC Thinks It Can Sell TV on the Web Without C... 2015-10-16 00:52 00:52 Unpacking Calvin Klein’s Wildly Successful #My... 2015-10-16 00:42 00:42 Bret Taylor’s Quip Lands $30 Million to Take O... 2015-10-16 00:00 00:00 Gusto (Née ZenPayroll) Snags Google Ads VP as ... 2015-10-15 22:00 22:00 Quick Navigation 한국기술교육대학교 홈페이지 한국기술교육대학교 WEBMAIL 한국기술교육대학교 온라인 평생교육원 교육역량강화사업 온라인 컨텐츠 IT 융합소프트웨어 인력양성사업 Campus Location Contact CSE 충청남도 천안시 동남구 병천면 충절로 1600한국기술교육대학교 컴퓨터공학부 학과사무실 TEL (041) 560 1460~1461 FAX (041) 560 1462 Facebook Twitter Google Plus Linkedin (31253) 충청남도 천안시 동남구 병천면 충절로 1600 (가전리, 한국기술교육대학교) 컴퓨터공학부 Copyright © 2015. All rights reserved\n",
      "\n",
      "컴퓨터공학부  Schoolfun  Study and Fun 로그인 로그인 아이디 비밀번호 로그인 유지 브라우저를 닫더라도 로그인이 계속 유지될 수 있습니다 로그인 유지 기능을 사용할 경우 다음 접속부터는 로그인할 필요가 없습니다 단 게임방 학교 등 공공장소에서 이용 시 개인정보가 유출될 수 있으니 꼭 로그아웃을 해주세요 회원가입 IDPW 찾기 IT 교육의 글로벌 메카한국기술교육대학교 컴퓨터공학부 Close 소개 구성원소개 학사안내 입학 학부 대학원 학부광장 자료실 대학원 공학교육인증 Registration 컴퓨터공학부 School of Computer Science and Engineering IT 융합소프트웨어 인력양성사업 CK Creative KoreaI 교육역량강화사업 온라인 컨텐츠 Online Contents for Education Capability Empowerment IT 교육의 글로벌 메카 한국기술교육대학교 컴퓨터공학부 홈페이지에 오신 것을환영합니다 IT 융합소프트웨어 인력양성사업 글로벌 수준의 IT전문인력 양성 IT융합분야에 대한 국제적인 경쟁력 고취 바로가기 교육역량강화사업 컨텐츠 교육역량강화사업 온라인 컨텐츠를 소개합니다 바로가기 공지사항 특성화 지식재산권 출원 신청서 접수 공고 20151015 1553 1553 특성화 IT사업단 마일리지 장학금 안내 20151014 1331 1331 특성화 사물인터넷 국제전시회IoT Korea Exhibition 20151013 1638 1638 LG Wearable Big Bang Hackathon 참여하세요 20151013 1203 1203 특성화 제4차 실무프로그래밍 강좌 신청 안내 20151008 1537 1537 자유게시판 졸업작품 전시회 투표 결과 20151013 1932 1932 【장학지원】보건복지심리재활분야 자격증 무료수강 20151012 1142 1142 주 엔에스이 에서 개발자를 모집합니다 20150930 1330 1330 졸업작품 전시회 컴퓨터공학부 인기상 투표 이벤트 20150925 0121 0121 삼성 대학생 프로그래밍 경진대회 20150915 1117 1117 취업게시판 특성화 주KMW 인턴사원 모집공고 20150923 1431 1431 ㈜인젠트 기술연구소 전문연구요원 모집 20150914 1154 1154 펜타인 2015년도 신입사원 채용공고 20150903 1616 1616 LIG인베니아 코스닥상장 LIG그룹사 디스플레이장비전 20150903 1401 1401 ㈜ 한울 소프트웨어 개발자 20150618 1028 1028 VENTURESQUARE 글로벌 음악유통기술 스타트업 ‘비손콘텐츠’ 실리콘밸 20151015 1709 1709 Age of Startup “요즘엔 무슨 옷을 사야 되지” 쇼핑 20151015 1528 1528 중소기업진흥공단 ‘2015년 빅데이터 교육’ 참가자 모집 20151015 1509 1509 ‘타이탄플랫폼’ 다빈치연구소와 MOU 체결 20151015 1320 1320 제다이 “MCN 사업에 본격적으로 나서겠다” 20151015 1306 1306 전자신문 SK텔레콤KT 와이파이 인더스트리 어워즈 2015 수상 20151015 1825 1825 IPTV 가입·이전비 인하···이용자 위약금 부담 ↓ 20151015 1800 1800 IPTV케이블 UHD 손잡았다···SK브로드밴드 ‘유맥스’  20151015 1800 1800 아이폰6S 예약판매 시작···삼성전자 화려한 갤노트5로 20151015 1800 1800 알림‘글로벌 시큐리티 서밋 2015’ 선진국 사이버 범 20151015 1735 1735 RECODE YouTube Starts Selling Subscriptions — For Its 20151016 0100 0100 NBC Thinks It Can Sell TV on the Web Without C 20151016 0052 0052 Unpacking Calvin Klein’s Wildly Successful My 20151016 0042 0042 Bret Taylor’s Quip Lands 30 Million to Take O 20151016 0000 0000 Gusto Née ZenPayroll Snags Google Ads VP as  20151015 2200 2200 Quick Navigation 한국기술교육대학교 홈페이지 한국기술교육대학교 WEBMAIL 한국기술교육대학교 온라인 평생교육원 교육역량강화사업 온라인 컨텐츠 IT 융합소프트웨어 인력양성사업 Campus Location Contact CSE 충청남도 천안시 동남구 병천면 충절로 1600한국기술교육대학교 컴퓨터공학부 학과사무실 TEL 041 560 14601461 FAX 041 560 1462 Facebook Twitter Google Plus Linkedin 31253 충청남도 천안시 동남구 병천면 충절로 1600 가전리 한국기술교육대학교 컴퓨터공학부 Copyright © 2015 All rights reserved\n",
      "\n",
      "{'0000': 2,\n",
      " '0042': 2,\n",
      " '0052': 2,\n",
      " '0100': 2,\n",
      " '0121': 2,\n",
      " '041': 2,\n",
      " '1028': 2,\n",
      " '1117': 2,\n",
      " '1142': 2,\n",
      " '1154': 2,\n",
      " '1203': 2,\n",
      " '1306': 2,\n",
      " '1320': 2,\n",
      " '1330': 2,\n",
      " '1331': 2,\n",
      " '1401': 2,\n",
      " '1431': 2,\n",
      " '14601461': 1,\n",
      " '1462': 1,\n",
      " '1509': 2,\n",
      " '1528': 2,\n",
      " '1537': 2,\n",
      " '1553': 2,\n",
      " '1600': 1,\n",
      " '1600한국기술교육대학교': 1,\n",
      " '1616': 2,\n",
      " '1638': 2,\n",
      " '1709': 2,\n",
      " '1735': 2,\n",
      " '1800': 6,\n",
      " '1825': 2,\n",
      " '1932': 2,\n",
      " '2015': 2,\n",
      " '20150618': 1,\n",
      " '20150903': 2,\n",
      " '20150914': 1,\n",
      " '20150915': 1,\n",
      " '20150923': 1,\n",
      " '20150925': 1,\n",
      " '20150930': 1,\n",
      " '20151008': 1,\n",
      " '20151012': 1,\n",
      " '20151013': 3,\n",
      " '20151014': 1,\n",
      " '20151015': 12,\n",
      " '20151016': 4,\n",
      " '2015’': 1,\n",
      " '2015년도': 1,\n",
      " '2200': 2,\n",
      " '30': 1,\n",
      " '31253': 1,\n",
      " '560': 2,\n",
      " 'Ads': 1,\n",
      " 'Age': 1,\n",
      " 'All': 1,\n",
      " 'Bang': 1,\n",
      " 'Big': 1,\n",
      " 'Bret': 1,\n",
      " 'C': 1,\n",
      " 'CK': 1,\n",
      " 'CSE': 1,\n",
      " 'Calvin': 1,\n",
      " 'Campus': 1,\n",
      " 'Can': 1,\n",
      " 'Capability': 1,\n",
      " 'Close': 1,\n",
      " 'Computer': 1,\n",
      " 'Contact': 1,\n",
      " 'Contents': 1,\n",
      " 'Copyright': 1,\n",
      " 'Creative': 1,\n",
      " 'Education': 1,\n",
      " 'Empowerment': 1,\n",
      " 'Engineering': 1,\n",
      " 'Exhibition': 1,\n",
      " 'FAX': 1,\n",
      " 'Facebook': 1,\n",
      " 'For': 1,\n",
      " 'Fun': 1,\n",
      " 'Google': 2,\n",
      " 'Gusto': 1,\n",
      " 'Hackathon': 1,\n",
      " 'IDPW': 1,\n",
      " 'IPTV': 1,\n",
      " 'IPTV케이블': 1,\n",
      " 'IT': 5,\n",
      " 'IT사업단': 1,\n",
      " 'IT융합분야에': 1,\n",
      " 'IT전문인력': 1,\n",
      " 'It': 1,\n",
      " 'Its': 1,\n",
      " 'Klein’s': 1,\n",
      " 'Korea': 1,\n",
      " 'KoreaI': 1,\n",
      " 'LG': 1,\n",
      " 'LIG그룹사': 1,\n",
      " 'LIG인베니아': 1,\n",
      " 'Lands': 1,\n",
      " 'Linkedin': 1,\n",
      " 'Location': 1,\n",
      " 'MOU': 1,\n",
      " 'Million': 1,\n",
      " 'My': 1,\n",
      " 'NBC': 1,\n",
      " 'Navigation': 1,\n",
      " 'Née': 1,\n",
      " 'O': 1,\n",
      " 'Online': 1,\n",
      " 'Plus': 1,\n",
      " 'Quick': 1,\n",
      " 'Quip': 1,\n",
      " 'RECODE': 1,\n",
      " 'Registration': 1,\n",
      " 'SK텔레콤KT': 1,\n",
      " 'School': 1,\n",
      " 'Schoolfun': 1,\n",
      " 'Science': 1,\n",
      " 'Sell': 1,\n",
      " 'Selling': 1,\n",
      " 'Snags': 1,\n",
      " 'Starts': 1,\n",
      " 'Startup': 1,\n",
      " 'Study': 1,\n",
      " 'Subscriptions': 1,\n",
      " 'Successful': 1,\n",
      " 'TEL': 1,\n",
      " 'TV': 1,\n",
      " 'Take': 1,\n",
      " 'Taylor’s': 1,\n",
      " 'Thinks': 1,\n",
      " 'Twitter': 1,\n",
      " 'UHD': 1,\n",
      " 'Unpacking': 1,\n",
      " 'VENTURESQUARE': 1,\n",
      " 'VP': 1,\n",
      " 'WEBMAIL': 1,\n",
      " 'Wearable': 1,\n",
      " 'Web': 1,\n",
      " 'Wildly': 1,\n",
      " 'Without': 1,\n",
      " 'YouTube': 1,\n",
      " 'ZenPayroll': 1,\n",
      " 'and': 2,\n",
      " 'as': 1,\n",
      " 'for': 1,\n",
      " 'of': 2,\n",
      " 'on': 1,\n",
      " 'reserved': 1,\n",
      " 'rights': 1,\n",
      " 'the': 1,\n",
      " 'to': 1,\n",
      " '©': 1,\n",
      " '—': 1,\n",
      " '‘2015년': 1,\n",
      " '‘비손콘텐츠’': 1,\n",
      " '‘유맥스’': 1,\n",
      " '‘타이탄플랫폼’': 1,\n",
      " '“MCN': 1,\n",
      " '“요즘엔': 1,\n",
      " '↓': 1,\n",
      " '【장학지원】보건복지심리재활분야': 1,\n",
      " '㈜': 1,\n",
      " '㈜인젠트': 1,\n",
      " '가입·이전비': 1,\n",
      " '가전리': 1,\n",
      " '강좌': 1,\n",
      " '개발자': 1,\n",
      " '개발자를': 1,\n",
      " '개인정보가': 1,\n",
      " '갤노트5로': 1,\n",
      " '것을환영합니다': 1,\n",
      " '게임방': 1,\n",
      " '결과': 1,\n",
      " '경우': 1,\n",
      " '경쟁력': 1,\n",
      " '경진대회': 1,\n",
      " '계속': 1,\n",
      " '고취': 1,\n",
      " '공고': 1,\n",
      " '공공장소에서': 1,\n",
      " '공지사항': 1,\n",
      " '공학교육인증': 1,\n",
      " '교육’': 1,\n",
      " '교육역량강화사업': 4,\n",
      " '교육의': 2,\n",
      " '구성원소개': 1,\n",
      " '국제적인': 1,\n",
      " '국제전시회IoT': 1,\n",
      " '글로벌': 4,\n",
      " '기능을': 1,\n",
      " '기술연구소': 1,\n",
      " '꼭': 1,\n",
      " '나서겠다”': 1,\n",
      " '다빈치연구소와': 1,\n",
      " '다음': 1,\n",
      " '단': 1,\n",
      " '닫더라도': 1,\n",
      " '대학생': 1,\n",
      " '대학원': 2,\n",
      " '대한': 1,\n",
      " '동남구': 2,\n",
      " '되지”': 1,\n",
      " '등': 1,\n",
      " '디스플레이장비전': 1,\n",
      " '로그아웃을': 1,\n",
      " '로그인': 4,\n",
      " '로그인이': 1,\n",
      " '로그인할': 1,\n",
      " '마일리지': 1,\n",
      " '메카': 1,\n",
      " '메카한국기술교육대학교': 1,\n",
      " '모집': 2,\n",
      " '모집공고': 1,\n",
      " '모집합니다': 1,\n",
      " '무료수강': 1,\n",
      " '무슨': 1,\n",
      " '바로가기': 2,\n",
      " '범': 1,\n",
      " '병천면': 2,\n",
      " '본격적으로': 1,\n",
      " '부담': 1,\n",
      " '브라우저를': 1,\n",
      " '비밀번호': 1,\n",
      " '빅데이터': 1,\n",
      " '사물인터넷': 1,\n",
      " '사야': 1,\n",
      " '사업에': 1,\n",
      " '사용할': 1,\n",
      " '사이버': 1,\n",
      " '삼성': 1,\n",
      " '서밋': 1,\n",
      " '선진국': 1,\n",
      " '소개': 1,\n",
      " '소개합니다': 1,\n",
      " '소프트웨어': 1,\n",
      " '손잡았다···SK브로드밴드': 1,\n",
      " '쇼핑': 1,\n",
      " '수': 2,\n",
      " '수상': 1,\n",
      " '수준의': 1,\n",
      " '스타트업': 1,\n",
      " '시': 1,\n",
      " '시작···삼성전자': 1,\n",
      " '시큐리티': 1,\n",
      " '신입사원': 1,\n",
      " '신청': 1,\n",
      " '신청서': 1,\n",
      " '실리콘밸': 1,\n",
      " '실무프로그래밍': 1,\n",
      " '아이디': 1,\n",
      " '아이폰6S': 1,\n",
      " '안내': 2,\n",
      " '알림‘글로벌': 1,\n",
      " '양성': 1,\n",
      " '어워즈': 1,\n",
      " '없습니다': 1,\n",
      " '에서': 1,\n",
      " '엔에스이': 1,\n",
      " '예약판매': 1,\n",
      " '오신': 1,\n",
      " '온라인': 4,\n",
      " '옷을': 1,\n",
      " '와이파이': 1,\n",
      " '위약금': 1,\n",
      " '유지': 2,\n",
      " '유지될': 1,\n",
      " '유출될': 1,\n",
      " '융합소프트웨어': 3,\n",
      " '음악유통기술': 1,\n",
      " '이벤트': 1,\n",
      " '이용': 1,\n",
      " '인기상': 1,\n",
      " '인더스트리': 1,\n",
      " '인력양성사업': 3,\n",
      " '인턴사원': 1,\n",
      " '인하···이용자': 1,\n",
      " '입학': 1,\n",
      " '있습니다': 1,\n",
      " '있으니': 1,\n",
      " '자격증': 1,\n",
      " '자료실': 1,\n",
      " '자유게시판': 1,\n",
      " '장학금': 1,\n",
      " '전문연구요원': 1,\n",
      " '전시회': 2,\n",
      " '전자신문': 1,\n",
      " '접속부터는': 1,\n",
      " '접수': 1,\n",
      " '제4차': 1,\n",
      " '제다이': 1,\n",
      " '졸업작품': 2,\n",
      " '주': 1,\n",
      " '주KMW': 1,\n",
      " '중소기업진흥공단': 1,\n",
      " '지식재산권': 1,\n",
      " '참가자': 1,\n",
      " '참여하세요': 1,\n",
      " '찾기': 1,\n",
      " '채용공고': 1,\n",
      " '천안시': 2,\n",
      " '체결': 1,\n",
      " '출원': 1,\n",
      " '충절로': 2,\n",
      " '충청남도': 2,\n",
      " '취업게시판': 1,\n",
      " '컨텐츠': 3,\n",
      " '컨텐츠를': 1,\n",
      " '컴퓨터공학부': 7,\n",
      " '코스닥상장': 1,\n",
      " '투표': 2,\n",
      " '특성화': 5,\n",
      " '펜타인': 1,\n",
      " '평생교육원': 1,\n",
      " '프로그래밍': 1,\n",
      " '필요가': 1,\n",
      " '학과사무실': 1,\n",
      " '학교': 1,\n",
      " '학부': 1,\n",
      " '학부광장': 1,\n",
      " '학사안내': 1,\n",
      " '한국기술교육대학교': 5,\n",
      " '한울': 1,\n",
      " '해주세요': 1,\n",
      " '홈페이지': 1,\n",
      " '홈페이지에': 1,\n",
      " '화려한': 1,\n",
      " '회원가입': 1}\n"
     ]
    }
   ],
   "source": [
    "import urllib2\n",
    "import string\n",
    "\n",
    "#----------------------------리스트를 한글깨짐없이 출력하기 위한 부분 ----------------------------(시작)\n",
    "import pprint\n",
    "class MyPrettyPrinter(pprint.PrettyPrinter):\n",
    "\tdef format(self, _object, context, maxlevels, level):\n",
    "\t\tif isinstance(_object, unicode):\n",
    "\t\t\treturn \"'%s'\" % _object.encode('utf8'), True, False\n",
    "\t\telif isinstance(_object, str):\n",
    "\t\t\t_object = unicode(_object,'utf8')\n",
    "\t\t\treturn \"'%s'\" % _object.encode('utf8'), True, False\n",
    "\t\treturn pprint.PrettyPrinter.format(self, _object, context, maxlevels, level)\n",
    "#----------------------------리스트를 한글깨짐없이 출력하기 위한 부분 ----------------------------(끝)\n",
    "\n",
    "\n",
    "source = urllib2.urlopen(\"http://cse.kut.ac.kr/\").read()\n",
    "\n",
    "for i in range(0, source.count('<!--')):\n",
    "    if source.find(\"<!--\") != -1:\n",
    "        source = source.replace(source[source.find(\"<!--\"):source.find(\"-->\")+3:],\"\")\n",
    "\n",
    "for i in range(0,source.count(\"<\")):\n",
    "    if source.find(\"<\") != -1:\n",
    "        source = source.replace(source[source.find(\"<\"):source.find(\">\")+1:],\"\")\n",
    "\n",
    "words = source.split()\n",
    "print len(words)\n",
    "\n",
    "s = ' '.join(words)\n",
    "print s  # 태그가 제거된 공백으로 단어 구분되어있는 문자열\n",
    "print\n",
    "\n",
    "s = s.translate(None, string.punctuation)\n",
    "print s  # 태그+구두문자가 제거된 공백으로 단어 구분되어있는 문자열\n",
    "print\n",
    "\n",
    "words = s.split()\n",
    "\n",
    "counts = dict()\n",
    "for word in words:\n",
    "    if word not in counts:\n",
    "        counts[word] = 1\n",
    "    else:\n",
    "        counts[word] += 1\n",
    "\n",
    "print MyPrettyPrinter().pformat(counts)\n"
   ]
  },
  {
   "cell_type": "code",
   "execution_count": 176,
   "metadata": {
    "collapsed": false
   },
   "outputs": [
    {
     "name": "stdout",
     "output_type": "stream",
     "text": [
      "string, \"Wit\"h. Punctuation?\"\n",
      "string With Punctuation\n"
     ]
    }
   ],
   "source": [
    "import string\n",
    "s = 'string, \"Wit\"h. Punctuation?\"' # Sample string\n",
    "out = s.translate(None,string.punctuation)\n",
    "\n",
    "print s\n",
    "print out"
   ]
  },
  {
   "cell_type": "code",
   "execution_count": 177,
   "metadata": {
    "collapsed": false
   },
   "outputs": [
    {
     "name": "stdout",
     "output_type": "stream",
     "text": [
      "['string,', '\"Wit\"h.', 'Punctuation?\"', 'string,', '\"Wit\"h.', 'Punctuation?\"']\n",
      "{'Punctuation?\"': 2, 'string,': 2, '\"Wit\"h.': 2}\n"
     ]
    }
   ],
   "source": [
    "counts = dict()\n",
    "out = 'string, \"Wit\"h. Punctuation?\" ' * 2\n",
    "words = out.split()\n",
    "print words\n",
    "\n",
    "for word in words:\n",
    "    if word not in counts:\n",
    "        counts[word] = 1\n",
    "    else:\n",
    "        counts[word] += 1\n",
    "\n",
    "print counts"
   ]
  },
  {
   "cell_type": "code",
   "execution_count": null,
   "metadata": {
    "collapsed": true
   },
   "outputs": [],
   "source": []
  }
 ],
 "metadata": {
  "kernelspec": {
   "display_name": "Python 2",
   "language": "python",
   "name": "python2"
  },
  "language_info": {
   "codemirror_mode": {
    "name": "ipython",
    "version": 2
   },
   "file_extension": ".py",
   "mimetype": "text/x-python",
   "name": "python",
   "nbconvert_exporter": "python",
   "pygments_lexer": "ipython2",
   "version": "2.7.9"
  }
 },
 "nbformat": 4,
 "nbformat_minor": 0
}
