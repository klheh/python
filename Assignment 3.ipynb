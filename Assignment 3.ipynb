{
 "cells": [
  {
   "cell_type": "markdown",
   "metadata": {},
   "source": [
    "# 스크립트프로그래밍 과제3\n",
    "## 과제3"
   ]
  },
  {
   "cell_type": "markdown",
   "metadata": {},
   "source": [
    "### 1번>\n",
    "L=[1, 2, 3, 4, 5]일 때 다음 각 문장을 수행한 후의 결과를 보고 납득할 만한 이유를 설명하시오.\n",
    "\n",
    "1)\n",
    "L[1:3] = [100]\n",
    "print L\n",
    "\n",
    "2)\n",
    "L[1:3] = [(100)]\n",
    "print L\n",
    "\n",
    "3)\n",
    "L[1:3] = 100\n",
    "print L\n",
    "\n",
    "4)\n",
    "L[1:3] = (100)\n",
    "print L\n",
    "\n",
    "5)\n",
    "L[1:3] = (100, 101, 102)\n",
    "print L\n",
    "\n",
    "6)\n",
    "L[1:3] = [100, 101, 102]\n",
    "print L\n",
    "\n",
    "7)\n",
    "L[1:3] = [(100, 101, 102)]\n",
    "print L\n",
    "\n",
    "8)\n",
    "L[1:3] = [[100, 101, 102]]\n",
    "print L"
   ]
  },
  {
   "cell_type": "code",
   "execution_count": 12,
   "metadata": {
    "collapsed": false
   },
   "outputs": [
    {
     "name": "stdout",
     "output_type": "stream",
     "text": [
      "[1, 100, 4, 5]\n"
     ]
    }
   ],
   "source": [
    "L=[1, 2, 3, 4, 5]\n",
    "\n",
    "L[1:3] = [100]\n",
    "print L"
   ]
  },
  {
   "cell_type": "markdown",
   "metadata": {},
   "source": [
    "* L[1:3]은 [2, 3]을 가리키고, 리스트는 변경 가능하므로, [2, 3]이 [100]리스트로 서로 다른 크기에 대한 슬라이스 치환이 되기 때문에 [1, 100, 4, 5]가 출력됩니다."
   ]
  },
  {
   "cell_type": "code",
   "execution_count": 46,
   "metadata": {
    "collapsed": false
   },
   "outputs": [
    {
     "name": "stdout",
     "output_type": "stream",
     "text": [
      "[1, 100, 4, 5]\n"
     ]
    }
   ],
   "source": [
    "L=[1, 2, 3, 4, 5]\n",
    "\n",
    "L[1:3] = [(100)]\n",
    "print L"
   ]
  },
  {
   "cell_type": "markdown",
   "metadata": {},
   "source": [
    "* 위와 마찬가지로 L[1:3]은 [2, 3]이고, 리스트는 변경 가능하므로, [2, 3]이 [(100)]리스트로 서로 다른 크기에 대한 슬라이스 치환이 되기 때문에 [1, 100, 4, 5]가 출력됩니다.\n",
    "* 참고로 (100)은 튜플이 아닙니다. 원소가 1개인 튜플이려면 (100,)와 같은 방식이여야 합니다."
   ]
  },
  {
   "cell_type": "code",
   "execution_count": 24,
   "metadata": {
    "collapsed": false
   },
   "outputs": [
    {
     "ename": "TypeError",
     "evalue": "can only assign an iterable",
     "output_type": "error",
     "traceback": [
      "\u001b[1;31m---------------------------------------------------------------------------\u001b[0m",
      "\u001b[1;31mTypeError\u001b[0m                                 Traceback (most recent call last)",
      "\u001b[1;32m<ipython-input-24-c04c9fee22a8>\u001b[0m in \u001b[0;36m<module>\u001b[1;34m()\u001b[0m\n\u001b[0;32m      1\u001b[0m \u001b[0mL\u001b[0m\u001b[1;33m=\u001b[0m\u001b[1;33m[\u001b[0m\u001b[1;36m1\u001b[0m\u001b[1;33m,\u001b[0m \u001b[1;36m2\u001b[0m\u001b[1;33m,\u001b[0m \u001b[1;36m3\u001b[0m\u001b[1;33m,\u001b[0m \u001b[1;36m4\u001b[0m\u001b[1;33m,\u001b[0m \u001b[1;36m5\u001b[0m\u001b[1;33m]\u001b[0m\u001b[1;33m\u001b[0m\u001b[0m\n\u001b[0;32m      2\u001b[0m \u001b[1;33m\u001b[0m\u001b[0m\n\u001b[1;32m----> 3\u001b[1;33m \u001b[0mL\u001b[0m\u001b[1;33m[\u001b[0m\u001b[1;36m1\u001b[0m\u001b[1;33m:\u001b[0m\u001b[1;36m3\u001b[0m\u001b[1;33m]\u001b[0m \u001b[1;33m=\u001b[0m \u001b[1;36m100\u001b[0m\u001b[1;33m\u001b[0m\u001b[0m\n\u001b[0m\u001b[0;32m      4\u001b[0m \u001b[1;32mprint\u001b[0m \u001b[0mL\u001b[0m\u001b[1;33m\u001b[0m\u001b[0m\n",
      "\u001b[1;31mTypeError\u001b[0m: can only assign an iterable"
     ]
    }
   ],
   "source": [
    "L=[1, 2, 3, 4, 5]\n",
    "\n",
    "L[1:3] = 100\n",
    "print L"
   ]
  },
  {
   "cell_type": "markdown",
   "metadata": {},
   "source": [
    "* L[1:3]은 [2, 3]으로 리스트이므로 리스트로 저장하여야 하는데, 100은 정수 이므로 에러가 발생하게 됩니다."
   ]
  },
  {
   "cell_type": "code",
   "execution_count": 26,
   "metadata": {
    "collapsed": false
   },
   "outputs": [
    {
     "ename": "TypeError",
     "evalue": "can only assign an iterable",
     "output_type": "error",
     "traceback": [
      "\u001b[1;31m---------------------------------------------------------------------------\u001b[0m",
      "\u001b[1;31mTypeError\u001b[0m                                 Traceback (most recent call last)",
      "\u001b[1;32m<ipython-input-26-07cc5677ae31>\u001b[0m in \u001b[0;36m<module>\u001b[1;34m()\u001b[0m\n\u001b[0;32m      1\u001b[0m \u001b[0mL\u001b[0m\u001b[1;33m=\u001b[0m\u001b[1;33m[\u001b[0m\u001b[1;36m1\u001b[0m\u001b[1;33m,\u001b[0m \u001b[1;36m2\u001b[0m\u001b[1;33m,\u001b[0m \u001b[1;36m3\u001b[0m\u001b[1;33m,\u001b[0m \u001b[1;36m4\u001b[0m\u001b[1;33m,\u001b[0m \u001b[1;36m5\u001b[0m\u001b[1;33m]\u001b[0m\u001b[1;33m\u001b[0m\u001b[0m\n\u001b[0;32m      2\u001b[0m \u001b[1;33m\u001b[0m\u001b[0m\n\u001b[1;32m----> 3\u001b[1;33m \u001b[0mL\u001b[0m\u001b[1;33m[\u001b[0m\u001b[1;36m1\u001b[0m\u001b[1;33m:\u001b[0m\u001b[1;36m3\u001b[0m\u001b[1;33m]\u001b[0m \u001b[1;33m=\u001b[0m \u001b[1;33m(\u001b[0m\u001b[1;36m100\u001b[0m\u001b[1;33m)\u001b[0m\u001b[1;33m\u001b[0m\u001b[0m\n\u001b[0m\u001b[0;32m      4\u001b[0m \u001b[1;32mprint\u001b[0m \u001b[0mL\u001b[0m\u001b[1;33m\u001b[0m\u001b[0m\n",
      "\u001b[1;31mTypeError\u001b[0m: can only assign an iterable"
     ]
    }
   ],
   "source": [
    "L=[1, 2, 3, 4, 5]\n",
    "\n",
    "L[1:3] = (100)\n",
    "print L"
   ]
  },
  {
   "cell_type": "markdown",
   "metadata": {},
   "source": [
    "* L[1:3]은 [2, 3]으로 리스트이므로 리스트로 저장하여야 하는데, (100) 리스트도, 튜플도 아니기 때문에 에러가 발생하게 됩니다.\n",
    "* 원소를 1개 갖는 튜플일 경우, 한개의 요소와 뒤에 콤마(,)를 넣어줘야 합니다. 하지만 위 문제에서는 (100,)이 아니기 때문에 튜플이 아니며 에러가 발생하게 됩니다."
   ]
  },
  {
   "cell_type": "code",
   "execution_count": 41,
   "metadata": {
    "collapsed": false
   },
   "outputs": [
    {
     "name": "stdout",
     "output_type": "stream",
     "text": [
      "[1, 100, 101, 102, 4, 5]\n"
     ]
    }
   ],
   "source": [
    "L=[1, 2, 3, 4, 5]\n",
    "\n",
    "L[1:3] = (100, 101, 102)\n",
    "print L\n"
   ]
  },
  {
   "cell_type": "markdown",
   "metadata": {},
   "source": [
    "* 위의 (100, 101, 102)는 튜플이므로 에러가 발생하지 않고, L[1:3]의 자리에 100, 101, 102가 치환됩니다."
   ]
  },
  {
   "cell_type": "code",
   "execution_count": 18,
   "metadata": {
    "collapsed": false
   },
   "outputs": [
    {
     "name": "stdout",
     "output_type": "stream",
     "text": [
      "[1, 100, 101, 102, 4, 5]\n"
     ]
    }
   ],
   "source": [
    "L=[1, 2, 3, 4, 5]\n",
    "\n",
    "L[1:3] = [100, 101, 102]\n",
    "print L"
   ]
  },
  {
   "cell_type": "markdown",
   "metadata": {},
   "source": [
    "* 위의 [100, 101, 102]는 리스트 이므로 에러가 발생하지 않고, L[1:3]의 자리에 100, 101, 102가 치환됩니다."
   ]
  },
  {
   "cell_type": "code",
   "execution_count": 33,
   "metadata": {
    "collapsed": false
   },
   "outputs": [
    {
     "name": "stdout",
     "output_type": "stream",
     "text": [
      "[1, (100, 101, 102), 4, 5]\n"
     ]
    }
   ],
   "source": [
    "L=[1, 2, 3, 4, 5]\n",
    "\n",
    "L[1:3] = [(100, 101, 102)]\n",
    "print L\n",
    "\n",
    "\n",
    "#L[1][0] = [22]\n",
    "#print L"
   ]
  },
  {
   "cell_type": "markdown",
   "metadata": {},
   "source": [
    "* 위의 [(100, 101, 102)]는 튜플을 원소로 가지는 리스트이며, 따라서 L[1]의 위치에 (100, 101, 102) 튜플이 들어가게 되는 것 입니다. \n",
    "* 튜플로 들어가게 되기 때문에, 변경 불가능한 튜플의 특성으로 인해 주석 처리된 부분을 실행하게 되면 에러가 발생하게 됩니다."
   ]
  },
  {
   "cell_type": "code",
   "execution_count": 20,
   "metadata": {
    "collapsed": false
   },
   "outputs": [
    {
     "name": "stdout",
     "output_type": "stream",
     "text": [
      "[1, [100, 101, 102], 4, 5]\n"
     ]
    }
   ],
   "source": [
    "L=[1, 2, 3, 4, 5]\n",
    "\n",
    "L[1:3] = [[100, 101, 102]]\n",
    "print L"
   ]
  },
  {
   "cell_type": "markdown",
   "metadata": {},
   "source": [
    "* 위의 [[100, 101, 102]]는 리스트를 원소로 가지는 리스트이며, 따라서 L[1]의 위치에 [100, 101, 102] 리스트 원소가 들어가게 됩니다. 따라서 print L을 하였을 때 [1, [100, 101, 102], 4, 5]와 같이 출력되는 것 입니다."
   ]
  },
  {
   "cell_type": "markdown",
   "metadata": {},
   "source": [
    "### 2번>\n",
    "문자열 S = 'Hello World and Python'에 대해 다음 요구사항에 대한 Python 코드를 제시하시오.\n",
    "\n",
    "1) 단어의 순서가 역순으로 되어진 문자열 ('Python and World Hello')을 만들고\n",
    "\n",
    "2) 1)의 결과 문자열에 대해 메소드 split과 join을 이용하여 공백을 모두 없엔 문자열 'PythonandWorldHello'을 만드시오.\n"
   ]
  },
  {
   "cell_type": "code",
   "execution_count": 80,
   "metadata": {
    "collapsed": false
   },
   "outputs": [
    {
     "name": "stdout",
     "output_type": "stream",
     "text": [
      "Python and World Hello\n",
      "['Python', 'and', 'World', 'Hello']\n",
      "PythonandWorldHello\n"
     ]
    }
   ],
   "source": [
    "s = 'Hello World and Python'\n",
    "rs = s[16::] + s[11:15] + s[5:11] + ' ' + s[:5]\n",
    "print rs\n",
    "\n",
    "L = rs.split()\n",
    "print L\n",
    "\n",
    "str1 = ''.join(L)\n",
    "print str1"
   ]
  },
  {
   "cell_type": "markdown",
   "metadata": {},
   "source": [
    "* s = 'Hello World and Python'를 각 단어로 슬라이스 하여 역순으로 되어진 문자열로 rs를 생성합니다.\n",
    "* 생성된 rs를 rs.split()하면, 공백을 기준으로 나뉘어진 리스트가 생성됩니다.\n",
    "* 생성된 리스트를 join()을 이용하여 합친 문자열을 만드는데, ''.join(L)은 연결을 하는데, 리스트 L 내부의 각 원소들을 ''으로 연결한 문자열을 반환하게 되는데, ''는 아무것도 없으므로 리스트 원소들을 그냥 연결한 문자열이 반환되므로, 문제에서 원하는 결과값을 출력할 수 있습니다."
   ]
  },
  {
   "cell_type": "markdown",
   "metadata": {},
   "source": [
    "### 3번>\n",
    "다음 코드를 보고 물음에 답하시오.\n",
    "\n",
    "a = [1, 2, 3]\n",
    "\n",
    "b = a * 3\n",
    "\n",
    "c = [a] * 3\n",
    "\n",
    "print b\n",
    "\n",
    "print c\n",
    "\n",
    "1) 위 코드를 수행한 이후 다음 코드를 수행한 후 b와 c의 내용을 확인하시오.\n",
    "\n",
    "a[0]=0\n",
    "\n",
    "2) b와 c 객체의 차이는 무엇인가?\n"
   ]
  },
  {
   "cell_type": "code",
   "execution_count": 90,
   "metadata": {
    "collapsed": false
   },
   "outputs": [
    {
     "name": "stdout",
     "output_type": "stream",
     "text": [
      "[1, 2, 3, 1, 2, 3, 1, 2, 3]\n",
      "[[1, 2, 3], [1, 2, 3], [1, 2, 3]]\n"
     ]
    }
   ],
   "source": [
    "a = [1, 2, 3]\n",
    "\n",
    "b = a * 3\n",
    "\n",
    "c = [a] * 3\n",
    "\n",
    "print b\n",
    "print c"
   ]
  },
  {
   "cell_type": "code",
   "execution_count": 83,
   "metadata": {
    "collapsed": false,
    "scrolled": true
   },
   "outputs": [
    {
     "name": "stdout",
     "output_type": "stream",
     "text": [
      "[1, 2, 3, 1, 2, 3, 1, 2, 3]\n",
      "[[0, 2, 3], [0, 2, 3], [0, 2, 3]]\n"
     ]
    }
   ],
   "source": [
    "a[0]=0\n",
    "\n",
    "print b\n",
    "print c"
   ]
  },
  {
   "cell_type": "code",
   "execution_count": 18,
   "metadata": {
    "collapsed": false
   },
   "outputs": [
    {
     "name": "stdout",
     "output_type": "stream",
     "text": [
      "True\n",
      "True\n",
      "False\n",
      "True\n",
      "\n",
      "True\n",
      "False\n",
      "\n",
      "True\n",
      "True\n",
      "True\n",
      "\n",
      "[1, 2, 3] [1, 2, 3]\n"
     ]
    }
   ],
   "source": [
    "t1 = [1, 2, 3]\n",
    "t2 = t1\n",
    "t3 = [t1]\n",
    "t4 = t1 * 2\n",
    "t5 = [t1] * 2\n",
    "\n",
    "print t1 == t2\n",
    "print t1 == t3[0]\n",
    "print t1 == t4\n",
    "print t1 == t5[0]\n",
    "print \n",
    "print id(t1) == id(t2)\n",
    "print id(t1) == id(t4)\n",
    "print\n",
    "print id(t1) == id(t3[0])\n",
    "print id(t1) == id(t5[0])\n",
    "print id(t1) == id(t5[1])\n",
    "print\n",
    "print t5[0], t5[1]"
   ]
  },
  {
   "cell_type": "markdown",
   "metadata": {},
   "source": [
    "* 1) a[0]=0 를 수행한 이후 b와 c의 내용은 [1, 2, 3, 1, 2, 3, 1, 2, 3], [[0, 2, 3], [0, 2, 3], [0, 2, 3]]입니다.\n",
    "* 2)  b와 c 객체의 차이는 위에서 테스트한 t1~t5를 보면 알 수 있습니다.\n",
    "    * 우선, t2 = t1을 하게되면, 같은 객체를 가리키고 있게 됩니다. 하지만, t4 = t1 * 2를 하게 되면, 해당 객체를 가리키는 것이 아니라, 복사를 하게됩니다. 따라서 같은 객체가 아님을 id(t1) == id(t4)를 통해 알 수 있습니다. 내용 또한 t1이 2번 들어가게 되므로 t4 = [1, 2, 3, 1, 2, 3]이 됩니다.\n",
    "    * 하지만, t3 = [t1]을 하거나, t5 = [t1] * 2를 하면 같은 객체를 가리키고 있게 됩니다. 즉, t1이 변하게 되면 t3, t5도 변하게 되는 것 입니다. 이것은 id(t1) == id(t3[0]), id(t1) == id(t5[0])가 True가 출력됨을 통해 알 수 있습니다. 참고로 t1이 리스트의 원소로 들어가기 때문에 t3[0]과 같이 되는 것 입니다. 또한 t5[0] = [[1,2,3],[1,2,3]]인데, [1, 2, 3]이 모두 같은 객체임을 id(t1) == id(t5[1])을 통해 알 수 있습니다.\n",
    "    * 위와 같은 맥락으로, a[0] = 0을 수행하였을 때, b는 변하지 않았지만, a는 변함을 알 수 있습니다. b는 내용은 같지만 다른 객체이기 때문에 a의 변화가 b에 영향을 주지 않는 것이고, c는 같은 객체를 가리키고 이기 떄문에 a의 변화가 c에 영향을 주게되는 것 입니다."
   ]
  },
  {
   "cell_type": "markdown",
   "metadata": {},
   "source": [
    "### 4번>\n",
    "다음 문자열을 ':'을 기준으로 분리하여 리스트로 만들고 각 문자열의 좌우 공백을 제거하시오 (즉, 문자열 S에서 l을 만들어라)\n",
    "\n",
    "s = '  first star   :   second star   :    third star  '\n",
    "\n",
    "l = ['first star', 'second star', 'third star']\n",
    "\n",
    "1) for ~ in 문을 이용한 코드를 작성하시오.\n",
    "\n",
    "2) 리스트 내포(list comprehension)를 이용한 코드를 작성하시오."
   ]
  },
  {
   "cell_type": "code",
   "execution_count": 135,
   "metadata": {
    "collapsed": false
   },
   "outputs": [
    {
     "name": "stdout",
     "output_type": "stream",
     "text": [
      "['first star', 'second star', 'third star']\n"
     ]
    }
   ],
   "source": [
    "s = ' first star : second star : third star '\n",
    "l = []\n",
    "temp =''\n",
    "\n",
    "for i in range(len(s)):\n",
    "    if (s[i] != ':'):\n",
    "        temp += s[i]\n",
    "    if(s[i] == ':' or i == len(s)-1):\n",
    "        temp = temp.strip()\n",
    "        l += [temp]\n",
    "        temp = ''\n",
    "        \n",
    "print l"
   ]
  },
  {
   "cell_type": "code",
   "execution_count": 136,
   "metadata": {
    "collapsed": false
   },
   "outputs": [
    {
     "name": "stdout",
     "output_type": "stream",
     "text": [
      "['first star', 'second star', 'third star']\n"
     ]
    }
   ],
   "source": [
    "s = ' first star : second star : third star '\n",
    "ss = s.split(':')\n",
    "l=[]\n",
    "\n",
    "for i in range(len(ss)):\n",
    "    temp = ss[i].strip()\n",
    "    l += [temp]\n",
    "print l"
   ]
  },
  {
   "cell_type": "markdown",
   "metadata": {},
   "source": [
    "* 첫 번째 방법 : for~ in문을 이용하여 반복하는데, 범위는 문자열 길이로 합니다.\n",
    "* i를 기준으로 현재 위치를 정하는데, 현재 위치의 문자가 만약에 ':'가 아니라면 temp 문자열에 더합니다.\n",
    "* 만약 : 를 만나거나, 혹은 마지막에 도착한다면 temp에 저장된 문자열의 좌우 공백을 제거하고, 리스트 l에 추가합니다. \n",
    "\n",
    "\n",
    "* 두 번째 방법 : for ~ in 문을 이용하여 반복하는데, 반복문 전에 문자열 s를 ':'로 나눈 리스트 ss를 생성합니다.\n",
    "* 반복문은 i를 기준으로, 범위는 리스트 ss의 길이만큼 반복하며, i위치의 원소를 strip()를 이용하여 좌우 공백 제거 후, l리스트에 추가합니다."
   ]
  },
  {
   "cell_type": "code",
   "execution_count": 137,
   "metadata": {
    "collapsed": false
   },
   "outputs": [
    {
     "name": "stdout",
     "output_type": "stream",
     "text": [
      "['first star', 'second star', 'third star']\n"
     ]
    }
   ],
   "source": [
    "s = ' first star : second star : third star '\n",
    "ss = s.split(':')\n",
    "\n",
    "l = [temp.strip() for temp in ss]\n",
    "print l"
   ]
  },
  {
   "cell_type": "markdown",
   "metadata": {},
   "source": [
    "* 리스트 내포를 이용한 방법으로, 우선 문자열을 ':'를 기준으로 나눈 리스트 ss를 생성합니다.\n",
    "* 그 다음 temp.strip()를 원소로 저장하는데 temp는 ss를 범위로 갖습니다.\n",
    "* 즉, ss원소인 단어가 temp에 할당 되고, temp.strip() 식을 진행하여 리스트의 원소로 할당하는 것입니다."
   ]
  },
  {
   "cell_type": "markdown",
   "metadata": {},
   "source": [
    "###5번>\n",
    "다음과 같이 0보다 큰 정수 리스트 변수 list를 인자로 받는 함수 addall(list)와 addallodd(list)를 for ~ in 리터널과 리스트 내포 방식으로 각각 제시하시오.\n",
    "\n",
    "1) addall(list) 함수 (리스트 내의 모든 정수를 더하는 함수로서 해답으로는 for ~ in 리터럴과 리스트 내포 방식으로 각각 제시하시오.)\n",
    "\n",
    "---> addall([1])\n",
    "\n",
    "1\n",
    "\n",
    "---> addall([1, 2, 3, 4, 5, 6, 7, 8, 9])\n",
    "\n",
    "45\n",
    "\n",
    "\n",
    "2) addallodd(list) 함수 (리스트내의 모든 홀수를 더하는 함수로서 해답으로는 for ~ in 리터럴과 리스트 내포 방식으로 각각 제시하시오.)\n",
    "\n",
    "---> addallodd([1])\n",
    "\n",
    "1\n",
    "\n",
    "---> addallodd([1, 2, 3, 4, 5, 6, 7, 8, 9])\n",
    "\n",
    "25\n",
    "\n",
    "[참고]: 리스트 내포 방식으로 addall() 및 addallodd()함수를 만들 때엔 리스트 내포에 의해 생성된 리스트 결과에 대해 내장 함수를 사용하는 방식을 고려해보시오 (주의: 리스트 내포 방식의 addall() 및 addallodd() 함수의 몸체는 단 1줄로 작성되어야 한다.)"
   ]
  },
  {
   "cell_type": "code",
   "execution_count": 157,
   "metadata": {
    "collapsed": false
   },
   "outputs": [
    {
     "name": "stdout",
     "output_type": "stream",
     "text": [
      "1\n",
      "45\n"
     ]
    }
   ],
   "source": [
    "# addall(list)함수 for~in 방식\n",
    "\n",
    "def addall(list):\n",
    "    res = 0\n",
    "    for i in range(len(list)):\n",
    "        res += list[i]\n",
    "    return res\n",
    "\n",
    "print addall([1])\n",
    "print addall([1,2,3,4,5,6,7,8,9])"
   ]
  },
  {
   "cell_type": "markdown",
   "metadata": {},
   "source": [
    "* def를 통해 함수를 정의합니다. for ~ in 반복문을 이용하여 반복하는데, i를 통해 현재 위치를 지정합니다. i는 0부터 len(list)의 범위를 가지며, res 초기값은 0이고, 반복문을 도는동안 list[i]값을 누적하여 더합니다. 그 결과는 리스트 내의 모든 정수를 더한 값 입니다. \n",
    "* 교수님께서 입력값은 정수로 가정하라 하셨기에 문자열이 들어오거나 하는 것에 대한 오류처리는 하지 않았습니다."
   ]
  },
  {
   "cell_type": "code",
   "execution_count": 158,
   "metadata": {
    "collapsed": false
   },
   "outputs": [
    {
     "name": "stdout",
     "output_type": "stream",
     "text": [
      "1\n",
      "45\n"
     ]
    }
   ],
   "source": [
    "# addall(list)함수 리스트 내포 방식\n",
    "\n",
    "def addall2(list):\n",
    "    return sum([list[i] for i in range(len(list))])\n",
    "\n",
    "print addall2([1])\n",
    "print addall2([1,2,3,4,5,6,7,8,9])"
   ]
  },
  {
   "cell_type": "markdown",
   "metadata": {},
   "source": [
    "* addall2()는 리스트 내포 방식을 활용한 함수입니다. sum()내장함수를 이용하여 리스트의 합을 반환하는데, ()안에 들어간 리스트는 list값을 하나씩 가져온 리스트 입니다.\n",
    "* 즉, 매개변수로 들어온 list를 복사하여 새로운 리스트를 만들고, 그 리스트의 원소들의 합을 반환하는 방식입니다."
   ]
  },
  {
   "cell_type": "code",
   "execution_count": 161,
   "metadata": {
    "collapsed": false
   },
   "outputs": [
    {
     "name": "stdout",
     "output_type": "stream",
     "text": [
      "1\n",
      "25\n",
      "25\n",
      "\n",
      "1\n",
      "25\n",
      "25\n"
     ]
    }
   ],
   "source": [
    "# addallodd(list)함수 for~in 방식\n",
    "\n",
    "def addallodd(list):\n",
    "    res = 0\n",
    "    for i in range(len(list)):\n",
    "        if(list[i]%2 == 1):\n",
    "            res += list[i]\n",
    "    return res\n",
    "\n",
    "print addallodd([1])\n",
    "print addallodd([1,2,3,4,5,6,7,8,9])\n",
    "print addallodd([1,3,5,7,9])\n",
    "print \n",
    "\n",
    "\n",
    "# addall(list)함수 리스트 내포 방식\n",
    "\n",
    "def addallodd2(list):\n",
    "    return sum([list[i] for i in range(len(list)) if list[i]%2 == 1])\n",
    "\n",
    "print addallodd2([1])\n",
    "print addallodd2([1,2,3,4,5,6,7,8,9])\n",
    "print addallodd([1,3,5,7,9])"
   ]
  },
  {
   "cell_type": "markdown",
   "metadata": {},
   "source": [
    "* addallodd() 함수는 홀수만 더해야 하므로, 위의 addall()에서 list[i]값이 2로 나누었을때 나머지가 1일 경우만 res += list[i]를 더하는 방식으로 한다.\n",
    "* 마찬가지로, addallodd2() 함수도 addall2() 리스트 내포방식 함수에서 뒷부분에 if조건(list[i]를 2로 나누었을 때 나머지가 1인 경우)을 주면 홀수만 더한다."
   ]
  },
  {
   "cell_type": "markdown",
   "metadata": {},
   "source": [
    "### 6번>\n",
    "다음 코드를 보고 물음에 답하시오.\n",
    "\n",
    "L1 = [1, 2, 3]\n",
    "\n",
    "L2 = [4, 5, 6]\n",
    "\n",
    "d = {'low':L1, 'high':L2}\n",
    "\n",
    "e = d\n",
    "\n",
    "f = d.copy()\n",
    "\n",
    "print d\n",
    "\n",
    "print e\n",
    "\n",
    "print f\n",
    "\n",
    "print\n",
    "\n",
    "d['low'] = [10, 20, 30]\n",
    "\n",
    "d['high'][1] = 500\n",
    "\n",
    "print d\n",
    "\n",
    "print e\n",
    "\n",
    "print f\n",
    "\n",
    "\n",
    "1) 위 코드의 수행 결과 d와 e는 항상 같은 결과를 출력한다. 그 이유는 무엇인가?\n",
    "\n",
    "2) 위 코드의 수행 결과 마지막 f의 내용은 다음과 같다. 이 때 'high' 키의 값 내용 중 500이 출력된 이유와 'low' 키의 값 내용 중 [1, 2, 3]이 출력된 이유를 설명하시오 ([hint]: shallow copy 관점에서 설명하시오.)\n",
    "\n",
    "{'high': [4, 500, 6], 'low': [1, 2, 3]}"
   ]
  },
  {
   "cell_type": "code",
   "execution_count": 167,
   "metadata": {
    "collapsed": false
   },
   "outputs": [
    {
     "name": "stdout",
     "output_type": "stream",
     "text": [
      "{'high': [4, 5, 6], 'low': [1, 2, 3]}\n",
      "{'high': [4, 5, 6], 'low': [1, 2, 3]}\n",
      "{'high': [4, 5, 6], 'low': [1, 2, 3]}\n",
      "\n",
      "{'high': [4, 500, 6], 'low': [10, 20, 30]}\n",
      "{'high': [4, 500, 6], 'low': [10, 20, 30]}\n",
      "{'high': [4, 500, 6], 'low': [1, 2, 3]}\n",
      "True\n",
      "False\n",
      "True\n"
     ]
    }
   ],
   "source": [
    "L1 = [1, 2, 3]\n",
    "L2 = [4, 5, 6]\n",
    "d = {'low':L1, 'high':L2}\n",
    "e = d\n",
    "f = d.copy()\n",
    "print d\n",
    "print e\n",
    "print f\n",
    "print\n",
    "d['low'] = [10, 20, 30]\n",
    "d['high'][1] = 500\n",
    "print d\n",
    "print e\n",
    "print f\n",
    "\n",
    "print id(d) == id(e)\n",
    "print id(d) == id(f)\n",
    "print id(d['high'][1]) == id(f['high'][1])"
   ]
  },
  {
   "cell_type": "markdown",
   "metadata": {},
   "source": [
    "* (1) d와 e가 항상 같은 결과를 출력하는 이유는, e = d이기 때문이다. e = d와같이 하는 경우, 객체를 복사하는 것이 아니라 같은 객체를 가리키는 방식이 된다. 그렇기때문에 마지막에 id(d) == id(e)가 True가 출력되는 것이고, 결국 d가 바뀐다는 것은 d가 가리키는 객체가 바뀐다는 소리인데, e 또한 그 객체를 가리키고 있기 때문에 똑같이 변화한 값이 출력되는 것이다.\n",
    "\n",
    "* (2) f는 d.copy()를 하였는데, 이 copy()함수는 shallow copy를 한다. shallow copy는 한 단계만 복사를 하는 것인데, f의 경우, d를 copy()하였기 때문에 {'low':L1, 'high':L2}는 1단계로, 복사를 하여서 다른 객체이지만, 그 안의 원소인 L1, L2 리스트는 2단계로, 같은 리스트를 가리키고 있게 되는 것이다.\n",
    "    * d가 ['low']를 바꾼것은 1단계에서 바꾼것이기 때문에 f에 반영이 되지 않는 것이다. 하지만 d가 ['high'][1]을 바꾼것은 2단계에서 바꾼것이기 때문에 f에도 영향을 미치는 것이다."
   ]
  },
  {
   "cell_type": "markdown",
   "metadata": {},
   "source": [
    "### 7번>\n",
    "\n",
    "* 사전 d = {'one':1, 'two':2, 'three':3, 'four':4, 'five':5}가 주어졌을 때 다음 요구사항에 맞는 코드를 제시하시오.\n",
    "\n",
    "[참고]: d.keys(), d.values()를 통해 리스트를 얻어낸 후 리스트가 지니고 있는 sort(cmp=None, key=None, reverse=False)함수를 활용하시오.\n",
    "    \n",
    "    1) 키의 알파벳 오름차순 순서대로 튜플 (키, 값)을 차례대로 출력하시오.\n",
    "\n",
    "    2) 키의 알파벳 내림차순 순서대로 튜플 (키, 값)을 차례대로 출력하시오.\n",
    "\n",
    "    3) 값의 오름차순 순서대로 튜플 (키, 값)을 차례대로 출력하시오.\n",
    "\n",
    "    4) 값의 내림차순 순서대로 튜플 (키, 값)을 차례대로 출력하시오."
   ]
  },
  {
   "cell_type": "code",
   "execution_count": 8,
   "metadata": {
    "collapsed": false
   },
   "outputs": [
    {
     "name": "stdout",
     "output_type": "stream",
     "text": [
      "[('five', 5), ('four', 4), ('one', 1), ('three', 3), ('two', 2)]\n",
      "[('two', 2), ('three', 3), ('one', 1), ('four', 4), ('five', 5)]\n",
      "[('one', 1), ('two', 2), ('three', 3), ('four', 4), ('five', 5)]\n",
      "[('five', 5), ('four', 4), ('three', 3), ('two', 2), ('one', 1)]\n"
     ]
    }
   ],
   "source": [
    "def cmp_1(a1, a2):\n",
    "    return cmp(a1[1], a2[1])\n",
    "\n",
    "def cmp_2(a1, a2):\n",
    "    return cmp(a2[1], a1[1])\n",
    "\n",
    "d = {'one':1, 'two':2, 'three':3, 'four':4, 'five':5}\n",
    "\n",
    "listkey = d.keys()\n",
    "listval = d.values()\n",
    "listitem = zip(listkey, listval)\n",
    "\n",
    "\n",
    "#1) 키의 알파벳 오름차순\n",
    "listitem.sort()\n",
    "print listitem\n",
    "\n",
    "#2) 키의 알파벳 내림차순\n",
    "listitem.sort(reverse=True)\n",
    "print listitem\n",
    "\n",
    "#3) 값의 오름차순\n",
    "listitem.sort(cmp_1)\n",
    "print listitem\n",
    "\n",
    "#4) 값의 내림차순\n",
    "listitem.sort(cmp_2)\n",
    "print listitem"
   ]
  },
  {
   "cell_type": "markdown",
   "metadata": {},
   "source": [
    "* d.keys(), d.values() 를 통해서 키와 값을 가진 리스트들을 만든 후에,  zip함수를 이용하여 (키, 값)의 튜플을 원소로 가지는 리스트를 생성합니다. \n",
    "* 위에서 만든 리스트(listitem)을 sort()를 활용하여 정렬합니다.\n",
    "* sort()기본함수는 키를 기준으로 오름차순으로 정렬합니다.\n",
    "* 두 번째, 내림차순으로 정렬하기 위해서는 reverse=True로 변경하면 sort함수에 의해 정렬되는데 내림차순으로 정렬됩니다.\n",
    "* 세번째와 네번째는 값을 기준으로 정렬하기 위해서 cmp의 값을 바꿔주는데, 그를 위해 우선 cmp함수를 따로 만들어 줍니다. 키가 아닌 값을 기준으로 정렬할 것이므로 인덱스는1이며, cmp_1은 오름차순이므로 a1[1], a2[1]그대로 반환하지만, cmp_2는 내림차순이므로 a1[1]과 a2[1]를 바꿔서 반환해줍니다. 만든 cmp_1,cmp_2함수를 이용하여 sort의 매개변수로 넣어주면, 원하는 것에 맞게 정렬이 됩니다."
   ]
  },
  {
   "cell_type": "markdown",
   "metadata": {},
   "source": [
    "#프로젝트 오일러\n",
    "### 7번>\n",
    "소수를 크기 순으로 나열하면 2, 3, 5, 7, 11, 13, ... 과 같이 됩니다.\n",
    "\n",
    "이 때 10,001번째의 소수를 구하세요."
   ]
  },
  {
   "cell_type": "code",
   "execution_count": 14,
   "metadata": {
    "collapsed": false
   },
   "outputs": [
    {
     "name": "stdout",
     "output_type": "stream",
     "text": [
      "104743\n"
     ]
    }
   ],
   "source": [
    "cnt = 0\n",
    "i = 1\n",
    "res = 0\n",
    "\n",
    "while(cnt < 10001):\n",
    "    i += 1\n",
    "    check = 0\n",
    "    \n",
    "    for k in range(2, i):\n",
    "        if(i % k == 0):\n",
    "            check = 1\n",
    "            break\n",
    "    if (check == 0):\n",
    "        cnt += 1\n",
    "        res = i\n",
    "\n",
    "if(cnt == 10001):\n",
    "    print res\n",
    "    \n",
    "else:\n",
    "    print 'Error'\n",
    "    "
   ]
  },
  {
   "cell_type": "markdown",
   "metadata": {},
   "source": [
    "* 우선 cnt는 소수의 수입니다. cnt가 10001을 넘는 경우, 문제에서 원하는 답이 도출된 경우이므로 반복문은 그 전까지만 반복합니다.\n",
    "* check는 현재 수가 소수인지 아닌지를 확인하는 변수입니다. 작은 반복문은 해당 수가 소수인지 아닌지를 확인하는 반복문으로, 2부터 현재의 수-1까지 반복하게 됩니다. 만약 1과 자신의 값을 제외한 다른 수로 나누어떨어지는 경우가 있을 경우, 소수가 아니므로 check는 1로 설정하고, 반복문을 종료합니다. 만약 반복문을 빠져나올때까지 check가 0이라면 소수이므로 cnt를 1증가시켜주고, res에 현재 값을 저장합니다. (res는 현재까지 나온 소수중 가장 큰 소수로 전체 반복문이 종료된 다음의 i를 저장해도 되지만 위에서는 확인을 위해 반복문 안에 넣었습니다.)\n",
    "* 반복문이 모두 종료되면, cnt가 10001일 경우, res는 10,001번째의 소수를 출력하게됩니다."
   ]
  },
  {
   "cell_type": "markdown",
   "metadata": {},
   "source": [
    "### 8번>\n",
    "\n",
    "다음은 연속된 1000자리 숫자입니다 (읽기 좋게 50자리씩 잘라놓음).\n",
    "\n",
    "73167176531330624919225119674426574742355349194934\n",
    "96983520312774506326239578318016984801869478851843\n",
    "85861560789112949495459501737958331952853208805511\n",
    "12540698747158523863050715693290963295227443043557\n",
    "66896648950445244523161731856403098711121722383113\n",
    "62229893423380308135336276614282806444486645238749\n",
    "30358907296290491560440772390713810515859307960866\n",
    "70172427121883998797908792274921901699720888093776\n",
    "65727333001053367881220235421809751254540594752243\n",
    "52584907711670556013604839586446706324415722155397\n",
    "53697817977846174064955149290862569321978468622482\n",
    "83972241375657056057490261407972968652414535100474\n",
    "82166370484403199890008895243450658541227588666881\n",
    "16427171479924442928230863465674813919123162824586\n",
    "17866458359124566529476545682848912883142607690042\n",
    "24219022671055626321111109370544217506941658960408\n",
    "07198403850962455444362981230987879927244284909188\n",
    "84580156166097919133875499200524063689912560717606\n",
    "05886116467109405077541002256983155200055935729725\n",
    "71636269561882670428252483600823257530420752963450\n",
    "\n",
    "여기서 붉게 표시된 71112의 경우 7, 1, 1, 1, 2 각 숫자를 모두 곱하면 14가 됩니다.\n",
    "\n",
    "이런 식으로 맨 처음 (7 × 3 × 1 × 6 × 7 = 882) 부터 맨 끝 (6 × 3 × 4 × 5 × 0 = 0) 까지 5자리 숫자들의 곱을 구할 수 있습니다.\n",
    "이렇게 구할 수 있는 5자리 숫자의 곱 중에서 가장 큰 값은 얼마입니까?"
   ]
  },
  {
   "cell_type": "code",
   "execution_count": 53,
   "metadata": {
    "collapsed": false
   },
   "outputs": [
    {
     "name": "stdout",
     "output_type": "stream",
     "text": [
      "40824\n"
     ]
    }
   ],
   "source": [
    "num = '73167176531330624919225119674426574742355349194934 96983520312774506326239578318016984801869478851843 85861560789112949495459501737958331952853208805511 12540698747158523863050715693290963295227443043557 66896648950445244523161731856403098711121722383113 62229893423380308135336276614282806444486645238749 30358907296290491560440772390713810515859307960866 70172427121883998797908792274921901699720888093776 65727333001053367881220235421809751254540594752243 52584907711670556013604839586446706324415722155397 53697817977846174064955149290862569321978468622482 83972241375657056057490261407972968652414535100474 82166370484403199890008895243450658541227588666881 16427171479924442928230863465674813919123162824586 17866458359124566529476545682848912883142607690042 24219022671055626321111109370544217506941658960408 07198403850962455444362981230987879927244284909188 84580156166097919133875499200524063689912560717606 05886116467109405077541002256983155200055935729725 71636269561882670428252483600823257530420752963450'\n",
    "num = ''.join(num.split())\n",
    "l = list(num)\n",
    "\n",
    "res = 0\n",
    "for k in range(len(l) - 4):\n",
    "    temp = int(l[k]) * int(l[k+1]) * int(l[k+2]) * int(l[k+3]) * int(l[k+4])\n",
    "    if(temp > res):\n",
    "        res = temp\n",
    "print res"
   ]
  },
  {
   "cell_type": "markdown",
   "metadata": {},
   "source": [
    "* 우선 주어진 수가 공백이 존재하므로, 주어진 1000자리 수를 문자열로 저장한 후, split()함수를 이용하여 공백을 기준으로 나눈 리스트로 만든 다음 join을 이용하여 하나의 문자열로 만듭니다.\n",
    "* 해당 문자열을 list()함수를 활용하여 문자열 하나하나가 원소로 들어간 리스트(l)를 생성합니다.\n",
    "* 리스트 처음부터 반복문을 시작하는데, k를 이용하여 현재 위치를 지정하고, 현재 위치 ~ +4까지의 총 5개의 원소를 곱한 수를 temp에 저장합니다. 한번 반복할 때, 현재 위치를 기준으로 +4까지 곱하기때문에 반복문은 len(l)-4까지로 범위를 지정합니다.\n",
    "* temp에 저장된 값이 res보다 클경우 res = temp를 합니다. 따라서 res엔느 현재까지의 곱중 가장 큰 값이 저장되게 됩니다.\n",
    "* 반복문이 모두 종료되었을 때, res 값이 5자리 숫자의 곱 중에서 가장 큰 값입니다."
   ]
  },
  {
   "cell_type": "markdown",
   "metadata": {},
   "source": [
    "### 9번>\n",
    "세 자연수 a, b, c 가 피타고라스 정리 a2 + b2 = c2 를 만족하면 피타고라스 수라고 부릅니다 (여기서 a < b < c ).\n",
    "예를 들면 32 + 42 = 9 + 16 = 25 = 52이므로 3, 4, 5는 피타고라스 수입니다.\n",
    "\n",
    "a + b + c = 1000 인 피타고라스 수 a, b, c는 한 가지 뿐입니다. 이 때, a × b × c 는 얼마입니까?"
   ]
  },
  {
   "cell_type": "code",
   "execution_count": 55,
   "metadata": {
    "collapsed": false
   },
   "outputs": [
    {
     "name": "stdout",
     "output_type": "stream",
     "text": [
      "31875000\n"
     ]
    }
   ],
   "source": [
    "def pita(num):\n",
    "    for a in range(num):\n",
    "        for b in range(num):\n",
    "            for c in range(num):\n",
    "                if(a<b<c and (a+b+c)==num and (a*a + b*b == c*c)):\n",
    "                    return a*b*c\n",
    "    return -1\n",
    "\n",
    "print pita(1000)"
   ]
  },
  {
   "cell_type": "markdown",
   "metadata": {},
   "source": [
    "* a+b+c = 1000일경우, 하나의 숫자가 가장 커지는 경우는 1000+0+0이므로 a,b,c는 1000을 넘어가지 않을 것이기 때문에, 반복문을 1000을 범위로 지정하였습니다. \n",
    "* a,b,c가 각각 0~1000까지 반복하면서 주어진 조건에 만족하는 경우를 찾습니다.\n",
    "* 조건은 우선, a<b<c이고, a+b+c = 1000이며, 피타고라스 수이므로 a^2 + b^2 = c^2입니다. 이 세가지 조건을 모두 만족해야 하므로 and연산자를 사용합니다.\n",
    "* 위 세가지 조건을 모두 만족하는 a,b,c의 곱을 문제에서 원하므로 세가지 조건을 모두 만족할 때, a*b*c를 반환하여줍니다\n",
    "* 결과적으로 함수에 1000을 넘겨주었을 때, 반환되는 값은 문제에서 원하는 답입니다."
   ]
  },
  {
   "cell_type": "markdown",
   "metadata": {},
   "source": [
    "#[Incremental Project] \n",
    "\n",
    "이전 Assignment 2의 마지막 문제는 웹 URL로 지정된 웹페이지를 문자열로 가져와 모든 HTML 태그 및 CSS와 Javascript를 제외한 순수 텍스트를 얻어내고 그 안에 존재하는 단어를 추출하고 단어들의 총 개수를 출력하는 프로그램을 작성하는 것이었다. 이번에는 그 마지막 숙제를 그대로 확장하여 웹 URL로 지정된 웹페이지 내 순수 텍스트 안에 존재하는 각 단어들에 대해 다음 요구사항 대로 출력하는 프로그램을 작성하시오.\n",
    "\n",
    "* 요구사항 1. 순수 텍스트 안에 존재하는 단어들에 대해 string 모듈을 활용하여 모든 punctuation (구두문자)를 완벽히 제거하시오.\n",
    "예: ['world!', ':', '+hello+', '~python$$$', '=', 'world'] ---> ['world', 'hello', 'python', 'world']\n",
    "모든 punctuation을 확인하는 방법은 아래와 같다.\n",
    "\n",
    "import string\n",
    "print string.punctuation\n",
    "\n",
    "* 요구사항 2. 만약 punctuation (구두문자)를 제거한 이후 공백으로 판명되는 단어들은 해당 단어 리스트에서 제거하시오.\n",
    "\n",
    "    예: ['컴퓨터공학부!', '---?', '%지향~', '...'] ---> ['컴퓨터공학부', '지향']\n",
    "    \n",
    "\n",
    "* 요구사항 3. 각 단어들의 출현빈도를 사전형태로 저장하여 출력하시오.\n",
    "\n",
    "    예: ['world', 'hello', 'python', 'world', '컴퓨터공학부', '지향'] ---> {'world': 2, 'hello': 1, 'python': 1, '컴퓨터공학부': 1, '지향': 1}\n",
    "    \n",
    "\n",
    "* 요구사항 4. 다음 3개의 사이트에 대한 결과를 출력하시오.\n",
    "\n",
    "    http://www.naver.com\n",
    "    \n",
    "    http://www.daum.net\n",
    "    \n",
    "    http://www.nytimes.com"
   ]
  },
  {
   "cell_type": "code",
   "execution_count": 56,
   "metadata": {
    "collapsed": false
   },
   "outputs": [
    {
     "name": "stdout",
     "output_type": "stream",
     "text": [
      "(0) 단어 수 :  449\n",
      "\n",
      "(1) 구두문자 제거된 문자열 :  컴퓨터공학부    Schoolfun   Study and Fun 로그인 로그인 아이디 비밀번호 로그인 유지 브라우저를 닫더라도 로그인이 계속 유지될 수 있습니다  로그인 유지 기능을 사용할 경우 다음 접속부터는 로그인할 필요가 없습니다  단  게임방  학교 등 공공장소에서 이용 시 개인정보가 유출될 수 있으니 꼭 로그아웃을 해주세요  회원가입 ID PW 찾기 IT 교육의 글로벌 메카 한국기술교육대학교 컴퓨터공학부 Close 소개 구성원소개 학사안내 입학 학부 대학원 학부광장 자료실 대학원 공학교육인증 Registration 컴퓨터공학부 School of Computer Science and Engineering IT 융합소프트웨어 인력양성사업 CK  Creative Korea  I 교육역량강화사업 온라인 컨텐츠 Online Contents for Education Capability Empowerment IT 교육의 글로벌 메카 한국기술교육대학교 컴퓨터공학부 홈페이지에 오신 것을환영합니다  IT 융합소프트웨어 인력양성사업 글로벌 수준의 IT전문인력 양성 IT융합분야에 대한 국제적인 경쟁력 고취 바로가기 교육역량강화사업 컨텐츠 교육역량강화사업 온라인 컨텐츠를 소개합니다  바로가기 공지사항  특성화  지식재산권 출원 신청서 접수 공고 2015 10 15 15 53 15 53  특성화  IT사업단 마일리지 장학금 안내 수정  2015 10 14 13 31 13 31  특성화  사물인터넷 국제전시회 IoT Korea Exhibition    2015 10 13 16 38 16 38 LG Wearable Big Bang Hackathon 참여하세요 2015 10 13 12 03 12 03  특성화  제4차 실무프로그래밍 강좌 신청 안내 2015 10 08 15 37 15 37 자유게시판  앙클  산업기능요원 모집 공고   10 19월까지  2015 10 16 16 25 16 25 2015년 홈커밍데이 공지입니다   2015 10 16 15 49 15 49 졸업작품 전시회 투표 결과 2015 10 13 19 32 19 32 【장학지원】보건 복지 심리 재활분야 자격증 무료수강    2015 10 12 11 42 11 42  주  엔에스이 에서 개발자를 모집합니다  2015 09 30 13 30 13 30 취업게시판 대한상공회의소 교사직 사무직  연봉 4천이상  우편방    2015 10 19 16 05 16 05  특성화   주 KMW 인턴사원 모집공고 2015 09 23 14 31 14 31 ㈜인젠트 기술연구소 전문연구요원 모집 2015 09 14 11 54 11 54 펜타인 2015년도 신입사원 채용공고 2015 09 03 16 16 16 16 LIG인베니아  코스닥상장 LIG그룹사 디스플레이장비전    2015 09 03 14 01 14 01 VENTURESQUARE 신언론선언 Manifesto of New Journalism 2015 10 20 14 12 14 12 북부 경기문화창조허브   콘텐츠 크리에이터 프로그램     2015 10 20 14 00 14 00 많은 조언들이 경영 측면에서 위험할 수 있는 이유 2015 10 20 13 56 13 56 애드밸룬  국내 최초 VR콘텐츠를 이용 약시눈 개선 콘    2015 10 20 11 52 11 52 카카오  국내 최초 고급택시 호출 서비스  카카오택시     2015 10 20 10 19 10 19 전자신문 코바코  신입사원 10명 채용··· 불문 채용으로 지원자     2015 10 20 14 30 14 30 KTH  강릉관광개발공사와  ICT기반 관광서비스개발  협력 2015 10 20 14 29 14 29 파이어아이 토니 콜 CTO  글로벌 사이버 위협 진단  2015 10 20 14 22 14 22 KT  올레 기가 인터넷 출시 1년··· 가입자 70만 확보·     2015 10 20 13 04 13 04 미래부  뽐뿌 해킹사건은 홈페이지 보안 취약 탓  2015 10 20 12 20 12 20 RE CODE Before Apple TV Gets a Refresh  It Gets Video     2015 10 20 15 00 15 00 Apple CEO Tim Cook   Massive Change  Is Coming    2015 10 20 14 07 14 07 Apple Music Has 6 5 Million Paying Subscribers 2015 10 20 12 53 12 53 Don t Have Cable or Care About Football  Here     2015 10 20 11 12 11 12 Thumbtack Hires First CFO and Snags Top Politi    2015 10 20 08 37 08 37 Quick Navigation 한국기술교육대학교 홈페이지 한국기술교육대학교 WEBMAIL 한국기술교육대학교 온라인 평생교육원 교육역량강화사업 온라인 컨텐츠 IT 융합소프트웨어 인력양성사업 Campus Location Contact CSE 충청남도 천안시 동남구 병천면 충절로 1600한국기술교육대학교 컴퓨터공학부 학과사무실 TEL  041  560 1460 1461 FAX  041  560 1462 Facebook Twitter Google Plus Linkedin  31253  충청남도 천안시 동남구 병천면 충절로 1600  가전리  한국기술교육대학교  컴퓨터공학부 Copyright © 2015  All rights reserved\n",
      "\n",
      "(2) 공백 제거된 문자 리스트 :  컴퓨터공학부 Schoolfun Study and Fun 로그인 로그인 아이디 비밀번호 로그인 유지 브라우저를 닫더라도 로그인이 계속 유지될 수 있습니다 로그인 유지 기능을 사용할 경우 다음 접속부터는 로그인할 필요가 없습니다 단 게임방 학교 등 공공장소에서 이용 시 개인정보가 유출될 수 있으니 꼭 로그아웃을 해주세요 회원가입 ID PW 찾기 IT 교육의 글로벌 메카 한국기술교육대학교 컴퓨터공학부 Close 소개 구성원소개 학사안내 입학 학부 대학원 학부광장 자료실 대학원 공학교육인증 Registration 컴퓨터공학부 School of Computer Science and Engineering IT 융합소프트웨어 인력양성사업 CK Creative Korea I 교육역량강화사업 온라인 컨텐츠 Online Contents for Education Capability Empowerment IT 교육의 글로벌 메카 한국기술교육대학교 컴퓨터공학부 홈페이지에 오신 것을환영합니다 IT 융합소프트웨어 인력양성사업 글로벌 수준의 IT전문인력 양성 IT융합분야에 대한 국제적인 경쟁력 고취 바로가기 교육역량강화사업 컨텐츠 교육역량강화사업 온라인 컨텐츠를 소개합니다 바로가기 공지사항 특성화 지식재산권 출원 신청서 접수 공고 2015 10 15 15 53 15 53 특성화 IT사업단 마일리지 장학금 안내 수정 2015 10 14 13 31 13 31 특성화 사물인터넷 국제전시회 IoT Korea Exhibition 2015 10 13 16 38 16 38 LG Wearable Big Bang Hackathon 참여하세요 2015 10 13 12 03 12 03 특성화 제4차 실무프로그래밍 강좌 신청 안내 2015 10 08 15 37 15 37 자유게시판 앙클 산업기능요원 모집 공고 10 19월까지 2015 10 16 16 25 16 25 2015년 홈커밍데이 공지입니다 2015 10 16 15 49 15 49 졸업작품 전시회 투표 결과 2015 10 13 19 32 19 32 【장학지원】보건 복지 심리 재활분야 자격증 무료수강 2015 10 12 11 42 11 42 주 엔에스이 에서 개발자를 모집합니다 2015 09 30 13 30 13 30 취업게시판 대한상공회의소 교사직 사무직 연봉 4천이상 우편방 2015 10 19 16 05 16 05 특성화 주 KMW 인턴사원 모집공고 2015 09 23 14 31 14 31 ㈜인젠트 기술연구소 전문연구요원 모집 2015 09 14 11 54 11 54 펜타인 2015년도 신입사원 채용공고 2015 09 03 16 16 16 16 LIG인베니아 코스닥상장 LIG그룹사 디스플레이장비전 2015 09 03 14 01 14 01 VENTURESQUARE 신언론선언 Manifesto of New Journalism 2015 10 20 14 12 14 12 북부 경기문화창조허브 콘텐츠 크리에이터 프로그램 2015 10 20 14 00 14 00 많은 조언들이 경영 측면에서 위험할 수 있는 이유 2015 10 20 13 56 13 56 애드밸룬 국내 최초 VR콘텐츠를 이용 약시눈 개선 콘 2015 10 20 11 52 11 52 카카오 국내 최초 고급택시 호출 서비스 카카오택시 2015 10 20 10 19 10 19 전자신문 코바코 신입사원 10명 채용··· 불문 채용으로 지원자 2015 10 20 14 30 14 30 KTH 강릉관광개발공사와 ICT기반 관광서비스개발 협력 2015 10 20 14 29 14 29 파이어아이 토니 콜 CTO 글로벌 사이버 위협 진단 2015 10 20 14 22 14 22 KT 올레 기가 인터넷 출시 1년··· 가입자 70만 확보· 2015 10 20 13 04 13 04 미래부 뽐뿌 해킹사건은 홈페이지 보안 취약 탓 2015 10 20 12 20 12 20 RE CODE Before Apple TV Gets a Refresh It Gets Video 2015 10 20 15 00 15 00 Apple CEO Tim Cook Massive Change Is Coming 2015 10 20 14 07 14 07 Apple Music Has 6 5 Million Paying Subscribers 2015 10 20 12 53 12 53 Don t Have Cable or Care About Football Here 2015 10 20 11 12 11 12 Thumbtack Hires First CFO and Snags Top Politi 2015 10 20 08 37 08 37 Quick Navigation 한국기술교육대학교 홈페이지 한국기술교육대학교 WEBMAIL 한국기술교육대학교 온라인 평생교육원 교육역량강화사업 온라인 컨텐츠 IT 융합소프트웨어 인력양성사업 Campus Location Contact CSE 충청남도 천안시 동남구 병천면 충절로 1600한국기술교육대학교 컴퓨터공학부 학과사무실 TEL 041 560 1460 1461 FAX 041 560 1462 Facebook Twitter Google Plus Linkedin 31253 충청남도 천안시 동남구 병천면 충절로 1600 가전리 한국기술교육대학교 컴퓨터공학부 Copyright © 2015 All rights reserved\n",
      "\n",
      "(3) 출력 - 방법1\n",
      "{ 브라우저를 : 1 , Million : 1 , 1460 : 1 , 제4차 : 1 , Journalism : 1 , 있습니다 : 1 , 있는 : 1 , 공공장소에서 : 1 , 1년··· : 1 , 전문연구요원 : 1 , Campus : 1 , 입학 : 1 , 00 : 4 , 없습니다 : 1 , 수 : 3 , Plus : 1 , 접수 : 1 , 참여하세요 : 1 , 최초 : 2 , 위협 : 1 , 국제전시회 : 1 , 25 : 2 , 동남구 : 2 , rights : 1 , 20 : 17 , 출원 : 1 , 사이버 : 1 , 23 : 1 , Big : 1 , 토니 : 1 , 모집 : 2 , 학과사무실 : 1 , 29 : 2 , Here : 1 , 복지 : 1 , RE : 1 , 실무프로그래밍 : 1 , Hackathon : 1 , 2015 : 31 , 5 : 1 , 카카오 : 1 , 1461 : 1 , Top : 1 , 뽐뿌 : 1 , 아이디 : 1 , 홈페이지에 : 1 , 카카오택시 : 1 , 천안시 : 2 , 경우 : 1 , Cable : 1 , 닫더라도 : 1 , 6 : 1 , 국제적인 : 1 , Refresh : 1 , 탓 : 1 , 바로가기 : 2 , Quick : 1 , 조언들이 : 1 , 신청 : 1 , 가입자 : 1 , 소개 : 1 , 대한 : 1 , 수정 : 1 , 홈커밍데이 : 1 , Copyright : 1 , 측면에서 : 1 , 장학금 : 1 , 심리 : 1 , 56 : 2 , 53 : 4 , 52 : 2 , Gets : 2 , 해킹사건은 : 1 , CFO : 1 , t : 1 , 개선 : 1 , Registration : 1 , 신청서 : 1 , Education : 1 , 이유 : 1 , IT사업단 : 1 , 수준의 : 1 , 충절로 : 2 , Snags : 1 , WEBMAIL : 1 , 접속부터는 : 1 , 애드밸룬 : 1 , Empowerment : 1 , 졸업작품 : 1 , 엔에스이 : 1 , 기가 : 1 , 자료실 : 1 , Exhibition : 1 , 보안 : 1 , 서비스 : 1 , 기능을 : 1 , 4천이상 : 1 , 글로벌 : 4 , 전자신문 : 1 , 03 : 4 , 유지 : 2 , Korea : 2 , PW : 1 , for : 1 , 05 : 2 , 많은 : 1 , 무료수강 : 1 , 08 : 3 , 09 : 5 , 꼭 : 1 , 코스닥상장 : 1 , 신입사원 : 2 , 학부광장 : 1 , 산업기능요원 : 1 , 프로그램 : 1 , 신언론선언 : 1 , Cook : 1 , 앙클 : 1 , 소개합니다 : 1 , Football : 1 , School : 1 , 계속 : 1 , 학사안내 : 1 , 로그아웃을 : 1 , VENTURESQUARE : 1 , Study : 1 , 단 : 1 , 콘 : 1 , 크리에이터 : 1 , 우편방 : 1 , 미래부 : 1 , 협력 : 1 , 교사직 : 1 , 컴퓨터공학부 : 6 , TEL : 1 , 연봉 : 1 , 시 : 1 , Thumbtack : 1 , First : 1 , 평생교육원 : 1 , 개인정보가 : 1 , 다음 : 1 , 38 : 2 , 22 : 2 , of : 2 , 31 : 4 , 30 : 5 , 37 : 4 , 기술연구소 : 1 , 결과 : 1 , Wearable : 1 , 경기문화창조허브 : 1 , ICT기반 : 1 , Computer : 1 , 경영 : 1 , 2015년 : 1 , 관광서비스개발 : 1 , 공지사항 : 1 , Before : 1 , 주 : 2 , Contents : 1 , 대한상공회의소 : 1 , 콘텐츠 : 1 , 경쟁력 : 1 , Schoolfun : 1 , 찾기 : 1 , 출시 : 1 , 필요가 : 1 , Creative : 1 , KMW : 1 , 홈페이지 : 2 , 2015년도 : 1 , CODE : 1 , Music : 1 , 자격증 : 1 , Online : 1 , 해주세요 : 1 , reserved : 1 , CTO : 1 , 위험할 : 1 , Politi : 1 , 지원자 : 1 , 사용할 : 1 , 있으니 : 1 , © : 1 , 자유게시판 : 1 , 취약 : 1 , CSE : 1 , or : 1 , 041 : 2 , 호출 : 1 , Coming : 1 , 인터넷 : 1 , 지식재산권 : 1 , Care : 1 , CK : 1 , 70만 : 1 , LIG그룹사 : 1 , IoT : 1 , 로그인이 : 1 , Subscribers : 1 , Contact : 1 , 펜타인 : 1 , 560 : 2 , Science : 1 , 게임방 : 1 , 파이어아이 : 1 , 에서 : 1 , 로그인할 : 1 , 취업게시판 : 1 , Facebook : 1 , 모집공고 : 1 , 31253 : 1 , Fun : 1 , 특성화 : 5 , Navigation : 1 , 콜 : 1 , 32 : 2 , Apple : 3 , 11 : 8 , 10 : 28 , 13 : 11 , 12 : 11 , 15 : 9 , 14 : 18 , 올레 : 1 , 16 : 12 , 19 : 5 , 07 : 2 , Twitter : 1 , VR콘텐츠를 : 1 , 안내 : 2 , 병천면 : 2 , 등 : 1 , 강좌 : 1 , Engineering : 1 , Manifesto : 1 , Video : 1 , Change : 1 , 온라인 : 4 , Close : 1 , 1462 : 1 , 인력양성사업 : 3 , 공고 : 2 , 충청남도 : 2 , Location : 1 , and : 3 , 양성 : 1 , 마일리지 : 1 , 54 : 2 , 1600한국기술교육대학교 : 1 , 메카 : 2 , Don : 1 , 오신 : 1 , It : 1 , Tim : 1 , 19월까지 : 1 , 회원가입 : 1 , Has : 1 , New : 1 , 대학원 : 2 , 학교 : 1 , 컨텐츠 : 3 , 강릉관광개발공사와 : 1 , 04 : 2 , 개발자를 : 1 , LG : 1 , 국내 : 2 , Hires : 1 , 약시눈 : 1 , 49 : 2 , TV : 1 , 융합소프트웨어 : 3 , 채용공고 : 1 , 불문 : 1 , 42 : 2 , KT : 1 , FAX : 1 , 컨텐츠를 : 1 , Bang : 1 , LIG인베니아 : 1 , 채용으로 : 1 , 학부 : 1 , 구성원소개 : 1 , 공학교육인증 : 1 , 고취 : 1 , 것을환영합니다 : 1 , 로그인 : 4 , Paying : 1 , 북부 : 1 , About : 1 , 유지될 : 1 , 확보· : 1 , 가전리 : 1 , 10명 : 1 , 공지입니다 : 1 , I : 1 , 한국기술교육대학교 : 6 , 【장학지원】보건 : 1 , IT융합분야에 : 1 , IT : 5 , 채용··· : 1 , Capability : 1 , 01 : 2 , KTH : 1 , Massive : 1 , 유출될 : 1 , 교육역량강화사업 : 4 , 투표 : 1 , 모집합니다 : 1 , 재활분야 : 1 , ID : 1 , 디스플레이장비전 : 1 , a : 1 , ㈜인젠트 : 1 , All : 1 , Google : 1 , 진단 : 1 , 교육의 : 2 , 1600 : 1 , Is : 1 , 사무직 : 1 , Linkedin : 1 , 코바코 : 1 , IT전문인력 : 1 , CEO : 1 , 사물인터넷 : 1 , Have : 1 , 이용 : 2 , 비밀번호 : 1 , 고급택시 : 1 , 인턴사원 : 1 , 전시회 : 1 , }\n",
      "\n",
      "(4) 출력 - 방법2\n",
      "{'00': 4,\n",
      " '01': 2,\n",
      " '03': 4,\n",
      " '04': 2,\n",
      " '041': 2,\n",
      " '05': 2,\n",
      " '07': 2,\n",
      " '08': 3,\n",
      " '09': 5,\n",
      " '10': 28,\n",
      " '10명': 1,\n",
      " '11': 8,\n",
      " '12': 11,\n",
      " '13': 11,\n",
      " '14': 18,\n",
      " '1460': 1,\n",
      " '1461': 1,\n",
      " '1462': 1,\n",
      " '15': 9,\n",
      " '16': 12,\n",
      " '1600': 1,\n",
      " '1600한국기술교육대학교': 1,\n",
      " '19': 5,\n",
      " '19월까지': 1,\n",
      " '1년···': 1,\n",
      " '20': 17,\n",
      " '2015': 31,\n",
      " '2015년': 1,\n",
      " '2015년도': 1,\n",
      " '22': 2,\n",
      " '23': 1,\n",
      " '25': 2,\n",
      " '29': 2,\n",
      " '30': 5,\n",
      " '31': 4,\n",
      " '31253': 1,\n",
      " '32': 2,\n",
      " '37': 4,\n",
      " '38': 2,\n",
      " '42': 2,\n",
      " '49': 2,\n",
      " '4천이상': 1,\n",
      " '5': 1,\n",
      " '52': 2,\n",
      " '53': 4,\n",
      " '54': 2,\n",
      " '56': 2,\n",
      " '560': 2,\n",
      " '6': 1,\n",
      " '70만': 1,\n",
      " 'About': 1,\n",
      " 'All': 1,\n",
      " 'Apple': 3,\n",
      " 'Bang': 1,\n",
      " 'Before': 1,\n",
      " 'Big': 1,\n",
      " 'CEO': 1,\n",
      " 'CFO': 1,\n",
      " 'CK': 1,\n",
      " 'CODE': 1,\n",
      " 'CSE': 1,\n",
      " 'CTO': 1,\n",
      " 'Cable': 1,\n",
      " 'Campus': 1,\n",
      " 'Capability': 1,\n",
      " 'Care': 1,\n",
      " 'Change': 1,\n",
      " 'Close': 1,\n",
      " 'Coming': 1,\n",
      " 'Computer': 1,\n",
      " 'Contact': 1,\n",
      " 'Contents': 1,\n",
      " 'Cook': 1,\n",
      " 'Copyright': 1,\n",
      " 'Creative': 1,\n",
      " 'Don': 1,\n",
      " 'Education': 1,\n",
      " 'Empowerment': 1,\n",
      " 'Engineering': 1,\n",
      " 'Exhibition': 1,\n",
      " 'FAX': 1,\n",
      " 'Facebook': 1,\n",
      " 'First': 1,\n",
      " 'Football': 1,\n",
      " 'Fun': 1,\n",
      " 'Gets': 2,\n",
      " 'Google': 1,\n",
      " 'Hackathon': 1,\n",
      " 'Has': 1,\n",
      " 'Have': 1,\n",
      " 'Here': 1,\n",
      " 'Hires': 1,\n",
      " 'I': 1,\n",
      " 'ICT기반': 1,\n",
      " 'ID': 1,\n",
      " 'IT': 5,\n",
      " 'IT사업단': 1,\n",
      " 'IT융합분야에': 1,\n",
      " 'IT전문인력': 1,\n",
      " 'IoT': 1,\n",
      " 'Is': 1,\n",
      " 'It': 1,\n",
      " 'Journalism': 1,\n",
      " 'KMW': 1,\n",
      " 'KT': 1,\n",
      " 'KTH': 1,\n",
      " 'Korea': 2,\n",
      " 'LG': 1,\n",
      " 'LIG그룹사': 1,\n",
      " 'LIG인베니아': 1,\n",
      " 'Linkedin': 1,\n",
      " 'Location': 1,\n",
      " 'Manifesto': 1,\n",
      " 'Massive': 1,\n",
      " 'Million': 1,\n",
      " 'Music': 1,\n",
      " 'Navigation': 1,\n",
      " 'New': 1,\n",
      " 'Online': 1,\n",
      " 'PW': 1,\n",
      " 'Paying': 1,\n",
      " 'Plus': 1,\n",
      " 'Politi': 1,\n",
      " 'Quick': 1,\n",
      " 'RE': 1,\n",
      " 'Refresh': 1,\n",
      " 'Registration': 1,\n",
      " 'School': 1,\n",
      " 'Schoolfun': 1,\n",
      " 'Science': 1,\n",
      " 'Snags': 1,\n",
      " 'Study': 1,\n",
      " 'Subscribers': 1,\n",
      " 'TEL': 1,\n",
      " 'TV': 1,\n",
      " 'Thumbtack': 1,\n",
      " 'Tim': 1,\n",
      " 'Top': 1,\n",
      " 'Twitter': 1,\n",
      " 'VENTURESQUARE': 1,\n",
      " 'VR콘텐츠를': 1,\n",
      " 'Video': 1,\n",
      " 'WEBMAIL': 1,\n",
      " 'Wearable': 1,\n",
      " 'a': 1,\n",
      " 'and': 3,\n",
      " 'for': 1,\n",
      " 'of': 2,\n",
      " 'or': 1,\n",
      " 'reserved': 1,\n",
      " 'rights': 1,\n",
      " 't': 1,\n",
      " '©': 1,\n",
      " '【장학지원】보건': 1,\n",
      " '㈜인젠트': 1,\n",
      " '가입자': 1,\n",
      " '가전리': 1,\n",
      " '강릉관광개발공사와': 1,\n",
      " '강좌': 1,\n",
      " '개발자를': 1,\n",
      " '개선': 1,\n",
      " '개인정보가': 1,\n",
      " '것을환영합니다': 1,\n",
      " '게임방': 1,\n",
      " '결과': 1,\n",
      " '경기문화창조허브': 1,\n",
      " '경영': 1,\n",
      " '경우': 1,\n",
      " '경쟁력': 1,\n",
      " '계속': 1,\n",
      " '고급택시': 1,\n",
      " '고취': 1,\n",
      " '공고': 2,\n",
      " '공공장소에서': 1,\n",
      " '공지사항': 1,\n",
      " '공지입니다': 1,\n",
      " '공학교육인증': 1,\n",
      " '관광서비스개발': 1,\n",
      " '교사직': 1,\n",
      " '교육역량강화사업': 4,\n",
      " '교육의': 2,\n",
      " '구성원소개': 1,\n",
      " '국내': 2,\n",
      " '국제적인': 1,\n",
      " '국제전시회': 1,\n",
      " '글로벌': 4,\n",
      " '기가': 1,\n",
      " '기능을': 1,\n",
      " '기술연구소': 1,\n",
      " '꼭': 1,\n",
      " '다음': 1,\n",
      " '단': 1,\n",
      " '닫더라도': 1,\n",
      " '대학원': 2,\n",
      " '대한': 1,\n",
      " '대한상공회의소': 1,\n",
      " '동남구': 2,\n",
      " '등': 1,\n",
      " '디스플레이장비전': 1,\n",
      " '로그아웃을': 1,\n",
      " '로그인': 4,\n",
      " '로그인이': 1,\n",
      " '로그인할': 1,\n",
      " '마일리지': 1,\n",
      " '많은': 1,\n",
      " '메카': 2,\n",
      " '모집': 2,\n",
      " '모집공고': 1,\n",
      " '모집합니다': 1,\n",
      " '무료수강': 1,\n",
      " '미래부': 1,\n",
      " '바로가기': 2,\n",
      " '병천면': 2,\n",
      " '보안': 1,\n",
      " '복지': 1,\n",
      " '북부': 1,\n",
      " '불문': 1,\n",
      " '브라우저를': 1,\n",
      " '비밀번호': 1,\n",
      " '뽐뿌': 1,\n",
      " '사무직': 1,\n",
      " '사물인터넷': 1,\n",
      " '사용할': 1,\n",
      " '사이버': 1,\n",
      " '산업기능요원': 1,\n",
      " '서비스': 1,\n",
      " '소개': 1,\n",
      " '소개합니다': 1,\n",
      " '수': 3,\n",
      " '수정': 1,\n",
      " '수준의': 1,\n",
      " '시': 1,\n",
      " '신언론선언': 1,\n",
      " '신입사원': 2,\n",
      " '신청': 1,\n",
      " '신청서': 1,\n",
      " '실무프로그래밍': 1,\n",
      " '심리': 1,\n",
      " '아이디': 1,\n",
      " '안내': 2,\n",
      " '앙클': 1,\n",
      " '애드밸룬': 1,\n",
      " '약시눈': 1,\n",
      " '양성': 1,\n",
      " '없습니다': 1,\n",
      " '에서': 1,\n",
      " '엔에스이': 1,\n",
      " '연봉': 1,\n",
      " '오신': 1,\n",
      " '온라인': 4,\n",
      " '올레': 1,\n",
      " '우편방': 1,\n",
      " '위험할': 1,\n",
      " '위협': 1,\n",
      " '유지': 2,\n",
      " '유지될': 1,\n",
      " '유출될': 1,\n",
      " '융합소프트웨어': 3,\n",
      " '이용': 2,\n",
      " '이유': 1,\n",
      " '인력양성사업': 3,\n",
      " '인터넷': 1,\n",
      " '인턴사원': 1,\n",
      " '입학': 1,\n",
      " '있는': 1,\n",
      " '있습니다': 1,\n",
      " '있으니': 1,\n",
      " '자격증': 1,\n",
      " '자료실': 1,\n",
      " '자유게시판': 1,\n",
      " '장학금': 1,\n",
      " '재활분야': 1,\n",
      " '전문연구요원': 1,\n",
      " '전시회': 1,\n",
      " '전자신문': 1,\n",
      " '접속부터는': 1,\n",
      " '접수': 1,\n",
      " '제4차': 1,\n",
      " '조언들이': 1,\n",
      " '졸업작품': 1,\n",
      " '주': 2,\n",
      " '지식재산권': 1,\n",
      " '지원자': 1,\n",
      " '진단': 1,\n",
      " '참여하세요': 1,\n",
      " '찾기': 1,\n",
      " '채용···': 1,\n",
      " '채용공고': 1,\n",
      " '채용으로': 1,\n",
      " '천안시': 2,\n",
      " '최초': 2,\n",
      " '출시': 1,\n",
      " '출원': 1,\n",
      " '충절로': 2,\n",
      " '충청남도': 2,\n",
      " '취약': 1,\n",
      " '취업게시판': 1,\n",
      " '측면에서': 1,\n",
      " '카카오': 1,\n",
      " '카카오택시': 1,\n",
      " '컨텐츠': 3,\n",
      " '컨텐츠를': 1,\n",
      " '컴퓨터공학부': 6,\n",
      " '코바코': 1,\n",
      " '코스닥상장': 1,\n",
      " '콘': 1,\n",
      " '콘텐츠': 1,\n",
      " '콜': 1,\n",
      " '크리에이터': 1,\n",
      " '탓': 1,\n",
      " '토니': 1,\n",
      " '투표': 1,\n",
      " '특성화': 5,\n",
      " '파이어아이': 1,\n",
      " '펜타인': 1,\n",
      " '평생교육원': 1,\n",
      " '프로그램': 1,\n",
      " '필요가': 1,\n",
      " '학과사무실': 1,\n",
      " '학교': 1,\n",
      " '학부': 1,\n",
      " '학부광장': 1,\n",
      " '학사안내': 1,\n",
      " '한국기술교육대학교': 6,\n",
      " '해주세요': 1,\n",
      " '해킹사건은': 1,\n",
      " '협력': 1,\n",
      " '호출': 1,\n",
      " '홈커밍데이': 1,\n",
      " '홈페이지': 2,\n",
      " '홈페이지에': 1,\n",
      " '확보·': 1,\n",
      " '회원가입': 1}\n"
     ]
    }
   ],
   "source": [
    "# 이번 과제 기본 소스(컴퓨터공학부 홈페이지)\n",
    "import urllib2\n",
    "import string\n",
    "\n",
    "#----------------------------리스트를 한글깨짐없이 출력하기 위한 부분 ----------------------------(시작)\n",
    "import pprint\n",
    "class MyPrettyPrinter(pprint.PrettyPrinter):\n",
    "\tdef format(self, _object, context, maxlevels, level):\n",
    "\t\tif isinstance(_object, unicode):\n",
    "\t\t\treturn \"'%s'\" % _object.encode('utf8'), True, False\n",
    "\t\telif isinstance(_object, str):\n",
    "\t\t\t_object = unicode(_object,'utf8')\n",
    "\t\t\treturn \"'%s'\" % _object.encode('utf8'), True, False\n",
    "\t\treturn pprint.PrettyPrinter.format(self, _object, context, maxlevels, level)\n",
    "#----------------------------리스트를 한글깨짐없이 출력하기 위한 부분 ----------------------------(끝)\n",
    "\n",
    "source = urllib2.urlopen(\"http://cse.kut.ac.kr/\").read()\n",
    "\n",
    "for i in range(0, source.count('<!--')):\n",
    "    if source.find(\"<!--\") != -1:\n",
    "        source = source.replace(source[source.find(\"<!--\"):source.find(\"-->\")+3:],\"\")\n",
    "\n",
    "for i in range(0,source.count(\"<\")):\n",
    "    if source.find(\"<\") != -1:\n",
    "        source = source.replace(source[source.find(\"<\"):source.find(\">\")+1:],\"\")\n",
    "\n",
    "words = source.split()\n",
    "print \"(0) 단어 수 : \",\n",
    "print len(words)\n",
    "print\n",
    "\n",
    "# 태그가 제거된 공백으로 단어 구분되어있는 문자열\n",
    "s = ' '.join(words)\n",
    "\n",
    "#특수문자를 알맞게 변경\n",
    "b = unicode(s, encoding = 'utf-8')\n",
    "b = b.replace(u'‘', ' ')\n",
    "b = b.replace(u'’', ' ') \n",
    "#b = b.replace(u'·', ' ') \n",
    "s = b.replace(u'“', ' ') \n",
    "\n",
    "#구두문자 제거\n",
    "words = list(s)\n",
    "for i in range(len(words)):    \n",
    "    for k in range(len(string.punctuation)):\n",
    "        if(words[i] == string.punctuation[k]):\n",
    "            words[i] = ' '\n",
    "words = ''.join(words)\n",
    "print \"(1) 구두문자 제거된 문자열 : \",\n",
    "print words\n",
    "print\n",
    "\n",
    "#구두문자가 제거된 문자열을 공백을 제외한 리스트로 만들기\n",
    "words = words.split()\n",
    "print \"(2) 공백 제거된 문자 리스트 : \",\n",
    "for i in range(len(words)):\n",
    "    print words[i],\n",
    "print\n",
    "print\n",
    "\n",
    "#사전 만들고 카운트 세기\n",
    "counts = dict()\n",
    "for word in words:\n",
    "    if word not in counts:\n",
    "        counts[word] = 1\n",
    "    else:\n",
    "        counts[word] += 1\n",
    "\n",
    "#사전을 리스트로 만들어서 출력\n",
    "listkey = counts.keys()\n",
    "listvalue = counts.values()\n",
    "\n",
    "print \"(3) 출력 - 방법1\"\n",
    "print '{',\n",
    "for i in range(len(listkey)):\n",
    "    print listkey[i],\n",
    "    print ':',\n",
    "    print listvalue[i],\n",
    "    print ',',\n",
    "print '}'\n",
    "\n",
    "#사전을 한글 깨짐 없이 그대로 출력\n",
    "print\n",
    "print \"(4) 출력 - 방법2\"\n",
    "print MyPrettyPrinter().pformat(counts)"
   ]
  },
  {
   "cell_type": "markdown",
   "metadata": {},
   "source": [
    "#### 위의 출력은 (0) 단어수, (1) 구두문자가 제거된 문자열, (2) 공백 제거된 문자 리스트, (3) 사전 형태의 출력 1, (4) 출력 2 순서로 출력하였으며, 출력1, 2 방식은 아래에 설명하였습니다.\n",
    "#### 위의 소스는 컴퓨터공학부 홈페이지를 기준로 한 것이며,  설명 이후로 네이버, 다음, 타임즈 순으로  출력1 방식을 활용하여 출력하였습니다.\n",
    "#### 특수문자도 구두문자로 변경하여 제거하였는데, '·'문자는 구두문자가 아닌듯 하여 변경(제거)하지 않았습니다. \n",
    "\n",
    "* 우선 지난번 과제까지의 결과물인 단어들이 들어있는 리스트인 words를 이용하여 다시 공백으로 단어들을 연결한 문자열 s를 만듭니다.\n",
    "* 문자열 s에는 '의 모양을 한 특수한 문자들인 ‘와 같은 것들이 있지만, 이것을 제대로 인식하지 못하기 때문에 unicode(s, encoding = 'utf-8')와 replace 함수를 이용하여 특수 문자를 구두문자로 변경합니다.\n",
    "* 그 다음, 문자열에 들어있는 구두문자를 없애줘야 하므로, 변경이 불가능한 문자열을 변경이 가능한 리스트(words)로 변경합니다. => words = list(s)\n",
    "* 반복문을 통해서, words의 원소들을 하나하나 확인하는데, 이중 반복문을 통해 string.punctuation안에 들어있는 문자와 같은 것이 있는지 확인합니다. 만약 같다면 해당 문자를 ' '공백으로 변경합니다. 이와 같은 방식으로 리스트 안에 들어있는 구두문자를 제거합니다.\n",
    "* words = ''.join(words)를 통해 문자열로 만들어주고,  words.split()를 통해 공백을 제거한 리스트로 만들어 줍니다.\n",
    "* words 단어 리스트를 이용하여 사전을 만들기 전에, 우선 기본이 될 빈 사전을 counts = dict()함수를 활용하여 생성한 후, 단어 단위로 words리스트를 반복하는데, 만약에 해당 단어가 counts 사전에 없다면 추가하므로, counts[word] = 1이 되고, 만약 있다면, 해당 숫자를 1 증가시켜줍니다.\n",
    "* 반복문이 종료되면 문제에서 요구한 각 단어들의 출현빈도를 사전형태는 counts에 저장이 되었으나, 그대로 출력하게 되면 한글이 깨져서 출력되므로 키와 값을 리스트로 뽑아낸 다음 출력한 방법이 (3) 출력 - 방법1입니다.\n",
    "* (4) 출력 - 방법2는 소스의 앞부분에 제시된 MyPrettyPrinter클래스를 활용하여, 사전을 한글 깨짐 없이 출력하는 방식입니다. pprint의 출력 클래스를 상속받아 unicode 인 경우에는 UTF-8로 변환시킨 문자열을 리턴하고, 일반 UTF-8 인경우에는 애초 UTF-8로 되어 있던 문자도 다시 UTF-8로 인코딩시킨 유니코드를 다시 UTF-8로 반환한 결과를 리턴한 것입니다. 해당 방식은 인터넷을 통해 제시된 방식을 따온 것 입니다."
   ]
  },
  {
   "cell_type": "code",
   "execution_count": 49,
   "metadata": {
    "collapsed": false
   },
   "outputs": [
    {
     "name": "stdout",
     "output_type": "stream",
     "text": [
      "(3) 출력 - 방법1\n",
      "{ func : 7 , 라이센스 : 2 , 않아 : 1 , 시스템글꼴 : 1 , 344 : 1 , 345 : 1 , 346 : 1 , 340 : 1 , aut : 3 , SectionMain : 1 , 보이지 : 1 , 0000000293B4 : 2 , fieldset : 8 , 건강 : 2 , 타임스퀘어 : 2 , 212px : 1 , 간의 : 1 , 나만의 : 1 , FinanInput : 2 , 국정원 : 1 , 켜기 : 5 , 101168 : 1 , cmd : 1 , 298 : 1 , 296 : 1 , 293 : 2 , 3484 : 1 , 220323218769 : 1 , 20121206 : 1 , second : 1 , 생중계 : 1 , 277 : 1 , 방송 : 1 , 날 : 1 , LSD : 1 , 141548 : 1 , hide : 7 , atcmp : 25 , 141542 : 1 , selected : 2 , 무료로 : 2 , eco : 1 , new : 10 , net : 55 , Z0 : 1 , 앱스토어 : 1 , 경기 : 4 , 카페명 : 1 , 설치방법 : 1 , hmenu : 2 , 108 : 1 , 109 : 4 , 141511 : 1 , active : 1 , 100 : 16 , 101 : 1 , placeholder : 2 , 105 : 1 , 구독목록 : 1 , k : 12 , 문자받기 : 2 , 212 : 1 , N : 2 , Andro : 2 , changes : 1 , 완료 : 1 , campaign : 1 , 213 : 1 , replace : 3 , proposalGuide : 1 , 055 : 1 , 056 : 4 , txt : 23 , 050 : 1 , unit : 11 , 목요일 : 2 , er3 : 1 , 9C : 5 , 9B : 1 , 9E : 1 , 9D : 13 , 9F : 1 , 온스테이지 : 2 , localStorage : 8 , m3 : 1 , m2 : 1 , 딸 : 1 , preview : 1 , type : 76 , 1000 : 1 , 소송낸다 : 1 , 자동완성 : 12 , 99 : 5 , phone : 2 , qdt : 2 , 91 : 2 , 5위 : 1 , CommonFn : 3 , 95 : 11 , 94 : 9 , 97 : 1 , 96 : 4 , me : 2 , 0000000295F7 : 1 , 0000000295F4 : 2 , 0000000295F5 : 1 , join : 1 , 0000000295F1 : 1 , mm : 1 , mn : 18 , 검색해 : 1 , mk : 2 , nidreminder : 1 , mp : 1 , my : 7 , NOTICE : 2 , 플라멩고 : 1 , 553 : 2 , 설치하시겠습니까 : 2 , 캘린더이동 : 1 , 20131120 : 1 , absolute : 5 , enc : 2 , end : 1 , quot : 76 , hot : 6 , answer : 10 , config : 2 , description : 10 , after : 2 , 1007 : 1 , 나눔 : 1 , hotissue : 6 , slidingCookieExpDate : 1 , defaultservice : 10 , 전문자료 : 1 , green : 1 , 않습니다 : 2 , happybean : 3 , 144 : 2 , office : 1 , over : 1 , 시작페이지 : 3 , 않은 : 4 , before : 2 , ready1 : 3 , ready3 : 3 , ready2 : 3 , ime : 1 , img : 91 , pkid : 3 , sid1 : 20 , sid2 : 12 , 404 : 1 , hidden : 27 , cls : 1 , 뉴데일리 : 1 , break : 2 , 앱을 : 1 , rectype : 3 , 26567 : 2 , l : 7 , 일괄 : 1 , castbox : 1 , 372 : 1 , 374 : 1 , 376 : 1 , 391 : 1 , 390 : 3 , 396 : 1 , getXHRObject : 3 , logo : 4 , Type : 1 , sendError : 3 , isLoad : 3 , content : 1 , keys : 1 , 이상 : 1 , sliding : 3 , rk : 10 , 2015092322382765232 : 1 , 사진 : 2 , 경찰 : 1 , NPay : 2 , 241 : 1 , 1386819967423bvmqE : 1 , 243 : 1 , 무료입니다 : 1 , ntc : 2 , promotion6Close : 1 , setItem : 2 , 오브젝트의 : 1 , 만장굴 : 1 , 006 : 1 , 시리아와 : 2 , 사전 : 3 , naverpay : 1 , nhn : 61 , rank : 15 , 179 : 1 , 붉은 : 1 , comic : 3 , clickcr : 101 , 블로그 : 2 , service : 7 , top : 58 , isLogin : 1 , ton : 1 , sqare : 1 , target : 38 , keyword : 12 , 14535917 : 1 , 를 : 1 , 15879 : 2 , 혜택 : 1 , width : 41 , 회원가입 : 1 , Flicking : 1 , lbl : 6 , contents : 49 , 무휼 : 4 , 회사소개 : 1 , promotion6 : 1 , 노벨평화상 : 1 , nmenu : 1 , promotion8 : 1 , RightBanner : 1 , 삭제합니다 : 2 , acOff : 2 , 이슈 : 2 , 10월에는 : 1 , 연예 : 2 , coin : 4 , sub : 2 , dummy : 10 , slidingCookieName : 1 , dom : 1 , 2억9천만원짜리 : 1 , doc : 1 , m : 19 , runOnload : 6 , 주간 : 1 , 주가 : 1 , 0007930510 : 1 , 0000000DC4C1 : 2 , 투데이 : 1 , 오픈캐스트 : 1 , 769 : 1 , keywords : 1 , 185426156887 : 1 , run1 : 3 , 690 : 1 , run2 : 3 , headline : 1 , menu : 3 , occ : 3 , 고미술 : 2 , theme : 11 , do : 1 , dl : 17 , 마이데일리 : 1 , dd : 62 , sprh : 2 , 바로 : 1 , tsbCookieExpDate : 1 , da : 9 , 날날날 : 1 , 바로가기 : 5 , 0000000DC493 : 2 , report : 4 , dt : 16 , 전문지 : 1 , bar : 14 , 새창 : 1 , 주요서비스 : 1 , 416 : 1 , 417 : 1 , 410 : 1 , sethomepage : 1 , 0007930462 : 1 , reference : 1 , branding : 2 , 테크 : 1 , 회차 : 1 , num : 17 , result : 2 , w9 : 1 , 유지 : 1 , 06 : 1 , popularDay : 1 , gdid : 3 , 참여하세요 : 2 , muc : 3 , 366 : 1 , 367 : 1 , 364 : 1 , 자본론 : 2 , 362 : 1 , 연합뉴스 : 1 , 361 : 1 , wg : 3 , 정복한 : 2 , terms : 2 , nature : 2 , 문화유산 : 1 , f138 : 7 , ws : 1 , 385 : 1 , 386 : 1 , 스마트 : 1 , 388 : 1 , 주가검색 : 1 , 있을까 : 1 , wt170 : 2 , Dance : 2 , maxlength : 2 , login : 9 , sort2 : 1 , com : 187 , “실용성이 : 1 , 매체보기 : 2 , HNB : 3 , 생활 : 1 , 아즈텍 : 2 , height : 42 , 102 : 1 , 개인 : 2 , loaded : 1 , 네이버를 : 1 , 한국경제 : 1 , 255 : 3 , 임의로 : 1 , headlineList : 2 , RealTimeRank : 1 , 185648989122 : 1 , JSON : 2 , C8 : 3 , C0 : 3 , C7 : 3 , 선거일까지 : 1 , encnm : 2 , 증시 : 1 , 검색 : 6 , mcb : 3 , 363 : 1 , kosdaq : 1 , catch : 8 , 906 : 1 , bindImage : 3 , NMS : 4 , TV편성 : 2 , n : 4 , gnb : 2 , 보안로그인 : 1 , aid : 11 , 네이버캐스트홈 : 1 , 20150904 : 1 , 076 : 1 , 904 : 1 , ℃ : 2 , 075 : 1 , loadWS : 5 , 073 : 1 , ip : 4 , is : 2 , ir : 16 , 079 : 1 , im : 2 , in : 6 , ic : 12 , ie : 22 , id : 200 , if : 37 , 424px : 1 , jkjkiii : 3 , amount : 2 , urlencoded : 1 , 초대권 : 2 , 위해서는 : 2 , nid : 7 , 네이버 : 20 , 141536 : 1 , adshow : 7 , kin : 4 , Y : 12 , 후보에 : 1 , myTab : 1 , endic : 1 , contact : 1 , 지하철을 : 2 , 908 : 1 , left : 13 , 금수저 : 1 , photo : 2 , 없습니다 : 2 , 수 : 2 , flasharea : 1 , 개 : 1 , noscript : 2 , onload : 4 , 피는 : 2 , han : 1 , idinquiry : 1 , 닫기 : 13 , step2 : 3 , 동굴 : 1 , 10월 : 4 , 선호주제설정 : 1 , opt : 41 , lcs : 1 , ops : 3 , 물과 : 2 , background : 1 , 59 : 1 , 55 : 1 , phrasebook : 2 , 전차전 : 1 , 50 : 6 , 켜져 : 2 , 536 : 1 , htmlarea : 3 , 0007930675 : 1 , 539 : 1 , www : 39 , topclose : 1 , people : 1 , 9위 : 1 , 검색어로 : 1 , cnt : 4 , 057 : 1 , ico : 4 , for : 10 , bottom : 2 , 174016148965 : 1 , track : 1 , realrank : 1 , 421 : 1 , 533 : 1 , 422 : 1 , N드라이브 : 1 , thumb01 : 2 , 기록 : 3 , plc : 9 , 삭제 : 4 , post : 2 , 0px : 1 , 상태 : 1 , 기록을 : 1 , 경제 : 4 , Image : 1 , 열기 : 1 , atcmpStart : 1 , spamcheck : 1 , 지워주세요 : 1 , nautocomplete : 1 , down : 3 , 보기위해서는 : 1 , right : 3 , wrap : 15 , 가을에 : 2 , 바로이동 : 1 , 테일러 : 4 , 스포츠동아 : 1 , loginframe : 1 , gif : 18 , 29일 : 2 , gid : 2 , magazineS : 2 , 질문형 : 1 , 글꼴설정 : 4 , NBA : 3 , 20140701 : 1 , happy : 2 , head : 2 , form : 13 , 내사종결 : 1 , 저장할 : 1 , 증상 : 2 , 저장해 : 1 , true : 13 , 샤오미 : 8 , 끝나지 : 3 , 발생합니다 : 1 , 적립 : 1 , myBtn : 2 , 150 : 1 , 집살 : 1 , item : 11 , 159 : 1 , onmousedown : 1 , btnsm : 1 , 미리보기 : 1 , 저장되지 : 1 , 제대로 : 1 , 140992 : 1 , no : 5 , tit : 20 , stake : 1 , 14px : 1 , 검색어를 : 3 , test : 1 , ns : 4 , nv : 1 , 089 : 1 , 088 : 1 , E : 1 , 083 : 1 , 082 : 1 , 081 : 3 , 087 : 1 , 이용약관 : 2 , squ : 31 , 조희팔 : 1 , 아이디 : 4 , rolling : 2 , Array : 2 , frameborder : 6 , 98 : 8 , 친질라 : 1 , 10위 : 1 , 최신 : 3 , naver : 272 , appendJSDom : 5 , 171px : 1 , skip : 1 , global : 2 , focus : 5 , 90 : 7 , 41px : 1 , 역사 : 1 , flash : 3 , 원정출산 : 1 , 0 : 66 , finally : 1 , 코스피 : 1 , 네이버me : 1 , 콘크리트 : 2 , 캐스팅에 : 1 , 파인더 : 1 , 경우 : 2 , ncast : 1 , 0000000DD1B0 : 1 , 행복시간표 : 2 , 화 : 1 , word : 2 , 비행기서 : 1 , 한자사전 : 1 , dim : 1 , level : 2 , dic : 4 , p : 61 , 상태유지 : 1 , 15853 : 1 , 자세히보기 : 1 , div : 298 , dis : 1 , 해피빈 : 1 , fontfaq : 1 , 국민행복캠페인 : 2 , 34432 : 1 , 573712 : 2 , KOSDAQ : 1 , 고객센터 : 1 , hty : 1 , 시작페이지로 : 1 , life : 1 , 002AN : 3 , 지역 : 2 , 002AP : 3 , 002AT : 1 , 1019 : 4 , template : 20 , 1014 : 1 , 1377136122063nX8dd : 1 , 1016 : 2 , 1013 : 1 , 가계 : 1 , entertain : 1 , 위협은 : 1 , address : 2 , box : 7 , 함께 : 6 , 수사 : 1 , 최근 : 1 , rankTitle : 1 , bok : 3 , cpress : 1 , 정복 : 3 , MY뉴스 : 1 , ntop1 : 4 , ntop2 : 4 , ntop3 : 4 , 최초설치가 : 1 , fbm : 3 , 다음캐스트 : 2 , 7803E801 : 25 , 이미지 : 1 , 사용된다 : 2 , https : 20 , msg : 9 , 재설치 : 1 , helpcenter : 1 , 트와이스 : 5 , getElementsByTagName : 1 , myNewsStand : 2 , 평화 : 1 , isSupportedFlicking : 2 , 이전 : 4 , 주요 : 4 , 기존 : 1 , 검색등록 : 1 , 해킹사고 : 1 , 이 : 2 , iframe : 18 , 도움말 : 9 , createJSDom : 5 , 설치된 : 1 , substring : 1 , strHost : 1 , o : 4 , spo : 3 , 234 : 1 , ToolBar : 1 , 행복검색 : 1 , charset : 2 , 1 : 40 , OSEN : 1 , type2 : 1 , 않고 : 1 , economy : 1 , map : 8 , encpw : 2 , 143 : 1 , 140 : 13 , 149 : 1 , articleId : 1 , ranklist : 2 , date : 4 , 영어사전 : 1 , data : 90 , 크고…미세먼지 : 1 , ss : 3 , q : 3 , 기사보기 : 2 , sm : 36 , sl : 1 , LPOD : 12 , kospi : 1 , se : 1 , 간 : 2 , 092 : 4 , lst : 9 , nbsp : 1 , usemap : 2 , 증권 : 3 , group : 4 , fontcampaign : 1 , 랩 : 1 , NEWSSTAND : 1 , 복귀 : 1 , window : 11 , 938 : 1 , 데일리안 : 1 , recentBtnGroup : 1 , policy : 2 , mail : 3 , 931 : 1 , main : 29 , 937 : 1 , 936 : 1 , 935 : 1 , 6247 : 1 , finance : 7 , 세계관 : 2 , nsd : 4 , 자주 : 2 , nation : 2 , 다음페이지 : 4 , 10000000000030430963 : 1 , not : 1 , 빛으로 : 1 , name : 45 , 다운로드URL : 2 , em : 26 , square : 4 , 우리집 : 1 , 및 : 3 , 휴대폰번호 : 1 , 26 : 1 , NAVER : 2 , shopAdBox : 1 , container : 3 , 30566 : 1 , resultBox : 4 , ip보안 : 1 , newsStandUrl : 1 , 50px : 1 , 웹취약점 : 1 , frmNIDLogin : 2 , 920 : 1 , 도리화가 : 4 , 0000000DD4C5 : 1 , 0000000DD4C4 : 1 , 0000000DD4C6 : 1 , 924 : 1 , logintp : 1 , 레이어 : 7 , 부동산 : 3 , 뽐뿌 : 1 , support : 9 , 장윤주 : 4 , first : 1 , blind : 28 , 622 : 1 , accesskey : 5 , 255x174 : 1 , 자세히 : 1 , submit : 5 , vote : 1 , message : 1 , open : 5 , size : 2 , 349px : 1 , 뉴시스 : 1 , fms : 2 , 2 : 16 , userinfo : 1 , isIPAD : 1 , delDone : 1 , 색상으로 : 1 , tsNormal : 1 , webtop02 : 1 , copy : 29 , png : 5 , 11 : 10 , 10 : 14 , 13 : 2 , 12 : 5 , 17 : 1 , 16 : 1 , 18 : 1 , footer : 3 , removeUrl : 2 , pre : 5 , DL : 7 , XMLHttpRequest : 1 , 032 : 1 , 국어사전 : 1 , 031 : 1 , 동작하지 : 1 , 박차 : 1 , mktg : 1 , 만에 : 1 , noti : 3 , 선택 : 2 , 200 : 2 , 꽃 : 2 , 책 : 4 , 209 : 1 , nctg : 2 , beta : 1 , 나눔글꼴을 : 3 , sform : 2 , 000000 : 1 , 나눔글꼴이 : 2 , drive : 1 , 비밀번호 : 4 , mrf : 1 , mra : 3 , shop : 7 , 가 : 1 , 0130 : 3 , 040 : 1 , show : 1 , 강연 : 2 , 전쟁과 : 1 , checkbox : 2 , 가능합니다 : 2 , onloadDone : 4 , title : 75 , 첫 : 2 , 숨겨주는 : 1 , 못을 : 2 , 침묵의 : 2 , ranking : 1 , 시에 : 1 , get : 3 , keywordOff : 2 , 자동차 : 1 , 매거진 : 1 , 1위 : 1 , qlink : 1 , 검색어는 : 1 , 대한 : 1 , hangeul : 1 , 928 : 1 , 2415 : 1 , 대해 : 1 , 0000000DCA93 : 1 , 921 : 1 , 922 : 1 , 923 : 1 , where : 29 , 925 : 1 , 926 : 1 , 927 : 1 , relative : 3 , 네이버뉴스 : 1 , lnk : 1 , calendar : 1 , KOSPI : 1 , lnb : 1 , 주제별캐스트 : 1 , setRequestHeader : 2 , label : 14 , 지식iN : 2 , 3 : 7 , 0007930450 : 1 , XHRObject : 1 , notice : 5 , 로그아웃을 : 1 , ju : 1 , 날씨 : 2 , 수만년 : 2 , 해야 : 1 , jr : 1 , js : 9 , article : 3 , hanja : 1 , 예보 : 1 , 앱 : 5 , s : 28 , jindoAll : 1 , 공지사항 : 1 , 긍정부정검색 : 1 , appendChild : 1 , color : 2 , 월드뮤직 : 1 , period : 1 , 꺼져 : 3 , newsLazy : 1 , 위하여 : 1 , 3000 : 1 , 66 : 2 , cancel : 4 , Noti : 1 , dlerr : 4 , 쥬니버 : 1 , 종합 : 1 , 통합검색 : 1 , Beta : 1 , arti : 1 , M2Y1NWY5OWEtMmI3ZC00ODgxLThjMzktZTM5MTY0ZTQxMDg4 : 1 , 500 : 1 , 사용자가 : 2 , themecast : 7 , shopping : 5 , 635 : 1 , myNone : 1 , 구성에 : 1 , f94 : 3 , qst : 6 , 이곳에서 : 1 , UTF : 1 , 안내 : 3 , className : 3 , cast : 15 , 체크 : 1 , eid : 3 , newspaper : 1 , 평균수준 : 1 , margin : 6 , 각 : 1 , refreshLcs : 2 , 스위프트 : 3 , Content : 1 , 1404180734017L9GlL : 1 , 장기 : 2 , 지하궁전 : 2 , 48px : 1 , pay : 3 , 제주 : 1 , 찾는 : 1 , timesquareLazy : 1 , 사용 : 2 , html : 11 , jrnaver : 1 , 933879 : 4 , status : 5 , myBtnGroup : 1 , LogError : 9 , 싶다고요 : 1 , utf8 : 21 , oid : 12 , nidlogin : 2 , IT : 1 , JPEG : 9 , 직원 : 1 , clse : 1 , 버튼을 : 4 , 검색홈 : 1 , undefined : 7 , stripOutCommentBlock : 2 , capslock2 : 1 , 이전캐스트 : 2 , 214 : 1 , 215 : 1 , atc2 : 1 , 전 : 2 , 210 : 1 , 20141029 : 1 , 218 : 3 , uid : 2 , 강신준 : 1 , application : 1 , 라이프 : 1 , blog : 4 , 1380682280122iWYBa : 1 , pcode : 12 , 4 : 2 , nav : 10 , 0303 : 1 , 제공되지 : 1 , 추가하시려면 : 1 , read : 1 , A6 : 3 , mov : 4 , 575 : 1 , amp : 87 , 반드시 : 1 , 도착…오후 : 2 , 7802DF01 : 3 , t : 16 , 감정에 : 2 , 메일 : 1 , loadJS : 3 , DLScript : 32 , 68 : 1 , 영화 : 9 , 동영상 : 2 , tvc : 3 , ly1 : 1 , lotto : 18 , 과학 : 2 , 918 : 1 , 915 : 1 , 914 : 1 , 917 : 1 , 916 : 1 , 911 : 1 , 910 : 1 , 913 : 1 , 912 : 1 , amigo : 1 , 청소년보호정책 : 1 , 등록 : 3 , sports : 7 , onClick : 1 , 개인정보취급방침 : 1 , 역사인식과 : 1 , image7 : 1 , on : 6 , lastrank : 1 , ol : 2 , hideFlickingNoti : 2 , DB공격 : 1 , acr : 3 , acq : 2 , IP보안 : 2 , 논란 : 1 , ServiceMenu : 1 , os : 3 , responseText : 1 , 932 : 1 , image : 1 , 조재현 : 1 , 광고 : 6 , loginv4 : 2 , loginv3 : 1 , 78002101 : 3 , 미국령이에요 : 1 , cate : 5 , area : 7 , Cookie : 2 , NS : 12 , QR코드 : 1 , complete : 1 , 28470 : 2 , slidingOneTimeLink : 1 , 밝은 : 1 , IPAD : 1 , 방치 : 1 , readyState : 2 , unuse : 3 , 5343 : 1 , default : 1 , 606 : 8 , ad : 13 , newssa : 12 , 000000029627 : 1 , happypeople : 1 , hisoff : 4 , 음악 : 1 , onmouseout : 1 , 정열을 : 2 , cast2 : 6 , cast3 : 1 , 1115 : 1 , 934 : 1 , time : 9 , Element : 3 , 적외선 : 2 , 로직 : 1 , 127px : 1 , 연예계 : 1 , 아파트 : 1 , mask : 18 , 코스닥 : 1 , cpg : 5 , 열린연단 : 1 , u : 4 , 고수동굴 : 1 , 상영 : 4 , 영상 : 1 , all : 2 , 아이디어 : 2 , sch : 5 , 20130822 : 1 , 전문보기 : 2 , txtsm : 1 , alt : 46 , useWideLoginboxFlash : 1 , Themecast : 3 , 네이버SE : 1 , tx : 12 , re : 2 , tv : 1 , 차 : 1 , 뮤직 : 4 , init : 14 , eedic : 1 , homepage : 2 , tc : 11 , 윤리를 : 2 , nanum : 12 , 쓰는 : 1 , faq : 3 , diary : 1 , 총알 : 1 , nexearch : 28 , E7 : 3 , weeklyFcast : 1 , list : 31 , dsc : 7 , thmb : 3 , flick : 6 , groupbtm : 4 , 198 : 1 , 미국 : 1 , 프레임 : 1 , webkr : 1 , 018 : 1 , sug : 1 , 101427 : 1 , 선택하여 : 1 , section : 1 , 4월29일 : 1 , 다시 : 5 , Caps : 2 , TimeSquare : 2 , 검색어가 : 1 , 0000000DC492 : 1 , KBS : 1 , 0000000DC490 : 2 , method : 3 , 0000000DC495 : 1 , 2015032401 : 1 , 뉴스스탠드 : 2 , Msxml2 : 3 , strong : 40 , legend : 8 , 902 : 1 , 903 : 1 , search : 73 , 901 : 1 , 최근검색어에서 : 1 , 907 : 1 , codeElement : 2 , 905 : 1 , 339900 : 1 , 909 : 1 , getElementById : 12 , 78011B01 : 1 , rankup : 1 , action : 5 , 141534 : 1 , 흔적 : 2 , 찾기 : 2 , vis : 1 , capslock : 1 , href : 261 , 오늘의 : 1 , rollover : 3 , select : 4 , 855 : 1 , 게임 : 2 , localStorge : 2 , special2 : 1 , special1 : 1 , NewsCast : 1 , Corp : 1 , 6 : 10 , 보세요 : 2 , more : 1 , 오류 : 1 , company : 1 , 주요언론사 : 2 , 1024837 : 2 , 지킨다 : 2 , serviceNo : 9 , none : 41 , 중요 : 1 , des : 2 , det : 2 , 세계 : 2 , autocomplete : 2 , del : 2 , v : 4 , 영자지 : 1 , deg : 2 , 이전페이지 : 4 , 폴크스바겐 : 1 , quickNews : 3 , atcmpOff : 1 , adinfo : 1 , navertop : 1 , 물리산책 : 1 , 검색어 : 17 , 악용한 : 1 , 10년 : 1 , 로그인 : 8 , 0007930371 : 1 , ft : 1 , 0000000DC482 : 2 , 0007930680 : 2 , 183029396623 : 1 , marginheight : 4 , fl : 7 , response : 6 , a : 556 , dlunar : 1 , 수리 : 1 , typeof : 7 , 교수 : 1 , 주세요 : 1 , marginwidth : 4 , nmms : 2 , sectionList : 6 , 개인정보 : 1 , help : 30 , 있습니다 : 6 , disabled : 18 , 8위 : 1 , 단군을 : 2 , 24 : 2 , style : 55 , 20 : 8 , 23 : 4 , 관리가 : 1 , 29 : 1 , offMsg : 2 , Binder : 3 , autoFrame : 1 , return : 66 , 빈 : 1 , L : 2 , 2F : 2 , 받고도 : 1 , viewtype : 1 , 계십니다 : 1 , document : 17 , nsd152544150 : 1 , 운전자들 : 1 , 때는 : 4 , 이동 : 1 , 완료되지 : 1 , BaseURL : 1 , triangleImg : 1 , funoff : 4 , 생활위젯 : 1 , todo : 1 , event : 110 , sm841004 : 1 , HomePageSet : 4 , JEagleEyeClient : 4 , 국내 : 1 , health : 1 , 7 : 8 , 1414573382441BBnU5 : 1 , onfocus : 1 , 2단계 : 1 , 스위프 : 1 , EC : 59 , ED : 21 , EA : 16 , pub : 3 , EB : 15 , cookie : 1 , setTimeout : 9 , rect : 4 , 지하철 : 1 , 0000000DC480 : 2 , 아이엠낫 : 2 , 낭창 : 2 , tabindex : 5 , tsbOneTimeLink : 1 , encoding : 1 , number : 1 , done : 3 , blank : 38 , 평가 : 2 , 수행하면 : 1 , script : 18 , 단양 : 1 , 임산부 : 1 , style12 : 1 , userInfoUrl : 1 , 통신 : 1 , 가르칠 : 1 , ncy : 5 , option : 88 , 0000000DC4BE : 2 , 인물 : 3 , off : 1 , ncc : 37 , 5개월 : 1 , center : 2 , b : 34 , 입력 : 2 , stk : 4 , youth : 1 , sourceId : 1 , str : 2 , 인 : 1 , 2028 : 4 , 880 : 1 , 나눔글꼴 : 8 , 고객님의 : 1 , null : 2 , 3A : 1 , lif : 3 , reatcmp : 1 , 범위 : 1 , prsco : 1 , responseView : 1 , 단순자살 : 1 , ct5 : 1 , 메인을 : 2 , M : 1 , 첩보 : 1 , 용암의 : 2 , clearLS : 4 , 역사학 : 1 , 78 : 2 , mobile : 16 , clear : 1 , tpl : 3 , ko : 1 , 보기 : 2 , 삭제한 : 1 , 주의 : 1 , style7 : 1 , font : 2 , BA : 1 , nv1 : 3 , music : 6 , keypage : 1 , ques : 2 , 0007930768 : 1 , 8 : 10 , 00000002955F : 3 , 카페글 : 1 , 1015 : 1 , banner : 2 , 주제형캐스트 : 1 , initPage : 1 , 공연 : 2 , remove : 1 , sstatic : 5 , x : 2 , set : 8 , seq : 13 , 민족 : 2 , 312 : 1 , 311 : 1 , 310 : 1 , makeHomePage : 1 , 314 : 4 , sec : 12 , close : 9 , 전자신문 : 1 , GET : 1 , movie : 5 , nsd102758325 : 1 , 20130930 : 1 , 상승 : 12 , 나눔글꼴로 : 2 , popup : 6 , javascript : 33 , 이채언루트 : 2 , 홍반성 : 2 , 일본어사전 : 1 , mquick : 1 , logff : 1 , youthpolicy : 1 , c : 31 , 7위 : 1 , 북스 : 1 , 석회암의 : 2 , slkpage : 1 , newSmartSearch : 1 , 지식백과 : 1 , 2위 : 1 , header : 1 , 1100001014 : 1 , 박고 : 1 , 상반기 : 1 , pw : 4 , 최고”…판상형 : 1 , enctp : 2 , pg : 3 , empty : 1 , pm : 4 , 다음 : 4 , gap : 2 , gam : 3 , 이벤트 : 1 , naverSetHomepage : 1 , 공모전 : 2 , bill : 6 , isMyCast : 1 , match : 3 , behavior : 1 , error : 4 , mypc : 1 , guide : 11 , 일교차 : 1 , jpg : 29 , origin : 4 , 052 : 1 , 에르난 : 1 , 875 : 1 , rules : 4 , loadXI : 4 , onclick : 132 , 9 : 11 , 2039 : 1 , setHomePage : 2 , 카페 : 2 , bonus : 1 , alert : 2 , 003 : 3 , 002 : 1 , 001 : 24 , 13849286719871plIb : 1 , user : 1 , 005 : 1 , 전체언론사 : 2 , 009 : 1 , 008 : 4 , saveID : 2 , recent : 1 , CenterBanner : 1 , IDHERE2 : 1 , 끄기 : 7 , onmouseover : 1 , 용어사전 : 1 , 검색어저장 : 6 , 라이브 : 2 , shape : 4 , 최대 : 2 , atcmpCR : 8 , 까지 : 1 , 1074 : 1 , shortcut : 4 , 335 : 1 , rgb : 1 , location : 4 , input : 40 , 337 : 1 , mixpanel : 2 , 331 : 1 , bid : 3 , game : 1 , 940px : 1 , d : 24 , continue : 1 , 급상승 : 1 , 0007930772 : 1 , 기업을 : 2 , Font : 1 , onreadystatechange : 1 , 000000029619 : 1 , 000000029611 : 1 , 000000029613 : 1 , loadModule : 1 , retry : 4 , mkhome : 3 , delAll : 2 , coords : 4 , 308 : 1 , categoryNo : 9 , 300 : 2 , bn : 2 , 304 : 1 , 306 : 1 , bw : 2 , 재보궐선거 : 1 , br : 20 , by : 1 , cecs : 1 , idx : 2 , 공익 : 1 , B9 : 1 , 한국의 : 1 , 전신성 : 2 , 00000002961F : 1 , 수사에 : 2 , krdic : 1 , block : 2 , 원인 : 2 , 20120111 : 1 , lifesrch : 1 , formkey : 1 , NEW : 1 , 강무호 : 1 , nss : 2 , 물들이는 : 2 , atcmpIng : 1 , span : 582 , 천연 : 1 , long : 2 , 대만 : 1 , 실학자의 : 1 , 20150907 : 1 , 공용 : 1 , 직업의 : 1 , ie55 : 1 , spat : 10 , 여력있다 : 1 , maxLayer : 1 , 20131212 : 1 , link : 8 , createElement : 1 , line : 1 , myNewsInfo : 2 , info : 2 , prev : 3 , utf : 2 , cid : 5 , injectScripts : 3 , up : 26 , ul : 52 , highlight : 2 , z : 4 , 평소 : 1 , 사이트 : 3 , opencastNTopUrl : 1 , isMobile : 1 , pressInfo : 1 , 1354759546258c72lJ : 1 , svcmore : 3 , 생각한대로 : 1 , cafe : 4 , 120129967744 : 1 , 141506 : 1 , 141505 : 1 , TV : 1 , TS : 2 , 141509 : 1 , 141508 : 1 , A1 : 1 , A0 : 15 , A3 : 1 , 안하기 : 1 , A5 : 1 , A4 : 11 , A7 : 1 , svctype : 3 , A8 : 4 , newshome : 1 , 영영사전 : 1 , AC : 10 , 동시에 : 1 , AD : 4 , ly2 : 1 , AF : 2 , 않는 : 2 , intronhn : 1 , eval : 1 , 042 : 1 , land : 5 , e : 8 , svc : 18 , jpdic : 1 , TV캐스트 : 1 , 2009 : 1 , svr : 1 , tooltip3 : 1 , tooltip2 : 1 , tooltip1 : 1 , code : 16 , partial : 1 , nidregister : 1 , 라인 : 1 , 011 : 1 , toggle : 2 , 013 : 1 , 014 : 1 , 015 : 4 , ly3 : 1 , go : 1 , query : 30 , gi : 1 , 쓰인다 : 2 , send : 1 , 스페인의 : 2 , 설치 : 5 , appstore : 1 , 실시간 : 1 , 이용을 : 1 , 포토 : 1 , 170738992491 : 1 , button : 18 , 110px : 1 , try : 8 , tsbCookieName : 1 , help2 : 2 , 8시 : 2 , 학습 : 2 , opencast : 2 , acir : 10 , innerHTML : 1 , video : 2 , 웹툰 : 3 , 4위 : 1 , hspace : 1 , ct4 : 1 , index : 11 , ct6 : 1 , ct7 : 1 , ct1 : 13 , ct2 : 1 , ct3 : 1 , ct8 : 1 , zA : 1 , FlashNewsRoll : 1 , 기온 : 2 , body : 3 , urlshare : 1 , exchange : 3 , 440 : 1 , 447 : 1 , run3 : 3 , 최근검색어 : 2 , 문화콘텐츠 : 2 , 39 : 4 , 이유는 : 1 , 31 : 1 , 30 : 2 , 36 : 1 , 동아대 : 1 , 뉴스 : 8 , 더보기 : 3 , 339 : 1 , 338 : 1 , 활성화되었습니다 : 1 , 334 : 1 , app : 4 , 336 : 1 , showErrorDiv : 1 , 330 : 1 , 333 : 1 , 332 : 1 , 047 : 1 , api : 7 , 모든 : 2 , chb : 1 , 스포츠 : 9 , 켤 : 4 , chk : 5 , next : 8 , 368px : 1 , onStagePreview : 1 , navercorp : 3 , sort : 3 , src : 62 , mismatch : 4 , smartSearch : 3 , account : 7 , F3 : 3 , phinf : 10 , F6 : 3 , f : 10 , this : 131 , ActiveXObject : 1 , 궁궐을 : 2 , mask2 : 1 , 2Fwww : 1 , tab : 1 , 배너 : 1 , 제복 : 1 , 141371 : 1 , 모두 : 2 , naverapply : 1 , 정책 : 2 , 0715 : 10 , stock : 4 , 패밀리 : 1 , 1X1 : 10 , inst : 2 , 940 : 1 , 제휴제안 : 1 , 하이라이트 : 2 , 지글아이 : 1 , 인물과 : 1 , 전송은 : 1 , 본다 : 1 , 아이콘을 : 1 , optgroup : 4 , 136 : 1 , 135 : 1 , 139 : 2 , 138 : 11 , write : 1 , tsi : 12 , onStage : 1 , tsb : 3 , li : 178 , h2 : 14 , 로봇에게 : 2 , 2015 : 12 , 2014 : 10 , 2011 : 2 , 2013 : 1 , ly : 9 , flex : 1 , PC에서 : 1 , ckeys : 5 , auto : 2 , 025 : 1 , 024 : 1 , NewsStand : 3 , 021 : 1 , 020 : 1 , 023 : 1 , 022 : 1 , 빠른 : 1 , 029 : 1 , 028 : 1 , nrefreshx : 7 , 구독설정 : 1 , edit : 8 , 법정에 : 1 , hangame : 2 , slide : 1 , scrollbar : 9 , 185122692668 : 1 , mode : 19 , 번호는 : 1 , tvcast : 5 , 랭킹뉴스 : 1 , loadDS : 3 , 자살사건 : 1 , 89 : 3 , static : 39 , 82 : 22 , 83 : 4 , 80 : 4 , 글로벌 : 3 , 84 : 15 , 85 : 1 , category : 2 , 시사상식 : 3 , entertainment : 1 , rev : 1 , ref : 1 , 15521 : 1 , 580 : 1 , isYeonhapFlash : 12 , 0000000295F2 : 1 , 설치하세요 : 1 , log : 2 , quS : 10 , g : 8 , 8B : 3 , 8C : 3 , 더블 : 1 , 8A : 9 , 8F : 5 , 8D : 1 , 8E : 2 , length : 9 , AdMobile : 1 , 금강산 : 2 , 103624295628 : 1 , naverapp : 1 , 000000029632 : 2 , 000000029631 : 2 , 456 : 1 , 000000029635 : 2 , 해주세요 : 1 , RegExp : 1 , 지디넷코리아 : 1 , 224940510 : 1 , 벽에 : 2 , privacy : 2 , 5543 : 1 , arw : 1 , 약관 : 1 , 검색어삭제 : 1 , finan : 6 , delMode : 1 , 조던의 : 3 , 가볍고 : 1 , recentNone : 1 , 폰트를 : 1 , 서울신문 : 1 , var : 62 , 0000000DC4C0 : 2 , promotion6Link : 1 , 0000000DC4C2 : 2 , 0000000DC4C3 : 2 , openlectures : 2 , 해 : 1 , 유형 : 1 , onWindowLoad : 1 , false : 37 , 메뉴 : 2 , 한글캠페인 : 1 , 389 : 1 , border : 3 , 확인되지 : 2 , min : 4 , mid : 20 , 326 : 1 , 327 : 4 , 328 : 1 , 329 : 1 , 보안관 : 1 , 56 : 7 , 확인 : 1 , sise : 4 , 60573 : 1 , 174px : 1 , getItem : 2 , class : 630 , 때문 : 1 , popup1 : 1 , popup2 : 1 , ckb : 2 , url : 13 , Lock : 2 , 사용하고 : 1 , PC에서는 : 1 , text : 43 , 보내기 : 1 , 신청 : 2 , area2 : 1 , 2012 : 1 , local : 2 , 신고 : 4 , 368 : 4 , 120 : 2 , 122 : 1 , 123 : 1 , words : 11 , 0000882214 : 1 , scrolling : 4 , 신과 : 6 , qr : 2 , qu : 2 , 조정석 : 4 , h : 17 , quSXI : 8 , 펼치기 : 6 , 범죄 : 1 , shm : 1 , view : 3 , newspaperUrl : 1 , svcmap : 1 , Question : 1 , scroll9 : 1 , 038 : 1 , 039 : 6 , 서비스 : 2 , 기능을 : 5 , 030 : 4 , btn : 15 , 034 : 8 , fmenu : 2 , 단풍나무 : 1 , 기능이 : 5 , state : 6 , timesquare : 3 , thumbnail : 1 , localnum : 1 , 카테고리 : 1 , 6위 : 1 , 70862 : 1 , thumb : 21 , 캐리어 : 4 , 다운로드 : 3 , 플래시 : 1 , etc : 7 , 행사 : 3 , 384 : 1 , 확보한 : 1 , cl : 2 , 387 : 1 , 골란고원 : 1 , hm2 : 7 , hm3 : 1 , happysearch : 1 , news : 45 , tabIndex : 5 , 필요합니다 : 1 , 국사편찬위…집필진 : 1 , 939 : 1 , newscast : 1 , json : 2 , 00000002962A : 1 , 마르크스 : 2 , 일회용 : 1 , 경우에 : 1 , 000000029629 : 1 , 000000029628 : 1 , 한게임 : 1 , 933 : 1 , Wiget : 1 , tsw : 1 , 이스라엘 : 2 , 930 : 1 , recentDelBtnGroup : 1 , navercast : 16 , value : 86 , vspace : 1 , 영어 : 3 , tsq : 18 , 신규 : 1 , 주제별 : 1 , 금융 : 1 , site : 2 , faqId : 3 , expwide : 1 , 포함 : 2 , 홈 : 3 , 그대에게 : 1 , 합니다 : 1 , 수행 : 2 , http : 218 , promo : 1 , v2 : 2 , 보호를 : 1 , 입력하신 : 1 , onFocus : 1 , 일정 : 4 , vlive : 1 , expand : 1 , 사이트로 : 1 , 0000000DC4BF : 2 , 단체상봉 : 2 , 0000000DC4BD : 2 , 0000000DC4BC : 2 , 0000000DC4BB : 2 , i : 14 , 1380700968014yK8U3 : 1 , 쇼핑 : 2 , 357 : 1 , 356 : 1 , 354 : 1 , command : 1 , position : 8 , cafeblog : 1 , BD : 5 , BF : 6 , nv2 : 3 , BB : 5 , BC : 12 , tcb : 1 , tcc : 60 , web : 4 , XMLHTTP : 4 , 0731 : 1 , 단체회원 : 1 , 289 : 1 , add : 9 , 취소 : 2 , 5 : 11 , 285 : 1 , smart : 2 , 공모전에 : 2 , newsstand : 27 , 플레이어를 : 1 , desk : 1 , press : 3 , 내역이 : 1 , 016 : 2 , password : 1 , desc : 1 , 바뀐다 : 1 , 웹문서 : 1 , 141556 : 2 , B4 : 3 , B5 : 7 , B0 : 10 , B1 : 5 , B2 : 3 , B3 : 2 , 설정 : 3 , B8 : 14 , page : 1 , 로봇윤리 : 1 , 지도 : 3 , 117 : 5 , 111 : 1 , 110 : 6 , home : 1 , 78005501 : 28 , 20131002 : 2 , 현재 : 6 , 내PC : 1 , 내 : 11 , 강동대학교 : 4 , 59px : 1 , opencastUrl : 1 , indexOf : 2 , 강연신청 : 1 , 원 : 1 , 네이버캐스트 : 2 , 13805318523601QeI3 : 1 , 044 : 1 , 코르테스 : 1 , Microsoft : 1 , panel : 2 , column : 4 , pointevent : 1 , 회화 : 3 , 시조로 : 2 , UI : 2 , 쇼핑캐스트 : 3 , 0000000DD44D : 3 , h3 : 14 , h1 : 2 , h4 : 16 , weather : 18 , 1987 : 4 , svcm : 1 , val : 2 , smit : 4 , images11 : 4 , 이산가족 : 2 , function : 27 , 해제 : 2 , 0007930626 : 1 , hr : 4 , brand : 1 , npay : 1 , getSingle : 3 , hm : 2 , hb : 1 , 백과사전 : 1 , isOnload : 3 , j : 3 , lve : 11 , setf : 5 , books : 1 , 40971 : 1 , CDATA : 6 , 99674 : 1 , display : 40 , postDataKey : 2 , 0007930446 : 1 , int : 2 , pid : 1 , 머니투데이 : 1 , 만성기침의 : 2 , MSG : 2 , 클릭하세요 : 4 , NULL : 1 , recentTab : 1 , newss : 5 , 81 : 1 , 저장 : 2 , 43 : 1 , 40 : 2 , 41 : 1 , book : 4 , 설정된 : 2 , 158px : 1 , 전체 : 2 , 새로운 : 2 , 전체보기 : 1 , star : 1 , bundle : 6 , atcmp15 : 3 , jinsuk1127 : 1 , else : 11 , 3위 : 1 , hnb : 1 , 변경에 : 1 , 78000C01 : 1 , nvlong : 2 , 마이클 : 3 , }\n"
     ]
    }
   ],
   "source": [
    "# 이번 과제 1(네이버)\n",
    "import urllib2\n",
    "import string\n",
    "\n",
    "source = urllib2.urlopen(\"http://www.naver.com\").read()\n",
    "\n",
    "for i in range(0, source.count('<!--')):\n",
    "    if source.find(\"<!--\") != -1:\n",
    "        source = source.replace(source[source.find(\"<!--\"):source.find(\"-->\")+3:],\"\")\n",
    "\n",
    "for i in range(0,source.count(\"<\")):\n",
    "    if source.find(\"<\") != -1:\n",
    "        source = source.replace(source[source.find(\"<\"):source.find(\">\")+1:],\"\")\n",
    "\n",
    "words = source.split()\n",
    "#print \"(0)) 단어 수 : \",\n",
    "#print len(words)\n",
    "#print\n",
    "\n",
    "# 태그가 제거된 공백으로 단어 구분되어있는 문자열\n",
    "s = ' '.join(words)\n",
    "\n",
    "#특수문자를 알맞게 변경\n",
    "b = unicode(s, encoding = 'utf-8')\n",
    "b = b.replace(u'‘', ' ')\n",
    "s = b.replace(u'’', ' ') \n",
    "\n",
    "#구두문자 제거\n",
    "words = list(s)\n",
    "for i in range(len(words)):    \n",
    "    for k in range(len(string.punctuation)):\n",
    "        if(words[i] == string.punctuation[k]):\n",
    "            words[i] = ' '\n",
    "words = ''.join(words)\n",
    "#print \"(1) 구두문자 제거된 문자열 : \",\n",
    "#print words\n",
    "#print\n",
    "\n",
    "#구두문자가 제거된 문자열을 공백을 제외한 리스트로 만들기\n",
    "words = words.split()\n",
    "#print \"(2) 공백 제거된 문자 리스트 : \",\n",
    "#for i in range(len(words)):\n",
    "#    print words[i],\n",
    "#print\n",
    "#print\n",
    "\n",
    "#사전 만들고 카운트 세기\n",
    "counts = dict()\n",
    "for word in words:\n",
    "    if word not in counts:\n",
    "        counts[word] = 1\n",
    "    else:\n",
    "        counts[word] += 1\n",
    "\n",
    "#사전을 리스트로 만들어서 출력\n",
    "listkey = counts.keys()\n",
    "listvalue = counts.values()\n",
    "\n",
    "print \"(3) 출력 - 방법1\"\n",
    "print '{',\n",
    "for i in range(len(listkey)):\n",
    "    print listkey[i],\n",
    "    print ':',\n",
    "    print listvalue[i],\n",
    "    print ',',\n",
    "print '}'\n",
    "\n",
    "#사전을 한글 깨짐 없이 그대로 출력\n",
    "#print\n",
    "#print \"(4) 출력 - 방법2\"\n",
    "#print MyPrettyPrinter().pformat(counts)"
   ]
  },
  {
   "cell_type": "code",
   "execution_count": 50,
   "metadata": {
    "collapsed": false
   },
   "outputs": [
    {
     "name": "stdout",
     "output_type": "stream",
     "text": [
      "(3) 출력 - 방법1\n",
      "{ 6px : 39 , shoppingTotalPageNum : 1 , suggestBox : 77 , 31px : 8 , 120614 : 1 , 620px : 1 , verdana : 1 , pwdLabel : 1 , 생존인간 : 1 , 날짜 : 1 , fieldset : 3 , 279px : 2 , 120120 : 2 , 효린 : 1 , internet : 1 , 212px : 1 , 36a0e4 : 1 , loginForm : 1 , 164px : 2 , 380px : 7 , 링크모음 : 3 , 상황 : 1 , 9px : 34 , clipid : 6 , 291 : 1 , 종료 : 1 , direct : 1 , 핼러윈 : 1 , 278 : 1 , 83px : 5 , blue : 1 , item8 : 2 , item9 : 2 , hide : 47 , item2 : 2 , item3 : 2 , item1 : 2 , item6 : 2 , 152px : 1 , item4 : 2 , item5 : 2 , new : 13 , net : 230 , bestlikeTab : 1 , tvpotTab : 1 , 182px : 1 , CCWq5 : 1 , 265px : 2 , menuyn : 1 , protection : 1 , 싶어 : 1 , active : 4 , 103 : 2 , 100 : 24 , 101 : 1 , 200px : 8 , 페이지8 : 1 , 페이지9 : 1 , kids : 1 , CB5L3 : 1 , 98px : 4 , 페이지4 : 1 , 페이지7 : 2 , 봐도 : 1 , 상승120 : 2 , lainydays : 1 , 맞다 : 1 , 5tab : 2 , 파 : 1 , 113px : 2 , visible : 2 , f73a40 : 1 , txt : 306 , 하마터면 : 1 , adCgiTimeSponsor : 2 , 500px : 1 , 9C : 1 , 9B : 2 , 9E : 2 , 383b42 : 2 , 캔키즈 : 1 , adCgiTodayBrand : 2 , type : 34 , 273px : 1 , relay : 2 , 43 : 1 , 99 : 15 , phone : 3 , 91 : 3 , 90 : 8 , 95 : 12 , 94 : 4 , 97 : 2 , appimport : 1 , join : 4 , 십이야 : 1 , 유감 : 1 , ms : 1 , my : 24 , 64px : 3 , give : 4 , 555 : 7 , fjpg : 6 , 천안시 : 1 , 악수 : 1 , 19px : 24 , 425px : 2 , type1 : 3 , type3 : 3 , absolute : 58 , 우아한 : 1 , end : 1 , quot : 12 , feature : 5 , 132px : 1 , w26 : 2 , w27 : 2 , w24 : 2 , w25 : 2 , w22 : 2 , w23 : 2 , w20 : 2 , w21 : 2 , answer : 2 , w28 : 2 , w29 : 2 , A : 17 , 캔자스시티 : 1 , beauty : 1 , ㅋ : 1 , 50px : 13 , lab : 13 , 79px : 3 , 264px : 1 , bookTab : 1 , viewport10 : 1 , 나눠 : 1 , 1246530 : 1 , 국정교과서 : 1 , enter : 3 , daumkakao : 4 , dee1e6 : 1 , deco : 62 , 844px : 1 , 11번가 : 1 , 416px : 2 , 특가1만원대 : 1 , caster : 1 , before : 3 , ime : 2 , 20151019170935 : 1 , img : 306 , shopTabIndex : 4 , 제일 : 1 , 6GsUm : 1 , imp : 3 , 고급진예쁨 : 1 , 258px : 2 , hidden : 129 , adBrandingStation : 1 , 현위치 : 1 , 70px : 6 , 절차상 : 1 , 363b4a : 1 , 144340 : 1 , adHourTen : 1 , 지국장 : 1 , 378 : 1 , specialPageNum : 1 , arrow : 3 , 9℃ : 1 , 연재 : 1 , 660px : 3 , 232px : 1 , t2 : 6 , 13px : 77 , 450px : 2 , 3tab : 2 , 399 : 1 , 990px : 3 , shopbest : 38 , realtime : 40 , gradient : 4 , 1870px : 1 , content : 19 , i1 : 55 , 체 : 1 , reader : 22 , linear : 4 , 목소리의 : 1 , shopping1Tab : 1 , 51px : 2 , 349px : 2 , 만화홈 : 1 , 541px : 2 , 1w : 2 , 모습만 : 1 , playlistid : 5 , filter : 2 , shop4tabIndex : 1 , 81838c : 1 , 남북한 : 1 , setpage : 1 , 사전 : 2 , 454545 : 1 , 5983288 : 1 , 43px : 6 , rank : 52 , 224px : 3 , C2Awj : 1 , service : 60 , top : 300 , tot : 24 , 북핵 : 1 , 295px : 1 , 약관 : 1 , 가을 : 1 , 뭐 : 1 , 339px : 2 , 71px : 3 , target : 30 , keyword : 3 , funGrpTab : 1 , project : 3 , 376px : 1 , 675px : 1 , minus : 1 , realestate : 12 , Q0 : 1 , fashion : 1 , 103px : 6 , 먹고 : 1 , 얼굴 : 1 , blogTab : 1 , 67px : 3 , 회원가입 : 1 , XGsIH9ZPiys0 : 1 , contents : 5 , 557df6 : 1 , 회사소개 : 1 , 클라우드 : 1 , 3a5fb9 : 1 , 650px : 1 , 문제 : 1 , 3f8af9 : 1 , e5e5e5 : 2 , 2873 : 1 , 33532 : 1 , 248px : 3 , 33535 : 1 , 특급콜라보 : 1 , myset : 19 , 핏 : 1 , 이슈 : 2 , scripts : 1 , 연예 : 2 , 309px : 1 , dummy : 10 , doc : 4 , m : 3 , dot : 3 , 한듯 : 1 , 195px : 1 , item7 : 2 , 미즈넷 : 2 , broadcastTab : 1 , a9266da429ab4f1f9ef98a644ecfa36c : 1 , 949494 : 1 , 690 : 16 , tabid : 1 , layout : 16 , headline : 32 , menu : 1 , dotum : 8 , theme : 2 , 잇다 : 1 , 148px : 1 , CCX4I : 1 , plate : 15 , tiles : 37 , DQP : 20 , 628px : 1 , 20151020114522512 : 1 , dd : 2 , 바로 : 22 , ㅎ : 1 , 예비비 : 1 , 바로가기 : 7 , X : 1 , dt : 2 , bar : 4 , 699px : 1 , 이메일 : 1 , tvTab : 1 , 서비스약관 : 1 , 100px : 11 , num : 112 , radius : 1 , best : 5 , 7a7c83 : 1 , 02 : 1 , 유지 : 1 , 06 : 2 , CCBRQ : 1 , away : 2 , 4e82ee : 5 , score : 6 , 통합 : 1 , 2FKC : 1 , ㄹ : 1 , 364 : 1 , 005dde : 1 , 없어도 : 1 , wa : 1 , 183px : 1 , THEME : 1 , news : 25 , protect : 4 , 203px : 1 , recomsvc : 4 , mycafe : 4 , cod : 3 , 208px : 2 , login : 56 , com : 10 , bbsId : 2 , 597px : 1 , 0QH19 : 1 , 46475b : 1 , height : 432 , 102 : 1 , 118px : 2 , shortcut : 7 , shoppingRecommentBestSaleNextBtn : 1 , 대박 : 1 , 112px : 3 , basis : 9 , 125px : 6 , loginbtn : 1 , 9b01bc : 1 , bottommenu : 1 , 못하는데 : 1 , 105 : 5 , 71754732 : 1 , 149px : 1 , life : 12 , 검색 : 3 , shop5tabIndex : 1 , infopolicy : 1 , 627px : 1 , kosdaq : 1 , catch : 1 , 티스토리 : 1 , 161 : 1 , 할 : 1 , loginbox : 3 , 20151020135435 : 1 , 750px : 1 , 링크를 : 22 , 상봉단 : 1 , cont : 303 , 최고의 : 1 , ir : 1 , 올가을에 : 1 , 확인하시려면 : 22 , 0℃ : 2 , loginSubmit : 1 , 20151020125048392 : 1 , in : 5 , id : 147 , minitoday : 4 , suggest : 42 , 5778ff : 1 , 4tab : 2 , tv팟홈 : 1 , 비례대표제 : 1 , split : 1 , eaebef : 4 , 단독조사 : 1 , nil : 24 , shtml : 1 , adClock : 1 , i2 : 3 , 넥슨플레이 : 1 , 155px : 2 , 180px : 8 , 6eqiQ : 1 , 7c7c7c : 1 , 263px : 1 , 관심 : 1 , 현대H몰 : 1 , 20151020143155 : 1 , biz : 2 , left : 276 , 개선해야 : 1 , photo : 11 , 33526 : 1 , 전망대에 : 1 , 757474 : 3 , quotes : 1 , f25334 : 1 , 인기 : 1 , 흘러나온 : 1 , 패션 : 1 , 되살렸지만 : 1 , 115px : 1 , 0K905 : 1 , bnr : 4 , 447px : 1 , 0K906 : 1 , 닫기 : 2 , 정체는 : 1 , rightbtm : 6 , save : 2 , 10월 : 1 , 3px : 25 , linkSecurity : 1 , 20151020 : 10 , background : 472 , shadow : 3 , mediaTitle : 1 , shoppingTitle : 1 , 59 : 1 , 367px : 1 , 1559 : 7 , 50 : 1 , 55 : 1 , 21px : 20 , 2c74e0 : 1 , security : 4 , 467px : 1 , 383px : 1 , 8035 : 1 , www : 11 , right : 89 , 466px : 1 , daumapp : 7 , ea570a : 1 , 9위 : 2 , 가져오기 : 22 , specialPrevBtn : 1 , 총 : 7 , 이용약관 : 1 , ico : 203 , for : 4 , bottom : 55 , 427px : 3 , 73809851 : 1 , 400px : 13 , 130px : 8 , bold : 21 , 196adb : 2 , 엄마의 : 1 , 52px : 7 , post : 1 , 0px : 2 , storyballTab : 1 , storyball : 16 , o : 1 , 9A : 1 , plus : 1 , 출연자 : 1 , 546px : 1 , 후속대책 : 1 , float : 113 , 25707 : 1 , 9D : 8 , down : 5 , 42px : 8 , bestshop : 2 , wrap : 178 , CCAep : 1 , 69px : 3 , cafehot : 1 , 하게 : 1 , 24adc0 : 1 , top13 : 1 , gallery : 1 , gif : 14 , gid : 1 , 89px : 5 , Corp : 1 , head : 8 , form : 2 , 점퍼 : 1 , lbStln : 1 , 빈프레임 : 4 , rissue : 20 , true : 10 , 222 : 4 , 220 : 1 , reset : 2 , 9999 : 1 , e46791d8f5fc4d2da28ad3ea6c69325e : 1 , broadcastLink : 1 , 체형커버 : 1 , 144633 : 1 , 백령도 : 1 , 20px : 32 , temper : 17 , 토론토 : 1 , 오늘의 : 4 , labid : 2 , 신규진입 : 2 , issuerank : 3 , 355px : 1 , 66px : 15 , check : 2 , dotted : 1 , no : 35 , tit : 331 , 105443109 : 1 , 로드뷰 : 1 , tip : 22 , 14px : 61 , roll : 11 , 내또래 : 1 , 골절된다 : 1 , 절망 : 1 , 70942882 : 1 , HOT : 1 , 775px : 1 , rolling : 1 , 20121016 : 1 , frameborder : 2 , 접근성 : 1 , 53px : 8 , 1806 : 1 , 앞머리 : 1 , 98 : 8 , 10위 : 2 , fst : 10 , 301px : 1 , push : 3 , 중앙대학교 : 2 , 전등 : 1 , webtoon : 24 , 91px : 1 , 171px : 3 , focus : 2 , 정의장 : 1 , conthome : 9 , 5위 : 2 , 41px : 13 , 있으나마나 : 1 , show : 1 , 아무도 : 1 , 0 : 515 , 나는 : 1 , 477ae4 : 2 , 코스피 : 16 , aspx : 1 , 정주행 : 2 , 36px : 9 , 화 : 1 , 힐링캠프 : 1 , exact : 39 , 누구를 : 1 , 77px : 1 , recruitprocess : 1 , p : 3 , mediaPageNum : 1 , team : 7 , div : 131 , 정부 : 1 , bg : 22 , 101px : 3 , 볼수록 : 1 , 쇼핑몰 : 1 , 61px : 3 , 20151020141434344 : 1 , 무배 : 2 , 흔들다 : 1 , 20151020093135 : 1 , 선동 : 1 , 140px : 1 , funTab : 1 , entertain : 10 , address : 1 , 여수 : 1 , box : 50 , 다음 : 9 , 09시 : 1 , 71745089 : 1 , 최근 : 1 , 20151020134507068 : 1 , 26292a : 1 , rank10 : 3 , fc6870 : 1 , 46px : 5 , 정보 : 8 , 92px : 2 , 170px : 23 , 사명 : 1 , 말한 : 1 , realTimeSearchWord : 1 , nowrap : 16 , newsTab : 1 , market : 1 , 스토리볼 : 1 , helvetica : 2 , 5701 : 1 , sports : 15 , live : 1 , 기획전홈 : 1 , https : 7 , msg : 5 , inputPwd : 2 , today : 225 , 2455d964b04f486ab66c2100b1a43b47 : 1 , 트와이스 : 2 , 37px : 5 , 광고안내 : 1 , 이전 : 7 , 주요 : 2 , 209bdb : 2 , 검색등록 : 1 , C113x68 : 6 , 옥션 : 1 , iframe : 6 , 218px : 1 , Daum : 1 , d8d9db : 2 , 7px : 36 , rtupkwd : 20 , 29px : 3 , topic : 2 , celsius : 1 , 서울 : 1 , spe : 29 , charset : 1 , shining : 1 , gulim : 7 , 1 : 103 , type2 : 26 , item10 : 2 , 259px : 1 , 96969b : 1 , shoppingbox : 2 , 143 : 1 , max : 2 , 139px : 2 , 149 : 1 , 414141 : 1 , articleId : 1 , 9377 : 1 , 515px : 4 , 154px : 2 , 181px : 8 , View : 5 , samsungmall : 1 , 목록 : 1 , outline : 3 , 188px : 11 , q : 27 , sh : 1 , 1430px : 8 , kospi : 1 , 385px : 1 , 신규앱 : 1 , lst : 5 , 20121026 : 1 , 증권 : 3 , pointer : 18 , 20121023 : 2 , 휠라 : 1 , 뻔한 : 1 , todayWeatherLocal : 1 , group : 1 , thumb : 44 , 쇼핑기획전 : 1 , servicepolicy : 1 , hot : 3 , 불안한 : 1 , 434a55 : 1 , 938 : 1 , mycont : 16 , policy : 20 , ndash : 1 , tiara : 4 , blockquote : 4 , finance : 4 , 1℃ : 1 , 치 : 1 , e5333d : 1 , name : 13 , loginform : 2 , 3f4145 : 1 , miznetTab : 1 , 미래 : 1 , namu : 1 , 미시룩 : 1 , 클릭상품 : 1 , em : 137 , 1165px : 1 , 어느 : 1 , menu1 : 1 , 희망 : 1 , space : 18 , G마켓 : 1 , 705px : 1 , daum : 359 , 20151016131454 : 1 , searchbox : 1 , after : 3 , imgtxt : 13 , 1130 : 8 , 료 : 1 , 20 : 7 , 138px : 1 , 도리화가 : 2 , span : 181 , entertainTab : 1 , 울릉도 : 1 , recom : 15 , 71749721 : 1 , 신기한 : 1 , 20151016163538 : 1 , 지금날씨딱 : 1 , 부동산 : 2 , promotion : 11 , view : 1 , ATG : 20 , 20151019170936 : 2 , 379px : 2 , hopeTab : 1 , 하프클럽 : 1 , topbar : 1 , 의원정수 : 1 , rere : 5 , 광주 : 1 , shoppingPageNum : 1 , localWeatherTitle : 1 , 20151019160308 : 1 , ring : 1 , eduTab : 1 , open : 2 , size : 77 , city : 15 , 추천 : 4 , 600px : 2 , checked : 1 , ec0000 : 1 , dedede : 1 , 포근하고따뜻 : 1 , 4c4c4c : 1 , 2 : 16 , 117px : 4 , white : 19 , 88px : 1 , cite : 1 , 410px : 3 , padding : 189 , copy : 13 , png : 38 , 11 : 6 , 10 : 37 , 13 : 3 , 12 : 2 , 15 : 1 , 14 : 1 , 16 : 1 , 19 : 1 , stln : 3 , recruit : 2 , 330px : 4 , 365px : 3 , eeeef0 : 6 , 60898870 : 1 , pre : 1 , ebs : 1 , 485px : 1 , DA : 28 , 따뜻한 : 1 , CCWfS : 1 , 모으다 : 1 , CB66p : 1 , aside : 2 , h6 : 1 , 사랑의비너스 : 1 , AXyED : 1 , mazia : 1 , 15px : 73 , 71754094 : 1 , MLB : 1 , 책 : 2 , normal : 17 , track : 1 , price : 7 , 406px : 1 , middot : 1 , icon : 17 , 1760px : 1 , 완투 : 1 , pageIndex : 1 , textarea : 4 , 280px : 13 , lifeTab : 1 , steady : 13 , sale : 4 , 54px : 12 , thesong : 18 , soho : 1 , 비밀번호 : 2 , width : 346 , shop : 62 , 가 : 1 , 165px : 1 , 378px : 6 , 1226px : 1 , 입학처 : 2 , storyTitle : 1 , 오르다 : 1 , 40px : 16 , upgrade : 1 , title : 36 , daily : 1 , 결혼 : 1 , ededed : 1 , 201509150948 : 1 , 444px : 2 , 222px : 1 , phonenumberlogin : 1 , 자동차 : 1 , 탓 : 1 , halfclub : 1 , b8bbbf : 2 , 1위 : 2 , 4도 : 1 , 공뷰 : 1 , 74px : 1 , myinfo : 1 , 219px : 1 , 20일 : 1 , cacbce : 1 , relative : 47 , movieTab : 1 , calendar : 2 , adTime : 1 , 49px : 1 , favorsch : 3 , 880px : 4 , 60px : 8 , label : 23 , 전일대비 : 32 , 3 : 16 , 2px : 25 , import : 3 , screen : 45 , 나이들어 : 1 , 24 : 2 , notice : 34 , F50x50ht : 2 , vertical : 93 , 25 : 1 , logins : 1 , 날씨 : 3 , 250px : 6 , 26 : 1 , w01 : 3 , 405px : 1 , article : 5 , js : 1 , z : 26 , 조아맘 : 1 , mono : 1 , 1248px : 1 , 283px : 3 , s : 6 , 공지사항 : 1 , 아기 : 1 , 210px : 4 , 150 : 1 , color : 202 , 166px : 2 , lotteimall : 1 , pop : 1 , 60 : 1 , 205px : 4 , 93px : 3 , 68 : 11 , 9999px : 31 , Events : 1 , 177px : 1 , 71039986 : 1 , 47px : 8 , shop1 : 10 , shop3 : 9 , shop2 : 9 , shop5 : 9 , shop4 : 9 , direction : 1 , shopping : 47 , 221px : 1 , 6523 : 1 , 111627939 : 1 , 34px : 5 , spirit : 3 , 6GsSb : 1 , 안내 : 2 , adMinOne : 1 , admin : 10 , 1102 : 5 , 75px : 7 , wrapper3 : 1 , wrapper2 : 1 , wrapper1 : 1 , wrapper7 : 1 , mediaPrevBtn : 1 , wrapper5 : 1 , wrapper4 : 1 , wrapper9 : 1 , wrapper8 : 1 , middle : 4 , adMinTen : 1 , 쇼킹효과 : 1 , 5973615 : 1 , funNextBtn : 1 , 72TBM : 1 , 48px : 5 , media : 68 , 제주 : 1 , 무전기에서 : 1 , html : 8 , 63px : 6 , propose : 1 , 106px : 1 , document : 2 , status : 6 , 했던 : 1 , IS : 1 , baseBox : 3 , 251px : 2 , 146px : 1 , 680571987729453b9970930b4940ae41 : 1 , cartoon : 8 , todayWeatherDesc : 1 , 776px : 1 , 개인정보 : 1 , daumcorp : 1 , acca797f9cb24462bc9852f14c35d232 : 1 , 인양 : 1 , 전 : 23 , 만화속세상 : 1 , 청하는 : 1 , 269px : 1 , 219 : 1 , 71753526 : 1 , reverseType : 2 , underline : 9 , 집중 : 1 , 2Fteam : 2 , 운세 : 1 , 라이프 : 2 , 922px : 1 , blog : 23 , 4 : 10 , 레이어드 : 1 , 111a0032753d481aa7c1a50be12b136e : 1 , 1980px : 1 , moz : 1 , hover : 40 , pso : 6 , 105049312 : 1 , eventlist : 2 , 81px : 1 , amp : 134 , 35px : 10 , 스튜어트 : 1 , fortune : 3 , 245px : 1 , t : 6 , colon : 2 , 빅브레인 : 2 , 메일 : 1 , svcmove : 1 , gaia : 2 , cancel : 1 , ec2c2f : 1 , 영화 : 3 , CCWyu : 1 , 20151020130307600 : 1 , 수원 : 1 , 동영상 : 7 , 장윤주 : 1 , 뉴스홈 : 1 , lotto : 1 , 장관 : 1 , 입니다 : 22 , CCWyY : 1 , ddd : 1 , realestateTab : 1 , 105142671 : 1 , 청소년보호정책 : 1 , 126px : 22 , 950px : 1 , 개인정보취급방침 : 2 , shop3tabIndex : 1 , on : 83 , ol : 4 , oc : 7 , newsbox : 2 , IP보안 : 3 , or : 1 , 5983583 : 1 , da4453 : 1 , 3770bf : 1 , image : 30 , 1100px : 1 , 광고 : 3 , accounts : 2 , 찬스 : 1 , area : 2 , imgshop : 3 , 롯데i몰 : 1 , writeln : 2 , start : 6 , 451px : 3 , 공격 : 1 , 116px : 4 , 25ad8b : 1 , shoppingTodaySaleNextBtn : 1 , 팔레스타인 : 1 , 백화점퀄리티 : 1 , 80px : 10 , 할인 : 1 , with : 1 , 최경환 : 1 , comics : 29 , 20151020115205804 : 1 , 20151020100704321 : 1 , 244px : 1 , agora : 10 , ad : 30 , gameTab : 1 , intro : 7 , 484px : 1 , mediaTab : 1 , again : 3 , viewport9 : 1 , 유엔사 : 1 , 5 : 17 , viewport3 : 1 , viewport2 : 1 , viewport1 : 1 , 모바일 : 1 , viewport7 : 1 , viewport6 : 1 , viewport5 : 1 , viewport4 : 1 , opacity : 4 , 20151020141106193 : 1 , time : 29 , d5d4d8 : 1 , 5731 : 1 , 303030 : 1 , TIevFgNcY : 1 , 127px : 2 , 3f78df : 1 , nexon : 1 , 3Fv : 2 , 장비들 : 1 , 코스닥 : 16 , 397ce0 : 1 , u : 2 , all : 7 , tierBottomWrap : 1 , sch : 6 , 737373 : 2 , daumFoot : 1 , tahoma : 5 , alt : 38 , disk : 1 , 375px : 1 , 송 : 1 , eaeaed : 2 , eaeaea : 2 , 370px : 5 , tv : 23 , to : 2 , init : 49 , program : 2 , th : 14 , tf : 7 , td : 2 , 격 : 1 , 1V4u62eRfEA0 : 1 , vert : 71 , 예쁜 : 1 , song : 18 , faq : 1 , rtupcoll : 20 , util : 3 , 1px : 169 , mobileweb : 4 , sans : 20 , 290px : 22 , t4 : 9 , list : 174 , 요즘입기예뻐 : 1 , t1 : 16 , 강릉 : 1 , plain : 1 , 전월세난 : 1 , 특종 : 2 , edu : 13 , 190 : 5 , 20151020142107598 : 1 , dfn : 1 , sug : 1 , todaybrand : 2 , sub : 5 , todayWeatherTemperature : 1 , 2FTO : 1 , section : 107 , rgba : 2 , method : 1 , ㅁ : 1 , 353px : 1 , full : 1 , 68px : 2 , bnr2 : 3 , suzydks5406 : 1 , talkNextBtn : 1 , 1320px : 3 , strong : 153 , legend : 1 , talkPageNum : 1 , search : 70 , margin : 155 , 1510 : 6 , 레깅스 : 1 , 9558 : 1 , 282px : 1 , action : 1 , 각 : 1 , family : 15 , shopping2Tab : 1 , 찾기 : 2 , 211px : 1 , Top : 1 , href : 149 , 167px : 6 , shopping4 : 1 , select : 3 , wrapper6 : 1 , 게임 : 3 , blue2 : 1 , helper : 7 , shoppingPrevBtn : 1 , BjjMY : 1 , CCBkT : 1 , 07분 : 1 , Ibk5fvE8Uiw0 : 1 , 따뜻한예쁜옷 : 1 , 없다 : 1 , 6 : 13 , 경계하라 : 1 , more : 2 , 날씨에 : 1 , 없는 : 1 , 235px : 1 , 220px : 9 , 묘수 : 1 , webkit : 6 , 7℃ : 2 , CCWxv : 1 , AyUVm : 1 , none : 63 , hour : 2 , 28px : 6 , 5225 : 1 , autocomplete : 1 , 291px : 2 , mall : 7 , v : 35 , num4 : 5 , num5 : 2 , num6 : 2 , num7 : 2 , num0 : 2 , num1 : 6 , num2 : 7 , num3 : 5 , 불 : 1 , num8 : 2 , num9 : 2 , accept : 1 , shoppingTodaySalePrevBtn : 1 , 740px : 1 , daumEvent : 1 , 1053 : 1 , 어학사전 : 1 , breaking : 3 , 검색어 : 1 , 설정하기 : 1 , 서유리 : 1 , typetxt : 4 , 62px : 4 , 1698 : 1 , 로그인 : 6 , shoppingPopularEventTab : 1 , fr : 1 , 107px : 1 , fw : 2 , 229px : 1 , a5a6ac : 5 , 베스트100 : 1 , 포격전 : 1 , horizontal : 13 , marginheight : 2 , fl : 2 , 655px : 1 , a : 154 , bannerad : 1 , todayWeatherLocalBtn : 1 , footer : 15 , daumContent : 1 , 609px : 1 , register : 1 , menu2 : 1 , menu3 : 1 , 주세요 : 1 , marginwidth : 2 , 8f8f8f : 1 , inline : 45 , 649px : 1 , 3D20150718 : 2 , checkbox : 2 , help : 2 , 340px : 6 , disabled : 1 , 61646e : 1 , 216px : 1 , fff : 32 , 미세먼지 : 3 , newapp : 1 , style : 7 , arial : 2 , 21 : 1 , 22 : 3 , 23 : 6 , myblog : 4 , 00015 : 2 , 94px : 2 , ㅂ : 1 , rank6 : 3 , 2F : 2 , 943px : 1 , 320px : 1 , foot : 16 , 227px : 2 , 420px : 2 , 32px : 7 , talkGrpTab : 1 , 팁 : 3 , 경기시간 : 1 , weight : 28 , b7c1ca : 1 , 2℃ : 3 , kakaocorp : 1 , event : 69 , SH2 : 1 , item : 16 , 거미 : 2 , 혈육의 : 1 , adTimeSponsor : 1 , f0f0f0 : 2 , 7 : 23 , issue : 87 , 4px : 37 , 104px : 1 , ED : 16 , EA : 10 , story : 118 , EC : 41 , EB : 29 , shopping5 : 1 , 228px : 1 , 손편지 : 1 , shopping1 : 1 , shopping3 : 1 , shopping2 : 1 , 144px : 2 , 507px : 1 , tabcont : 74 , miznet : 12 , caption : 1 , 보호를 : 1 , CB63R : 1 , w : 33 , shophow : 13 , tabindex : 20 , talkPrevBtn : 1 , 대 : 4 , 연애도 : 1 , 159px : 5 , blank : 32 , 23px : 16 , 267px : 1 , script : 1 , adCgiCache : 2 , 2Flogo : 2 , station : 2 , weblogin : 1 , 390px : 6 , 느낌 : 2 , 간신히 : 1 , part : 191 , f9f9f9 : 1 , 878787 : 4 , b : 6 , 4559e9 : 6 , 탭 : 10 , 247px : 1 , 상승83 : 2 , 웹 : 1 , 고객센터 : 1 , e73923 : 2 , 3A : 2 , 20151020142317 : 1 , 431px : 1 , 롯데닷컴 : 1 , 리얼 : 1 , mallmenu1 : 1 , mallmenu2 : 1 , w40 : 2 , w41 : 2 , 777 : 4 , 64 : 2 , quote : 2 , 지역 : 2 , 109916 : 1 , 가정사 : 1 , 75 : 1 , 70 : 24 , alpha : 2 , 120px : 9 , mobile : 1 , clear : 12 , 145px : 9 , 보기 : 1 , kr : 1 , 오늘 : 1 , 페이지 : 8 , 8252 : 1 , CCBpa : 1 , 666 : 2 , 감 : 1 , ownerid : 5 , 편성 : 1 , find : 8 , ㄱ : 1 , 이때부터 : 1 , blissinottawa : 1 , copyright : 1 , 22px : 19 , todayWeatherTemperatureTxt : 1 , 더보기 : 1 , 젊은층 : 1 , ipSecurity : 2 , 배 : 1 , 8 : 9 , 미디어 : 2 , 막 : 1 , shoppingPopularEvent : 1 , 2Fsports13 : 2 , 反이스라엘 : 1 , 돋움 : 8 , dtgd : 1 , 대구 : 1 , ie6 : 7 , 20151006131743 : 1 , x : 4 , 246px : 1 , set : 30 , daysale : 8 , minitodayBtn : 1 , 나의 : 1 , 55px : 18 , close : 8 , 72px : 2 , f4f5f7 : 1 , 360px : 1 , movie : 13 , 797px : 1 , newsfund : 3 , vdorelay : 1 , 20151020135454 : 1 , 5000원 : 1 , javascript : 3 , 939px : 1 , topalpha : 1 , 캐시미어100 : 1 , youthpolicy : 2 , both : 11 , c : 15 , 7위 : 2 , size3 : 1 , 심상 : 1 , simple : 5 , TMZ : 5 , offSuggest : 1 , 2위 : 2 , header : 1 , 소가죽 : 1 , 제휴문의 : 1 , 285px : 17 , TMN : 3 , pw : 7 , 959595 : 3 , 무 : 1 , 세 : 1 , 888 : 1 , CJmall : 1 , 236px : 1 , gap : 1 , f8f9fa : 1 , 16px : 28 , 손에 : 1 , 233px : 1 , solid : 53 , 285 : 1 , shoppingTodaySale : 1 , error : 1 , fun : 11 , 104908151 : 1 , guide : 21 , 2104 : 1 , 535353 : 1 , jpg : 21 , decoration : 25 , 전주시장의 : 1 , read : 1 , 소호 : 2 , 9 : 9 , 2039 : 16 , 532px : 1 , 카페 : 4 , 26px : 6 , 000 : 16 , user : 23 , BjjMa : 1 , 블로그 : 3 , pinkelephant : 1 , 102720531 : 1 , bababa : 1 , 608px : 1 , 5983156 : 1 , y : 2 , 3640f51e992f428dac95b20dfae7de18 : 1 , 770px : 1 , d40400 : 1 , 217px : 2 , loading : 2 , readers : 4 , 상품 : 3 , 점수 : 1 , 169px : 1 , 개인 : 1 , 999em : 2 , 폰번호 : 1 , location : 1 , topexpand : 1 , input : 11 , 160px : 6 , 95px : 6 , fname : 8 , big : 6 , 399px : 2 , game : 25 , 20110721 : 2 , 5102387 : 1 , 940px : 6 , d : 13 , 도착 : 1 , shoppingRecommentBestSalePrevBtn : 1 , 20151020134746 : 1 , fbfbfb : 5 , 동영상으로 : 1 , sitemap : 2 , 뉴스펀딩 : 1 , 6℃ : 1 , 1324 : 2 , 156px : 13 , 1328 : 1 , play : 15 , emph : 1 , 울산 : 1 , 278px : 15 , B4 : 3 , newarr : 2 , slash : 9 , ellipsis : 52 , 1528 : 1 , 477px : 2 , ㅅ : 1 , 루리웹 : 1 , 176px : 2 , B3 : 1 , specialNextBtn : 1 , CCBqz : 1 , 105px : 8 , 199px : 1 , 꽈당 : 1 , 몸매 : 1 , br : 26 , shopping3Tab : 1 , 굴림 : 7 , goods : 8 , 이름짓기 : 1 , 37382708 : 1 , minitodayWeather : 1 , B9 : 4 , 8px : 31 , num10 : 1 , block : 112 , letter : 56 , 4689df : 1 , 따른 : 1 , 277px : 1 , mypeople : 2 , 214px : 1 , 266px : 2 , submit : 1 , e1e1e1 : 10 , 20151013135934 : 1 , timead : 2 , record : 1 , 96px : 7 , serif : 20 , link : 401 , line : 129 , PC에서만 : 1 , info : 59 , 111px : 4 , utf : 1 , nrrEAG7A0 : 1 , up : 70 , ul : 11 , tistory : 5 , ui : 7 , highlight : 2 , 골다공증 : 1 , 87px : 3 , 다음웹툰 : 1 , 86px : 1 , 마일리지 : 1 , EV1510 : 1 , 7938 : 1 , funPrevBtn : 1 , accessibility : 2 , 신세계몰 : 1 , 정 : 1 , svcmore : 2 , cafe : 24 , 액션만화 : 1 , TV : 2 , 넉넉한 : 1 , 오후 : 1 , A1 : 2 , A0 : 6 , A2 : 2 , A4 : 7 , A7 : 6 , A6 : 2 , A8 : 4 , AC : 2 , AF : 4 , 커플 : 1 , 다음앱 : 3 , 우리는 : 1 , GS샵 : 1 , e : 2 , cafeTab : 1 , age : 2 , shopping5Tab : 1 , svc : 7 , tit5 : 1 , tit4 : 1 , 550px : 1 , tit1 : 1 , 505px : 1 , tit3 : 1 , tit2 : 1 , 상승64 : 2 , 상승65 : 2 , 2009 : 1 , daumcdn : 89 , 영상 : 1 , code : 2 , funPageNum : 1 , 38px : 2 , 무척 : 1 , 자동실행 : 1 , 20151020135739575 : 1 , go : 65 , 어려운 : 1 , 유익한 : 2 , 270px : 5 , aria : 10 , 부산 : 1 , 페이지11 : 1 , 25px : 21 , daumSuggestWrap : 1 , 2Fi1 : 2 , 원피스 : 1 , assay : 1 , 산케이 : 1 , 실시간 : 2 , multiMediaTitle : 1 , 777b80 : 2 , button : 38 , 110px : 10 , tiercont : 1 , try : 1 , 562px : 2 , rightbottom : 1 , 00a0b6 : 2 , abb5bd : 1 , Kakao : 1 , 재밌는 : 2 , 135px : 4 , video : 2 , shoppingTodaySalePageNum : 1 , 웹툰 : 3 , 4위 : 2 , index : 47 , font : 129 , chocomom2 : 1 , 7633 : 1 , 73px : 1 , multimedia : 2 , sportsTab : 1 , suggest2 : 1 , 인재채용 : 1 , 호박 : 1 , body : 4 , degree : 2 , exchange : 4 , spacing : 56 , 465px : 1 , 444 : 4 , 촉촉 : 1 , brandspe : 1 , logout : 3 , 938px : 1 , 2Fimg : 2 , 39 : 10 , 못 : 1 , 32 : 1 , 파워 : 1 , 넣은 : 1 , 18px : 27 , todayWeather : 1 , 1247 : 2 , 뉴스 : 2 , mArticle : 1 , app : 12 , 333 : 3 , 오늘만 : 1 , 아이들이 : 1 , fstbig : 7 , gamecenter : 1 , 내용을 : 22 , 6Gsiv : 1 , 리스본 : 1 , 스포츠 : 3 , from : 1 , 브런치 : 2 , next : 11 , 3081 : 1 , num20 : 1 , 306px : 1 , 24px : 14 , sort : 11 , red2 : 1 , maintopad : 1 , 개정 : 1 , src : 45 , about : 2 , 2Fmlb : 2 , 179px : 8 , 포토 : 3 , f : 1 , 17px : 26 , mediaNextBtn : 1 , label7014 : 1 , 경기영상 : 1 , f7f7f7 : 2 , 위해 : 1 , a1a1a1 : 1 , do : 25 , twelfthnight : 1 , dl : 3 , UP : 1 , tag : 6 , 470px : 1 , tab : 4 , 8RYvc : 1 , 1650px : 3 , 57px : 2 , 소개 : 1 , stock : 34 , profile : 20 , offGuide : 1 , 310px : 10 , 481px : 4 , 345px : 5 , 금강산 : 1 , w37 : 2 , tier : 2 , 구형에 : 1 , 65px : 3 , 449px : 1 , 특가 : 2 , 413px : 2 , 123px : 2 , liveIssueTitle : 1 , shoppingNextBtn : 1 , 653px : 1 , 조정석 : 2 , shoppingGrpTab : 1 , 환율 : 1 , 5e646f : 1 , li : 119 , 2014 : 30 , 2011 : 2 , 2013 : 3 , 2012 : 5 , 307px : 1 , 161px : 4 , comm2 : 1 , auto : 10 , 배부른 : 1 , 7b7b7b : 1 , 쇼핑홈 : 1 , transparent : 8 , lbStlnCloseBtn : 1 , weather : 77 , mode : 2 , 10px : 46 , 326px : 1 , w19 : 2 , w18 : 3 , w17 : 3 , w16 : 3 , w15 : 3 , w14 : 3 , w13 : 3 , w12 : 3 , w11 : 3 , w10 : 3 , 88 : 2 , broadcast : 1 , static : 2 , 82 : 2 , 181 : 2 , 80 : 13 , 471px : 4 , special : 23 , out : 45 , 전체보기 : 2 , 676767 : 1 , 상봉행사 : 1 , 인기기획전 : 1 , 58px : 4 , rel : 17 , 141px : 1 , red : 1 , bestreader : 2 , 8i : 1 , CSI : 1 , 피지는줄이고 : 1 , 175px : 2 , 45px : 16 , 143127 : 1 , ltr : 1 , lbStlnNoti : 1 , indent : 32 , g : 183 , todaysale : 1 , 8B : 2 , 8C : 10 , 191px : 1 , 8A : 8 , 8F : 4 , 8E : 2 , mainsvc : 3 , 358px : 1 , logoff : 1 , shopping4Tab : 1 , 아고라 : 2 , typeimg : 3 , bestlike : 16 , 129px : 1 , 3℃ : 1 , 142px : 2 , 33px : 7 , 6GsX9 : 1 , 몰랐던 : 1 , privacy : 1 , 디디 : 1 , 사용해 : 1 , 2156c0 : 3 , 1509 : 1 , 1540px : 2 , 징역형 : 1 , 대전 : 1 , CCBst : 5 , brunchTab : 1 , 209px : 1 , 97px : 4 , 1tab : 3 , 397px : 2 , 웹접근성안내 : 1 , 6f6f6f : 1 , news5tab : 9 , 848585 : 1 , 2tab : 2 , visited : 2 , num30 : 1 , 1129px : 1 , viewer : 3 , 85px : 3 , 6eqqG : 1 , 1210px : 4 , 6eqqK : 1 , border : 71 , 150px : 5 , 241px : 1 , 8℃ : 4 , CCX3G : 1 , 093347 : 1 , 184px : 1 , 350px : 4 , mileage : 1 , ㅇ : 1 , 174px : 1 , 3c77eb : 1 , 아띠아띠 : 1 , class : 792 , 44px : 3 , url : 43 , shopevent : 3 , 71745491 : 1 , 619px : 1 , 전주 : 1 , 스페셜 : 3 , text : 100 , 39px : 6 , 위메프 : 2 , 20151020115428909 : 1 , 143px : 3 , 30px : 14 , BEST : 1 , 971px : 1 , 6d3fdf : 1 , morelayer : 1 , 전상품 : 1 , 271px : 2 , 5px : 41 , CJ몰 : 1 , hope : 15 , move : 1 , 101102130 : 1 , 7bHuj : 1 , 상승 : 32 , loginInfoTitle : 1 , imgsrc : 1 , 387px : 1 , scrolling : 2 , 90px : 17 , h : 1 , 396px : 1 , default : 41 , 19696439712097703 : 1 , 펼치기 : 1 , 상승43 : 2 , 상승41 : 2 , A854 : 1 , viewport8 : 1 , 중계센터 : 1 , mypeer : 1 , frame : 48 , 84px : 1 , c4cdd6 : 2 , 서비스 : 7 , btn : 80 , 쇼핑도움 : 1 , idLabel : 1 , 153px : 1 , 510px : 1 , 145204604 : 1 , kakao : 1 , 아빠 : 1 , 딱 : 1 , favor : 18 , state : 2 , 20151019162700 : 1 , w08 : 3 , w09 : 3 , w04 : 4 , w05 : 3 , w06 : 3 , w07 : 3 , 도움말보기 : 1 , w02 : 3 , w03 : 3 , 20151020110403262 : 1 , 6위 : 2 , 807px : 1 , empathy : 1 , 430px : 3 , jojean : 1 , 천연화장품 : 1 , 다문화 : 1 , equal : 1 , tierfixcont : 1 , 플레인 : 1 , co : 1 , cl : 3 , 8745 : 1 , cf : 2 , 555px : 1 , slotid : 3 , 쌓이면 : 1 , cs : 3 , table : 1 , 092537 : 1 , 2만원대 : 1 , mysvc : 21 , f3f3f3 : 1 , 272px : 1 , 369px : 3 , a9abb0 : 1 , bbs : 2 , 27px : 2 , ㅈ : 1 , 軍 : 1 , 청주 : 1 , brunch : 14 , U03 : 5 , daumspe : 2 , multi : 48 , main : 13 , sortable : 7 , 상승73 : 2 , align : 62 , appearance : 2 , value : 5 , cursor : 22 , 455px : 2 , 아이디 : 2 , 일 : 2 , tvpot : 39 , layer : 113 , cell : 1 , 848484 : 1 , 공감 : 1 , 희미해지는 : 1 , vs : 10 , 스팟카밍30000 : 1 , ed5c5e : 1 , 정치인을 : 1 , b5b8bf : 1 , 6558 : 1 , 8위 : 2 , member : 3 , set2 : 2 , num40 : 1 , http : 234 , adHourOne : 1 , 78px : 1 , maxlength : 2 , 수분은올리고 : 1 , v2 : 30 , v3 : 11 , v6 : 7 , v7 : 1 , v9 : 1 , tipTab : 1 , exchangeMain : 1 , tv팟 : 3 , off : 2 , center : 30 , ececec : 5 , 356 : 1 , position : 489 , 먹는 : 1 , 6d7078 : 2 , 머플러 : 1 , 440px : 2 , 이영자에게 : 1 , BC : 2 , shoppingRecommendBestGrpTab : 1 , 415px : 1 , 40 : 4 , rank4 : 3 , mystock : 4 , 297px : 1 , 사랑했을까 : 1 , 엄마다 : 1 , slevel : 1 , 5d6273 : 1 , 280 : 3 , 푸념 : 1 , NNS : 20 , ㅊ : 1 , totalsvc : 1 , 이마트몰 : 1 , 뚜렷해지는 : 1 , 춘천 : 1 , 185px : 8 , tiertop : 2 , password : 4 , 249px : 2 , desc : 10 , shop1tabIndex : 1 , mmsrelay : 1 , like : 1 , 262626 : 6 , 351px : 1 , B5 : 4 , B0 : 16 , B1 : 11 , B2 : 3 , 지만원 : 2 , 230px : 6 , 설정 : 3 , B8 : 14 , page : 63 , 11px : 76 , 12px : 39 , 지도 : 3 , f9fafb : 1 , EBS지식 : 1 , 113 : 11 , home : 9 , shoppingRecommentBestPageNum : 1 , 현재 : 9 , 1198px : 1 , 상승51 : 2 , 상승52 : 2 , 강동대학교 : 2 , 59px : 1 , 보헤미안 : 1 , locate : 2 , 5b6473 : 3 , 않았던 : 1 , dbdbdb : 1 , 3f4243 : 1 , 347px : 1 , 셔츠배색원피스 : 1 , mypot : 5 , 연무 : 1 , 눌러주세요 : 22 , 190px : 10 , 희망해 : 3 , f2f2f4 : 1 , 동남구 : 1 , h2 : 10 , h3 : 30 , dataseq : 35 , h1 : 2 , 225px : 3 , 유지하면서 : 1 , h4 : 8 , h5 : 1 , 열정樂서 : 1 , registration : 1 , kayleeshop : 1 , 20151016160456 : 1 , 만든 : 2 , 지식공간 : 1 , wrapper10 : 1 , 관련 : 2 , 금융 : 1 , inner : 10 , var : 1 , 이산가족 : 2 , adCgiBrandingStation : 2 , 세월호 : 1 , 및 : 3 , 패션플러스 : 1 , overflow : 125 , 백과사전 : 1 , w31 : 2 , w30 : 2 , w33 : 2 , w32 : 2 , w35 : 2 , w34 : 2 , CDATA : 3 , w36 : 2 , w39 : 2 , w38 : 2 , f8f8f8 : 3 , display : 147 , inp : 14 , FUN : 1 , 허탈 : 1 , 605px : 2 , ing : 1 , vf7bbX3FgFHFHfgwSSStXRw : 1 , rank9 : 3 , rank8 : 3 , 쇼핑 : 4 , rank3 : 3 , rank2 : 3 , rank1 : 2 , 240px : 7 , rank7 : 3 , svcall : 2 , rank5 : 3 , 5b5b5b : 1 , book : 16 , 84 : 24 , 158px : 2 , e8e8e8 : 3 , 전체 : 2 , 85 : 6 , searchrank : 1 , category : 2 , repeat : 37 , 201px : 2 , 3위 : 2 , 변경에 : 1 , webtoonTab : 1 , inset : 2 , 제목 : 22 , }\n"
     ]
    }
   ],
   "source": [
    "# 이번 과제 2(다음)\n",
    "import urllib2\n",
    "import string\n",
    "\n",
    "source = urllib2.urlopen(\"http://www.daum.net\").read()\n",
    "\n",
    "for i in range(0, source.count('<!--')):\n",
    "    if source.find(\"<!--\") != -1:\n",
    "        source = source.replace(source[source.find(\"<!--\"):source.find(\"-->\")+3:],\"\")\n",
    "\n",
    "for i in range(0,source.count(\"<\")):\n",
    "    if source.find(\"<\") != -1:\n",
    "        source = source.replace(source[source.find(\"<\"):source.find(\">\")+1:],\"\")\n",
    "\n",
    "words = source.split()\n",
    "#print \"(0)) 단어 수 : \",\n",
    "#print len(words)\n",
    "#print\n",
    "\n",
    "# 태그가 제거된 공백으로 단어 구분되어있는 문자열\n",
    "s = ' '.join(words)\n",
    "\n",
    "#특수문자를 알맞게 변경\n",
    "b = unicode(s, encoding = 'utf-8')\n",
    "b = b.replace(u'‘', ' ')\n",
    "s = b.replace(u'’', ' ') \n",
    "\n",
    "#구두문자 제거\n",
    "words = list(s)\n",
    "for i in range(len(words)):    \n",
    "    for k in range(len(string.punctuation)):\n",
    "        if(words[i] == string.punctuation[k]):\n",
    "            words[i] = ' '\n",
    "words = ''.join(words)\n",
    "#print \"(1) 구두문자 제거된 문자열 : \",\n",
    "#print words\n",
    "#print\n",
    "\n",
    "#구두문자가 제거된 문자열을 공백을 제외한 리스트로 만들기\n",
    "words = words.split()\n",
    "#print \"(2) 공백 제거된 문자 리스트 : \",\n",
    "#for i in range(len(words)):\n",
    "#    print words[i],\n",
    "#print\n",
    "#print\n",
    "\n",
    "#사전 만들고 카운트 세기\n",
    "counts = dict()\n",
    "for word in words:\n",
    "    if word not in counts:\n",
    "        counts[word] = 1\n",
    "    else:\n",
    "        counts[word] += 1\n",
    "\n",
    "#사전을 리스트로 만들어서 출력\n",
    "listkey = counts.keys()\n",
    "listvalue = counts.values()\n",
    "\n",
    "print \"(3) 출력 - 방법1\"\n",
    "print '{',\n",
    "for i in range(len(listkey)):\n",
    "    print listkey[i],\n",
    "    print ':',\n",
    "    print listvalue[i],\n",
    "    print ',',\n",
    "print '}'\n",
    "\n",
    "#사전을 한글 깨짐 없이 그대로 출력\n",
    "#print\n",
    "#print \"(4) 출력 - 방법2\"\n",
    "#print MyPrettyPrinter().pformat(counts)"
   ]
  },
  {
   "cell_type": "code",
   "execution_count": 51,
   "metadata": {
    "collapsed": false
   },
   "outputs": [
    {
     "name": "stdout",
     "output_type": "stream",
     "text": [
      "(3) 출력 - 방법1\n",
      "{ todays : 2 , Lead : 1 , hpmiddle : 1 , Residential : 2 , Rout : 1 , Night : 5 , 6px : 3 , NYT : 6 , domContent : 1 , Communist : 1 , SUAT : 1 , offenses : 1 , fronts : 1 , feeding : 1 , violate : 1 , Klein : 1 , 09736473 : 1 , sourceApp : 1 , 100000003982789 : 1 , 100000003978030 : 1 , Offers : 1 , China : 3 , Yaphank : 2 , League : 1 , nyregion : 16 , risk : 1 , void : 1 , rise : 2 , Inv3 : 1 , Getaway : 1 , Inv1 : 1 , 100000003985000 : 1 , monkeys : 1 , school : 3 , prize : 1 , broiler : 1 , cause : 1 , 4738 : 1 , cmd : 2 , companies : 1 , Unable : 1 , Go : 4 , Accepts : 1 , heading : 189 , 291 : 1 , 100000003986680 : 3 , force : 4 , leaders : 1 , 0052 : 1 , 0051 : 1 , weddings : 1 , Christie : 1 , 9C34 : 1 , second : 1 , Version : 1 , Theater : 2 , air : 1 , alt : 49 , 0202D0E4 : 1 , blue : 3 , C59B : 1 , noticeError : 1 , Merkel : 1 , Schizophrenia : 3 , asia : 1 , Amazon : 3 , 8CD8 : 1 , above : 2 , Put : 2 , new : 16 , net : 5 , 1rem : 1 , Spur : 1 , Presidential : 2 , Faced : 1 , whose : 1 , mem : 1 , wrapping : 1 , TopRight : 1 , moreFollowSuggestions : 1 , protection : 1 , china : 2 , kicker : 18 , active : 5 , path : 1 , placeholder : 3 , study : 2 , Withholds : 1 , itunes : 1 , credit : 2 , Regulated : 3 , Owner : 1 , Home : 4 , Flashback : 1 , changes : 2 , york : 8 , Awakens : 2 , Group : 2 , campaign : 2 , Privacy : 1 , Three : 1 , Relations : 1 , Jeb : 1 , Corrections : 1 , Behind : 2 , pound : 3 , Health : 9 , Jeh : 1 , classifieds : 1 , unit : 1 , Star : 2 , would : 3 , lennart : 1 , Drugs : 3 , Asphyxiation : 1 , wordplay : 2 , Houses : 2 , call : 5 , Bookshelf : 1 , type : 16 , is : 11 , 25GETAWAY : 2 , inquiry : 1 , wars : 2 , reign : 1 , Chronicles : 1 , Krugman : 1 , V : 1 , hold : 1 , describedby : 1 , 97 : 2 , tnt : 1 , Financial : 1 , rights : 6 , work : 1 , cant : 4 , Ending : 1 , movies : 9 , Initiative : 1 , 3338050995 : 1 , im : 1 , A81817 : 2 , Topics : 1 , Poem : 1 , estate : 6 , give : 1 , reimagines : 1 , in : 70 , DAVID : 1 , 100000003986279 : 3 , 100000003982201 : 2 , Digital : 1 , jumble : 1 , keep : 1 , realEstateSearch : 1 , Women : 1 , Editorials : 1 , recovery : 1 , Watching : 1 , travel : 10 , nuts : 1 , Irving : 1 , Admissions : 1 , how : 4 , env : 1 , Psychiatrists : 1 , A : 19 , mueller : 1 , description : 4 , 50px : 2 , Inv2 : 1 , davis : 1 , lp5558 : 1 , suing : 1 , turnovers : 1 , All : 1 , 100000003976881 : 1 , Civil : 1 , 18SUBJPCOV6 : 2 , romped : 1 , revolt : 1 , ttGuid : 1 , 100000003979192 : 2 , Another : 1 , keeps : 1 , 686 : 2 , Blue : 5 , static01 : 60 , roomfordebate : 2 , feedback : 1 , BENCHLEY : 2 , Housing : 4 , 8383 : 1 , Boutique : 1 , Rotten : 1 , japan : 1 , copyright : 2 , Decades : 1 , before : 3 , 100000003960856 : 1 , His : 3 , img : 52 , Here : 1 , better : 1 , Harris : 1 , Glimpses : 1 , differently : 1 , 400 : 3 , videoFactory : 1 , hidden : 44 , citigroup : 1 , F6C4 : 1 , shear : 1 , them : 1 , Observatory : 3 , Mobile : 2 , Thomas : 2 , therapy : 4 , they : 1 , 20dewey : 2 , schools : 2 , Control : 1 , superintendents : 1 , vidal : 1 , Liberal : 3 , meat : 1 , debut : 1 , leading : 3 , detroit : 1 , 379 : 2 , affiliate : 1 , victory : 2 , arrow : 6 , seeallnav : 1 , Executions : 1 , 100000003980204 : 1 , 100000003980206 : 1 , Millions : 1 , Afterword : 1 , financial : 1 , Choking : 1 , 13px : 1 , SectionsNav : 1 , logo : 9 , saturday : 1 , Styles : 2 , BAGLI : 1 , Mistrial : 2 , open : 3 , crucial : 1 , Wars : 2 , content : 44 , i1 : 1 , surprise : 1 , Hold : 1 , gop : 2 , gos : 5 , foundation : 16 , arizona : 1 , writeLogo : 1 , University : 2 , Work : 2 , 1445297599 : 1 , free : 2 , standard : 1 , campaigns : 1 , evil : 3 , Studies : 1 , Shootings : 1 , Contributors : 2 , Photo : 1 , National : 1 , messages : 1 , Human : 6 , setCustomAttribute : 1 , corrections : 1 , Truck : 1 , footsteps : 2 , Cooper : 1 , features : 1 , Goins : 1 , appRequire : 1 , 20Smart : 1 , Activity : 1 , Please : 1 , primary : 1 , rank : 119 , Fight : 1 , Stemming : 1 , Journeys : 1 , thick : 1 , 100000003985272 : 2 , 100000003985273 : 3 , Congress : 2 , top : 37 , Unease : 1 , Suspends : 1 , Volkswagen : 2 , 0066 : 1 , 0067 : 1 , 0064 : 1 , nythpGiftguide : 9 , rooted : 1 , 0063 : 1 , 0061 : 1 , upshot : 8 , 20alabama : 2 , 0069 : 1 , Search : 7 , B : 2 , signup : 1 , rejected : 1 , Edge : 1 , 8221 : 1 , B3DFBD82 : 1 , toronto : 3 , Repair : 1 , ahmed : 3 , Code : 1 , target : 5 , 1978 : 1 , enabled : 1 , Only : 1 , 20Banner : 1 , k : 1 , msapplication : 5 , realestate : 15 , mini : 3 , awkwafina : 1 , fashion : 12 , Floor : 1 , modern : 3 , Offensive : 1 , Angela : 1 , E2E2E2 : 1 , seek : 1 , closeted : 1 , Flight : 1 , harper : 3 , that : 9 , heathdrug : 2 , 1962 : 1 , Emigration : 2 , recommended : 2 , Economic : 1 , Minister : 1 , magnum : 2 , Gibbons : 1 , established : 1 , Collective : 1 , object : 1 , kelly : 1 , todayspaper : 2 , letter : 1 , Alabama : 2 , Bernie : 1 , Declared : 2 , Jerusalem : 2 , commentsContainer : 4 , m : 1 , dog : 1 , iepin : 4 , NICK : 1 , Election : 1 , Want : 2 , scotch : 3 , Its : 2 , saying : 1 , Helvetica : 1 , ending : 1 , Twain : 1 , Differently : 1 , keywords : 1 , hungary : 2 , largeHorizontal375 : 1 , touches : 2 , layout : 47 , nythpHideKickers : 1 , Extend : 2 , headline : 1 , menu : 28 , Bid : 2 , Game : 3 , Free : 2 , here : 1 , theme : 88 , version : 1 , pursuing : 1 , BrowseTree : 1 , rice : 1 , NREUM : 9 , Blasio : 1 , 219B4F6AA2A5 : 1 , exports : 17 , 10 : 200 , de : 1 , television : 6 , Taxes : 1 , pocket : 6 , amazon : 3 , 15 : 3 , Voting : 2 , caucuss : 1 , videofactoryrequire : 1 , runs : 1 , KINIKLIOGLU : 1 , Leaders : 1 , Over : 1 , Washington : 2 , Disabled : 2 , 415 : 1 , Dropped : 1 , Oven : 1 , gobi : 1 , ban : 1 , bam : 4 , respond : 1 , disaster : 2 , 100000003973220 : 1 , branding : 3 , zones : 1 , nocontent : 32 , Anderson : 1 , result : 1 , John : 2 , 02 : 3 , limitFabrikSave : 1 , 01 : 2 , Run : 1 , Ahead : 1 , 05 : 2 , away : 3 , Rise : 2 , mismanaging : 1 , unable : 1 , Courts : 1 , F298 : 1 , approach : 2 , preserve : 2 , wf : 1 , C : 4 , Central : 1 , Colored : 1 , extend : 2 , Settings : 1 , 1749339200 : 2 , drew : 1 , news : 20 , princessleia : 2 , packages : 2 , climate : 1 , Dance : 1 , against : 1 , Playful : 1 , players : 1 , Supplements : 1 , games : 1 , prop1 : 2 , prop2 : 2 , login : 2 , Classifieds : 1 , com : 417 , col : 4 , PST : 1 , alternate : 3 , Gas : 6 , 100000003986464 : 1 , height : 14 , Pharmaceuticals : 1 , Returns : 1 , DB6C : 1 , Ohio : 1 , Pat : 1 , jays : 3 , Movement : 1 , iraq : 1 , 8CF4 : 1 , asks : 1 , Curry : 1 , three : 1 , been : 1 , Cheaper : 1 , twain : 3 , trigger : 1 , applicationID : 2 , website : 1 , 100000003975519 : 1 , life : 5 , sprite : 17 , eastern : 12 , drugs : 2 , Cry : 1 , CG : 1 , Elections : 2 , child : 2 , catch : 2 , colored : 1 , Cybersecurity : 1 , Manage : 1 , n : 64 , 20itineraries : 2 , 0070 : 1 , near : 4 , Accused : 1 , typeof : 4 , aid : 2 , property : 6 , 1445297587 : 1 , Tuesday : 1 , mistake : 1 , bin : 1 , itemscope : 1 , Dividing : 1 , mexico : 1 , top5 : 1 , it : 1 , Arrangement : 1 , player : 5 , Bush : 1 , Candidates : 1 , LEARN : 1 , unfollowComments : 1 , 100000003985266 : 2 , Sworn : 1 , id : 233 , 100000003977846 : 3 , if : 7 , museums : 1 , growl : 2 , noydir : 1 , suggest : 1 , make : 1 , 0901DB1AD95B : 1 , complex : 1 , split : 22 , babies : 1 , several : 1 , Taking : 1 , 21BROIL1 : 1 , Room : 2 , Mueller : 1 , Institute : 1 , rail : 3 , 1KB8 : 2 , rain : 1 , Utero : 1 , Stunning : 1 , portal : 8 , characters : 1 , Y : 9 , HPB : 1 , aka : 2 , cycle : 1 , qry542 : 1 , Apartments : 2 , hpsponlink : 1 , Trends : 1 , practices : 1 , detained : 1 , A25A : 1 , Table : 1 , the : 87 , Roseburg : 1 , left : 9 , After : 3 , protocol : 1 , photo : 4 , Serious : 1 , Nuts : 1 , Crime : 3 , Closeted : 1 , human : 6 , Surprise : 1 , yet : 1 , mohamed : 3 , previous : 2 , onload : 2 , buyers : 2 , rowlings : 3 , Gay : 2 , Clockmaker : 2 , ease : 4 , 20Woodell : 2 , had : 1 , Judiciary : 1 , FDA10AC4 : 1 , News : 10 , ffffff : 2 , has : 2 , 3px : 4 , editorials : 1 , D : 1 , africa : 1 , optimizely : 1 , Messages : 1 , background : 8 , judge : 1 , suspends : 1 , sitesearch : 1 , DiCarmine : 1 , Stolz : 1 , Art : 3 , 57 : 2 , Newsletters : 1 , 53 : 2 , 52 : 2 , 100000003979639 : 1 , 21px : 1 , offices : 1 , Are : 1 , Steven : 1 , RAVI : 1 , 2640832222001 : 2 , www : 302 , right : 7 , deal : 1 , people : 2 , cybersecurity : 1 , HP : 2 , election : 3 , cE97ArV7TzqBzkmeRVVhJ8O6GWME2iG : 2 , artemest : 3 , Life : 3 , LeBoeuf : 3 , ico : 5 , for : 44 , bottom : 19 , notification : 2 , SCG : 1 , comments : 18 , creative : 1 , contributing : 1 , 20AMAZON : 2 , beating : 2 , Royce : 1 , School : 3 , bold : 1 , subscriptions : 3 , marketing : 2 , Supers : 1 , night : 6 , FD07BE5EAD96 : 1 , graduates : 1 , Near : 1 , web1 : 4 , post : 2 , 0px : 7 , Attacking : 1 , First : 4 , Fair : 1 , conceal : 2 , typeface : 1 , noarchive : 1 , o : 33 , Find : 2 , Austria : 2 , ensure : 1 , stoked : 1 , efforts : 3 , curry : 1 , raised : 1 , Balkan : 1 , campaignId : 1 , Make : 1 , float : 2 , son : 3 , Environment : 1 , Insider : 5 , beings : 1 , Provides : 1 , lieu : 1 , Survive : 1 , sharetools : 2 , MICHELLE : 1 , Suffocation : 1 , ISIS : 1 , Beef : 1 , isUserVariant : 1 , support : 1 , transform : 5 , payment : 1 , Break : 1 , gif : 1 , anderson : 1 , Typekit : 1 , 1445303137 : 1 , editions : 2 , was : 2 , head : 1 , 997D : 1 , form : 5 , offer : 1 , Column : 5 , 7D6BE1AF : 1 , notifications : 1 , WINGFIELD : 1 , Psychiatry : 2 , b5bcf2eba4 : 1 , suffocations : 2 , mtr : 2 , Top5 : 1 , rsquo : 2 , 62D5 : 1 , Bottom9 : 1 , 20px : 1 , Jays : 5 , emit : 2 , giftleftnav : 1 , Birthplace : 1 , Personal : 1 , sidestep : 1 , muscular : 1 , 1445303261 : 1 , Digitized : 1 , Bumble : 2 , newsletter : 1 , dying : 1 , no : 11 , HpSectionSumSmallMedia : 1 , when : 2 , Andrew : 1 , Persons : 2 , antidrug : 1 , 14px : 3 , role : 10 , digital : 1 , 87E4 : 1 , nr : 11 , Pages : 1 , Firm : 1 , 9351 : 1 , 1445308099 : 1 , Airfares : 1 , focusable : 2 , 100000003982082 : 1 , football : 3 , update : 2 , Trial : 1 , Rule : 2 , catalogs : 1 , Madness : 1 , longer : 2 , Estate : 7 , modals : 2 , together : 1 , time : 31 , push : 1 , Roger : 1 , newsEventHierarchy : 1 , adult : 2 , PaidPostFivePack1 : 1 , PaidPostFivePack2 : 1 , PaidPostFivePack3 : 1 , PaidPostFivePack4 : 1 , PaidPostFivePack5 : 1 , dance : 1 , skip : 4 , global : 2 , alternatives : 1 , manager : 2 , 100000003972282 : 2 , Changes : 2 , A331 : 1 , Today : 6 , 9772 : 1 , 20NOFLY : 2 , zone : 2 , xlink : 2 , attachEvent : 2 , click : 1 , 0 : 92 , charge : 2 , Swindling : 1 , insiderLaunch : 1 , Believe : 1 , Day : 2 , Cubs : 1 , Prize : 1 , sloppy : 1 , Jokes : 1 , 100000003985998 : 1 , Tech : 2 , Comments : 4 , artwork : 2 , AUSTEN : 1 , hamlet : 2 , stuyvesant : 2 , Just : 1 , die : 2 , posts : 1 , gun : 2 , p : 75 , quick : 1 , div : 528 , Celebration : 1 , Debate : 2 , Kevin : 1 , says : 1 , CLIENTSIDE : 1 , Frank : 2 , Carbs : 2 , Conjures : 1 , defineProperty : 2 , run : 1 , a81817 : 2 , Rice : 1 , 100000003982328 : 1 , clientside : 1 , Header : 1 , 4EC7 : 1 , shares : 1 , Public : 2 , Alone : 2 , shared : 2 , xml : 3 , transactionName : 1 , months : 1 , Runway : 1 , french : 1 , Offices : 1 , baseball : 4 , Mr : 1 , alone : 3 , Times : 21 , 114x144 : 1 , change : 1 , topnews : 27 , ref : 3 , Dean : 1 , accepts : 1 , MM : 1 , JULIE : 1 , Your : 2 , trial : 1 , franklin : 6 , history : 4 , navigation : 19 , engineer : 1 , emerge : 1 , love : 1 , extra : 1 , When : 3 , educationleftnav : 1 , Writers : 1 , HPBreak : 1 , Caucus : 1 , Sanders : 2 , NYTimes : 3 , hpmidleader : 1 , brother : 1 , HPPromo : 1 , helvetica : 4 , sports : 16 , insider : 15 , stylesheet : 2 , iphone : 1 , https : 7 , October : 1 , Brat : 1 , getElementsByTagName : 2 , Homelessness : 1 , Push : 1 , Notebook : 1 , penalties : 1 , Montreal : 1 , FD8249 : 2 , fly : 3 , logos : 5 , migrants : 2 , Rebels : 1 , So : 1 , avoiding : 1 , cap : 3 , reviews : 2 , impasse : 1 , Bruni : 1 , Bats : 1 , can : 1 , following : 2 , making : 2 , Ethnicity : 1 , 37WXW : 1 , streak : 1 , portals : 2 , citizens : 1 , viewport : 6 , abaco : 2 , figure : 4 , AD8090D7 : 1 , Cheap : 1 , newsletters : 1 , 100000003986404 : 1 , agent : 5 , Edmund : 1 , Issue : 1 , Terms : 2 , 100000003976985 : 1 , Who : 8 , 100000003967315 : 1 , magazine : 17 , nyt : 101 , nyu : 3 , 1 : 77 , sunday : 4 , Rebel : 1 , H : 3 , careers : 1 , sworn : 1 , Why : 1 , pint : 4 , 140 : 2 , southern : 1 , figcaption : 4 , Bargain : 1 , applications : 14 , 4506 : 1 , shuffleRecommendations : 1 , date : 1 , abtestconfig : 1 , data : 409 , View : 2 , natural : 2 , johnson : 1 , Series : 1 , 461D : 1 , q : 5 , Sources : 1 , 20artsbeat : 2 , sh : 3 , jail : 5 , sm : 1 , whsites : 1 , AMANDA : 2 , Journal : 1 , talk : 4 , processFlags : 1 , Barney : 1 , bRvjBTlNb4o : 2 , Jay : 2 , Ruthless : 1 , deactivated : 1 , Breaking : 3 , feature : 3 , playful : 1 , ended : 2 , My : 1 , nbsp : 5 , E148 : 1 , cold : 1 , group : 4 , thumb : 52 , recommendations : 4 , Rail : 3 , Rain : 1 , inflicted : 2 , window : 12 , offers : 1 , policy : 2 , World : 5 , main : 12 , decades : 1 , texas : 1 , Hiding : 1 , lonely : 2 , Tactics : 2 , HPMidLeader : 1 , views : 2 , Choices : 1 , 1954 : 2 , videoVHSCover : 1 , not : 3 , 9701 : 1 , provision : 1 , 1958 : 1 , Glasses : 1 , name : 32 , Skip : 2 , Obtain : 1 , lede : 4 , denmark : 1 , Improperly : 1 , Billion : 1 , ee : 4 , ed : 1 , Dude : 1 , Barack : 2 , Shear : 1 , Muppets : 1 , sponsor : 2 , year : 1 , Expected : 1 , Suffocations : 1 , Learned : 1 , canada : 3 , living : 2 , container : 17 , opened : 1 , space : 2 , 65rem : 1 , DE2B278B : 1 , 20SHEAR : 2 , queueTime : 1 , Joe : 1 , Drums : 1 , internet : 1 , Article : 1 , Stone : 2 , earlier : 1 , END : 1 , G : 3 , Rights : 4 , cars : 2 , million : 2 , Dog : 1 , obituaries : 2 , rebel : 1 , anchor : 1 , Mixed : 1 , org : 1 , anaise : 1 , Education : 4 , Money : 1 , Touch : 1 , Hungary : 3 , 100000003986419 : 3 , first : 3 , origin : 1 , Ontario : 1 , revenue : 1 , 379x64 : 2 , Asia : 1 , one : 2 , Start : 2 , americans : 2 , long : 2 , carry : 1 , message : 9 , drove : 1 , 100000003987102 : 3 , george : 1 , size : 11 , city : 7 , 30x30 : 2 , Relic : 1 , Monday : 1 , width : 6 , QJf3ax : 2 , 100000003986989 : 1 , imposing : 1 , returns : 1 , 2 : 47 , tragic : 1 , carousel : 1 , Date : 2 , Comeback : 2 , white : 3 , royce : 1 , frame : 1 , Renminbi : 1 , FDEFB811 : 1 , AAD5 : 1 , padding : 14 , Jail : 2 , shirley : 1 , copy : 2 , than : 2 , png : 12 , History : 2 , Carney : 1 , wide : 20 , 13 : 2 , 12 : 9 , impractical : 1 , 14 : 3 , 17 : 2 , 16 : 6 , 19 : 48 , 18 : 24 , require : 13 , footer : 7 , HpSumXSMedia : 1 , r : 29 , were : 1 , B487 : 1 , Advertise : 1 , Amash : 1 , B483 : 1 , browser : 3 , and : 70 , Fronts : 1 , cn : 1 , san : 1 , topics : 3 , premier : 5 , Philadelphia : 1 , medium : 2 , Inquiry : 1 , 100000003977640 : 3 , kevin : 1 , Do : 4 , Murphy : 1 , dining : 8 , emphasis : 1 , take : 2 , 15px : 1 , Stuyvesant : 2 , Articles : 1 , 中文 : 1 , pain : 1 , Name : 1 , Pets : 1 , 1194811622188 : 1 , 357066198 : 1 , paid : 3 , 7D62A2B9955E : 1 , clockmaker : 3 , ADX : 1 , tracy : 1 , america : 1 , pages : 97 , icon : 65 , CITY : 6 , 100000003967304 : 1 , 6C2A9A1223BE : 1 , amtrak : 1 , dealbook : 2 , considered : 2 , sale : 4 , George : 2 , raquo : 34 , Array : 1 , laws : 2 , shop : 1 , Web : 1 , show : 2 , german : 2 , recipe : 1 , 497B : 1 , datetime : 12 , Reuters : 1 , Role : 1 , Opinionator : 1 , Stephen : 4 , Moviegoers : 1 , 3dc2bf0e7593a689f857e1edec4a2566 : 1 , 100000003986953 : 2 , 40px : 1 , dormitory : 1 , We : 2 , upgrade : 1 , title : 4 , Kansas : 2 , behind : 2 , crime : 3 , only : 2 , black : 2 , Services : 1 , Blackstone : 2 , over : 3 , mistrial : 2 , digitize : 2 , Pampered : 1 , Amid : 2 , Heist : 1 , Violence : 1 , DealBook : 1 , Magazine : 7 , BCB6 : 1 , isis : 1 , nytint : 2 , secondary : 2 , Exhibit : 1 , reveal : 2 , inyt : 1 , Right : 1 , licenseKey : 2 , settings : 1 , summary : 77 , bullet4x4 : 1 , maddon : 1 , inside : 4 , declared : 2 , tallWatchingModule : 1 , airfares : 1 , notice : 1 , bargain : 1 , relative : 1 , 20dogs : 2 , 104D1E63 : 1 , Beating : 2 , takingNote : 1 , BD42 : 1 , 833 : 1 , 100000003972453 : 1 , Johnson : 1 , That : 2 , review : 7 , label : 7 , weapons : 1 , 3 : 21 , Books : 6 , Than : 1 , affordable : 1 , fight : 1 , spars : 2 , jobs : 4 , parent : 2 , screen : 1 , js : 20 , jk : 3 , Baquet : 1 , arial : 4 , Enrique : 1 , 100000003985737 : 1 , 100000003985734 : 1 , mob : 1 , region : 57 , Kane : 1 , job : 2 , called : 1 , s : 23 , Race : 1 , workplace : 1 , parini : 1 , among : 1 , Death : 1 , madness : 1 , color : 9 , Travel : 4 , ArtsBeat : 1 , Desert : 1 , 23FD6C8B : 1 , nythpBriefings : 3 , 64 : 2 , 65 : 2 , article : 271 , ordered : 1 , poll : 1 , skeletons : 2 , arts : 23 , Buy : 2 , Pain : 1 , 100000003985886 : 2 , 4EA3 : 1 , airlines : 1 , mark : 3 , Promos : 1 , production : 1 , D5DuLP : 4 , prototype : 2 , myaccount : 2 , engine : 2 , enable : 1 , bloomberg : 1 , Laws : 1 , case : 3 , To : 1 , utero : 1 , policies : 1 , margin : 15 , 100000003986289 : 1 , 100000003977525 : 1 , 100000003986978 : 1 , 800 : 2 , Better : 1 , middle : 4 , bias : 1 , Upshot : 2 , return : 19 , technology : 5 , ivy : 1 , 435 : 1 , bags : 1 , pat : 1 , proto : 2 , pay : 4 , 479A : 1 , html : 247 , speech : 1 , arguments : 1 , Bloomberg : 1 , document : 6 , events : 4 , visually : 16 , extended : 1 , I : 2 , Clear : 1 , 20trudeau : 4 , userAttributes : 1 , 40AF : 1 , allocation : 12 , petticoat : 1 , Francisco : 1 , 100000003977639 : 1 , caption : 2 , 4BDB : 1 , 28B119710151 : 1 , Says : 1 , undefined : 2 , Is : 12 , floor : 1 , graphics8 : 2 , It : 3 , Rolls : 1 , 18REPAIR : 2 , TV : 1 , Rent : 1 , In : 7 , Nazi : 2 , ccc : 1 , cheltenham : 4 , United : 4 , Service : 1 , realestateads : 1 , being : 1 , money : 1 , Diesel : 1 , Pine : 1 , Conservative : 3 , 1445303470 : 1 , kill : 1 , touch : 3 , Pesto : 1 , coloredSharetools : 1 , Pint : 2 , Itineraries : 1 , Jobs : 1 , mother : 3 , rose : 1 , briefings : 1 , Spot : 1 , Running : 1 , smugglers : 3 , Applications : 1 , spiderbites : 1 , ie10 : 9 , samples : 1 , Ethics : 1 , Change : 1 , Delivery : 1 , styles : 1 , hover : 4 , Island : 1 , Tale : 1 , test : 1 , ROBERTSON : 1 , 8216 : 1 , Tracy : 1 , Talk : 1 , Note : 1 , Tries : 1 , collective : 1 , Hacks : 1 , t : 61 , robbery : 1 , offenders : 5 , Misconduct : 1 , Man : 1 , C5BFA7D5 : 1 , apartments : 1 , failure : 1 , C51B : 1 , CAREY : 1 , eddie : 1 , Master : 1 , images : 67 , New : 23 , racial : 1 , Safeguards : 1 , pinnedMasthead : 1 , 100000003980208 : 1 , 100000003985557 : 1 , Government : 2 , Overselling : 1 , moon : 1 , deficit : 1 , Visit : 1 , dies : 3 , CB3F : 1 , 100000003964173 : 1 , refer : 6 , business : 22 , Rapper : 1 , unease : 1 , royals : 3 , volkswagen : 2 , Militia : 3 , drums : 1 , Efforts : 2 , SOMAIYA : 1 , src : 63 , ol : 4 , central : 1 , package : 3 , og : 5 , island : 2 , Transit : 1 , 100000003972661 : 1 , Paper : 2 , infection : 1 , Images : 1 , 32x32 : 2 , or : 9 , op : 2 , Bags : 1 , No : 3 , image : 6 , baseUrl : 1 , investigative : 2 , 31A9 : 1 , jerusalem : 1 , your : 1 , Store : 1 , paidPostDriver : 1 , Zone : 1 , Hotel : 2 , Brooklyn : 2 , Visits : 2 , hed : 1 , NY : 4 , handcuffed : 1 , Characters : 1 , Rose : 1 , Obama : 2 , GIANTS : 4 , complete : 1 , J : 6 , setPageViewName : 1 , illuminates : 1 , gore : 1 , survived : 1 , Emailed : 1 , podcast : 2 , with : 12 , Guide : 5 , Trailer : 2 , readyState : 1 , rage : 1 , default : 2 , House : 7 , cooker : 1 , Alterations : 1 , vhs : 3 , Moth : 12 , Eddie : 1 , emissions : 1 , Close : 3 , embed : 1 , sourceOrganization : 1 , Crisis : 2 , Chauffeur : 1 , Toronto : 2 , his : 5 , ab : 13 , ad : 66 , videos : 2 , Reduce : 1 , 100000003985150 : 2 , Crucial : 1 , errorBeacon : 2 , homepageOpinionKickerCss : 1 , an : 3 , How : 3 , as : 6 , at : 18 , Homeland : 1 , agentToken : 1 , politics : 10 , An : 1 , Homepage : 4 , film : 1 , Real : 7 , 11 : 3 , Lives : 1 , As : 1 , Ankara : 1 , field : 1 , 5 : 12 , Shirley : 1 , addEventListener : 3 , announcements : 2 , you : 8 , 100000003986948 : 1 , Great : 1 , beef : 1 , congress : 2 , students : 3 , 4099 : 1 , BEGIN : 1 , includes : 1 , a1 : 8 , important : 5 , Starved : 1 , serious : 1 , Rehabilitation : 1 , concat : 2 , 100000003987014 : 1 , carbs : 2 , assets : 10 , wife : 1 , SponsorAd : 1 , Reimagines : 1 , Modern : 2 , copyrightHolder : 2 , Logjam : 1 , u : 7 , directory : 1 , Canada : 8 , all : 7 , chinese : 3 , diesel : 1 , Fix : 1 , Moon : 1 , Header1 : 1 , deadline : 2 , Take : 1 , freeTrial : 1 , jason : 1 , videoVHSHomepageCover : 1 , improperly : 1 , Brown : 1 , Ceiling : 1 , claire : 1 , hunting : 1 , icons : 11 , Evil : 3 , 100000003942930 : 1 , to : 71 , C15A5BB6DA1A : 1 , safety : 2 , Ear : 2 , homepage : 28 , 4em : 1 , rhesus : 1 , Listings : 2 , Obit : 2 , Sale : 2 , Headers : 1 , 1px : 7 , novel : 5 , 100000003977758 : 1 , winning : 1 , sans : 6 , 100000003981535 : 1 , Kill : 1 , small : 4 , balmain : 2 , copyrightYear : 1 , Disconnect : 1 , Ease : 2 , Should : 2 , indewey : 2 , design : 3 , discordant : 1 , East : 2 , ribbon : 1 , canonical : 1 , Giants : 5 , what : 7 , abc : 1 , SHAW : 1 , clock : 1 , 9B34 : 1 , section : 164 , Cultural : 1 , Abuse : 1 , Conflict : 2 , Maddon : 1 , 6F1766459781 : 1 , homescreen : 1 , Gift : 3 , 9152 : 1 , K : 3 , tagx : 3 , vale : 2 , beacon : 2 , Mental : 1 , Events : 3 , 100000003980091 : 1 , Briefing : 1 , strong : 3 , publisher : 1 , search : 20 , Business : 4 , Open : 2 , Sidestep : 1 , ab1 : 2 , ab2 : 2 , supplements : 1 , published : 1 , action : 10 , narrow : 1 , Detoured : 1 , Style : 5 , aria : 4 , family : 11 , nythpDeveloping : 1 , 44D9 : 1 , Top : 4 , 0CB9 : 1 , href : 330 , Amanda : 1 , Too : 1 , ET : 12 , 100000003979352 : 1 , 92720057 : 1 , HPLink : 1 , Europe : 3 , Explorer : 1 , Glass : 1 , Benchley : 1 , contains : 2 , two : 1 , Automobiles : 2 , 9A43D8FC : 1 , 6 : 1 , markets : 3 , minor : 1 , more : 7 , company : 1 , Testify : 1 , admissions : 1 , American : 1 , grisly : 3 , adxnnl : 1 , Barriers : 1 , Found : 3 , tvlistings : 2 , town : 2 , none : 15 , RE2 : 2 , science : 15 , 100000003986011 : 2 , Hamlet : 1 , autocomplete : 1 , remain : 1 , nine : 1 , morgan : 1 , 326891 : 1 , Inc : 1 , Buyers : 1 , IBM : 1 , additionalOpinionRegions : 1 , suggestions : 7 , inv2 : 1 , states : 1 , matchHeight : 1 , Years : 1 , Helped : 1 , Spars : 1 , HpHedThumbWell : 81 , desperation : 1 , breaking : 2 , earnings : 1 , TopBar : 1 , css : 10 , starturl : 1 , Television : 2 , Migrants : 1 , Don : 2 , variant : 1 , treatments : 1 , 100000003888230 : 1 , Foreign : 1 , fb : 1 , disable : 1 , DOMContentLoaded : 1 , blood : 5 , Kelly : 1 , Syria : 1 , horizontal : 2 , addToTrace : 1 , response : 1 , a : 735 , D9C94A2B : 1 , Mexico : 2 , ribbonChartbeatMostEmailed : 1 , author : 1 , Player : 1 , media : 7 , inline : 3 , Armed : 1 , Film : 1 , RSS : 1 , 100000003986956 : 1 , opts : 5 , What : 7 , Arial : 2 , help : 6 , getTime : 2 , thumbStandard : 33 , disabled : 2 , held : 1 , paper : 2 , Forces : 1 , articleShareAtEnd : 1 , its : 6 , Texas : 2 , dont : 2 , 25 : 2 , style : 15 , 27 : 1 , 20 : 118 , 21 : 5 , AA70 : 1 , 28 : 2 , handheld : 1 , eedition : 1 , autoreviews : 1 , stephen : 3 , Grisly : 2 , pesto : 1 , Parini : 1 , 100000003976811 : 1 , fines : 1 , Blood : 3 , waitSeconds : 1 , jabs : 1 , 20iPad : 1 , seeking : 1 , timestamp : 39 , demographics : 1 , L : 1 , framework : 1 , Trudeau : 9 , Era : 2 , Offenders : 2 , sweeping : 1 , executions : 1 , NAGOURNEY : 1 , Danes : 1 , 4137 : 1 , token : 1 , HpSum : 4 , Ready : 1 , found : 6 , 16UP : 2 , 3AF128ABE12D : 1 , 7eSDFh : 4 , trailer : 2 , cost : 1 , weight : 11 , house : 5 , 1871 : 6 , reduce : 2 , Sports : 4 , Setting : 1 , expect : 2 , newrelic : 4 , Criminal : 1 , comic : 1 , More : 7 , 100000003977956 : 3 , célèbre : 1 , mediumThreeByTwo210 : 3 , itemtype : 1 , item : 14 , CC9E2674 : 1 , testify : 1 , misses : 2 , health : 9 , ADAM : 1 , 7 : 8 , overselling : 1 , paidPostFivePack : 1 , issue : 1 , 4px : 4 , Town : 2 , 100000003986573 : 2 , Drama : 1 , houses : 3 , base : 12 , put : 3 , Opinion : 13 , generate : 1 , Behavior : 1 , People : 2 , Ed : 6 , inv3 : 1 , success : 1 , inv1 : 1 , americas : 6 , Past : 1 , Hice : 1 , Expect : 2 , mostpopular : 3 , syria : 1 , tabindex : 1 , 100000003972248 : 3 , CACF62E94AAE : 1 , Inflicted : 1 , Antidrug : 1 , done : 1 , blank : 1 , ecommerce : 1 , applicationName : 2 , story : 436 , Catalogs : 1 , script : 32 , 100000003985377 : 1 , recommendedLabelTest : 1 , dfp : 3 , pinned : 1 , header1 : 1 , passed : 1 , gpt : 1 , 4B2F : 1 , G9z0Bl : 3 , schema : 1 , bumble : 3 , Justin : 7 , Contact : 1 , 144×144 : 1 , hotel : 3 , Companies : 1 , Ottawa : 1 , part : 1 , 17CD0EAA99AC : 1 , Mismanaging : 1 , theater : 5 , believe : 1 , jeh : 1 , rimmed : 1 , jquery : 2 , b : 20 , throttle : 12 , automobiles : 3 , Puzzle : 2 , 138D30468F8F : 1 , Monkeys : 1 , 359C : 1 , pampered : 1 , Layouts : 1 , Investigative : 1 , marriage : 4 , store : 1 , firstyear : 1 , opinionator : 4 , 592CC66F82D4 : 1 , Click : 1 , 20OTR : 4 , interactive : 2 , Gluten : 2 , 20BRODY : 2 , nythpBriefingNewsletterSignup : 4 , fights : 2 , Father : 2 , Ahmed : 3 , favicon : 1 , 4A39 : 1 , Pena : 1 , Larry : 1 , 4D25 : 1 , paths : 1 , 100000003982010 : 1 , lib : 1 , Food : 4 , self : 3 , Graduates : 1 , build : 5 , d37d526acc5f1ea70c6a0bee273416cc : 1 , With : 9 , 6B7245A6CDD8 : 1 , Hand : 1 , Attacks : 1 , M : 3 , most : 4 , Chief : 1 , sponsored : 1 , plan : 1 , 71 : 4 , services : 3 , The : 41 , blogSmallThumb : 1 , Hackers : 1 , 9869919170 : 1 , mobile : 7 , 0D3C : 1 , Subscriptions : 5 , parentNode : 2 , Subscribe : 3 , Cost : 1 , attacking : 1 , Viewed : 1 , Emissions : 1 , Perfect : 1 , journeys : 1 , 667 : 1 , cdn : 1 , Loading : 2 , sslForHttp : 1 , Babies : 1 , headlines : 15 , font : 33 , find : 1 , Affordable : 1 , 100000003985419 : 2 , northern : 1 , music : 1 , 22px : 1 , 100000003976957 : 3 , CHARLES : 1 , rotten : 1 , Jr : 2 , woodell : 1 , 100000003985903 : 1 , Traffic : 1 , 8 : 3 , Prime : 1 , Masters : 1 , IAN : 1 , hit : 1 , Becomes : 3 , Cooker : 1 , 19tmag : 2 , 19levine : 2 , cheaper : 2 , F4CF : 1 , While : 1 , ecedeb : 2 , actress : 1 , international : 16 , safeguards : 2 , banner : 5 , ie9 : 1 , America : 1 , Help : 1 , opinionindex : 1 , cry : 1 , Powerful : 1 , 430B : 1 , activity : 1 , x : 5 , Plays : 1 , For : 1 , nythpNoRule : 1 , culture : 1 , schizophrenia : 3 , are : 8 , close : 2 , Violations : 1 , Oregon : 1 , crossword : 6 , Part : 1 , Broil : 1 , weekly : 1 , europe : 4 , itemid : 1 , recently : 1 , web : 6 , Could : 1 , javascript : 2 , Florida : 1 , Against : 2 , 100000003980396 : 1 , Workplace : 1 , invisible : 1 , F5AB0C515CEA : 1 , Refugees : 4 , league : 1 , c : 24 , last : 15 , Deaths : 2 , HPmodule : 2 , 20obs : 2 , roman : 5 , became : 1 , context : 1 , baltimore : 1 , ZCGrid : 1 , load : 2 , hackers : 1 , point : 2 , simple : 1 , 4CEA : 1 , community : 1 , header : 11 , regulated : 3 , church : 1 , Love : 1 , War : 1 , expensive : 2 , Play : 2 , pt : 1 , agree : 1 , Students : 2 , Footsteps : 2 , KIRKPATRICK : 1 , Royals : 2 , Most : 3 , California : 2 , Plan : 1 , preventable : 1 , 1445302655 : 1 , HomePage : 1 , 4 : 4 , firm : 1 , sanders : 1 , flight : 1 , gay : 2 , nra : 3 , gas : 4 , cruelty : 1 , Graduation : 2 , N : 12 , logjam : 1 , lives : 2 , hasOwnProperty : 2 , 16px : 2 , georgia : 5 , Mulcair : 2 , look : 1 , 18slaghtWeb : 2 , solid : 7 , expanded : 1 , Sales : 1 , E57A148E : 1 , match : 1 , Church : 1 , Cold : 1 , publisherId : 1 , HpSumSmallMediaHigh : 4 , pack : 2 , City : 4 , LedeSumLargeMedia : 1 , js2 : 2 , moth : 2 , danes : 1 , Racism : 1 , jpg : 46 , decoration : 1 , ready : 3 , Eagles : 4 , Elliott : 1 , Cosby : 1 , chauffeur : 1 , lengthy : 1 , barney : 1 , 20Store : 1 , CHURCHKILLweb2 : 2 , 875 : 1 , 4C02 : 1 , Petticoat : 1 , firearms : 1 , 9 : 10 , inlineHit : 1 , conflict : 2 , Podcast : 2 , About : 1 , keys : 1 , Gobi : 1 , Hunting : 1 , alert : 3 , Movies : 3 , 000 : 6 , user : 7 , miniNavCount : 1 , 100000003985773 : 3 , googletag : 4 , task : 4 , gst : 3 , Source : 1 , GERMANSweb1 : 2 , Son : 3 , Rate : 1 , edge : 2 , chronicles : 1 , landmark : 2 , organization : 1 , Racial : 1 , Heinssen : 1 , Tools : 1 , spend : 1 , Living : 3 , Takes : 1 , Fans : 1 , questions : 1 , Internet : 1 , loading : 1 , Football : 1 , shortcut : 1 , source : 2 , Christopher : 1 , location : 4 , input : 8 , guarantees : 1 , Robert : 2 , 8220 : 1 , On : 1 , adxPage : 1 , Die : 2 , couple : 1 , discriminatory : 1 , Air : 1 , game : 7 , nythpHideBylines : 1 , Rimmed : 1 , Landmark : 1 , Aid : 2 , enumerable : 1 , Op : 6 , modifications : 1 , d : 4 , 100000003982259 : 2 , confront : 1 , Cohen : 2 , mostemailed : 1 , Columnists : 1 , popular : 1 , MAIN : 2 , onreadystatechange : 1 , Treatment : 3 , Happens : 2 , velcroSocialFollow : 1 , fathers : 2 , Fears : 2 , back : 2 , itemprop : 8 , corporateleftnav : 1 , pricing : 1 , 4201 : 1 , Email : 1 , Daypart : 1 , Bar1 : 1 , Confidential : 1 , HPMiddle : 1 , tools : 3 , renderstyle : 121 , kleins : 1 , nythpBreaking : 3 , usageTerms : 1 , Something : 1 , cgi : 2 , be : 4 , patient : 1 , Look : 3 , zam5nzz : 1 , 300 : 5 , 18jung : 2 , Bill : 2 , bi : 1 , O : 2 , David : 3 , contentPlacement : 1 , 80E6DEE6 : 1 , concealed : 3 , putting : 1 , Davis : 2 , by : 10 , NYSE : 1 , A4D120C9014E : 1 , Voters : 2 , truck : 3 , 813B : 1 , drama : 1 , 8px : 3 , militia : 3 , modal : 1 , Dies : 3 , block : 4 , repair : 1 , real : 6 , nytco : 1 , dude : 1 , 14FA6B07E5AB : 1 , Young : 1 , Woodell : 1 , 100000003977701 : 1 , rolls : 1 , Driven : 1 , span : 69 , live : 1 , submit : 2 , Illuminates : 1 , HPBottom1 : 1 , Every : 1 , User : 1 , homemade : 1 , uppercase : 5 , Nieto : 1 , sections : 3 , Painter : 1 , Fly : 2 , poster : 1 , murphy : 1 , Holocaust : 1 , serif : 11 , larry : 1 , link : 60 , createElement : 2 , line : 8 , 052C33AD : 1 , info : 4 , utc : 12 , Awkwafina : 1 , 20SCHIZOPHRENIA : 2 , Bell : 1 , a11y : 1 , 115710 : 11 , Africa : 3 , us : 25 , utm : 8 , ul : 102 , 1445313680 : 1 , clear : 4 , 9458 : 1 , 0012 : 1 , shortcuts : 23 , 4C3D : 1 , 100000003981654 : 2 , single : 7 , 100000003985594 : 2 , International : 4 , rally : 1 , Manhattan : 3 , 20SORKINsub : 2 , Map : 1 , hpmodule : 1 , 4491446 : 1 , fears : 2 , application : 5 , 20clock : 2 , nav : 15 , Student : 3 , becomes : 4 , pageManager : 3 , Case : 2 , infoservdirectory : 1 , kansas : 3 , AM : 6 , robots : 17 , visits : 3 , STYLING : 2 , lens : 1 , lufthansa : 1 , Technology : 1 , Making : 2 , Documentary : 2 , desert : 1 , 100000003986734 : 1 , leboeuf : 2 , e : 72 , Ad : 1 , 100000003972624 : 2 , BENEDICT : 1 , svg : 6 , Weddings : 1 , 4DB6 : 1 , Migrant : 4 , 2000 : 1 , Village : 1 , Newsletter : 1 , scroll : 1 , Sell : 1 , code : 1 , Based : 1 , Harper : 3 , 100000003985542 : 1 , Self : 2 , Jim : 1 , toggle : 3 , query : 3 , Citigroup : 1 , Enact : 2 , detoured : 1 , birthplace : 1 , terms : 1 , 114×114 : 1 , Object : 5 , 100000003979250 : 1 , CASEY : 1 , Profit : 1 , Not : 2 , » : 1 , women : 1 , 15584765C8D7 : 1 , Region : 2 , provider : 1 , P : 3 , Celebrations : 1 , facebook : 1 , Misses : 2 , ibm : 1 , 8B2A : 1 , button : 65 , try : 2 , trudeau : 5 , Sentences : 1 , Bottom8 : 1 , 35rem : 1 , bernie : 1 , Turkey : 1 , Index : 1 , 18LOVE : 2 , Long : 2 , publisherReadToken : 1 , State : 1 , video : 36 , Sections : 3 , makers : 1 , index : 108 , Lonely : 1 , Nytimes : 1 , jokes : 1 , giving : 1 , multimedia : 4 , middleeast : 1 , 100000003981918 : 1 , Campaigns : 1 , indexOf : 2 , C4DC8C0C : 1 , Balkans : 1 , Survived : 1 , 100000003985909 : 2 , hpbreak : 1 , Ore : 1 , 1404 : 1 , body : 2 , Vance : 1 , Official : 1 , led : 1 , TURKEWITZ : 1 , Freedom : 1 , spacing : 1 , 100000003963398 : 1 , explore : 2 , awakens : 2 , focused : 1 , Merida : 1 , 1445316793 : 1 , great : 1 , dividing : 1 , Chinese : 1 , 33 : 4 , Back : 1 , 18px : 4 , opinion : 49 , followFeature : 1 , Photography : 1 , Baseball : 1 , apple : 4 , Amtrak : 1 , playerId : 1 , Leading : 1 , app : 5 , Multimedia : 3 , Smugglers : 1 , Contributing : 1 , api : 2 , Safety : 2 , Firearms : 1 , columnists : 1 , apply : 1 , Conditions : 1 , YwFXZhRYVhAEVUZcX1pLYEAPFlkTFRhCXUA : 1 , trump : 2 , Status : 1 , use : 1 , from : 7 , HPSponLink : 1 , Sold : 1 , pgtype : 1 , next : 3 , Lens : 1 , trackingFireEventQueue : 1 , sundayreview : 2 , Displaced : 2 , Novel : 5 , firstbyte : 1 , on : 24 , Career : 3 , Denmark : 1 , Others : 1 , Gun : 3 , visibility : 1 , Claire : 1 , Editorial : 3 , box1 : 1 , subscription : 7 , Feedback : 1 , f : 11 , this : 3 , clients : 1 , membercenter : 5 , Video : 8 , of : 82 , Traveler : 1 , control : 4 , giants : 3 , Police : 2 , 20NIGHTVALE : 2 , do : 6 , Feature : 1 , Cultured : 1 , tag : 1 , something : 1 , tab : 4 , Party : 12 , 78FBAD45 : 1 , copyrightNotice : 1 , lamb : 1 , Several : 1 , clothing : 1 , Advertisers : 1 , arrangement : 1 , need : 2 , Gore : 1 , Friends : 2 , Ghost : 1 , NYTABTEST : 3 , Joel : 1 , collection : 165 , Quarter : 1 , muppets : 1 , Letters : 1 , Disaster : 1 , googletagservices : 1 , documentary : 2 , One : 2 , Middle : 3 , chief : 1 , Politics : 6 , Expensive : 2 , breast : 1 , pine : 1 , Organization : 1 , perfect : 1 , TopLeft : 1 , byline : 14 , Smuggling : 2 , perf : 1 , li : 493 , lt : 9 , 2015 : 200 , paidPostFivePackMock : 1 , 2016 : 1 , Away : 3 , addClass : 2 , Alerts : 1 , junction : 1 , greater : 1 , Rowling : 3 , auto : 1 , 20council : 2 , Brother : 1 , auth : 3 , 100000003975092 : 1 , Can : 4 , Mother : 3 , browsetree : 2 , HpSumSmallMedia : 1 , republican : 1 , transparent : 1 , preschool : 1 , applicants : 1 , Respond : 1 , masters : 1 , San : 1 , artsbeat : 1 , fundraiser : 2 , university : 3 , sitehelp : 1 , slide : 2 , hpbottom1 : 1 , 12F29393259F : 1 , bills : 1 , Jabs : 1 , glasses : 1 , Arts : 6 , From : 6 , 100000003938192 : 1 , 700 : 7 , Representatives : 1 , books : 11 , Thunderous : 1 , our : 1 , 87 : 2 , Junction : 1 , messenger : 6 , Breast : 1 , rel : 9 , contentCollection : 1 , supports : 1 , Reveal : 1 , HpHeadline : 13 , This : 1 , spot : 3 , shortage : 1 , Museums : 1 , Ryan : 1 , CAMPBELL : 1 , Spend : 1 , Point : 2 , re2 : 1 , could : 3 , florida : 1 , times : 22 , Currency : 1 , length : 2 , homelessness : 1 , barriers : 1 , Comic : 1 , south : 1 , 1445302941 : 1 , Lamb : 1 , ab3 : 2 , Review : 9 , powerful : 1 , franks : 1 , hppromo : 1 , Collection : 1 , owner : 1 , art : 1 , 100000003984757 : 1 , playlist : 5 , privacy : 3 , Corporate : 1 , 100000003984997 : 1 , detailing : 1 , Vale : 2 , 100000003984993 : 1 , their : 3 , attack : 2 , XL7HBI : 2 , Adult : 2 , watchingNoScroll : 2 , 1445314675 : 1 , man : 1 , Box1 : 1 , Preschool : 1 , shell : 2 , Success : 1 , Artwork : 1 , 97px : 1 , R : 4 , 12x12 : 1 , 43B3 : 1 , Democratic : 2 , herself : 1 , rss : 2 , ipad : 1 , isolation : 1 , Recommended : 1 , bed : 2 , Edition : 1 , listeners : 2 , 100000003986912 : 1 , visited : 2 , Appetite : 1 , Peter : 1 , Engineer : 1 , false : 2 , tabs : 2 , Pay : 2 , Empire : 1 , Schweikert : 1 , unlikely : 1 , have : 4 , Jody : 1 , Isolation : 1 , border : 16 , 100000003984506 : 2 , viewed : 2 , tale : 1 , 100000003977773 : 1 , min : 3 , Rhesus : 1 , BE66F420 : 1 , 0364 : 1 , which : 1 , so : 2 , thepubliceditor : 2 , Dewey : 3 , nytimes : 333 , Blogs : 1 , who : 13 , hpViewability : 1 , said : 2 , Games : 2 , Detroit : 1 , masthead : 11 , class : 863 , 07 : 3 , mediakit : 1 , Account : 1 , takes : 1 , url : 6 , stranded : 1 , uri : 8 , Actress : 1 , face : 1 , Relative : 1 , mediumSquare149 : 9 , nythpHideTimestamps : 1 , Saturday : 1 , 100000003968211 : 1 , 100000003982903 : 3 , 09 : 2 , text : 22 , 20BOOKGALBRAITHJP : 4 , 0036 : 1 , 0033 : 1 , Cyrus : 1 , tpnav : 1 , fear : 2 , 30px : 1 , q3 : 1 , 100000003981925 : 1 , based : 1 , 100000003985336 : 1 , jay : 1 , Measures : 1 , Undo : 1 , should : 2 , Failure : 1 , Craft : 1 , candidates : 3 , York : 17 , Mob : 1 , Strong : 2 , 1A25A7947D94 : 1 , Homes : 1 , handle : 5 , pets : 1 , watching : 3 , Stranded : 1 , 999 : 3 , 4AD0 : 1 , Keep : 1 , crosswords : 12 , Stories : 1 , cubs : 1 , Popular : 1 , years : 1 , spur : 1 , Italian : 1 , misguided : 1 , 100000003986160 : 1 , rapper : 1 , taxes : 1 , Zones : 1 , hdleftnav : 1 , dangerous : 1 , ohio : 1 , fixed : 1 , view : 1 , precomposed : 3 , bar1 : 1 , HPMediumMediaHedSumDaypart : 3 , turkeys : 2 , national : 3 , module : 4 , writable : 1 , edition : 5 , accused : 1 , Adoption : 2 , 100000003985747 : 1 , noodp : 1 , White : 3 , Twist : 1 , Good : 1 , PT : 1 , 100000003979271 : 1 , 1445298725 : 1 , state : 2 , Republican : 1 , email : 1 , PM : 18 , Developing : 1 , 2px : 7 , Study : 1 , strides : 1 , S : 8 , 966D : 1 , joe : 1 , 100000003985636 : 2 , police : 3 , Anchor : 1 , tickerSymbol : 1 , david : 1 , restrictions : 1 , BF10 : 1 , career : 3 , taking : 1 , drug : 2 , Ivy : 1 , dogear : 1 , Playoff : 1 , Design : 2 , Unlikely : 1 , 13036 : 1 , Campus : 1 , testId : 12 , comment : 4 , Log : 1 , Her : 1 , cc : 1 , 8217 : 4 , migrant : 2 , running : 1 , subscribe : 1 , Music : 1 , 82F1C903DBFB : 1 , Locals : 1 , Holiday : 1 , ct : 1 , 100000003986212 : 1 , discrimination : 1 , Multiproduct : 1 , flyout : 2 , Immigration : 2 , quiz : 1 , 427B : 1 , json : 2 , Obituaries : 2 , f8e9d2 : 1 , applicationTime : 1 , 00up : 2 , runaroundRight : 2 , kickers : 1 , 20App : 1 , Airlines : 1 , Credit : 1 , finished : 1 , Wordplay : 1 , Jason : 1 , general : 1 , Essential : 1 , painter : 1 , NICHOLAS : 1 , Force : 2 , align : 2 , Vidal : 1 , value : 1 , General : 1 , will : 2 , Fatalities : 1 , Pricing : 1 , fielding : 1 , MORE : 1 , B172 : 1 , site : 9 , helped : 1 , 10lIEQ : 1 , vs : 2 , emailed : 2 , You : 6 , allTheEmphases : 1 , JAYS : 2 , syrian : 3 , 20kiniklioglu : 2 , withholds : 1 , http : 405 , Third : 1 , Avoiding : 1 , Ride : 1 , ios : 3 , v2 : 5 , v5 : 1 , student : 3 , francisco : 1 , off : 1 , center : 1 , i : 80 , Syrian : 3 , 37FYY : 1 , well : 8 , Pierre : 1 , 21BROIL : 1 , Makers : 1 , States : 5 , 100000003976737 : 3 , Mohamed : 3 , Have : 2 , Artists : 1 , Need : 2 , position : 1 , 100000003987091 : 3 , 240x72 : 2 , Lennart : 1 , addPageAction : 1 , domestic : 7 , obtain : 1 , Sunday : 2 , 100000003985032 : 2 , Balmain : 2 , bottom8 : 1 , bottom9 : 1 , Be : 2 , vidm : 1 , Lufthansa : 1 , digitalleftnav : 1 , Company : 1 , adx : 1 , 144x144 : 1 , adoption : 2 , presidential : 1 , By : 13 , enact : 2 , Thread : 1 , Debut : 1 , Cycle : 1 , Drug : 2 , fats : 2 , Time : 1 , five : 2 , T : 3 , variants : 12 , loader : 13 , Jamaica : 1 , Fashion : 6 , like : 1 , lost : 3 , sizes : 2 , testName : 12 , async : 1 , Fear : 2 , refugees : 2 , page : 8 , 11px : 4 , italian : 1 , 12px : 8 , twitter : 1 , Climate : 1 , 90E6 : 1 , Quiz : 1 , Crossword : 4 , blunders : 1 , Editor : 2 , home : 5 , empire : 1 , Specimen : 1 , happens : 2 , graduation : 2 , afterword : 1 , Lost : 3 , 2783 : 1 , overlay : 2 , sectionHeaderHome : 2 , 91E8 : 1 , Replica : 1 , Deadline : 2 , videoPlaylist : 1 , 4D71 : 1 , Inside : 1 , 10px : 4 , pp : 1 , Us : 2 , balkans : 1 , variation : 1 , offset : 1 , after : 4 , panel : 3 , about : 2 , justin : 5 , world : 15 , hpHeader : 25 , column : 110 , freedom : 1 , Americans : 1 , Japan : 1 , Weekly : 1 , nythpDaypartRegion : 6 , create : 3 , A4B35924 : 1 , letters : 1 , h2 : 304 , h3 : 88 , French : 1 , h6 : 25 , Two : 1 , h4 : 4 , h5 : 2 , Iraqi : 1 , weather : 3 , Infection : 1 , Approach : 2 , Feeding : 1 , Frauds : 1 , housing : 3 , 57x57 : 1 , 70DA3BD89778 : 1 , alcs : 3 , Therapy : 2 , South : 1 , KAPLAN : 1 , var : 28 , Portal : 2 , function : 46 , THOMAS : 1 , buy : 3 , gluten : 2 , HIGGINS : 1 , hr : 10 , Science : 5 , hp : 10 , Well : 4 , but : 7 , delivery : 1 , 18DYINGweb1 : 2 , hm : 2 , Following : 2 , 450810F4FEE6 : 1 , ear : 2 , Consumer : 1 , he : 1 , count : 4 , made : 1 , tactics : 2 , Tea : 1 , Live : 1 , Tex : 1 , meta : 32 , limit : 1 , Care : 1 , display : 11 , Split : 1 , deaths : 1 , int : 2 , universal : 1 , twist : 1 , maxHeight : 1 , 20151014 : 11 , education : 5 , campus : 3 , A257D89A : 1 , Centered : 2 , DAN : 1 , Million : 1 , Fats : 2 , 100000003985862 : 2 , other : 2 , details : 1 , 84C8 : 1 , repeat : 5 , star : 2 , insertBefore : 2 , HPHEADER : 2 , contentinfo : 1 , become : 1 , Remove : 1 , slideshow : 2 , 18DORM : 2 , U : 9 , Morgan : 1 , Act : 1 , friends : 3 , Page : 3 , Baltimore : 1 , ghost : 1 , amp : 7 , blogs : 11 , Fights : 2 , Site : 3 , rule : 10 , Contributor : 1 , Thick : 1 , 00guns1 : 2 , }\n"
     ]
    }
   ],
   "source": [
    "# 이번 과제 3(타임즈)\n",
    "import urllib2\n",
    "import string\n",
    "\n",
    "source = urllib2.urlopen(\"http://www.nytimes.com\").read()\n",
    "\n",
    "for i in range(0, source.count('<!--')):\n",
    "    if source.find(\"<!--\") != -1:\n",
    "        source = source.replace(source[source.find(\"<!--\"):source.find(\"-->\")+3:],\"\")\n",
    "\n",
    "for i in range(0,source.count(\"<\")):\n",
    "    if source.find(\"<\") != -1:\n",
    "        source = source.replace(source[source.find(\"<\"):source.find(\">\")+1:],\"\")\n",
    "\n",
    "words = source.split()\n",
    "#print \"(0)) 단어 수 : \",\n",
    "#print len(words)\n",
    "#print\n",
    "\n",
    "# 태그가 제거된 공백으로 단어 구분되어있는 문자열\n",
    "s = ' '.join(words)\n",
    "\n",
    "#특수문자를 알맞게 변경\n",
    "b = unicode(s, encoding = 'utf-8')\n",
    "b = b.replace(u'‘', ' ')\n",
    "s = b.replace(u'’', ' ') \n",
    "\n",
    "#구두문자 제거\n",
    "words = list(s)\n",
    "for i in range(len(words)):    \n",
    "    for k in range(len(string.punctuation)):\n",
    "        if(words[i] == string.punctuation[k]):\n",
    "            words[i] = ' '\n",
    "words = ''.join(words)\n",
    "#print \"(1) 구두문자 제거된 문자열 : \",\n",
    "#print words\n",
    "#print\n",
    "\n",
    "#구두문자가 제거된 문자열을 공백을 제외한 리스트로 만들기\n",
    "words = words.split()\n",
    "#print \"(2) 공백 제거된 문자 리스트 : \",\n",
    "#for i in range(len(words)):\n",
    "#    print words[i],\n",
    "#print\n",
    "#print\n",
    "\n",
    "#사전 만들고 카운트 세기\n",
    "counts = dict()\n",
    "for word in words:\n",
    "    if word not in counts:\n",
    "        counts[word] = 1\n",
    "    else:\n",
    "        counts[word] += 1\n",
    "\n",
    "#사전을 리스트로 만들어서 출력\n",
    "listkey = counts.keys()\n",
    "listvalue = counts.values()\n",
    "\n",
    "print \"(3) 출력 - 방법1\"\n",
    "print '{',\n",
    "for i in range(len(listkey)):\n",
    "    print listkey[i],\n",
    "    print ':',\n",
    "    print listvalue[i],\n",
    "    print ',',\n",
    "print '}'\n",
    "\n",
    "#사전을 한글 깨짐 없이 그대로 출력\n",
    "#print\n",
    "#print \"(4) 출력 - 방법2\"\n",
    "#print MyPrettyPrinter().pformat(counts)"
   ]
  },
  {
   "cell_type": "code",
   "execution_count": null,
   "metadata": {
    "collapsed": true
   },
   "outputs": [],
   "source": []
  }
 ],
 "metadata": {
  "kernelspec": {
   "display_name": "Python 2",
   "language": "python",
   "name": "python2"
  },
  "language_info": {
   "codemirror_mode": {
    "name": "ipython",
    "version": 2
   },
   "file_extension": ".py",
   "mimetype": "text/x-python",
   "name": "python",
   "nbconvert_exporter": "python",
   "pygments_lexer": "ipython2",
   "version": "2.7.9"
  }
 },
 "nbformat": 4,
 "nbformat_minor": 0
}
