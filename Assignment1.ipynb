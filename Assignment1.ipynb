{
 "cells": [
  {
   "cell_type": "markdown",
   "metadata": {},
   "source": [
    "# 스크립트프로그래밍 과제1\n",
    "### 1번>\n",
    "a=\"Hello Python\" 문자열을 Slicing과 연결 연산자 (+)를 사용하여 \"Python Hello\"로 변경하시오.<br>\n",
    "[주의] a 변수 자체에 \"Python Hello\" 문자열이 저장되어야 함"
   ]
  },
  {
   "cell_type": "code",
   "execution_count": 3,
   "metadata": {
    "collapsed": false
   },
   "outputs": [
    {
     "name": "stdout",
     "output_type": "stream",
     "text": [
      "Python Hello\n"
     ]
    }
   ],
   "source": [
    "a = \"Hello Python\"\n",
    "a = a[6:] + ' ' + a[:5]\n",
    "print a"
   ]
  },
  {
   "cell_type": "markdown",
   "metadata": {},
   "source": [
    "* a에 우선 문자열 \"Hello Python\"을 대입 후, a를 Slicing한 문자열을 + 연산을 이용해 새로운 문자열 객체를 a가 다시 가리키도록 합니다.\n",
    "* a[6:]은 a[6]부터 마지막까지의 문자열이며 'Python'이고, a[:5]는 처음부터 a[4]까지의 문자열로 'Hello'입니다.\n",
    "* (+) 연산자는 두 객체를 합쳐주므로, a는 \"Python Hello\"라는 새로운 객체를 가리키게 됩니다."
   ]
  },
  {
   "cell_type": "markdown",
   "metadata": {},
   "source": [
    "### 2번>\n",
    "b=\"Hello Python World\" 문자열을 Slicing과 연결 연산자 (+)를 사용하여 \"World Python Hello\"로 변경하시오.<br>\n",
    "[주의] b 변수 자체에 \"Python Hello\" 문자열이 저장되어야 함"
   ]
  },
  {
   "cell_type": "code",
   "execution_count": 5,
   "metadata": {
    "collapsed": false
   },
   "outputs": [
    {
     "name": "stdout",
     "output_type": "stream",
     "text": [
      "World Python Hello\n"
     ]
    }
   ],
   "source": [
    "b = \"Hello Python World\"\n",
    "b = b[13:] + ' ' + b[6:12] + ' ' + b[:5]\n",
    "print b"
   ]
  },
  {
   "cell_type": "markdown",
   "metadata": {},
   "source": [
    "* 1번문제와 기본적인 개념은 똑같으며, 3부분으로 나누어, b[13:]는 \"World\"를, b[6:12]는 \"Python\"을, b[:5]는 \"Hello\"를 가리킵니다.\n",
    "* 문제에서는 b에 \"Python Hello\"라고 올라와있는데, 오타인듯 하여 \"World Python Hello\"로 변경하였습니다."
   ]
  },
  {
   "cell_type": "markdown",
   "metadata": {},
   "source": [
    "### 3번>\n",
    "c=\"Hello\"를 \"olleH\"로 변경하시오<br>\n",
    "[주의] c 변수 자체에 \"olleH\" 문자열이 저장되어야 함"
   ]
  },
  {
   "cell_type": "code",
   "execution_count": 8,
   "metadata": {
    "collapsed": false
   },
   "outputs": [
    {
     "name": "stdout",
     "output_type": "stream",
     "text": [
      "olleH\n"
     ]
    }
   ],
   "source": [
    "c = \"Hello\"\n",
    "c = c[::-1]\n",
    "print c"
   ]
  },
  {
   "cell_type": "markdown",
   "metadata": {},
   "source": [
    "* c[::-1]에서 세번째는 스텝을 의미합니다. 이동하게 되는 차이를 말하며, -1을 하게 되는 경우 거꾸로 움직이게 되므로, Hello가 olleH가 됩니다."
   ]
  },
  {
   "cell_type": "markdown",
   "metadata": {},
   "source": [
    "### 4번>\n",
    "s=\"python\"에 대해 다음 문제를 풀어보시오.<br>\n",
    "s[0], s[0][0], s[0][0][0]은 각각 어떤 값이 나오는지 확인하고 그 이유를 나름대로 설명해 보시오.<br>\n",
    "s[-100], s[100]은 값이 나오는지 에러가 나오는지 확인하고 그 결과에 대한 이유를 나름대로 설명해 보시오.<br>\n",
    "s[-100, 100]은 값이 나오는지 에러가 나오는지 확인하고 그 결과에 대한 이유를 나름대로 설명해 보시오.<br>\n",
    "s[1:-1]의 결과를 확인하고 그 결과에 대한 이유를 정확하게 설명하시오.<br>\n",
    "s[3:-3]의 결과를 확인하고 그 결과에 대한 이유를 정확하게 설명하시오.<br>"
   ]
  },
  {
   "cell_type": "code",
   "execution_count": 23,
   "metadata": {
    "collapsed": false
   },
   "outputs": [
    {
     "name": "stdout",
     "output_type": "stream",
     "text": [
      "p\n",
      "p\n",
      "p\n",
      "\n",
      "python\n",
      "p\n",
      "p\n"
     ]
    }
   ],
   "source": [
    "s = \"python\"\n",
    "print s[0]\n",
    "print s[0][0]\n",
    "print s[0][0][0]\n",
    "print\n",
    "w = [\"python\", \"Test\"]\n",
    "print w[0]\n",
    "print w[0][0]\n",
    "print w[0][0][0]"
   ]
  },
  {
   "cell_type": "markdown",
   "metadata": {},
   "source": [
    "* [0]의 의미는 객체의 첫번째입니다. 즉, s[0]은 s가 가리키고있는 python 객체의 첫번째인 p가 되는 것 입니다. (s---->\"python\") \n",
    "* 그런데 s[0][0]또한 p가 출력되는 것을 알 수 있습니다. 이것은 문자열의 경우, 마지막 객체는 본인 스스로를 가리키고 있어서 본인의 [0]을 출력하는 것 같습니다.\n",
    "* s--->\"python\"<┐ 이와 같은 방식이라면, s[0], s[0][0], s[0][0][0] 모두 p가 출력되는 것이 맞기 때문입니다.\n",
    "* 　　 　　└──┘\n",
    "* w-->[\"python\", \"Test\"]-->\"python\"<┐ 마지막 객체에서만 해당되기 때문에, w에서는, w[0]은 \"python\"이고, w[0][0], w[0][0][0]은 'p'입니다.\n",
    "* 　　　　　　  　　　　  　 　└──┘"
   ]
  },
  {
   "cell_type": "code",
   "execution_count": 39,
   "metadata": {
    "collapsed": false
   },
   "outputs": [
    {
     "name": "stdout",
     "output_type": "stream",
     "text": [
      "h\n",
      "htyp\n"
     ]
    },
    {
     "ename": "IndexError",
     "evalue": "string index out of range",
     "output_type": "error",
     "traceback": [
      "\u001b[1;31m---------------------------------------------------------------------------\u001b[0m",
      "\u001b[1;31mIndexError\u001b[0m                                Traceback (most recent call last)",
      "\u001b[1;32m<ipython-input-39-a07d2b0bf7a8>\u001b[0m in \u001b[0;36m<module>\u001b[1;34m()\u001b[0m\n\u001b[0;32m      1\u001b[0m \u001b[1;32mprint\u001b[0m \u001b[0ms\u001b[0m\u001b[1;33m[\u001b[0m\u001b[1;33m-\u001b[0m\u001b[1;36m3\u001b[0m\u001b[1;33m]\u001b[0m\u001b[1;33m\u001b[0m\u001b[0m\n\u001b[0;32m      2\u001b[0m \u001b[1;32mprint\u001b[0m \u001b[0ms\u001b[0m\u001b[1;33m[\u001b[0m\u001b[1;36m3\u001b[0m\u001b[1;33m:\u001b[0m\u001b[1;33m:\u001b[0m\u001b[1;33m-\u001b[0m\u001b[1;36m1\u001b[0m\u001b[1;33m]\u001b[0m\u001b[1;33m\u001b[0m\u001b[0m\n\u001b[1;32m----> 3\u001b[1;33m \u001b[1;32mprint\u001b[0m \u001b[0ms\u001b[0m\u001b[1;33m[\u001b[0m\u001b[1;36m100\u001b[0m\u001b[1;33m]\u001b[0m\u001b[1;33m\u001b[0m\u001b[0m\n\u001b[0m\u001b[0;32m      4\u001b[0m \u001b[1;32mprint\u001b[0m \u001b[0ms\u001b[0m\u001b[1;33m[\u001b[0m\u001b[1;33m-\u001b[0m\u001b[1;36m100\u001b[0m\u001b[1;33m]\u001b[0m\u001b[1;33m\u001b[0m\u001b[0m\n",
      "\u001b[1;31mIndexError\u001b[0m: string index out of range"
     ]
    }
   ],
   "source": [
    "print s[-3]      #출력\n",
    "print s[3::-1]   #출력\n",
    "print s[100]     #에러\n",
    "print s[-100]    #에러"
   ]
  },
  {
   "cell_type": "markdown",
   "metadata": {},
   "source": [
    "* s[-100]과 s[100]은 범위를 벗어낫기 때문에 에러가 발생합니다.\n",
    "* 문자열에서 기준은 [0]이라고 생각합니다. 만약 정상적으로 순차적으로 시작한다면 [0]~[5]로서, [100]은 범위를 벗어 나게 됩니다.\n",
    "* slicing을 한다 하더라도 [0]을 기준으로 다시 뒤로 가거나 무한히 반복되지 않습니다.\n",
    "* 역으로 할 경우, [-1]~[-6]까지만 되며, [-6]은 [0]과 같은값으로 이것을 기준으로 끝이 난다고 생각합니다. 따라서 [-100]도 범위를 벗어나는 것 입니다."
   ]
  },
  {
   "cell_type": "code",
   "execution_count": 41,
   "metadata": {
    "collapsed": false
   },
   "outputs": [
    {
     "name": "stdout",
     "output_type": "stream",
     "text": [
      "yt\n"
     ]
    },
    {
     "ename": "TypeError",
     "evalue": "string indices must be integers, not tuple",
     "output_type": "error",
     "traceback": [
      "\u001b[1;31m---------------------------------------------------------------------------\u001b[0m",
      "\u001b[1;31mTypeError\u001b[0m                                 Traceback (most recent call last)",
      "\u001b[1;32m<ipython-input-41-1efccfdd87a2>\u001b[0m in \u001b[0;36m<module>\u001b[1;34m()\u001b[0m\n\u001b[0;32m      1\u001b[0m \u001b[1;32mprint\u001b[0m \u001b[0ms\u001b[0m\u001b[1;33m[\u001b[0m\u001b[1;36m1\u001b[0m\u001b[1;33m:\u001b[0m\u001b[1;36m3\u001b[0m\u001b[1;33m]\u001b[0m\u001b[1;33m\u001b[0m\u001b[0m\n\u001b[1;32m----> 2\u001b[1;33m \u001b[1;32mprint\u001b[0m \u001b[0ms\u001b[0m\u001b[1;33m[\u001b[0m\u001b[1;33m-\u001b[0m\u001b[1;36m100\u001b[0m\u001b[1;33m,\u001b[0m \u001b[1;36m100\u001b[0m\u001b[1;33m]\u001b[0m\u001b[1;33m\u001b[0m\u001b[0m\n\u001b[0m",
      "\u001b[1;31mTypeError\u001b[0m: string indices must be integers, not tuple"
     ]
    }
   ],
   "source": [
    "print s[1:3]        #출력\n",
    "print s[-100, 100]  #에러"
   ]
  },
  {
   "cell_type": "markdown",
   "metadata": {},
   "source": [
    "* s[-100, 100]의 경우, [-100,100]은 튜플로 인식됩니다. 문자열에서 []안에는 정수가 들어와야 하며, 만약 범위를 지정해주고 싶다면 , 가 아닌 :를 사용할 수 있습니다."
   ]
  },
  {
   "cell_type": "code",
   "execution_count": 47,
   "metadata": {
    "collapsed": false
   },
   "outputs": [
    {
     "name": "stdout",
     "output_type": "stream",
     "text": [
      "ytho\n",
      "yth\n",
      "yt\n"
     ]
    }
   ],
   "source": [
    "print s[1:-1]\n",
    "print s[1:-2]\n",
    "print s[1:3]"
   ]
  },
  {
   "cell_type": "markdown",
   "metadata": {},
   "source": [
    "* s[1:-1]은 s[1]부터 시작해서 s[-1]전까지 문자열을 출력하는 것을 의미합니다.\n",
    "* \"python\"에서 s[1]은 'y'이고 s[-1]은 'n'이므로 그 사이의 \"ytho\"가 출력됩니다."
   ]
  },
  {
   "cell_type": "code",
   "execution_count": 49,
   "metadata": {
    "collapsed": false
   },
   "outputs": [
    {
     "name": "stdout",
     "output_type": "stream",
     "text": [
      "\n"
     ]
    }
   ],
   "source": [
    "print s[3:-3]"
   ]
  },
  {
   "cell_type": "markdown",
   "metadata": {},
   "source": [
    "* s[3:-3]은 s[3]부터 s[-3]전까지의 문자열을 출력하는 것을 의미합니다.\n",
    "* \"python\"에서 s[3]은 'h'이고, s[-3]도 'h'입니다. 따라서 출력되는 것이 없습니다."
   ]
  },
  {
   "cell_type": "markdown",
   "metadata": {},
   "source": [
    "### 5번>\n",
    "for문을 활용하여 1부터 100사이의 홀수를 출력하시오."
   ]
  },
  {
   "cell_type": "code",
   "execution_count": 61,
   "metadata": {
    "collapsed": false
   },
   "outputs": [
    {
     "name": "stdout",
     "output_type": "stream",
     "text": [
      "1 3 5 7 9 11 13 15 17 19 21 23 25 27 29 31 33 35 37 39 41 43 45 47 49 51 53 55 57 59 61 63 65 67 69 71 73 75 77 79 81 83 85 87 89 91 93 95 97 99\n"
     ]
    }
   ],
   "source": [
    "for x in range(1,100):\n",
    "    if(x % 2 != 0):\n",
    "        print x,"
   ]
  },
  {
   "cell_type": "markdown",
   "metadata": {},
   "source": [
    "* range를 이용하여 범위를 1부터 100사이로 정하고, x를 타겟으로 합니다.\n",
    "* 홀수일 경우만 출력하므로, x를 2로 나누었을 때, 0이 아니면 홀수이므로 그때의 x를 출력하도록 합니다."
   ]
  },
  {
   "cell_type": "markdown",
   "metadata": {},
   "source": [
    "### 6번>\n",
    "while문을 활용하여 1부터 100사이의 짝수의 합을 계산하여 출력하시오."
   ]
  },
  {
   "cell_type": "code",
   "execution_count": 25,
   "metadata": {
    "collapsed": false
   },
   "outputs": [
    {
     "name": "stdout",
     "output_type": "stream",
     "text": [
      "2550\n"
     ]
    }
   ],
   "source": [
    "x = 1\n",
    "sum = 0\n",
    "while x <= 100: \n",
    "    if (x % 2 == 0):\n",
    "        sum = sum + x\n",
    "    x = x + 1 \n",
    "    \n",
    "print sum"
   ]
  },
  {
   "cell_type": "markdown",
   "metadata": {},
   "source": [
    "* 1부터 100사이의 수를 x를 타겟으로 반복할 것이기 때문에, x를 1로 지정해주고, sum에 짝수의 합을 더할 것이기 때문에 0 으로 정해줍니다.\n",
    "* 1~100사이의 수를 1과 100을 포함한다고 생각하여, 100보다 작거나 같을 경우로 while문의 조건으로 지정하였습니다.\n",
    "* x를 2로 나누었을때 0이면 짝수이므로, 그때의 x를 sum에 더하는 방식으로 하여, 최종적으로 sum이 1부터 100사이의 짝수의 합입니다.\n",
    "* while문에서 x의 변화를 지정해주지 않으면 무한루프에 빠지므로, x=x+1을 통해 x값에 변화를 줍니다.\n",
    "\n",
    "* 만약 1부터 100사이의 의미가 1과 100을 포함하지 않는것이라면, 초기값을 2로, while문의 조건은 < 로 설정해 주면 됩니다."
   ]
  },
  {
   "cell_type": "markdown",
   "metadata": {},
   "source": [
    "### 7번>\n",
    "사용자로 부터 임의의 정수를 입력받고, 해당 숫자를 역순으로 출력하는 프로그램을 작성하시오.\n",
    "\n",
    "[실행 예]\n",
    "\n",
    "  정수를 입력하세요: 3125\n",
    "  숫자 역순은 5213 입니다."
   ]
  },
  {
   "cell_type": "code",
   "execution_count": 5,
   "metadata": {
    "collapsed": false
   },
   "outputs": [
    {
     "name": "stdout",
     "output_type": "stream",
     "text": [
      "123456789\n",
      "987654321\n"
     ]
    }
   ],
   "source": [
    "a = input()\n",
    "result = ''\n",
    "x = 10\n",
    "\n",
    "while a > 0:\n",
    "    result = result + str(a % x)\n",
    "    a /= x\n",
    "\n",
    "print result"
   ]
  },
  {
   "cell_type": "markdown",
   "metadata": {
    "collapsed": true
   },
   "source": [
    "* input() 함수를 이용하여 사용자로부터 임의의 정수를 입력받습니다.\n",
    "* 입력받은 숫자를 역순으로 저장할 result는 문자열로 할 예정이기 때문에, ''를 저장해줍니다.\n",
    "* x는 입력받은 숫자를 뒤에서부터 끊어낼 예정이기 때문에 10입니다.\n",
    "* 입력받은 숫자 a를 10으로 나누었을 때, 나머지를 result에 저장하고, 몫은 다시 a에 저장합니다. 이것을 반복하다보면 결국 마지막에는 a는 0이 되고, 숫자들은 역순으로 저장하게 됩니다.\n",
    "* 문자열과 숫자는 더할 수 없으므로, 숫자를 str()함수를 이용하여 문자열로 변경해줍니다."
   ]
  },
  {
   "cell_type": "markdown",
   "metadata": {},
   "source": [
    "### 8번>\n",
    "사용자로 부터 정수를 입력받아서 1부터 그 사이에 존재하는 소수 (Prime number)를 출력하는 파이썬 프로그램을 작성하시오."
   ]
  },
  {
   "cell_type": "code",
   "execution_count": 53,
   "metadata": {
    "collapsed": false
   },
   "outputs": [
    {
     "name": "stdout",
     "output_type": "stream",
     "text": [
      "31\n",
      "\n",
      "1 2 3 5 7 11 13 17 19 23 29 31\n"
     ]
    }
   ],
   "source": [
    "a = input()\n",
    "check = 0\n",
    "\n",
    "print\n",
    "for x in range(1,a+1):\n",
    "    if (x == 1 or x == 2):\n",
    "        print x,  \n",
    "\n",
    "    else:\n",
    "        for y in range(2, x):\n",
    "            if (x % y == 0): \n",
    "                check = 1\n",
    "                break\n",
    "            else:\n",
    "                continue\n",
    "                \n",
    "        if (check == 0):\n",
    "            print x,\n",
    "        check = 0"
   ]
  },
  {
   "cell_type": "markdown",
   "metadata": {},
   "source": [
    "* input()을 통해 정수를 입력받고, check는 소수를 체크하는데 사용합니다.\n",
    "* x는 1부터 a까지 증가하면서, 소수이면 출력하고 소수가 아니면 다음 수로 넘어갑니다. (참고로, 입력받은 수까지 포함하여 계산하는것으로 판단해서 반복문의 범위를 a+1까지로 하였습니다. 만약 a를 포함하지 않는다면 범위를 a로 정하면 됩니다.)\n",
    "* 1과 2는 항상 소수이므로 출력해주고, 3부터는 나누어지는 수가 있는지 없는지를 확인합니다.\n",
    "* y를 이용하여 2부터 현재 x 까지 안에서 나누어지는 수(x%y==0인 수)가 있다면 소수가 아니므로 check를 1로 변경해주고 반복문을 종료합니다. 만약에 나누어지지 않는다면 반복문을 계속합니다.\n",
    "* 반복문이 끝난 후, check가 0이라면 소수이므로 출력하고, 아니라면 소수가 아니므로 다음으로 넘어갑니다. 이때 check는 다시 0으로 바꾸어줍니다."
   ]
  },
  {
   "cell_type": "markdown",
   "metadata": {},
   "source": [
    "### 프로젝트 오일러 1번>\n",
    "10보다 작은 자연수 중에서 3 또는 5의 배수는 3, 5, 6, 9 이고, 이것을 모두 더하면 23입니다.\n",
    "\n",
    "1000보다 작은 자연수 중에서 3 또는 5의 배수를 모두 더하면 얼마일까요?"
   ]
  },
  {
   "cell_type": "code",
   "execution_count": 55,
   "metadata": {
    "collapsed": false
   },
   "outputs": [
    {
     "name": "stdout",
     "output_type": "stream",
     "text": [
      "233168\n"
     ]
    }
   ],
   "source": [
    "sum = 0\n",
    "\n",
    "for x in range(1, 1000):\n",
    "    if(x % 3 == 0):\n",
    "        sum += x\n",
    "    elif(x % 5 == 0):\n",
    "        sum += x\n",
    "print sum"
   ]
  },
  {
   "cell_type": "markdown",
   "metadata": {},
   "source": [
    "* sum은 0으로 시작하고, 1부터 1000보다 작으므로 range(1,1000)으로 설정합니다. 그 다음 3으로 나누었을 때, 나머지가 0이라면 3의 배수이므로 sum에 더해주고, 만약 3의 배수는 아니지만, 5의 배수라면 마찬가지로 sum에 더해줍니다. 둘다 아니라면 다음으로 넘어갑니다.\n",
    "* if와 elif이므로 같은 수가 두번 더해지지 않습니다."
   ]
  },
  {
   "cell_type": "markdown",
   "metadata": {},
   "source": [
    "### 프로젝트 오일러 2번>\n",
    "피보나치 수열의 각 항은 바로 앞의 항 두 개를 더한 것이 됩니다. 1과 2로 시작하는 경우 이 수열은 아래와 같습니다.\n",
    "\n",
    "1, 2, 3, 5, 8, 13, 21, 34, 55, 89, ...\n",
    "짝수이면서 4백만 이하인 모든 항을 더하면 얼마가 됩니까?"
   ]
  },
  {
   "cell_type": "code",
   "execution_count": 56,
   "metadata": {
    "collapsed": false
   },
   "outputs": [
    {
     "name": "stdout",
     "output_type": "stream",
     "text": [
      "4613732\n"
     ]
    }
   ],
   "source": [
    "a = 1\n",
    "b = 2\n",
    "c = a + b\n",
    "sum = b\n",
    "while (c <= 4000000):\n",
    "    a = b\n",
    "    b = c\n",
    "    c = a + b\n",
    "    if(c % 2 == 0):\n",
    "        sum += c\n",
    "print sum"
   ]
  },
  {
   "cell_type": "markdown",
   "metadata": {},
   "source": [
    "* 처음은 1,2,3 이고, sum은 짝수의 합이므로 2를 시작으로 합니다.\n",
    "* 피보나치 수열은 각 앞의 항 두개를 더한것이므로, a는 b가되고, b는 c가되며, c는 그 둘을더한 값이 됩니다.\n",
    "* 이때 c값이 짝수라면 sum에 더하고 짝수가 아니라면 다음으로 넘어갑니다.\n",
    "* 반복문은 값이 4백만 이하까지 반복하므로 (c<=4000000)이 조건이 됩니다.\n",
    "* 최종적으로 문제가 원하는 결과값은 sum이 됩니다."
   ]
  },
  {
   "cell_type": "markdown",
   "metadata": {},
   "source": [
    "### 프로젝트 오일러 3번>\n",
    "어떤 수를 소수의 곱으로만 나타내는 것을 소인수분해라 하고, 이 소수들을 그 수의 소인수라고 합니다.\n",
    "예를 들면 13195의 소인수는 5, 7, 13, 29 입니다.\n",
    "\n",
    "600851475143의 소인수 중에서 가장 큰 수를 구하세요."
   ]
  },
  {
   "cell_type": "code",
   "execution_count": 62,
   "metadata": {
    "collapsed": false
   },
   "outputs": [
    {
     "name": "stdout",
     "output_type": "stream",
     "text": [
      "6857\n"
     ]
    }
   ],
   "source": [
    "a = 600851475143\n",
    "x = 2\n",
    "\n",
    "while (a != 1):\n",
    "    if (a % x == 0):\n",
    "        a = a / x\n",
    "        if (a != 1):\n",
    "            result = a\n",
    "    else:\n",
    "        x += 1\n",
    "print result"
   ]
  },
  {
   "cell_type": "markdown",
   "metadata": {},
   "source": [
    "* 위 방식은 2부터 시작하여 커지는 방식으로 나머지와 몫을 이용한 방식입니다.\n",
    "* 예를 들면 42라 하였을 때, 42를 먼저 2로 나누면 나머지가 0이므로 2는 42의 소인수이며, 그 몫을 또 2로 나누면 나머지가 0이 아니므로 다음 수인 3으로 나누면 나머지가 0이고, 3 또한 42의 소인수 임을 반복하는 방식을 이용한 것입니다.\n",
    "* a를 2부터 시작하여 나누었을 때, 나머지가 0이라면 그 몫은 다음 나눌 수 이므로 다시 a에 저장하고, a가 1이 아니라면 그 수는 소인수이므로, 현재까지의 소인수 중 가장 큰 수로 result에 저장합니다.\n",
    "* 1을 제외하는 경우는, 마지막으로 가장 큰 수가 나왔을 때, 나누는 몫이 1이 되기 때문입니다."
   ]
  },
  {
   "cell_type": "markdown",
   "metadata": {},
   "source": [
    "### 소감\n",
    "숙제이후 소감: 11개의 문제를 모두 푼 이후에 현재까지 강의를 들은 이후의 소감, 숙제를 한 이후의 소감, 또는 전하고자 하는 말 등을 짧막하게라도 좋으니 마지막에 함께 작성하여 제출하시오.\n",
    "\n",
    "* 온라인 강의이고 강의가 생각보다 길어서 그런지 지루한 감이 없지는 않지만, 항상 오프라인 수업에서 한번 복습해 주셔서 더 이해가 잘되고 궁금했던 부분을 해결할 수 있어서 좋았습니다.\n",
    "* 숙제는 아직까지는 크게 어렵지 않고 배운 범위 내에서 해결할 수 있었습니다."
   ]
  },
  {
   "cell_type": "code",
   "execution_count": null,
   "metadata": {
    "collapsed": true
   },
   "outputs": [],
   "source": []
  }
 ],
 "metadata": {
  "kernelspec": {
   "display_name": "Python 2",
   "language": "python",
   "name": "python2"
  },
  "language_info": {
   "codemirror_mode": {
    "name": "ipython",
    "version": 2
   },
   "file_extension": ".py",
   "mimetype": "text/x-python",
   "name": "python",
   "nbconvert_exporter": "python",
   "pygments_lexer": "ipython2",
   "version": "2.7.9"
  }
 },
 "nbformat": 4,
 "nbformat_minor": 0
}
