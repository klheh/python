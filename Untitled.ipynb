{
 "cells": [
  {
   "cell_type": "code",
   "execution_count": 6,
   "metadata": {
    "collapsed": false
   },
   "outputs": [
    {
     "name": "stdout",
     "output_type": "stream",
     "text": [
      "['C:\\\\Users\\\\Heejeong\\\\AppData\\\\Local\\\\Enthought\\\\Canopy\\\\User\\\\lib\\\\site-packages\\\\IPython\\\\kernel\\\\__main__.py', '-f', 'C:\\\\Users\\\\Heejeong\\\\.ipython\\\\profile_default\\\\security\\\\kernel-306a7789-1139-4a76-b5d8-d967c50495a0.json', '--profile-dir', 'C:\\\\Users\\\\Heejeong\\\\.ipython\\\\profile_default']\n"
     ]
    }
   ],
   "source": [
    "import sys\n",
    "print sys.argv"
   ]
  },
  {
   "cell_type": "code",
   "execution_count": 10,
   "metadata": {
    "collapsed": false
   },
   "outputs": [
    {
     "name": "stdout",
     "output_type": "stream",
     "text": [
      "[[1 2 3]\n",
      " [4 5 6]]\n"
     ]
    }
   ],
   "source": [
    "from numpy import *\n",
    "a = array(((1,2,3),(4,5,6)))\n",
    "print a"
   ]
  },
  {
   "cell_type": "code",
   "execution_count": 12,
   "metadata": {
    "collapsed": false
   },
   "outputs": [
    {
     "name": "stdout",
     "output_type": "stream",
     "text": [
      "Hello\n"
     ]
    }
   ],
   "source": [
    "h = 'Hello'\n",
    "x = eval(repr(h))\n",
    "print x"
   ]
  },
  {
   "cell_type": "code",
   "execution_count": 18,
   "metadata": {
    "collapsed": false
   },
   "outputs": [
    {
     "name": "stdout",
     "output_type": "stream",
     "text": [
      "4.0\n",
      "\n",
      "4\n",
      "0b1010\n"
     ]
    }
   ],
   "source": [
    "import math\n",
    "def bitcounter(n):\n",
    "    return math.floor(math.log(n,2)) + 1\n",
    "\n",
    "print bitcounter(10)\n",
    "print\n",
    "\n",
    "a = 10               # \"0000 0011\"\n",
    "print a.bit_length()  # 해당 수치를 표현하기 위한 비트의 개수를 반환 \n",
    "print bin(a) "
   ]
  },
  {
   "cell_type": "code",
   "execution_count": 22,
   "metadata": {
    "collapsed": false
   },
   "outputs": [
    {
     "name": "stdout",
     "output_type": "stream",
     "text": [
      "1445447337.67\n",
      "totalSeconds - 1445447337\n",
      "totalMinutes - 24090788\n",
      "totalHours - 401513\n",
      "현재 시각은 17 : 8 : 57 GMT 입니다.\n"
     ]
    }
   ],
   "source": [
    "import time\n",
    "\n",
    "currentTime = time.time()           # Unix Epoch 부터 현재까지 경과된 시각을 GMT/UST 기준 및 ms 단위로 얻어온다.\n",
    "print currentTime\n",
    "\n",
    "totalSeconds = int(currentTime)     # 1970년 1월 1일 0시 이후부터 현재시각까지의 전체 초 값을 얻어온다.\n",
    "print \"totalSeconds -\", totalSeconds\n",
    "currentSecond = totalSeconds % 60   # 현재 시각의 초 값을 얻어온다.\n",
    "\n",
    "totalMinutes = totalSeconds // 60   # 전체 분 값을 계산한다. \n",
    "print \"totalMinutes -\", totalMinutes\n",
    "currentMinute = totalMinutes % 60   # 현재 시각의 분 값을 얻어온다.\n",
    "\n",
    "totalHours = totalMinutes // 60      # 전체 시 값을 계산한다.\n",
    "print \"totalHours -\", totalHours\n",
    "currentHours = totalHours % 24      # 현재 시각의 시 값을 얻어온다.\n",
    "\n",
    "print \"현재 시각은\", currentHours, \":\", currentMinute, \":\", currentSecond, \"GMT 입니다.\""
   ]
  },
  {
   "cell_type": "code",
   "execution_count": 25,
   "metadata": {
    "collapsed": false
   },
   "outputs": [],
   "source": [
    "import math\n",
    "round?"
   ]
  },
  {
   "cell_type": "code",
   "execution_count": 30,
   "metadata": {
    "collapsed": false
   },
   "outputs": [
    {
     "name": "stdout",
     "output_type": "stream",
     "text": [
      "/usr/local/bin/python\n",
      "['', 'usr', 'local', 'bin', 'python']\n",
      "/usr/local/bin\n",
      "['/usr/local/bin', 'python']\n"
     ]
    }
   ],
   "source": [
    "s = raw_input()\n",
    "\n",
    "def div_path(s):\n",
    "    L = s.split('/')\n",
    "    print L\n",
    "    print '/'.join(L[0:-1:])\n",
    "    result = ['/'.join(L[0:-1:]), L[-1]]\n",
    "    return result\n",
    "    \n",
    "l = div_path(s)\n",
    "print l"
   ]
  },
  {
   "cell_type": "code",
   "execution_count": 35,
   "metadata": {
    "collapsed": false
   },
   "outputs": [
    {
     "name": "stdout",
     "output_type": "stream",
     "text": [
      "[1, 2, 3, 4]\n",
      "[-10, -5, -1, 0, 9, 100]\n"
     ]
    }
   ],
   "source": [
    "def list_union(a1,a2):\n",
    "    list_set = []\n",
    "    empty = set()\n",
    "    a3 = a1 + a2\n",
    "    a3 = set(a3)\n",
    "    a3 = list(a3)\n",
    "    \n",
    "    a3.sort()\n",
    "    return a3\n",
    "\n",
    "print list_union([1, 2, 3], [1, 2, 4])\n",
    "print list_union([-10, -5, 0, -1], [100, 9, 0, 9])"
   ]
  },
  {
   "cell_type": "code",
   "execution_count": 41,
   "metadata": {
    "collapsed": false
   },
   "outputs": [
    {
     "name": "stdout",
     "output_type": "stream",
     "text": [
      "906609\n"
     ]
    }
   ],
   "source": [
    "\n",
    "result = 10000\n",
    "for i in range(100,1000):\n",
    "    for j in range(100,1000):\n",
    "        string  = i*j\n",
    "        if str(string) == str(string)[::-1] and result<i*j:\n",
    "            result = string\n",
    "            \n",
    "print result"
   ]
  },
  {
   "cell_type": "code",
   "execution_count": 1,
   "metadata": {
    "collapsed": false
   },
   "outputs": [
    {
     "name": "stdout",
     "output_type": "stream",
     "text": [
      "1\n",
      "\n",
      "2\n"
     ]
    }
   ],
   "source": [
    "class S1:\n",
    "    a = 1\n",
    "    \n",
    "print S1.a\n",
    "print\n",
    "\n",
    "S1.b = 2 # 클래스 이름 공간에 새로운 이름의 생성\n",
    "print S1.b"
   ]
  },
  {
   "cell_type": "code",
   "execution_count": 2,
   "metadata": {
    "collapsed": false
   },
   "outputs": [
    {
     "name": "stdout",
     "output_type": "stream",
     "text": [
      "1\n",
      "10\n",
      "1\n"
     ]
    }
   ],
   "source": [
    "x = S1() # x는 S1의 클래스 인스턴스\n",
    "print x.a\n",
    "\n",
    "x.a = 10 # 클래스 인스턴스 x의 이름 공간에 이름 생성\n",
    "print x.a\n",
    "\n",
    "print S1.a # 클래스 이름 공간과 클래스 인스턴스의 이름공간은 다르다"
   ]
  },
  {
   "cell_type": "code",
   "execution_count": null,
   "metadata": {
    "collapsed": true
   },
   "outputs": [],
   "source": []
  }
 ],
 "metadata": {
  "kernelspec": {
   "display_name": "Python 2",
   "language": "python",
   "name": "python2"
  },
  "language_info": {
   "codemirror_mode": {
    "name": "ipython",
    "version": 2
   },
   "file_extension": ".py",
   "mimetype": "text/x-python",
   "name": "python",
   "nbconvert_exporter": "python",
   "pygments_lexer": "ipython2",
   "version": "2.7.9"
  }
 },
 "nbformat": 4,
 "nbformat_minor": 0
}
